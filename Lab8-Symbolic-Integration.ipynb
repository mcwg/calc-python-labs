{
 "cells": [
  {
   "cell_type": "markdown",
   "metadata": {
    "id": "d8538825-184f-4fb8-878d-0c239eea11fa"
   },
   "source": [
    "[![Open In Colab](https://colab.research.google.com/assets/colab-badge.svg)](https://colab.research.google.com/github/mcwg/calc-python-labs/blob/main/Lab8-Symbolic-Integration.ipynb)\n"
   ]
  },
  {
   "cell_type": "markdown",
   "metadata": {
    "id": "BScDcN5evEo_"
   },
   "source": [
    "<a name=\"title\"></a>\n",
    "\n",
    "# Lab 8: Symbolic Integration and the Fundamental Theorem of Calculus\n",
    "\n",
    "---\n",
    "\n",
    "The [SymPy library](https://www.sympy.org/en/index.html) is the most popular Python library for symbolic mathematics. In [Lab 6](https://githubtocolab.com/mcwg/calc-python-labs/blob/main/Lab6-Optimization.ipynb), we have seen how to perform symbolic differentiation using `diff`, solve algebraic equations with `solve`, evaluate symbolic functions with `evalf`, and simplify algebraic expressions with `simplify`. In this lab, we use built-in SymPy functions to perform symbolic integration to evaluate both indefinite and definite integrals.\n",
    "\n",
    "<br>\n",
    "\n",
    "*Note: Recall when calling functions from a library, we can use the syntax `libraryname.functioname()`. If we use the abbreviation `sym` when importing `sympy`, then we can call in functions using `sym` for the library name. For example `sym.simplify()` calls in `simplify()` from the SymPy library.*\n"
   ]
  },
  {
   "cell_type": "markdown",
   "metadata": {
    "id": "utkKdRbd4yXv"
   },
   "source": [
    "\n",
    "# Learning Objectives\n",
    "\n",
    "---\n",
    "\n",
    "\n"
   ]
  },
  {
   "cell_type": "markdown",
   "metadata": {
    "id": "XQYAZYMYHani"
   },
   "source": [
    "## Saving Your Work to a Colab Notebook\n",
    "\n",
    "---\n",
    "\n",
    "This lab is a shared Colab notebook available for anyone to view. However, since everyone is sharing this notebook, you do not have permission to save changes to this shared Colab notebook. In order to save your work:\n",
    "\n",
    "1. You will need to set up a free Google Drive account. If you already have a Google Drive account, you are ready to go!\n",
    "2. Click the `Copy to Drive` button to the right of the `+ Code` and `+ Text` buttons on top of the notebook.\n",
    "3. Select from the menu `File/Save a Copy in Drive`.\n",
    "  - By default, the notebook will be saved in a folder named **Colab Notebooks** in your Drive.\n",
    "  - Feel free to rename and store the notebook wherever you like.\n"
   ]
  },
  {
   "cell_type": "markdown",
   "metadata": {
    "id": "-Dkn8NnY7bAd"
   },
   "source": [
    "# Importing Required Libraries\n",
    "\n",
    "---\n",
    "\n"
   ]
  },
  {
   "cell_type": "code",
   "execution_count": null,
   "metadata": {
    "id": "hfm27EwBEx2-"
   },
   "outputs": [],
   "source": [
    "###################################\n",
    "# Run to import required libraries\n",
    "###################################\n",
    "import sympy as sym  # import sympy\n",
    "import numpy as np  # import numpy\n",
    "import matplotlib.pyplot as plt  # import matplotlib.pyplot"
   ]
  },
  {
   "cell_type": "markdown",
   "metadata": {
    "id": "9auO48bbr92U"
   },
   "source": [
    "## How Often Do We Need to Import Libraries?\n",
    "\n",
    "---\n",
    "\n",
    "After importing a library for the first time, we can now access functions in the library in any code cell we run, regardless of where the code cell is located in the notebook. Thus, we only need to run `import` commands such as `import numpy as np` or `import pandas as pd` once, and then we can continue calling in functions from those libraries (using specified abbreviations) for as long as the session remains active. If you take a break while working in Colab, your session may *time out* and disconnect.\n",
    "\n",
    "- We need to import libraries one time after opening a notebook or reconnecting after timing out.\n",
    "- We do not need to import the library again unless we take a break and the connection times out.\n"
   ]
  },
  {
   "cell_type": "markdown",
   "metadata": {
    "id": "31ganW65t0aH"
   },
   "source": [
    "# Integration with SymPy\n",
    "\n",
    "---\n",
    "\n",
    "We can perform symbolic integration using the  SymPy function `integrate()`. The `integrate()` function can be used to evaluate both indefinite and definite integrals. Although the notation is similar, conceptually definite and indefinite integrals tell us different information.\n",
    "\n",
    "- A definite integral $\\displaystyle \\int_a^b f(x) \\, dx$ is a number that is the signed area between the graph of $f$ and the $x$-axis.\n",
    "\n",
    "- An indefinite integral $\\displaystyle \\int f(x) \\, dx$ is a family of functions that describe all possible antiderivatives of $f(x)$.\n",
    "\n",
    "The syntax for evaluating definite and indefinite integrals is very similar, but as noted above, the corresponding output is either a number (for a definite integral) or a function (for an indefinite integral).\n",
    "\n",
    "\n",
    "\n",
    "\n",
    "\n",
    "\n"
   ]
  },
  {
   "cell_type": "markdown",
   "metadata": {
    "id": "R6J1qXj8xAKn"
   },
   "source": [
    "# Evaluating Definite Integrals with `integrate()`.\n",
    "\n",
    "---\n",
    "\n",
    "To evaluate a definite integral\n",
    "\n",
    "$$\\int_a^b f(x) \\, dx.$$\n",
    "\n",
    "We can write code that peforms the following steps:\n",
    "\n",
    "1. Store the variable $x$ as a SymPy symbol with `x = sym.symbols('x')`.\n",
    "2. Define the function $f$ with `f = [enter symbolic formula]`.\n",
    "3. Evaluate the definite integral with either the commands `sym.integrate(f, (x, a, b))` or `f.integrate((x, a, b))`.\n",
    "\n",
    "For example, to evaluate the definite integral\n",
    "\n",
    "$$\\int_0^3 \\left( 9x^2 - 16 \\right) \\, dx,$$\n",
    "\n",
    "we can first store `x` as a symbol and define the symbolic function $f$ in the first code cell below.\n",
    "\n",
    "\n",
    "<br>  \n",
    "\n",
    "*Note: When we imported packages in the first code cell, we used the abbreviation `sym` for `sympy`. Be sure you have already imported the required packages for this notebook.*"
   ]
  },
  {
   "cell_type": "code",
   "execution_count": null,
   "metadata": {
    "colab": {
     "base_uri": "https://localhost:8080/",
     "height": 39
    },
    "executionInfo": {
     "elapsed": 484,
     "status": "ok",
     "timestamp": 1722848596997,
     "user": {
      "displayName": "Elliot Marks",
      "userId": "09138350388793527394"
     },
     "user_tz": -120
    },
    "id": "YTEoKuSq2HE1",
    "outputId": "db004089-65fd-41a5-bf00-9de102ee15b7"
   },
   "outputs": [],
   "source": [
    "##################################\n",
    "# Run code cell to define x and f\n",
    "##################################\n",
    "x = sym.symbols('x')  # define x as a symbolic variable\n",
    "f = 9 * x**2 - 16  # define symbolic function f(x) = 9x^2 - 16\n",
    "f  # print f to screen"
   ]
  },
  {
   "cell_type": "markdown",
   "metadata": {
    "id": "5b73vjUG2Zxz"
   },
   "source": [
    "Next, we can use the syntax `sym.integrate(f, (x, a, b))`. Run the code cell and confirm the value of the definite integral is $33$.\n",
    "\n"
   ]
  },
  {
   "cell_type": "code",
   "execution_count": null,
   "metadata": {
    "colab": {
     "base_uri": "https://localhost:8080/",
     "height": 37
    },
    "executionInfo": {
     "elapsed": 440,
     "status": "ok",
     "timestamp": 1722848609279,
     "user": {
      "displayName": "Elliot Marks",
      "userId": "09138350388793527394"
     },
     "user_tz": -120
    },
    "id": "AxwP-f8B23ZK",
    "outputId": "88037ac5-0f03-4eae-bece-4d743c403ff9"
   },
   "outputs": [],
   "source": [
    "##############################################\n",
    "# Run code cell to evaluate definite integral\n",
    "##############################################\n",
    "sym.integrate(f, (x, 0, 3))  # evaluate definite integral"
   ]
  },
  {
   "cell_type": "markdown",
   "metadata": {
    "id": "r6ptl9q83JWc"
   },
   "source": [
    "Equivalently, we can use the syntax `f.integrate((x, a, b))`. Run the code cell and confirm again the value of the definite integral is $33$.\n",
    "\n",
    "<br>  \n",
    "\n",
    "*Note: We use two sets of parentheses. One set calls in the `integrate()` function. Then, we enter the integration variable and limits inside a second set of parentheses `(x, a, b)`.*"
   ]
  },
  {
   "cell_type": "code",
   "execution_count": null,
   "metadata": {
    "colab": {
     "base_uri": "https://localhost:8080/",
     "height": 37
    },
    "executionInfo": {
     "elapsed": 447,
     "status": "ok",
     "timestamp": 1722543574447,
     "user": {
      "displayName": "Enrique Acosta",
      "userId": "01862593623389693265"
     },
     "user_tz": 300
    },
    "id": "21sum2Xa3H3D",
    "outputId": "0dbb54b0-1105-4bb1-ff49-94959afb39c2"
   },
   "outputs": [],
   "source": [
    "##############################################\n",
    "# Run code cell to evaluate definite integral\n",
    "##############################################\n",
    "f.integrate((x, 0, 3))  # evaluate definite integral"
   ]
  },
  {
   "cell_type": "markdown",
   "metadata": {
    "id": "-x6bbyNh46rY"
   },
   "source": [
    "## Interpreting the Output of a Definite Integral\n",
    "\n",
    "---\n",
    "\n",
    "In general, the definite integral $\\displaystyle \\int_a^b f(x) \\, dx$ is the sum of the areas above the $x$-axis, counted *positively*, and the areas below the $x$-axis, counted *negatively*."
   ]
  },
  {
   "cell_type": "markdown",
   "metadata": {
    "id": "AHdRf1446tmn"
   },
   "source": [
    "# Question 1\n",
    "\n",
    "---\n",
    "\n",
    "Run the code cell below to generate a plot to illustrate the value of the definite integral $\\displaystyle \\int_0^3 \\left( 9x^2 - 16 \\right) \\, dx$. Then answer the questions that follow.\n",
    "\n"
   ]
  },
  {
   "cell_type": "code",
   "execution_count": null,
   "metadata": {
    "colab": {
     "base_uri": "https://localhost:8080/",
     "height": 449
    },
    "executionInfo": {
     "elapsed": 558,
     "status": "ok",
     "timestamp": 1722849408215,
     "user": {
      "displayName": "Elliot Marks",
      "userId": "09138350388793527394"
     },
     "user_tz": -120
    },
    "id": "5Scq7C6B7fB3",
    "outputId": "23d13c33-9d0e-445b-9332-a04870958c30"
   },
   "outputs": [
    {
     "data": {
      "image/png": "[encoded data removed]",
      "text/plain": [
       "<Figure size 640x480 with 1 Axes>"
      ]
     },
     "metadata": {},
     "output_type": "display_data"
    }
   ],
   "source": [
    "##########################################\n",
    "# Plot flow rates at beginning of 2023.\n",
    "##########################################\n",
    "x_in = np.linspace(0, 3.5, 1000)  # pick 1000 evenly spaced x-values from x=0 to x=3\n",
    "plt.plot(x_in,  # plot a point at each x-value in array x\n",
    "         9 * x_in**2 - 16,  # corresponding output 3x^2 - 4\n",
    "         color ='black')  # plot curve in blue\n",
    "\n",
    "###################\n",
    "# Add axes to plot\n",
    "###################\n",
    "plt.axhline(y=0, color='black')  # add a vertical axis at y=0\n",
    "\n",
    "####################\n",
    "# Shade exact area\n",
    "####################\n",
    "x_fill1 = np.linspace(0, 4/3, 1000)\n",
    "plt.fill_between(x_fill1, 9 * x_fill1**2 - 16, color='red', alpha=0.5)\n",
    "\n",
    "x_fill2 = np.linspace(4/3, 3, 1000)\n",
    "plt.fill_between(x_fill2, 9 * x_fill2**2 - 16, color='dodgerblue', alpha=0.5)\n",
    "\n",
    "###############\n",
    "# Plot options\n",
    "###############\n",
    "plt.xlabel('x')  # label on the x-axis\n",
    "plt.ylabel('f(x)')  # label on the y-axis\n",
    "plt.xticks(np.arange(0, 4, step=0.5))  # Set tick marks\n",
    "plt.xlim(0, 3.5)  # set limits on x-axis\n",
    "\n",
    "# Display the plot\n",
    "plt.show()"
   ]
  },
  {
   "cell_type": "markdown",
   "metadata": {
    "id": "AMsrTGexmL07"
   },
   "source": [
    "## Question 1a\n",
    "\n",
    "---\n",
    "\n",
    "Use the SymPy function `.solve()` to find the exact value of $x$ where the graph of $f(x)=9x^2-16$ intersects the $x$-axis. Then type your answer in the text cell below the code cell.\n",
    "\n",
    "<br>  \n",
    "\n",
    "*Note: Code to define `x` as a symbolic variable and `f` as a symbolic function is included in case you have not run the previous code cell where `x` and `f` are defined.*"
   ]
  },
  {
   "cell_type": "code",
   "execution_count": null,
   "metadata": {
    "id": "9iFPUl33mJOG"
   },
   "outputs": [],
   "source": [
    "##########################\n",
    "# Solution to Question 1a\n",
    "##########################\n",
    "x = sym.symbols('x')  # define x as a symbolic variable\n",
    "f = 9 * x**2 - 16  # define symbolic function f(x) = 9x^2 - 16\n",
    "\n",
    "sym.solve(??)  # replace ?? to complete the command"
   ]
  },
  {
   "cell_type": "markdown",
   "metadata": {
    "id": "22Xn98f9pNGD"
   },
   "source": [
    "### Solution to Question 1a\n",
    "\n",
    "---\n",
    "\n",
    "The $x$-intercept is located at ( <mark>??</mark> , 0).\n",
    "\n",
    "<br>  \n",
    "\n",
    "*Note: Enter the exact value of $x$ and not a decimal approximation.*\n",
    "\n",
    "\n",
    "<br>  \n",
    "<br>  \n"
   ]
  },
  {
   "cell_type": "markdown",
   "metadata": {
    "id": "t2aZx0bNrrse"
   },
   "source": [
    "## Question 1b\n",
    "\n",
    "---\n",
    "\n",
    "Use the SymPy function `integrate()` to calculate the area of the shaded region **above** the $x$-axis.\n",
    "\n"
   ]
  },
  {
   "cell_type": "code",
   "execution_count": null,
   "metadata": {
    "id": "4FmovdEErrso"
   },
   "outputs": [],
   "source": [
    "##################################################\n",
    "# Solution to Question 1b\n",
    "# Replace ?? with a command using the integrate()\n",
    "# function to compute the area.\n",
    "##################################################\n",
    "area_above = ??  # area of shaded region above x-axis\n",
    "\n",
    "area_above  # print area above x-axis to screen"
   ]
  },
  {
   "cell_type": "markdown",
   "metadata": {
    "id": "lwOJSTidp0Ig"
   },
   "source": [
    "## Question 1c\n",
    "\n",
    "---\n",
    "\n",
    "Use the SymPy function `integrate()` to calculate the area of the shaded region **below** the $x$-axis.\n",
    "\n",
    "<br>  \n",
    "\n",
    "*Hint: Areas are positive values. You may need to adjust your code (multiply by $-1$ for example) so the value stored in `area_below` is positive.*"
   ]
  },
  {
   "cell_type": "code",
   "execution_count": null,
   "metadata": {
    "id": "FKMYCfjPp0Ig"
   },
   "outputs": [],
   "source": [
    "###################################################\n",
    "# Solution to Question 1c\n",
    "# Replace ?? with a command using the integrate()\n",
    "# function to compute the area.\n",
    "###################################################\n",
    "area_below = ??  # area of shaded region below x-axis\n",
    "\n",
    "area_below  # print area below x-axis to screen"
   ]
  },
  {
   "cell_type": "markdown",
   "metadata": {
    "id": "g1bYAq-6s192"
   },
   "source": [
    "## Question 1d\n",
    "\n",
    "---\n",
    "\n",
    "\n",
    "Complete the code cell below to use the areas stored in `area_above` and `area_below` to verify\n",
    "\n",
    "$$\\int_0^3 \\left( 9x^2 - 16 \\right) \\, dx = 33.$$\n",
    "\n",
    "\n",
    "<br>  \n",
    "\n",
    "*Hint: The definite integral $\\displaystyle \\int_a^b f(x) \\, dx$ is the sum of the areas above the $x$-axis, counted positively, and the areas below the $x$-axis, counted negatively.*"
   ]
  },
  {
   "cell_type": "code",
   "execution_count": null,
   "metadata": {
    "id": "XLbXPVKCs193"
   },
   "outputs": [],
   "source": [
    "######################################################\n",
    "# Solution to Question 1d\n",
    "# Replace ?? with an operation such as +, -, *, or /.\n",
    "######################################################\n",
    "integral_value = area_above ?? area_below  # compute value of definite integral\n",
    "\n",
    "integral_value  # print value of definite integral"
   ]
  },
  {
   "cell_type": "markdown",
   "metadata": {
    "id": "K1hX-kf72OT9"
   },
   "source": [
    "<a name=\"q2\"></a>\n",
    "# Question 2\n",
    "\n",
    "---\n",
    "\n",
    "You leave your home to go for a bike ride on a straight bike path to meet a friend at a lake, and then you both ride along another straight bike path to your friend's home. Your velocity $v(t)$, in km/hour, $t$ hours after leaving your home, is modeled by the formula\n",
    "\n",
    "$$v(t) = 1000 t^3 - 1133 t^2 + 267 t,$$\n",
    "\n",
    "where positive velocities take you toward the lake and negative velocities take you away from the lake. Run the code cell below to generate a plot of your velocity over the course of your bike ride and answer the questions that follow.\n"
   ]
  },
  {
   "cell_type": "code",
   "execution_count": null,
   "metadata": {
    "colab": {
     "base_uri": "https://localhost:8080/",
     "height": 472
    },
    "executionInfo": {
     "elapsed": 634,
     "status": "ok",
     "timestamp": 1722849741081,
     "user": {
      "displayName": "Elliot Marks",
      "userId": "09138350388793527394"
     },
     "user_tz": -120
    },
    "id": "D73RRUZ_2OUI",
    "outputId": "3743af9a-c89e-4ab9-b8b5-11c1f594e3b3"
   },
   "outputs": [
    {
     "data": {
      "image/png": "[encoded data removed]",
      "text/plain": [
       "<Figure size 640x480 with 1 Axes>"
      ]
     },
     "metadata": {},
     "output_type": "display_data"
    }
   ],
   "source": [
    "####################################\n",
    "# Plot of velocity during bike ride\n",
    "####################################\n",
    "t_in = np.linspace(0, 0.799, 1000)  # values of t where v(t) plotted\n",
    "r_out = 1000 * t_in**3 - 1133 * t_in**2 + 267 * t_in  # velocities\n",
    "plt.plot(t_in,  # plot a point at each t value in array t_in\n",
    "         r_out,  # corresponding velocity v(t)\n",
    "         color ='blue')  # plot curve in blue\n",
    "\n",
    "###################\n",
    "# Add axes to plot\n",
    "###################\n",
    "plt.axhline(y=0, color='black') # add a vertical axis at y=0\n",
    "\n",
    "###############\n",
    "# Plot options\n",
    "###############\n",
    "plt.title('Velocity During Bike Ride')\n",
    "plt.xlabel('t, hours')  # label on x-axis\n",
    "plt.ylabel('v(t), km/hr')  # label for the y-axis\n",
    "plt.xticks(np.arange(0, .9, step=0.1))  # Set tick marks\n",
    "plt.xlim(0, 0.85)  # set limits on x-axis\n",
    "plt.grid(True)  # add grid\n",
    "\n",
    "# Display the plot\n",
    "plt.show()"
   ]
  },
  {
   "cell_type": "markdown",
   "metadata": {
    "id": "_0oOyMdR2OUJ"
   },
   "source": [
    "<a name=\"q2a\"></a>\n",
    "## Question 2a\n",
    "\n",
    "---\n",
    "\n",
    "Complete the code cell below to find the values of $t$ when your velocity is 0 km/hr."
   ]
  },
  {
   "cell_type": "code",
   "execution_count": null,
   "metadata": {
    "id": "U9lwcTK82OUJ"
   },
   "outputs": [],
   "source": [
    "#######################################################\n",
    "# Solution to Question 2a\n",
    "# Replace ?? with command using to find when v(t) = 0.\n",
    "#######################################################\n",
    "t = sym.symbols('t')  # define t as a symbolic variable\n",
    "v = 1000. * t**3 - 1133.  * t**2 + 267. * t  # define symbolic function v(t)\n",
    "\n",
    "??  # find when v(t) = 0"
   ]
  },
  {
   "cell_type": "markdown",
   "metadata": {
    "id": "yw8Vyu9-2OUK"
   },
   "source": [
    "<a name=\"q2b\"></a>\n",
    "## Question 2b\n",
    "\n",
    "---\n",
    "\n",
    "Use the output from the code in [Question 2a](#q2a) to complete the code cell below to give the time in minutes that it takes you to reach the lake and to reach your friend's home."
   ]
  },
  {
   "cell_type": "code",
   "execution_count": null,
   "metadata": {
    "id": "yj4UQbfC2OUK"
   },
   "outputs": [],
   "source": [
    "##########################\n",
    "# Solution to Question 2b\n",
    "##########################\n",
    "lake_min = ??  # compute the number of minutes it takes to reach the lake\n",
    "friend_min = ??  # compute the number of minutes it takes to reach your friend's home\n",
    "\n",
    "print(\"It takes \", lake_min, \" minutes for you to reach the lake.\")\n",
    "print(\"It takes \", friend_min, \" minutes for you reach your friend's home.\")"
   ]
  },
  {
   "cell_type": "markdown",
   "metadata": {
    "id": "ND_vq9Ns2OUK"
   },
   "source": [
    "<a name=\"q2c\"></a>\n",
    "## Question 2c\n",
    "\n",
    "---\n",
    "\n",
    "Set up a definite integral that gives the distance of your home from the lake. Then use the `integrate` function to compute the value of the definite integral in the code cell below. After running the code, type your answer in the text cell below the code cell.\n"
   ]
  },
  {
   "cell_type": "code",
   "execution_count": null,
   "metadata": {
    "id": "6aio9RGx2OUK"
   },
   "outputs": [],
   "source": [
    "################################################################\n",
    "# Solution to Question 2c\n",
    "# Replace the ?? with a command using the integrate() function.\n",
    "################################################################\n",
    "your_dist_to_lake = ??  # your distance to the lake\n",
    "\n",
    "your_dist_to_lake  # print distance to screen"
   ]
  },
  {
   "cell_type": "markdown",
   "metadata": {
    "id": "UnqWwW472OUK"
   },
   "source": [
    "### Solution to Question 2c\n",
    "\n",
    "---\n",
    "\n",
    "\n",
    "The distance of your home to the lake is <mark>[round to three decimal places]</mark> km.\n",
    "\n",
    "\n",
    "\n",
    "<br>  \n",
    "<br>  "
   ]
  },
  {
   "cell_type": "markdown",
   "metadata": {
    "id": "jwEhQfNn2OUL"
   },
   "source": [
    "<a name=\"q2d\"></a>\n",
    "## Question 2d\n",
    "\n",
    "---\n",
    "\n",
    "Set up a definite integral that gives the distance of your friend's home from the lake. Then use the `integrate` function to compute the value of the definite integral in the code cell below. After running the code, type your answer in the text cell below the code cell.\n"
   ]
  },
  {
   "cell_type": "code",
   "execution_count": null,
   "metadata": {
    "id": "sm8Pl7p22OUL"
   },
   "outputs": [],
   "source": [
    "################################################################\n",
    "# Solution to Question 2d\n",
    "# Replace the ?? with a command using the integrate() function.\n",
    "################################################################\n",
    "friend_dist_to_lake = ??  # friend's distance to the lake\n",
    "\n",
    "friend_dist_to_lake  # print distance to screen"
   ]
  },
  {
   "cell_type": "markdown",
   "metadata": {
    "id": "Ov6x9r3L2OUL"
   },
   "source": [
    "### Solution to Question 2d\n",
    "\n",
    "---\n",
    "\n",
    "\n",
    "The distance of your friend's home to the lake is <mark>[round to three decimal places]</mark> km.\n",
    "\n",
    "\n",
    "\n",
    "<br>  \n",
    "<br>  \n"
   ]
  },
  {
   "cell_type": "markdown",
   "metadata": {
    "id": "IUQNVzott7Fc"
   },
   "source": [
    "# Evaluating Indefinite Integrals with `integrate()`.\n",
    "\n",
    "---\n",
    "\n",
    "\n",
    "We can similarly use the `integrate()` function to evaluate an *indefinite integral*\n",
    "\n",
    "$$\\int f(x) \\, dx.$$\n",
    "\n",
    "In this case, we no longer have limits of integration. After we define the symbolic variable `x` and function `f`, we can use either the command `f.integrate(x)` or `sym.integrate(f, x)` to evaluate an indefinite integral.\n"
   ]
  },
  {
   "cell_type": "markdown",
   "metadata": {
    "id": "J7TUi-xLxKko"
   },
   "source": [
    "## Interpreting the Output of an Indefinite Integral\n",
    "\n",
    "---\n",
    "\n",
    "The indefinite integral $\\displaystyle \\int f(x) \\, dx$ is a family of functions $F(x)$ such that $F'(x) = f(x)$."
   ]
  },
  {
   "cell_type": "markdown",
   "metadata": {
    "id": "8yJa6_3axpVH"
   },
   "source": [
    "<a name=\"q3\"></a>\n",
    "# Question 3\n",
    "\n",
    "---\n",
    "\n",
    "Use the SymPy function `integrate()` to evaluate the integral\n",
    "\n",
    "$$\\int \\left( 9x^2 - 16 \\right) \\, dx.$$\n"
   ]
  },
  {
   "cell_type": "code",
   "execution_count": null,
   "metadata": {
    "id": "SlDtM50Kt7Fk"
   },
   "outputs": [],
   "source": [
    "##################################\n",
    "# Solution to Question 3\n",
    "##################################\n",
    "x = sym.symbols('x')  # define x as a symbolic variable\n",
    "f = 9 * x**2 - 16  # define symbolic function f(x) = 9x^2 - 16\n",
    "\n",
    "??  # enter a command using integrate() to evaluate the integral"
   ]
  },
  {
   "cell_type": "markdown",
   "metadata": {
    "id": "stitEmkptzJZ"
   },
   "source": [
    "<a name=\"q4\"></a>\n",
    "# Question 4\n",
    "\n",
    "---\n",
    "\n",
    "Based on the solution to [Question 3](#q3), you should see that $F(x) = 3x^3 - 16x$ is one possible antiderivative of $f(x) = 9x^2 - 16$. Complete the code cell below to use the `diff()` function to verify $F(x) = 3x^3 - 16x$ is an antiderivative of $f(x) = 9x^2 - 16$.\n",
    "\n",
    "<br>  \n",
    "\n",
    "*Hint: We say $F(x)$ is an antiderivative of $f(x)$ if $F'(x) = f(x)$.*\n"
   ]
  },
  {
   "cell_type": "code",
   "execution_count": null,
   "metadata": {
    "id": "sLVN9f1w02_o"
   },
   "outputs": [],
   "source": [
    "#########################\n",
    "# Solution to Question 4\n",
    "#########################\n",
    "F = ??  # define F(x) = 3x^3 - 16x as a symbolic function of x\n",
    "??  # enter a command using diff() to show F is an antiderivative of f"
   ]
  },
  {
   "cell_type": "markdown",
   "metadata": {
    "id": "3T74-3xayKAZ"
   },
   "source": [
    "<a name=\"q5\"></a>\n",
    "# Question 5\n",
    "\n",
    "---\n",
    "\n",
    "The output from [Question 3](#q3) is very helpful, but it is not quite the correct result for $\\displaystyle \\int \\left( 9x^2 - 16 \\right) \\, dx$. Enter the correct answer by completing the solution in the text box below.\n"
   ]
  },
  {
   "cell_type": "markdown",
   "metadata": {
    "id": "nuuGtp5czRl2"
   },
   "source": [
    "## Solution to Question 5\n",
    "\n",
    "---\n",
    "\n",
    "Replace the ?? in the equation below to complete the solution.\n",
    "\n",
    "\n",
    "$$\\int \\left( 9x^2 - 16 \\right) \\, dx = 3x^3 - 16x + ?? $$\n",
    "\n",
    "\n",
    "<br>  \n",
    "<br>  "
   ]
  },
  {
   "cell_type": "markdown",
   "metadata": {
    "id": "o5BFt9eR1qk8"
   },
   "source": [
    "<a name=\"q6\"></a>\n",
    "# Question 6\n",
    "\n",
    "---\n",
    "\n",
    "Use the SymPy function `integrate()` to evaluate the integral\n",
    "\n",
    "$$\\int \\left( 5e^z + 3 \\sin{z} \\right) \\, dz.$$\n",
    "\n",
    "Based on the output of the code cell, type your answer in the text cell below the code cell.\n",
    "\n",
    "<br>  \n",
    "\n",
    "*Hint: Use the `sym.exp()` and `sym.sin()` functions to define and store the integrand to `g`. You can check your answer by inserting a code cell and using the `diff()` function as done in [Question 3](#q3).*\n"
   ]
  },
  {
   "cell_type": "code",
   "execution_count": null,
   "metadata": {
    "id": "kMjnMjz91qlG"
   },
   "outputs": [],
   "source": [
    "#################################################################\n",
    "# Solution to Question 6\n",
    "# Replace each ?? to complete the code to evaluate the integral.\n",
    "#################################################################\n",
    "z = sym.symbols('z')  # define z as a symbolic variable\n",
    "g = ??  # define symbolic function g(z) = 5e^z + 3sin(z)\n",
    "\n",
    "??  # enter a command using integrate() to evaluate the integral"
   ]
  },
  {
   "cell_type": "markdown",
   "metadata": {
    "id": "wcLy5Bgv3FhG"
   },
   "source": [
    "## Solution to Question 6\n",
    "\n",
    "---\n",
    "\n",
    "We have $\\displaystyle \\int \\left( 5e^z + 3 \\sin{z} \\right) \\, dz = $ <mark>[Type formula here]</mark> .\n",
    "\n",
    "\n",
    "<br>  \n",
    "<br>  "
   ]
  },
  {
   "cell_type": "markdown",
   "metadata": {
    "id": "iBmMPoh1CkEf"
   },
   "source": [
    "<a name=\"save-before\"></a>\n",
    "# Be Sure You Have Saved Your Work!\n",
    "---\n",
    "\n",
    "This lab is a shared Colab notebook available for anyone to view. However, since everyone is sharing this notebook, you do not have permission to save changes to this shared Colab notebook. In order to save your work:\n",
    "\n",
    "1. You will need to set up a free Google Drive account. If you already have a Google Drive account, you are ready to go!\n",
    "2. Click the `Copy to Drive` button to the right of the `+ Code` and `+ Text` buttons on top of the notebook.\n",
    "3. Select from the menu `File/Save a Copy in Drive`.\n",
    "  - By default, the notebook will be saved in a folder named **Colab Notebooks** in your Drive.\n",
    "  - Feel free to rename and store the notebook wherever you like.\n"
   ]
  },
  {
   "cell_type": "markdown",
   "metadata": {
    "id": "CFY6cE2vVig7",
    "tags": []
   },
   "source": [
    "# Code Summary\n",
    "\n",
    "---\n"
   ]
  },
  {
   "cell_type": "markdown",
   "metadata": {
    "id": "0jIjZnHPk2Fd"
   },
   "source": [
    "## Evaluating Definite Integrals Symbolically\n",
    "\n",
    "---"
   ]
  },
  {
   "cell_type": "code",
   "execution_count": null,
   "metadata": {
    "colab": {
     "base_uri": "https://localhost:8080/",
     "height": 53
    },
    "executionInfo": {
     "elapsed": 257,
     "status": "ok",
     "timestamp": 1722544353282,
     "user": {
      "displayName": "Enrique Acosta",
      "userId": "01862593623389693265"
     },
     "user_tz": 300
    },
    "id": "QtnRCsnKk1tl",
    "outputId": "d8c2cf89-dc3f-4869-8f61-b762e02f685a"
   },
   "outputs": [],
   "source": [
    "# load simpy and declare x to be a symbolic varibale\n",
    "import sympy as sym\n",
    "x = sym.symbols('x')\n",
    "\n",
    "# function to integrate and endpoints\n",
    "f = sym.sin(2*x) + sym.cos(3*x)\n",
    "a = 0\n",
    "b = 5\n",
    "\n",
    "# Calculate the integral of f, with respect to x, from x=a to x=b\n",
    "f.integrate((x, a, b))\n",
    "\n",
    "# alternate notation\n",
    "# sym.integrate(f,(x,a,b))\n",
    "\n",
    "\n",
    "# to get a decimal approximation, use float()\n",
    "# float(f.integrate((x, a, b)))"
   ]
  },
  {
   "cell_type": "markdown",
   "metadata": {
    "id": "QnXG6zmxmkeJ"
   },
   "source": [
    "Run the code cell below to display the signed area that the above integral corresponds to."
   ]
  },
  {
   "cell_type": "code",
   "execution_count": null,
   "metadata": {
    "colab": {
     "base_uri": "https://localhost:8080/",
     "height": 472
    },
    "executionInfo": {
     "elapsed": 705,
     "status": "ok",
     "timestamp": 1722545374809,
     "user": {
      "displayName": "Enrique Acosta",
      "userId": "01862593623389693265"
     },
     "user_tz": 300
    },
    "id": "hlkn4VxnmZHS",
    "outputId": "fd431d08-1888-4268-9cf3-69f588d00996"
   },
   "outputs": [],
   "source": [
    "import numpy as np\n",
    "import matplotlib.pyplot as plt\n",
    "\n",
    "# define function to integrate\n",
    "def f(x):\n",
    "  return np.sin(2*x) + np.cos(3*x)\n",
    "\n",
    "# define endpoints\n",
    "a = 0\n",
    "b = 5\n",
    "\n",
    "# plot\n",
    "x_values = np.linspace(a, b, 200)\n",
    "f_values = f(x_values)\n",
    "plt.plot(x_values, f_values)\n",
    "plt.fill_between(x_values, f_values, where=(x_values >= a) & (x_values <= b), alpha=0.3)\n",
    "plt.xlabel('x')\n",
    "plt.ylabel('f(x)')\n",
    "plt.title('Plot of f(x) with Shaded Area Corresponding to the Integral')\n",
    "plt.xlim([a-0.5, b+0.5])\n",
    "plt.grid(True)\n",
    "plt.show()\n"
   ]
  },
  {
   "cell_type": "markdown",
   "metadata": {
    "id": "mo5Gtf67n-qu"
   },
   "source": [
    "## Evaluating Indefinite Integrals Symbolically\n",
    "\n",
    "---"
   ]
  },
  {
   "cell_type": "code",
   "execution_count": null,
   "metadata": {
    "colab": {
     "base_uri": "https://localhost:8080/",
     "height": 53
    },
    "executionInfo": {
     "elapsed": 564,
     "status": "ok",
     "timestamp": 1722544121924,
     "user": {
      "displayName": "Enrique Acosta",
      "userId": "01862593623389693265"
     },
     "user_tz": 300
    },
    "id": "Ru2wghxTn-ZG",
    "outputId": "9fedf02f-f341-4295-b8af-475b9f4b0f3a"
   },
   "outputs": [],
   "source": [
    "# load simpy and declare x to be a symbolic varibale\n",
    "import sympy as sym\n",
    "x = sym.symbols('x')\n",
    "\n",
    "# function to integrate\n",
    "f = sym.cos(2*x) + 1/(1+x**2)\n",
    "\n",
    "# Calculate the indefinite integral of f with respect to x\n",
    "f.integrate(x)\n",
    "\n",
    "# alternate notation\n",
    "# sym.integrate(f,x)\n"
   ]
  },
  {
   "cell_type": "markdown",
   "metadata": {
    "id": "rAp8053WouPD"
   },
   "source": [
    "Note that one does not need to integrate with respect to $x$. One can use any variable!\n"
   ]
  },
  {
   "cell_type": "code",
   "execution_count": null,
   "metadata": {
    "colab": {
     "base_uri": "https://localhost:8080/",
     "height": 53
    },
    "executionInfo": {
     "elapsed": 225,
     "status": "ok",
     "timestamp": 1722544283222,
     "user": {
      "displayName": "Enrique Acosta",
      "userId": "01862593623389693265"
     },
     "user_tz": 300
    },
    "id": "K_COmFP-ouBm",
    "outputId": "6dd44f2c-abf4-4fc0-a2ae-b43fc7ee51c5"
   },
   "outputs": [],
   "source": [
    "# load simpy and declare x to be a symbolic varibale\n",
    "import sympy as sym\n",
    "r = sym.symbols('r')\n",
    "\n",
    "# function to integrate\n",
    "f = sym.cos(2*r) + 1/(1+r**2)\n",
    "\n",
    "# Calculate the indefinite integral of f with respect to r\n",
    "f.integrate(r)\n",
    "\n",
    "# alternate notation\n",
    "# sym.integrate(f,r)\n"
   ]
  }
 ],
 "metadata": {
  "colab": {
   "provenance": [
    {
     "file_id": "1UmjN5xnJojvQLHWyyTU7wvvhKcnFXV5v",
     "timestamp": 1719938480193
    },
    {
     "file_id": "1-BJ0fSgn1x_Q6uBmuBqQZ6GNHFpd-4Rr",
     "timestamp": 1718465241422
    },
    {
     "file_id": "1jW26k8xTcyeZ-H9Zpk-B6YLMr6MRuH51",
     "timestamp": 1713979048664
    },
    {
     "file_id": "1ut7-jJPy1o3Eo9mPSmJhmyDNI0VLUtna",
     "timestamp": 1710899482688
    }
   ]
  },
  "kernelspec": {
   "display_name": "Python 3 (ipykernel)",
   "language": "python",
   "name": "python3"
  },
  "language_info": {
   "codemirror_mode": {
    "name": "ipython",
    "version": 3
   },
   "file_extension": ".py",
   "mimetype": "text/x-python",
   "name": "python",
   "nbconvert_exporter": "python",
   "pygments_lexer": "ipython3",
   "version": "3.8.17"
  }
 },
 "nbformat": 4,
 "nbformat_minor": 4
}
