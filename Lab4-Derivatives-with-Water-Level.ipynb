{
 "cells": [
  {
   "cell_type": "markdown",
   "metadata": {
    "id": "d8538825-184f-4fb8-878d-0c239eea11fa"
   },
   "source": [
    "[![Open In Colab](https://colab.research.google.com/assets/colab-badge.svg)](https://colab.research.google.com/github/mcwg/calc-python-labs/blob/main/Lab4-Derivatives-with-Water-Level.ipynb)\n"
   ]
  },
  {
   "cell_type": "markdown",
   "metadata": {
    "id": "BScDcN5evEo_"
   },
   "source": [
    "<a name=\"title\"></a>\n",
    "# Lab 4: Numerically Approximating the Derivative at a Point\n",
    "\n",
    "---\n",
    "\n",
    "\n",
    "![Lake Mead at low water level](https://upload.wikimedia.org/wikipedia/en/7/7a/LakeMeadJuly2009.jpg)\n",
    "\n",
    "Image credit: [“Lake Mead July 2009”](https://en.wikipedia.org/wiki/File:LakeMeadJuly2009.jpg) by Mjponso. [CC BY-SA 3.0](https://creativecommons.org/licenses/by-sa/3.0/).\n"
   ]
  },
  {
   "cell_type": "markdown",
   "metadata": {
    "id": "My8SeNTN_nZp"
   },
   "source": [
    "# <a name=\"intro\">Lake Mead Nearing Dead Pool Status</a>\n",
    "\n",
    "---\n",
    "\n",
    "Lake Mead is the largest reservoir in the United States. Lake Mead is located on the border of Arizona and Nevada, approximately 25 miles outside of Las Vegas, Nevada. Lake Mead supplies water to nearly 20 million people and farms in parts of California, Arizona, Nevada, and Mexico$^{1}$. As a result of draught and the rising population in the Southwestern United States, Lake Mead has remained below full capacity, reaching a historic low in June, 2021. If the water level in Lake Mead decreases to an elevation below 895 feet, Lake Mead will not have enough water for the Hoover Dam to produce power$^{2}$.\n",
    "\n",
    "\n",
    "In this lab, we import and analyze a large dataset containing water level measurements of Lake Mead from 2020 to 2023. We use Python to graphically and numerically approximate the derivative of the elevation of Lake Mead's water level and interpret the practical meaning of the approximations.\n",
    "\n",
    "<br>  \n",
    "\n",
    "1. [\"Drought: Lake Mead is at an Historic Low\"](https://web.archive.org/web/20150925121757/http://ecowatch.com/2015/04/28/drought-lake-mead-historic-low/). Ecowatch. April 28, 2015.\n",
    "2. [\"What Does “Dead Pool” Mean for the American West?\"](https://www.sierraclub.org/sierra/what-does-dead-pool-mean-american-west). The Sierra Club. May 8, 2023.\n"
   ]
  },
  {
   "cell_type": "markdown",
   "metadata": {
    "id": "utkKdRbd4yXv"
   },
   "source": [
    "# Learning Objectives\n",
    "\n",
    "---\n",
    "\n",
    "- Using Pandas dataframes to store and analyze large datasets.\n",
    "- Interpreting data visualizations.\n",
    "- Indexing and slicing dataframes.\n",
    "- Numerically approximating the derivative at a point.\n",
    "- Interpreting the derivative.\n"
   ]
  },
  {
   "cell_type": "markdown",
   "metadata": {
    "id": "XQYAZYMYHani"
   },
   "source": [
    "## Saving Your Work to a Colab Notebook\n",
    "\n",
    "---\n",
    "\n",
    "This lab is a shared Colab notebook available for anyone to view. However, since everyone is sharing this notebook, you do not have permission to save changes to this shared Colab notebook. In order to save your work:\n",
    "\n",
    "1. You will need to set up a free Google Drive account. If you already have a Google Drive account, you are ready to go!\n",
    "2. Click the `Copy to Drive` button to the right of the `+ Code` and `+ Text` buttons on top of the notebook.\n",
    "3. Select from the menu `File/Save a Copy in Drive`.\n",
    "  - By default, the notebook will be saved in a folder named **Colab Notebooks** in your Drive.\n",
    "  - Feel free to rename and store the notebook wherever you like.\n"
   ]
  },
  {
   "cell_type": "markdown",
   "metadata": {
    "id": "-Dkn8NnY7bAd"
   },
   "source": [
    "# Importing Required Libraries\n",
    "\n",
    "---\n",
    "\n"
   ]
  },
  {
   "cell_type": "code",
   "execution_count": null,
   "metadata": {
    "id": "hfm27EwBEx2-"
   },
   "outputs": [],
   "source": [
    "###################################\n",
    "# Run to import required libraries\n",
    "###################################\n",
    "import numpy as np  # import numpy\n",
    "import pandas as pd  # import pandas\n",
    "import matplotlib.pyplot as plt  # import matplotlib.pyplot"
   ]
  },
  {
   "cell_type": "markdown",
   "metadata": {
    "id": "9auO48bbr92U"
   },
   "source": [
    "## How Often Do We Need to Import Libraries?\n",
    "\n",
    "---\n",
    "\n",
    "After importing a library for the first time, we can now access functions in the library in any code cell we run, regardless of where the code cell is located in the notebook. Thus, we only need to run `import` commands such as `import numpy as np` or `import pandas as pd` once, and then we can continue calling in functions from those libraries (using specified abbreviations) for as long as the session remains active. If you take a break while working in Colab, your session may *time out* and disconnect.\n",
    "\n",
    "- We need to import libraries one time after opening a notebook or reconnecting after timing out.\n",
    "- We do not need to import the library again unless we take a break and the connection times out.\n"
   ]
  },
  {
   "cell_type": "markdown",
   "metadata": {
    "id": "Jjv6PdT6CVS_"
   },
   "source": [
    "# Loading and Storing Lake Mead Data\n",
    "\n",
    "---\n",
    "\n",
    "Data exported from the [Lake Mead Water Database](https://lakemead.water-data.com/) is stored in a [comma separated values](https://en.wikipedia.org/wiki/Comma-separated_values) (or csv) file named `lake-mead-daily.csv` that is stored online in [GitHub](https://raw.githubusercontent.com/mcwg/calc-python-labs/main/Data/lake-mead-daily.csv).\n",
    "\n",
    "\n",
    "The Pandas command [`pandas.read_csv()`](https://pandas.pydata.org/docs/reference/api/pandas.read_csv.html) can be used to store data from a csv file to a Pandas dataframe. We have already imported the Pandas library with the abbreviation `pd`.\n",
    "\n",
    "- Run the first code cell below to import and store the Lake Mead water level data to a Pandas dataframe called `lake_mead`.\n",
    "  - *There will not be any output displayed after running the first code cell.*\n",
    "- Then run the second code cell below to view the first 5 rows of the dataframe `lake_mead` on screen."
   ]
  },
  {
   "cell_type": "code",
   "execution_count": null,
   "metadata": {
    "id": "MGAsaR9-FbAW"
   },
   "outputs": [],
   "source": [
    "###################################\n",
    "# Run to store data to a dataframe\n",
    "###################################\n",
    "lake_mead = pd.read_csv('https://raw.githubusercontent.com/mcwg/calc-python-labs/main/Data/lake-mead-daily.csv')"
   ]
  },
  {
   "cell_type": "code",
   "execution_count": null,
   "metadata": {
    "colab": {
     "base_uri": "https://localhost:8080/",
     "height": 206
    },
    "executionInfo": {
     "elapsed": 273,
     "status": "ok",
     "timestamp": 1722604730370,
     "user": {
      "displayName": "Elliot Marks",
      "userId": "09138350388793527394"
     },
     "user_tz": -120
    },
    "id": "5GJFLN0eSEUa",
    "outputId": "dd3c63c8-3e64-4d3e-cba4-7682262c9c0e"
   },
   "outputs": [
    {
     "data": {
      "application/vnd.google.colaboratory.intrinsic+json": {
       "summary": "{\n  \"name\": \"lake_mead\",\n  \"rows\": 1594,\n  \"fields\": [\n    {\n      \"column\": \"Date\",\n      \"properties\": {\n        \"dtype\": \"category\",\n        \"num_unique_values\": 366,\n        \"samples\": [\n          \"12-Jul\",\n          \"3-Feb\",\n          \"16-Jan\"\n        ],\n        \"semantic_type\": \"\",\n        \"description\": \"\"\n      }\n    },\n    {\n      \"column\": \"Year\",\n      \"properties\": {\n        \"dtype\": \"number\",\n        \"std\": 1,\n        \"min\": 2020,\n        \"max\": 2024,\n        \"num_unique_values\": 5,\n        \"samples\": [\n          2021,\n          2024,\n          2022\n        ],\n        \"semantic_type\": \"\",\n        \"description\": \"\"\n      }\n    },\n    {\n      \"column\": \"t\",\n      \"properties\": {\n        \"dtype\": \"number\",\n        \"std\": 106,\n        \"min\": 0,\n        \"max\": 365,\n        \"num_unique_values\": 366,\n        \"samples\": [\n          193,\n          33,\n          15\n        ],\n        \"semantic_type\": \"\",\n        \"description\": \"\"\n      }\n    },\n    {\n      \"column\": \"Elevation\",\n      \"properties\": {\n        \"dtype\": \"number\",\n        \"std\": 16.315749719713708,\n        \"min\": 1040.58,\n        \"max\": 1098.65,\n        \"num_unique_values\": 1256,\n        \"samples\": [\n          1071.44,\n          1097.09,\n          1096.02\n        ],\n        \"semantic_type\": \"\",\n        \"description\": \"\"\n      }\n    },\n    {\n      \"column\": \"Change\",\n      \"properties\": {\n        \"dtype\": \"number\",\n        \"std\": 0.12725150534012597,\n        \"min\": -0.42,\n        \"max\": 0.75,\n        \"num_unique_values\": 73,\n        \"samples\": [\n          0.18,\n          -0.4,\n          0.02\n        ],\n        \"semantic_type\": \"\",\n        \"description\": \"\"\n      }\n    },\n    {\n      \"column\": \"Content\",\n      \"properties\": {\n        \"dtype\": \"number\",\n        \"std\": 1284219,\n        \"min\": 7018000,\n        \"max\": 11615000,\n        \"num_unique_values\": 1307,\n        \"samples\": [\n          8879143,\n          8164376,\n          7042000\n        ],\n        \"semantic_type\": \"\",\n        \"description\": \"\"\n      }\n    }\n  ]\n}",
       "type": "dataframe",
       "variable_name": "lake_mead"
      },
      "text/html": [
       "\n",
       "  <div id=\"df-0d020a82-9972-47be-99e6-977b8b37cd8c\" class=\"colab-df-container\">\n",
       "    <div>\n",
       "<style scoped>\n",
       "    .dataframe tbody tr th:only-of-type {\n",
       "        vertical-align: middle;\n",
       "    }\n",
       "\n",
       "    .dataframe tbody tr th {\n",
       "        vertical-align: top;\n",
       "    }\n",
       "\n",
       "    .dataframe thead th {\n",
       "        text-align: right;\n",
       "    }\n",
       "</style>\n",
       "<table border=\"1\" class=\"dataframe\">\n",
       "  <thead>\n",
       "    <tr style=\"text-align: right;\">\n",
       "      <th></th>\n",
       "      <th>Date</th>\n",
       "      <th>Year</th>\n",
       "      <th>t</th>\n",
       "      <th>Elevation</th>\n",
       "      <th>Change</th>\n",
       "      <th>Content</th>\n",
       "    </tr>\n",
       "  </thead>\n",
       "  <tbody>\n",
       "    <tr>\n",
       "      <th>0</th>\n",
       "      <td>1-Jan</td>\n",
       "      <td>2020</td>\n",
       "      <td>0</td>\n",
       "      <td>1090.64</td>\n",
       "      <td>0.15</td>\n",
       "      <td>10912000</td>\n",
       "    </tr>\n",
       "    <tr>\n",
       "      <th>1</th>\n",
       "      <td>2-Jan</td>\n",
       "      <td>2020</td>\n",
       "      <td>1</td>\n",
       "      <td>1090.74</td>\n",
       "      <td>0.10</td>\n",
       "      <td>10921000</td>\n",
       "    </tr>\n",
       "    <tr>\n",
       "      <th>2</th>\n",
       "      <td>3-Jan</td>\n",
       "      <td>2020</td>\n",
       "      <td>2</td>\n",
       "      <td>1090.84</td>\n",
       "      <td>0.10</td>\n",
       "      <td>10930000</td>\n",
       "    </tr>\n",
       "    <tr>\n",
       "      <th>3</th>\n",
       "      <td>4-Jan</td>\n",
       "      <td>2020</td>\n",
       "      <td>3</td>\n",
       "      <td>1090.94</td>\n",
       "      <td>0.10</td>\n",
       "      <td>10938000</td>\n",
       "    </tr>\n",
       "    <tr>\n",
       "      <th>4</th>\n",
       "      <td>5-Jan</td>\n",
       "      <td>2020</td>\n",
       "      <td>4</td>\n",
       "      <td>1091.06</td>\n",
       "      <td>0.12</td>\n",
       "      <td>10949000</td>\n",
       "    </tr>\n",
       "  </tbody>\n",
       "</table>\n",
       "</div>\n",
       "    <div class=\"colab-df-buttons\">\n",
       "\n",
       "  <div class=\"colab-df-container\">\n",
       "    <button class=\"colab-df-convert\" onclick=\"convertToInteractive('df-0d020a82-9972-47be-99e6-977b8b37cd8c')\"\n",
       "            title=\"Convert this dataframe to an interactive table.\"\n",
       "            style=\"display:none;\">\n",
       "\n",
       "  <svg xmlns=\"http://www.w3.org/2000/svg\" height=\"24px\" viewBox=\"0 -960 960 960\">\n",
       "    <path d=\"M120-120v-720h720v720H120Zm60-500h600v-160H180v160Zm220 220h160v-160H400v160Zm0 220h160v-160H400v160ZM180-400h160v-160H180v160Zm440 0h160v-160H620v160ZM180-180h160v-160H180v160Zm440 0h160v-160H620v160Z\"/>\n",
       "  </svg>\n",
       "    </button>\n",
       "\n",
       "  <style>\n",
       "    .colab-df-container {\n",
       "      display:flex;\n",
       "      gap: 12px;\n",
       "    }\n",
       "\n",
       "    .colab-df-convert {\n",
       "      background-color: #E8F0FE;\n",
       "      border: none;\n",
       "      border-radius: 50%;\n",
       "      cursor: pointer;\n",
       "      display: none;\n",
       "      fill: #1967D2;\n",
       "      height: 32px;\n",
       "      padding: 0 0 0 0;\n",
       "      width: 32px;\n",
       "    }\n",
       "\n",
       "    .colab-df-convert:hover {\n",
       "      background-color: #E2EBFA;\n",
       "      box-shadow: 0px 1px 2px rgba(60, 64, 67, 0.3), 0px 1px 3px 1px rgba(60, 64, 67, 0.15);\n",
       "      fill: #174EA6;\n",
       "    }\n",
       "\n",
       "    .colab-df-buttons div {\n",
       "      margin-bottom: 4px;\n",
       "    }\n",
       "\n",
       "    [theme=dark] .colab-df-convert {\n",
       "      background-color: #3B4455;\n",
       "      fill: #D2E3FC;\n",
       "    }\n",
       "\n",
       "    [theme=dark] .colab-df-convert:hover {\n",
       "      background-color: #434B5C;\n",
       "      box-shadow: 0px 1px 3px 1px rgba(0, 0, 0, 0.15);\n",
       "      filter: drop-shadow(0px 1px 2px rgba(0, 0, 0, 0.3));\n",
       "      fill: #FFFFFF;\n",
       "    }\n",
       "  </style>\n",
       "\n",
       "    <script>\n",
       "      const buttonEl =\n",
       "        document.querySelector('#df-0d020a82-9972-47be-99e6-977b8b37cd8c button.colab-df-convert');\n",
       "      buttonEl.style.display =\n",
       "        google.colab.kernel.accessAllowed ? 'block' : 'none';\n",
       "\n",
       "      async function convertToInteractive(key) {\n",
       "        const element = document.querySelector('#df-0d020a82-9972-47be-99e6-977b8b37cd8c');\n",
       "        const dataTable =\n",
       "          await google.colab.kernel.invokeFunction('convertToInteractive',\n",
       "                                                    [key], {});\n",
       "        if (!dataTable) return;\n",
       "\n",
       "        const docLinkHtml = 'Like what you see? Visit the ' +\n",
       "          '<a target=\"_blank\" href=https://colab.research.google.com/notebooks/data_table.ipynb>data table notebook</a>'\n",
       "          + ' to learn more about interactive tables.';\n",
       "        element.innerHTML = '';\n",
       "        dataTable['output_type'] = 'display_data';\n",
       "        await google.colab.output.renderOutput(dataTable, element);\n",
       "        const docLink = document.createElement('div');\n",
       "        docLink.innerHTML = docLinkHtml;\n",
       "        element.appendChild(docLink);\n",
       "      }\n",
       "    </script>\n",
       "  </div>\n",
       "\n",
       "\n",
       "<div id=\"df-55eb3058-885e-45f0-839a-12926e10321b\">\n",
       "  <button class=\"colab-df-quickchart\" onclick=\"quickchart('df-55eb3058-885e-45f0-839a-12926e10321b')\"\n",
       "            title=\"Suggest charts\"\n",
       "            style=\"display:none;\">\n",
       "\n",
       "<svg xmlns=\"http://www.w3.org/2000/svg\" height=\"24px\"viewBox=\"0 0 24 24\"\n",
       "     width=\"24px\">\n",
       "    <g>\n",
       "        <path d=\"M19 3H5c-1.1 0-2 .9-2 2v14c0 1.1.9 2 2 2h14c1.1 0 2-.9 2-2V5c0-1.1-.9-2-2-2zM9 17H7v-7h2v7zm4 0h-2V7h2v10zm4 0h-2v-4h2v4z\"/>\n",
       "    </g>\n",
       "</svg>\n",
       "  </button>\n",
       "\n",
       "<style>\n",
       "  .colab-df-quickchart {\n",
       "      --bg-color: #E8F0FE;\n",
       "      --fill-color: #1967D2;\n",
       "      --hover-bg-color: #E2EBFA;\n",
       "      --hover-fill-color: #174EA6;\n",
       "      --disabled-fill-color: #AAA;\n",
       "      --disabled-bg-color: #DDD;\n",
       "  }\n",
       "\n",
       "  [theme=dark] .colab-df-quickchart {\n",
       "      --bg-color: #3B4455;\n",
       "      --fill-color: #D2E3FC;\n",
       "      --hover-bg-color: #434B5C;\n",
       "      --hover-fill-color: #FFFFFF;\n",
       "      --disabled-bg-color: #3B4455;\n",
       "      --disabled-fill-color: #666;\n",
       "  }\n",
       "\n",
       "  .colab-df-quickchart {\n",
       "    background-color: var(--bg-color);\n",
       "    border: none;\n",
       "    border-radius: 50%;\n",
       "    cursor: pointer;\n",
       "    display: none;\n",
       "    fill: var(--fill-color);\n",
       "    height: 32px;\n",
       "    padding: 0;\n",
       "    width: 32px;\n",
       "  }\n",
       "\n",
       "  .colab-df-quickchart:hover {\n",
       "    background-color: var(--hover-bg-color);\n",
       "    box-shadow: 0 1px 2px rgba(60, 64, 67, 0.3), 0 1px 3px 1px rgba(60, 64, 67, 0.15);\n",
       "    fill: var(--button-hover-fill-color);\n",
       "  }\n",
       "\n",
       "  .colab-df-quickchart-complete:disabled,\n",
       "  .colab-df-quickchart-complete:disabled:hover {\n",
       "    background-color: var(--disabled-bg-color);\n",
       "    fill: var(--disabled-fill-color);\n",
       "    box-shadow: none;\n",
       "  }\n",
       "\n",
       "  .colab-df-spinner {\n",
       "    border: 2px solid var(--fill-color);\n",
       "    border-color: transparent;\n",
       "    border-bottom-color: var(--fill-color);\n",
       "    animation:\n",
       "      spin 1s steps(1) infinite;\n",
       "  }\n",
       "\n",
       "  @keyframes spin {\n",
       "    0% {\n",
       "      border-color: transparent;\n",
       "      border-bottom-color: var(--fill-color);\n",
       "      border-left-color: var(--fill-color);\n",
       "    }\n",
       "    20% {\n",
       "      border-color: transparent;\n",
       "      border-left-color: var(--fill-color);\n",
       "      border-top-color: var(--fill-color);\n",
       "    }\n",
       "    30% {\n",
       "      border-color: transparent;\n",
       "      border-left-color: var(--fill-color);\n",
       "      border-top-color: var(--fill-color);\n",
       "      border-right-color: var(--fill-color);\n",
       "    }\n",
       "    40% {\n",
       "      border-color: transparent;\n",
       "      border-right-color: var(--fill-color);\n",
       "      border-top-color: var(--fill-color);\n",
       "    }\n",
       "    60% {\n",
       "      border-color: transparent;\n",
       "      border-right-color: var(--fill-color);\n",
       "    }\n",
       "    80% {\n",
       "      border-color: transparent;\n",
       "      border-right-color: var(--fill-color);\n",
       "      border-bottom-color: var(--fill-color);\n",
       "    }\n",
       "    90% {\n",
       "      border-color: transparent;\n",
       "      border-bottom-color: var(--fill-color);\n",
       "    }\n",
       "  }\n",
       "</style>\n",
       "\n",
       "  <script>\n",
       "    async function quickchart(key) {\n",
       "      const quickchartButtonEl =\n",
       "        document.querySelector('#' + key + ' button');\n",
       "      quickchartButtonEl.disabled = true;  // To prevent multiple clicks.\n",
       "      quickchartButtonEl.classList.add('colab-df-spinner');\n",
       "      try {\n",
       "        const charts = await google.colab.kernel.invokeFunction(\n",
       "            'suggestCharts', [key], {});\n",
       "      } catch (error) {\n",
       "        console.error('Error during call to suggestCharts:', error);\n",
       "      }\n",
       "      quickchartButtonEl.classList.remove('colab-df-spinner');\n",
       "      quickchartButtonEl.classList.add('colab-df-quickchart-complete');\n",
       "    }\n",
       "    (() => {\n",
       "      let quickchartButtonEl =\n",
       "        document.querySelector('#df-55eb3058-885e-45f0-839a-12926e10321b button');\n",
       "      quickchartButtonEl.style.display =\n",
       "        google.colab.kernel.accessAllowed ? 'block' : 'none';\n",
       "    })();\n",
       "  </script>\n",
       "</div>\n",
       "\n",
       "    </div>\n",
       "  </div>\n"
      ],
      "text/plain": [
       "    Date  Year  t  Elevation  Change   Content\n",
       "0  1-Jan  2020  0    1090.64    0.15  10912000\n",
       "1  2-Jan  2020  1    1090.74    0.10  10921000\n",
       "2  3-Jan  2020  2    1090.84    0.10  10930000\n",
       "3  4-Jan  2020  3    1090.94    0.10  10938000\n",
       "4  5-Jan  2020  4    1091.06    0.12  10949000"
      ]
     },
     "execution_count": 10,
     "metadata": {},
     "output_type": "execute_result"
    }
   ],
   "source": [
    "######################################\n",
    "# Run to display first 5 rows of data\n",
    "######################################\n",
    "lake_mead.head()  # display first 5 rows of data"
   ]
  },
  {
   "cell_type": "markdown",
   "metadata": {
    "id": "qxFDvf5J8Ke1"
   },
   "source": [
    "# Dataframes\n",
    "\n",
    "---\n",
    "\n",
    "A **dataframe** is a system for storing data in rows and columns, similar to an Excel spreadsheet.\n",
    "\n",
    "- Each row of a dataframe corresponds to a different **observation**.\n",
    "  - Each row is referenced by a number called the **row index**.\n",
    "  - The first (unlabeled) column in the output of the previous code cell indicates the index of each row.\n",
    "  - **Notice indexing in Python starts with 0 (not 1).**\n",
    "- Each column of a dataframe corresponds to a different **variable**.\n",
    "  - Columns can be referenced by a **column label** indicated in the header row of the table.\n",
    "\n",
    "We use the [Pandas library](https://pandas.pydata.org/) to import and store data as [Pandas DataFrames](https://pandas.pydata.org/docs/reference/api/pandas.DataFrame.html)."
   ]
  },
  {
   "cell_type": "markdown",
   "metadata": {
    "id": "K7JVGcACSEUY"
   },
   "source": [
    "# Exploring the Lake Mead Data</a>\n",
    "---\n",
    "\n",
    "Let `df` denote the name of a generic Pandas dataframe.\n",
    "Before beginning our analysis, we need to know what data is stored in the dataframe `df`. For large datasets, displaying the entire dataset on screen is not particularly helpful or practical. Below are some helpful Pandas functions that can help provide an initial glimpse into the data stored in dataframe `df`.\n",
    "\n",
    "\n",
    "\n",
    "- `df.head()` displays the first 5 rows of `df`.\n",
    "- `df.tail()` displays the last 5 rows of `df`.\n",
    "- `df.shape` returns the number of rows (observations) and columns (variables) in `df`.\n",
    "- `df.columns` lists the names of the variables (or column labels).\n",
    "- `df.info()` summarizes the structure of all variables in `df`."
   ]
  },
  {
   "cell_type": "markdown",
   "metadata": {
    "id": "EuLqoUfKSEUa"
   },
   "source": [
    "# Question 1\n",
    "\n",
    "---\n",
    "\n",
    "The dataframe `lake_mead` contains measurements for the water level of Lake Mead. Experiment with commands in the code cell below below (turning the comments on or off to run different commands) to learn about the data stored in `lake_mead`. Based on the output generated by one or more of the commmands, answer the following questions:\n",
    "\n",
    "\n",
    "- How many observations are in the `lake_mead` dataframe?\n",
    "- How many variables are in the `lake_mead` dataframe and what are the names of the variables?\n",
    "- What range of dates are included in the `lake_mead` dataframe?\n",
    "- How frequently are water-level observations recorded in the `lake_mead` dataframe?\n",
    "\n",
    "<br>\n",
    "\n",
    "\n",
    "\n"
   ]
  },
  {
   "cell_type": "code",
   "execution_count": null,
   "metadata": {
    "colab": {
     "base_uri": "https://localhost:8080/"
    },
    "executionInfo": {
     "elapsed": 320,
     "status": "ok",
     "timestamp": 1722528091262,
     "user": {
      "displayName": "Elliot Marks",
      "userId": "09138350388793527394"
     },
     "user_tz": -120
    },
    "id": "ZsQwFEooQpK6",
    "outputId": "341c6e08-6989-456f-bd0e-0568ae5ecade"
   },
   "outputs": [],
   "source": [
    "#####################################\n",
    "# Turn comments on or off and\n",
    "# run different commands to learn\n",
    "# about the data stored in lake_mead\n",
    "#####################################\n",
    "\n",
    "lake_mead.head()  # display first 5 rows of data\n",
    "#lake_mead.tail()  # display last 5 rows of data\n",
    "#lake_mead.shape  # indicate the number of rows (observations) and columns (variables)\n",
    "#lake_mead.columns  # display the column headers\n",
    "#lake_mead.info()  # provides information about the structure of the data"
   ]
  },
  {
   "cell_type": "markdown",
   "metadata": {
    "id": "mIamxGYmLBG9"
   },
   "source": [
    "## Solution to Question 1\n",
    "\n",
    "---\n",
    "\n",
    "- There are a total of <mark>??</mark> observations in `lake_mead`.\n",
    "\n",
    "- There are a total of <mark>??</mark> variables in `lake_mead`.\n",
    "\n",
    "- The names of the variables in `lake_mead` are <mark>??</mark>.\n",
    "\n",
    "- The observations in `lake_mead` begin on the date <mark>??</mark> and end on the date <mark>??</mark>.\n",
    "\n",
    "- Observations in `lake_mead` are recorded every <mark>??</mark>.\n",
    "\n",
    "\n",
    "\n",
    "<br>  \n",
    "<br>"
   ]
  },
  {
   "cell_type": "markdown",
   "metadata": {
    "id": "O7QNFDs0L2Uc"
   },
   "source": [
    "# Data Dictionary for `lake_mead`\n",
    "\n",
    "---\n",
    "\n",
    "\n",
    "- `Date` and `Year` are the calendar date and year, respectively.\n",
    "- `t` is the number of days since the start of the calendar year. For example:\n",
    "  - The observations on January 1 in 2020, 2021, 2022, and 2023 all have `t=0`.\n",
    "  - The observations on January 2 in 2020, 2021, 2022, and 2023 all have `t=1`.\n",
    "- `Elevation` is the elevation of the water level in feet.\n",
    "- `Change` is the change in the elevation (from the previos day), in feet.\n",
    "- `Content` is the volume of the water in acre feet.\n",
    "\n",
    "<br>  \n",
    "\n",
    "*The first (unlabeled) column is the index column that gives the row index of each row. We will explore [indexing and slicing data](#index-slice) later in this lab.*\n"
   ]
  },
  {
   "cell_type": "markdown",
   "metadata": {
    "id": "ivUL7LmLfY0o"
   },
   "source": [
    "# Plotting Lake Mead Water Level Elevations for 2020-2023\n",
    "\n",
    "---\n",
    "\n",
    "Run the code cell below to create a single plot that has four separate graphs of water-level elevation of Lake Mead for each of the years 2020, 2021, 2022, and 2023.\n",
    "\n",
    "<br>  \n",
    "\n",
    "*Note: You are not being asked to write, edit, or interpret any of the commands in the code cell below. Simply run the code cell below to generate a plot that you will interpret next.*\n",
    "\n"
   ]
  },
  {
   "cell_type": "code",
   "execution_count": null,
   "metadata": {
    "colab": {
     "base_uri": "https://localhost:8080/",
     "height": 472
    },
    "executionInfo": {
     "elapsed": 825,
     "status": "ok",
     "timestamp": 1722604737931,
     "user": {
      "displayName": "Elliot Marks",
      "userId": "09138350388793527394"
     },
     "user_tz": -120
    },
    "id": "mNj9fl2MIqya",
    "outputId": "c0f8ca29-db18-43de-bf4b-3765af5a5998"
   },
   "outputs": [
    {
     "data": {
      "image/png": "[encoded data removed]",
      "text/plain": [
       "<Figure size 640x480 with 1 Axes>"
      ]
     },
     "metadata": {},
     "output_type": "display_data"
    }
   ],
   "source": [
    "##########################################################\n",
    "# Run code cell to generate plot of Lake Mead\n",
    "# water level elevations for 2020, 2021, 2022, and 2023.\n",
    "# You do not need to edit any commands in this code cell.\n",
    "##########################################################\n",
    "\n",
    "############################################\n",
    "# create separate dataframes for each year\n",
    "############################################\n",
    "mead_20 = lake_mead.loc[lake_mead['Year'] == 2020]  # select rows with Year equal to 2020\n",
    "mead_21 = lake_mead.loc[lake_mead['Year'] == 2021]  # select rows with Year equal to 2021\n",
    "mead_22 = lake_mead.loc[lake_mead['Year'] == 2022]  # select rows with Year equal to 2022\n",
    "mead_23 = lake_mead.loc[lake_mead['Year'] == 2023]  # select rows with Year equal to 2023\n",
    "\n",
    "####################################################\n",
    "# Reset indices so each dataframe starts index at 0\n",
    "####################################################\n",
    "mead_21 = mead_21.reset_index(drop=True)  # reset row index 2021\n",
    "mead_22 = mead_22.reset_index(drop=True)  # reset row index 2022\n",
    "mead_23 = mead_23.reset_index(drop=True)  # reset row index 2023\n",
    "\n",
    "###############################\n",
    "# Plot t vs Elevation for 2020\n",
    "###############################\n",
    "plt.plot(mead_20['t'],  # plot t on x-axis\n",
    "         mead_20['Elevation'],  # plot elevation on y-axis\n",
    "         color ='blue',  # plot curve in blue\n",
    "         label = '2020')  # add label for legend\n",
    "\n",
    "###############################\n",
    "# Plot t vs Elevation for 2021\n",
    "###############################\n",
    "plt.plot(mead_21['t'],  # plot t on x-axis\n",
    "         mead_21['Elevation'],  # plot elevation on y-axis\n",
    "         color ='green',  # plot curve in green\n",
    "         linestyle='--',  # use dashed linestyle\n",
    "         label = '2021')  # add label for legend\n",
    "\n",
    "###############################\n",
    "# Plot t vs Elevation for 2022\n",
    "###############################\n",
    "plt.plot(mead_22['t'],  # plot t on x-axis\n",
    "         mead_22['Elevation'],  # plot elevation on y-axis\n",
    "         color ='red',  # plot curve in red\n",
    "         linestyle='-.',  # use dashdot linestyle\n",
    "         label = '2022')  # add label for legend\n",
    "\n",
    "###############################\n",
    "# Plot t vs Elevation for 2023\n",
    "###############################\n",
    "plt.plot(mead_23['t'],  # plot t on x-axis\n",
    "         mead_23['Elevation'],  # plot elevation on y-axis\n",
    "         color ='black',  # plot curve in black\n",
    "         linestyle = ':',  # use dotted linestyle\n",
    "         label = '2023')  # add label for legend\n",
    "\n",
    "###############\n",
    "# Plot options\n",
    "###############\n",
    "plt.title('Lake Mead Water Level')  # main plot label\n",
    "plt.xlabel('Days since Jan 1')  # label on x-axis\n",
    "plt.ylabel('Elevation (in feet)')  # label for the y-axis\n",
    "plt.xticks(np.arange(0, 365, step=25))  # Set tick marks\n",
    "plt.grid(True)  # add grid\n",
    "plt.legend()  # add legend\n",
    "\n",
    "# Display the plot\n",
    "plt.show()"
   ]
  },
  {
   "cell_type": "markdown",
   "metadata": {
    "id": "sfkH-GMGr_ma"
   },
   "source": [
    "# Question 2\n",
    "\n",
    "---\n",
    "\n",
    "Using the plot generated by the code cell above, answer the question to compare the water-level elevations of Lake Mead when $t=150$ in the years 2020 to 2023.\n",
    "\n",
    "- In which year is the water-level elevation of Lake Mead greatest when $t=150$?\n",
    "\n",
    "- In which year is the water-level elevation of Lake Mead smallest when $t=150$?\n",
    "\n",
    "- In which years (if any) is the water-level elevation of Lake Mead rising when $t=150$?\n",
    "\n",
    "- In which years (if any) is the water-level elevation of Lake Mead falling when $t=150$?\n",
    "\n"
   ]
  },
  {
   "cell_type": "markdown",
   "metadata": {
    "id": "QA4NyqgfR71t"
   },
   "source": [
    "## Solution to Question 2\n",
    "\n",
    "---\n",
    "\n",
    "Enter a year or list of years in each highlighted area.\n",
    "\n",
    "- The water-level elevation is greatest when $t=150$ in <mark>(enter year)</mark>.\n",
    "\n",
    "<br>  \n",
    "\n",
    "- The water-level elevation is smallest when $t=150$ in  <mark>(enter year)</mark>.\n",
    "\n",
    "<br>  \n",
    "\n",
    "- The water-level elevation is rising when $t=150$ in <mark>(enter years)</mark>.  *If there are no years in which the water level is rising, then type NONE.*\n",
    "\n",
    "<br>  \n",
    "\n",
    "- The water-level elevation is falling when $t=150$ in <mark>(enter years)</mark>. *If there are no years in which the water level is falling, then type NONE.*\n",
    "\n",
    "<br>  \n",
    "<br>  \n"
   ]
  },
  {
   "cell_type": "markdown",
   "metadata": {
    "id": "KjcZ-pjW-trw"
   },
   "source": [
    "<a name=\"index-slice\"></a>\n",
    "# Indexing and Slicing Pandas Dataframes\n",
    "\n",
    "---\n",
    "\n",
    "In data science, **slicing** a dataframe is a very useful method for cutting a subset of data from the entire dataframe. In Python, **indexing** is used to refer to specific rows and columns of a dataframe. We enter the location of data of interest as an ordered pair (separated by comma) inside a set of square brackets,  `[row_info , column_info]`.\n",
    "\n",
    "- First, we enter the index of the row(s) we would like to slice.\n",
    "- After the comma, we identify the column(s) we would like to slice.\n",
    "\n",
    "\n",
    "\n",
    "\n"
   ]
  },
  {
   "cell_type": "markdown",
   "metadata": {
    "id": "_2iKGA8h4SZ5"
   },
   "source": [
    "## The Index Column\n",
    "\n",
    "---\n",
    "\n",
    "The first (unlabeled) column is called the **index column**, and it is not a variable. The index column indicates the **row index** (or row number) of each row in the dataframe. **In Python, indexing starts at 0** (not at 1).\n",
    "\n",
    "- The $1^{\\text{st}}$ row has row index `0`.\n",
    "- The $2^{\\text{nd}}$ row has row index `1`.\n",
    "- In general, the $i^{\\text{th}}$ row of the dataframe has row index `i-1`.\n"
   ]
  },
  {
   "cell_type": "markdown",
   "metadata": {
    "id": "N4-UXzWjLOJ2"
   },
   "source": [
    "<a name=\"loc\"></a>\n",
    "## Indexing with `loc`\n",
    "\n",
    "---\n",
    "\n",
    "The [`loc`](https://pandas.pydata.org/docs/reference/api/pandas.DataFrame.loc.html) function is a Pandas command commonly used to slice data from a dataframe. To locate the entry in a dataframe named `df` in the row with index `row_index` and column with label `col_label`, we can use the command below `df.loc[row_index, 'col_label']`.\n",
    "\n",
    "<br>  \n",
    "\n",
    "*Note: Be sure to type the column label inside a pair of quotes.*\n"
   ]
  },
  {
   "cell_type": "markdown",
   "metadata": {
    "id": "o_YcR2r0Q2TO"
   },
   "source": [
    "# Question 3\n",
    "\n",
    "---\n",
    "\n",
    "The table below gives the output of the command `lake_mead.head()`. Use the first 5 rows of data from `lake_mead` to answer the question.\n",
    "\n",
    "<br>\n",
    "\n",
    "| |Date|Year|t|Elevation|Change|Content|\n",
    "|---|---|---|---|---|---|---|\n",
    "|0|1-Jan|2020|0|1090\\.64|0\\.15|10912000|\n",
    "|1|2-Jan|2020|1|1090\\.74|0\\.1|10921000|\n",
    "|2|3-Jan|2020|2|1090\\.84|0\\.1|10930000|\n",
    "|3|4-Jan|2020|3|1090\\.94|0\\.1|10938000|\n",
    "|4|5-Jan|2020|4|1091\\.06|0\\.12|10949000|\n",
    "\n",
    "<br>\n"
   ]
  },
  {
   "cell_type": "markdown",
   "metadata": {
    "id": "yE76FdJqR445"
   },
   "source": [
    "## Question 3a\n",
    "\n",
    "---\n",
    "\n",
    "Without running the command, determine what the output of the command `lake_mead.loc[2, 'Elevation']` will be. Then run the code cell to verify your answer\n",
    "\n"
   ]
  },
  {
   "cell_type": "markdown",
   "metadata": {
    "id": "va9LyMedeLrL"
   },
   "source": [
    "### Solution to Question 3a\n",
    "\n",
    "---\n",
    "\n",
    "The output of `lake_mead.loc[2, 'Elevation']` will be <mark>??</mark>.\n",
    "\n",
    "After typing your answer in the space above, run the code cell below to check your answer.\n",
    "\n",
    "<br>\n",
    "\n",
    "*Hint: Recall indexing in Python starts at 0.*\n",
    "\n",
    "\n",
    "<br>  \n",
    "<br>  \n"
   ]
  },
  {
   "cell_type": "code",
   "execution_count": null,
   "metadata": {
    "colab": {
     "base_uri": "https://localhost:8080/"
    },
    "executionInfo": {
     "elapsed": 254,
     "status": "ok",
     "timestamp": 1722604745250,
     "user": {
      "displayName": "Elliot Marks",
      "userId": "09138350388793527394"
     },
     "user_tz": -120
    },
    "id": "YrqOdQo4TKsx",
    "outputId": "4782eee4-1442-40bb-dbce-d814693f411d"
   },
   "outputs": [],
   "source": [
    "####################################################\n",
    "# Run code cell to check your answer to Question 3a\n",
    "####################################################\n",
    "lake_mead.loc[2, 'Elevation']"
   ]
  },
  {
   "cell_type": "markdown",
   "metadata": {
    "id": "wiL9zskwTKsj"
   },
   "source": [
    "## Question 3b\n",
    "\n",
    "---\n",
    "\n",
    "Use the `loc` function in the code cell below to extract the value of the **volume of water** (in acre feet) in Lake Mead on **January 4, 2020**.\n",
    "\n",
    "\n",
    "*Hint: The output should be 10,938,000 acre feet.*"
   ]
  },
  {
   "cell_type": "markdown",
   "metadata": {
    "id": "KWiV9mpZfxJZ"
   },
   "source": [
    "### Solution to Question 3b\n",
    "\n",
    "---\n"
   ]
  },
  {
   "cell_type": "code",
   "execution_count": null,
   "metadata": {
    "id": "YkwrvSQhS3Yl"
   },
   "outputs": [],
   "source": [
    "############################\n",
    "# Solution to Question 3b\n",
    "############################\n",
    "lake_mead.loc[??, '??']"
   ]
  },
  {
   "cell_type": "markdown",
   "metadata": {
    "id": "OaYNxht4nq2y"
   },
   "source": [
    "# Lake Mead Data in 2023\n",
    "\n",
    "---\n",
    "\n",
    "In the next question we analyze the water level of Lake Mead at the start of 2023 .The dataframe `lake_mead` contains 4 years of Lake Mead water level data (2020 to 2023). The code cell used earlier to create the plot of Lake Mead data for 2020-2023 contained code that created 4 separate dataframes for each of the 4 years.\n",
    "\n",
    "- `mead_20` contains Lake Mead water level data for 2020.\n",
    "- `mead_21` contains Lake Mead water level data for 2021.\n",
    "- `mead_22` contains Lake Mead water level data for 2022.\n",
    "- `mead_23` contains Lake Mead water level data for 2023.\n",
    "- *We will use the 2023 data in `mead_23` to answer the remaining questions.*\n",
    "\n",
    "\n",
    "Run the code cell below to display the first 5 rows of data stored in `mead_23`. Note the first observation corresponds to data from January 1, 2023."
   ]
  },
  {
   "cell_type": "code",
   "execution_count": null,
   "metadata": {
    "colab": {
     "base_uri": "https://localhost:8080/",
     "height": 206
    },
    "executionInfo": {
     "elapsed": 502,
     "status": "ok",
     "timestamp": 1722595010982,
     "user": {
      "displayName": "Elliot Marks",
      "userId": "09138350388793527394"
     },
     "user_tz": -120
    },
    "id": "xzCiFLKDoeS6",
    "outputId": "e1329284-616d-4557-98b9-be10f4be2e63"
   },
   "outputs": [
    {
     "data": {
      "application/vnd.google.colaboratory.intrinsic+json": {
       "summary": "{\n  \"name\": \"mead_23\",\n  \"rows\": 365,\n  \"fields\": [\n    {\n      \"column\": \"Date\",\n      \"properties\": {\n        \"dtype\": \"string\",\n        \"num_unique_values\": 365,\n        \"samples\": [\n          \"13-Jul\",\n          \"3-Feb\",\n          \"16-Jan\"\n        ],\n        \"semantic_type\": \"\",\n        \"description\": \"\"\n      }\n    },\n    {\n      \"column\": \"Year\",\n      \"properties\": {\n        \"dtype\": \"number\",\n        \"std\": 0,\n        \"min\": 2023,\n        \"max\": 2023,\n        \"num_unique_values\": 1,\n        \"samples\": [\n          2023\n        ],\n        \"semantic_type\": \"\",\n        \"description\": \"\"\n      }\n    },\n    {\n      \"column\": \"t\",\n      \"properties\": {\n        \"dtype\": \"number\",\n        \"std\": 105,\n        \"min\": 0,\n        \"max\": 364,\n        \"num_unique_values\": 365,\n        \"samples\": [\n          193\n        ],\n        \"semantic_type\": \"\",\n        \"description\": \"\"\n      }\n    },\n    {\n      \"column\": \"Elevation\",\n      \"properties\": {\n        \"dtype\": \"number\",\n        \"std\": 8.345586153005804,\n        \"min\": 1044.91,\n        \"max\": 1068.05,\n        \"num_unique_values\": 308,\n        \"samples\": [\n          1065.93\n        ],\n        \"semantic_type\": \"\",\n        \"description\": \"\"\n      }\n    },\n    {\n      \"column\": \"Change\",\n      \"properties\": {\n        \"dtype\": \"number\",\n        \"std\": 0.10996819843284836,\n        \"min\": -0.21,\n        \"max\": 0.75,\n        \"num_unique_values\": 48,\n        \"samples\": [\n          -0.2\n        ],\n        \"semantic_type\": \"\",\n        \"description\": \"\"\n      }\n    },\n    {\n      \"column\": \"Content\",\n      \"properties\": {\n        \"dtype\": \"number\",\n        \"std\": 621462,\n        \"min\": 7320000,\n        \"max\": 9045269,\n        \"num_unique_values\": 316,\n        \"samples\": [\n          8326331\n        ],\n        \"semantic_type\": \"\",\n        \"description\": \"\"\n      }\n    }\n  ]\n}",
       "type": "dataframe",
       "variable_name": "mead_23"
      },
      "text/html": [
       "\n",
       "  <div id=\"df-136e01bb-918d-45b1-95f0-231e869ffa62\" class=\"colab-df-container\">\n",
       "    <div>\n",
       "<style scoped>\n",
       "    .dataframe tbody tr th:only-of-type {\n",
       "        vertical-align: middle;\n",
       "    }\n",
       "\n",
       "    .dataframe tbody tr th {\n",
       "        vertical-align: top;\n",
       "    }\n",
       "\n",
       "    .dataframe thead th {\n",
       "        text-align: right;\n",
       "    }\n",
       "</style>\n",
       "<table border=\"1\" class=\"dataframe\">\n",
       "  <thead>\n",
       "    <tr style=\"text-align: right;\">\n",
       "      <th></th>\n",
       "      <th>Date</th>\n",
       "      <th>Year</th>\n",
       "      <th>t</th>\n",
       "      <th>Elevation</th>\n",
       "      <th>Change</th>\n",
       "      <th>Content</th>\n",
       "    </tr>\n",
       "  </thead>\n",
       "  <tbody>\n",
       "    <tr>\n",
       "      <th>0</th>\n",
       "      <td>1-Jan</td>\n",
       "      <td>2023</td>\n",
       "      <td>0</td>\n",
       "      <td>1044.91</td>\n",
       "      <td>0.09</td>\n",
       "      <td>7320000</td>\n",
       "    </tr>\n",
       "    <tr>\n",
       "      <th>1</th>\n",
       "      <td>2-Jan</td>\n",
       "      <td>2023</td>\n",
       "      <td>1</td>\n",
       "      <td>1044.95</td>\n",
       "      <td>0.04</td>\n",
       "      <td>7322530</td>\n",
       "    </tr>\n",
       "    <tr>\n",
       "      <th>2</th>\n",
       "      <td>3-Jan</td>\n",
       "      <td>2023</td>\n",
       "      <td>2</td>\n",
       "      <td>1044.99</td>\n",
       "      <td>0.04</td>\n",
       "      <td>7325000</td>\n",
       "    </tr>\n",
       "    <tr>\n",
       "      <th>3</th>\n",
       "      <td>4-Jan</td>\n",
       "      <td>2023</td>\n",
       "      <td>3</td>\n",
       "      <td>1044.97</td>\n",
       "      <td>-0.02</td>\n",
       "      <td>7324000</td>\n",
       "    </tr>\n",
       "    <tr>\n",
       "      <th>4</th>\n",
       "      <td>5-Jan</td>\n",
       "      <td>2023</td>\n",
       "      <td>4</td>\n",
       "      <td>1044.96</td>\n",
       "      <td>-0.01</td>\n",
       "      <td>7323000</td>\n",
       "    </tr>\n",
       "  </tbody>\n",
       "</table>\n",
       "</div>\n",
       "    <div class=\"colab-df-buttons\">\n",
       "\n",
       "  <div class=\"colab-df-container\">\n",
       "    <button class=\"colab-df-convert\" onclick=\"convertToInteractive('df-136e01bb-918d-45b1-95f0-231e869ffa62')\"\n",
       "            title=\"Convert this dataframe to an interactive table.\"\n",
       "            style=\"display:none;\">\n",
       "\n",
       "  <svg xmlns=\"http://www.w3.org/2000/svg\" height=\"24px\" viewBox=\"0 -960 960 960\">\n",
       "    <path d=\"M120-120v-720h720v720H120Zm60-500h600v-160H180v160Zm220 220h160v-160H400v160Zm0 220h160v-160H400v160ZM180-400h160v-160H180v160Zm440 0h160v-160H620v160ZM180-180h160v-160H180v160Zm440 0h160v-160H620v160Z\"/>\n",
       "  </svg>\n",
       "    </button>\n",
       "\n",
       "  <style>\n",
       "    .colab-df-container {\n",
       "      display:flex;\n",
       "      gap: 12px;\n",
       "    }\n",
       "\n",
       "    .colab-df-convert {\n",
       "      background-color: #E8F0FE;\n",
       "      border: none;\n",
       "      border-radius: 50%;\n",
       "      cursor: pointer;\n",
       "      display: none;\n",
       "      fill: #1967D2;\n",
       "      height: 32px;\n",
       "      padding: 0 0 0 0;\n",
       "      width: 32px;\n",
       "    }\n",
       "\n",
       "    .colab-df-convert:hover {\n",
       "      background-color: #E2EBFA;\n",
       "      box-shadow: 0px 1px 2px rgba(60, 64, 67, 0.3), 0px 1px 3px 1px rgba(60, 64, 67, 0.15);\n",
       "      fill: #174EA6;\n",
       "    }\n",
       "\n",
       "    .colab-df-buttons div {\n",
       "      margin-bottom: 4px;\n",
       "    }\n",
       "\n",
       "    [theme=dark] .colab-df-convert {\n",
       "      background-color: #3B4455;\n",
       "      fill: #D2E3FC;\n",
       "    }\n",
       "\n",
       "    [theme=dark] .colab-df-convert:hover {\n",
       "      background-color: #434B5C;\n",
       "      box-shadow: 0px 1px 3px 1px rgba(0, 0, 0, 0.15);\n",
       "      filter: drop-shadow(0px 1px 2px rgba(0, 0, 0, 0.3));\n",
       "      fill: #FFFFFF;\n",
       "    }\n",
       "  </style>\n",
       "\n",
       "    <script>\n",
       "      const buttonEl =\n",
       "        document.querySelector('#df-136e01bb-918d-45b1-95f0-231e869ffa62 button.colab-df-convert');\n",
       "      buttonEl.style.display =\n",
       "        google.colab.kernel.accessAllowed ? 'block' : 'none';\n",
       "\n",
       "      async function convertToInteractive(key) {\n",
       "        const element = document.querySelector('#df-136e01bb-918d-45b1-95f0-231e869ffa62');\n",
       "        const dataTable =\n",
       "          await google.colab.kernel.invokeFunction('convertToInteractive',\n",
       "                                                    [key], {});\n",
       "        if (!dataTable) return;\n",
       "\n",
       "        const docLinkHtml = 'Like what you see? Visit the ' +\n",
       "          '<a target=\"_blank\" href=https://colab.research.google.com/notebooks/data_table.ipynb>data table notebook</a>'\n",
       "          + ' to learn more about interactive tables.';\n",
       "        element.innerHTML = '';\n",
       "        dataTable['output_type'] = 'display_data';\n",
       "        await google.colab.output.renderOutput(dataTable, element);\n",
       "        const docLink = document.createElement('div');\n",
       "        docLink.innerHTML = docLinkHtml;\n",
       "        element.appendChild(docLink);\n",
       "      }\n",
       "    </script>\n",
       "  </div>\n",
       "\n",
       "\n",
       "<div id=\"df-0a19d238-37db-44ad-a4d1-c0012ad1bff0\">\n",
       "  <button class=\"colab-df-quickchart\" onclick=\"quickchart('df-0a19d238-37db-44ad-a4d1-c0012ad1bff0')\"\n",
       "            title=\"Suggest charts\"\n",
       "            style=\"display:none;\">\n",
       "\n",
       "<svg xmlns=\"http://www.w3.org/2000/svg\" height=\"24px\"viewBox=\"0 0 24 24\"\n",
       "     width=\"24px\">\n",
       "    <g>\n",
       "        <path d=\"M19 3H5c-1.1 0-2 .9-2 2v14c0 1.1.9 2 2 2h14c1.1 0 2-.9 2-2V5c0-1.1-.9-2-2-2zM9 17H7v-7h2v7zm4 0h-2V7h2v10zm4 0h-2v-4h2v4z\"/>\n",
       "    </g>\n",
       "</svg>\n",
       "  </button>\n",
       "\n",
       "<style>\n",
       "  .colab-df-quickchart {\n",
       "      --bg-color: #E8F0FE;\n",
       "      --fill-color: #1967D2;\n",
       "      --hover-bg-color: #E2EBFA;\n",
       "      --hover-fill-color: #174EA6;\n",
       "      --disabled-fill-color: #AAA;\n",
       "      --disabled-bg-color: #DDD;\n",
       "  }\n",
       "\n",
       "  [theme=dark] .colab-df-quickchart {\n",
       "      --bg-color: #3B4455;\n",
       "      --fill-color: #D2E3FC;\n",
       "      --hover-bg-color: #434B5C;\n",
       "      --hover-fill-color: #FFFFFF;\n",
       "      --disabled-bg-color: #3B4455;\n",
       "      --disabled-fill-color: #666;\n",
       "  }\n",
       "\n",
       "  .colab-df-quickchart {\n",
       "    background-color: var(--bg-color);\n",
       "    border: none;\n",
       "    border-radius: 50%;\n",
       "    cursor: pointer;\n",
       "    display: none;\n",
       "    fill: var(--fill-color);\n",
       "    height: 32px;\n",
       "    padding: 0;\n",
       "    width: 32px;\n",
       "  }\n",
       "\n",
       "  .colab-df-quickchart:hover {\n",
       "    background-color: var(--hover-bg-color);\n",
       "    box-shadow: 0 1px 2px rgba(60, 64, 67, 0.3), 0 1px 3px 1px rgba(60, 64, 67, 0.15);\n",
       "    fill: var(--button-hover-fill-color);\n",
       "  }\n",
       "\n",
       "  .colab-df-quickchart-complete:disabled,\n",
       "  .colab-df-quickchart-complete:disabled:hover {\n",
       "    background-color: var(--disabled-bg-color);\n",
       "    fill: var(--disabled-fill-color);\n",
       "    box-shadow: none;\n",
       "  }\n",
       "\n",
       "  .colab-df-spinner {\n",
       "    border: 2px solid var(--fill-color);\n",
       "    border-color: transparent;\n",
       "    border-bottom-color: var(--fill-color);\n",
       "    animation:\n",
       "      spin 1s steps(1) infinite;\n",
       "  }\n",
       "\n",
       "  @keyframes spin {\n",
       "    0% {\n",
       "      border-color: transparent;\n",
       "      border-bottom-color: var(--fill-color);\n",
       "      border-left-color: var(--fill-color);\n",
       "    }\n",
       "    20% {\n",
       "      border-color: transparent;\n",
       "      border-left-color: var(--fill-color);\n",
       "      border-top-color: var(--fill-color);\n",
       "    }\n",
       "    30% {\n",
       "      border-color: transparent;\n",
       "      border-left-color: var(--fill-color);\n",
       "      border-top-color: var(--fill-color);\n",
       "      border-right-color: var(--fill-color);\n",
       "    }\n",
       "    40% {\n",
       "      border-color: transparent;\n",
       "      border-right-color: var(--fill-color);\n",
       "      border-top-color: var(--fill-color);\n",
       "    }\n",
       "    60% {\n",
       "      border-color: transparent;\n",
       "      border-right-color: var(--fill-color);\n",
       "    }\n",
       "    80% {\n",
       "      border-color: transparent;\n",
       "      border-right-color: var(--fill-color);\n",
       "      border-bottom-color: var(--fill-color);\n",
       "    }\n",
       "    90% {\n",
       "      border-color: transparent;\n",
       "      border-bottom-color: var(--fill-color);\n",
       "    }\n",
       "  }\n",
       "</style>\n",
       "\n",
       "  <script>\n",
       "    async function quickchart(key) {\n",
       "      const quickchartButtonEl =\n",
       "        document.querySelector('#' + key + ' button');\n",
       "      quickchartButtonEl.disabled = true;  // To prevent multiple clicks.\n",
       "      quickchartButtonEl.classList.add('colab-df-spinner');\n",
       "      try {\n",
       "        const charts = await google.colab.kernel.invokeFunction(\n",
       "            'suggestCharts', [key], {});\n",
       "      } catch (error) {\n",
       "        console.error('Error during call to suggestCharts:', error);\n",
       "      }\n",
       "      quickchartButtonEl.classList.remove('colab-df-spinner');\n",
       "      quickchartButtonEl.classList.add('colab-df-quickchart-complete');\n",
       "    }\n",
       "    (() => {\n",
       "      let quickchartButtonEl =\n",
       "        document.querySelector('#df-0a19d238-37db-44ad-a4d1-c0012ad1bff0 button');\n",
       "      quickchartButtonEl.style.display =\n",
       "        google.colab.kernel.accessAllowed ? 'block' : 'none';\n",
       "    })();\n",
       "  </script>\n",
       "</div>\n",
       "\n",
       "    </div>\n",
       "  </div>\n"
      ],
      "text/plain": [
       "    Date  Year  t  Elevation  Change  Content\n",
       "0  1-Jan  2023  0    1044.91    0.09  7320000\n",
       "1  2-Jan  2023  1    1044.95    0.04  7322530\n",
       "2  3-Jan  2023  2    1044.99    0.04  7325000\n",
       "3  4-Jan  2023  3    1044.97   -0.02  7324000\n",
       "4  5-Jan  2023  4    1044.96   -0.01  7323000"
      ]
     },
     "execution_count": 6,
     "metadata": {},
     "output_type": "execute_result"
    }
   ],
   "source": [
    "######################################\n",
    "# Run to display first 5 rows of data\n",
    "######################################\n",
    "mead_23.head()"
   ]
  },
  {
   "cell_type": "markdown",
   "metadata": {
    "id": "IpewdCW6vEpF"
   },
   "source": [
    "<a name=\"q4\"></a>\n",
    "# Question 4\n",
    "\n",
    "---\n",
    "\n",
    "Let $f(t)$ be the elevation (in feet) of the water level of Lake Mead $t$ days after January 1, 2023.  Run the code cell below to create a plot of the water level elevation of the Lake Mead at the start of 2023. Then use the graph generated by the code below to answer the questions that follow.\n",
    "\n"
   ]
  },
  {
   "cell_type": "code",
   "execution_count": null,
   "metadata": {
    "colab": {
     "base_uri": "https://localhost:8080/",
     "height": 472
    },
    "executionInfo": {
     "elapsed": 578,
     "status": "ok",
     "timestamp": 1722595026878,
     "user": {
      "displayName": "Elliot Marks",
      "userId": "09138350388793527394"
     },
     "user_tz": -120
    },
    "id": "6-JvBpfLvEpC",
    "outputId": "80fad966-7e71-4697-ce52-783edec90918"
   },
   "outputs": [
    {
     "data": {
      "image/png": "[encoded data removed]",
      "text/plain": [
       "<Figure size 640x480 with 1 Axes>"
      ]
     },
     "metadata": {},
     "output_type": "display_data"
    }
   ],
   "source": [
    "##########################################################\n",
    "# Run code cell to generate plot of Lake Mead\n",
    "# water level elevations.\n",
    "# You do not need to edit any commands in this code cell.\n",
    "##########################################################\n",
    "\n",
    "############################################################\n",
    "# Plot t vs Elevation for First 100 days of 2023\n",
    "############################################################\n",
    "plt.plot(mead_23['t'],  # plot t on x-axis\n",
    "         mead_23['Elevation'],  # plot Elevation on y-axis\n",
    "         color ='red')  # plot curve in red\n",
    "\n",
    "###############\n",
    "# Plot options\n",
    "###############\n",
    "plt.title('2023 Lake Mead Water Level')  # main plot label\n",
    "plt.xlabel('t, days since Jan. 1, 2023')  # label on x-axis\n",
    "plt.ylabel('Elevation (in feet)')  # label for the y-axis\n",
    "plt.xticks(np.arange(0, 101, step=5))  # Set ticks on x-axis\n",
    "plt.xlim(0, 100)  # set range on x-axis to plot first 101 days of 2023\n",
    "plt.ylim(1044.7, 1047.8)  # set range on y-axis\n",
    "plt.grid(True)  # add grid to plot\n",
    "\n",
    "# Display the plot\n",
    "plt.show()"
   ]
  },
  {
   "cell_type": "markdown",
   "metadata": {
    "id": "xAAJyRxaVGQt"
   },
   "source": [
    "<a name=\"q4a\"></a>\n",
    "## Question 4a\n",
    "\n",
    "---\n",
    "\n",
    "Based on the graph above, rank the values $f(25)$, $f(40)$, and $f(65)$ in order from largest to smallest. Explain how you determined your answer.\n",
    "\n",
    "\n",
    "\n"
   ]
  },
  {
   "cell_type": "markdown",
   "metadata": {
    "id": "zFfQFnb_hUIN"
   },
   "source": [
    "### Solution to Question 4a\n",
    "\n",
    "---\n",
    "\n",
    "1. The largest value is <mark>$f(??)$</mark>.\n",
    "2. The second largest value is <mark>$f(??)$</mark>.\n",
    "3. The smallest value is <mark>$f(??)$</mark>.\n",
    "\n",
    "<br>  \n",
    "\n",
    "Briefly explain how you determined your rankings in the space below.\n",
    "\n",
    "\n",
    "\n",
    "\n",
    "<br>  \n",
    "<br>  \n"
   ]
  },
  {
   "cell_type": "markdown",
   "metadata": {
    "id": "Co8x5EgBszdC"
   },
   "source": [
    "<a name=\"q4b\"></a>\n",
    "## Question 4b\n",
    "\n",
    "---\n",
    "\n",
    "Use the dataframe `mead_23` and the `loc` function to extract the values of $f(25)$, $f(40)$ and $f(65)$ in each of the three code cells below and confirm your answer to [Question 4a](#q4a).\n"
   ]
  },
  {
   "cell_type": "markdown",
   "metadata": {
    "id": "D3ZCl22ktQHw"
   },
   "source": [
    "### Solution to Question 4b\n",
    "\n",
    "---\n",
    "\n",
    "Replace the `??` in each code cell below with a corresponding row index to display the values $f(25)$, $f(40)$, and $f(65)$, respectively.\n",
    "\n"
   ]
  },
  {
   "cell_type": "code",
   "execution_count": null,
   "metadata": {
    "id": "FZjHxl9yty-u"
   },
   "outputs": [],
   "source": [
    "##########################################\n",
    "# Replace ?? with a row index.\n",
    "# Then run to display the value of f(25).\n",
    "##########################################\n",
    "mead_23.loc[??, 'Elevation']"
   ]
  },
  {
   "cell_type": "code",
   "execution_count": null,
   "metadata": {
    "id": "OQF1n8xouSXu"
   },
   "outputs": [],
   "source": [
    "##########################################\n",
    "# Replace ?? with a row index.\n",
    "# Then run to display the value of f(40).\n",
    "##########################################\n",
    "mead_23.loc[??, 'Elevation']"
   ]
  },
  {
   "cell_type": "code",
   "execution_count": null,
   "metadata": {
    "id": "3WUJ0_2wuSgH"
   },
   "outputs": [],
   "source": [
    "##########################################\n",
    "# Replace ?? with a row index.\n",
    "# Then run to display the value of f(65).\n",
    "##########################################\n",
    "mead_23.loc[??, 'Elevation']"
   ]
  },
  {
   "cell_type": "markdown",
   "metadata": {
    "id": "IKgf-De0VEOm"
   },
   "source": [
    "<a name=\"q4c\"></a>\n",
    "## Question 4c\n",
    "\n",
    "---\n",
    "\n",
    "Based on the graph above, rank the values $f'(25)$, $f'(40)$, and $f'(65)$ in order from largest to smallest. Explain how you determined your answer.\n",
    "\n",
    "\n",
    "\n"
   ]
  },
  {
   "cell_type": "markdown",
   "metadata": {
    "id": "5lBiaFYhhhk_"
   },
   "source": [
    "<a name=\"sol4c\"></a>\n",
    "### Solution to Question 4c\n",
    "\n",
    "---\n",
    "\n",
    "1. The largest value is <mark>$f'(??)$</mark>.\n",
    "2. The second largest value is <mark>$f'(??)$</mark>.\n",
    "3. The smallest value is <mark>$f'(??)$</mark>.\n",
    "\n",
    "<br>  \n",
    "\n",
    "Briefly explain how you determined your rankings in the space below.\n",
    "\n",
    "\n",
    "\n",
    "\n",
    "<br>  \n",
    "<br>  \n",
    "\n"
   ]
  },
  {
   "cell_type": "markdown",
   "metadata": {
    "id": "ptyXUAObvCIf"
   },
   "source": [
    "# Numerical Differentiation in Python\n",
    "\n",
    "---\n",
    "\n",
    "\n",
    "\n",
    "Graphs are useful for identifying important features and patterns, but we are typically limited in how accurately we can approximate values such as $f'(25)$. We can obtain more accurate approximations using the precise values for the water-level elevations stored in the dataframe `mead_23`.\n",
    "\n",
    "Run the command `mead_23.loc[25:35]` in the code cell below to display data from `mead_23` in rows starting at index `25` up to and including index `35`.\n"
   ]
  },
  {
   "cell_type": "code",
   "execution_count": null,
   "metadata": {
    "colab": {
     "base_uri": "https://localhost:8080/",
     "height": 394
    },
    "executionInfo": {
     "elapsed": 393,
     "status": "ok",
     "timestamp": 1722604783940,
     "user": {
      "displayName": "Elliot Marks",
      "userId": "09138350388793527394"
     },
     "user_tz": -120
    },
    "id": "joDacltnwAg9",
    "outputId": "48452b6b-420d-4980-e19b-45053fc7c3cc"
   },
   "outputs": [
    {
     "data": {
      "application/vnd.google.colaboratory.intrinsic+json": {
       "summary": "{\n  \"name\": \"mead_23\",\n  \"rows\": 11,\n  \"fields\": [\n    {\n      \"column\": \"Date\",\n      \"properties\": {\n        \"dtype\": \"string\",\n        \"num_unique_values\": 11,\n        \"samples\": [\n          \"31-Jan\",\n          \"26-Jan\",\n          \"4-Feb\"\n        ],\n        \"semantic_type\": \"\",\n        \"description\": \"\"\n      }\n    },\n    {\n      \"column\": \"Year\",\n      \"properties\": {\n        \"dtype\": \"number\",\n        \"std\": 0,\n        \"min\": 2023,\n        \"max\": 2023,\n        \"num_unique_values\": 1,\n        \"samples\": [\n          2023\n        ],\n        \"semantic_type\": \"\",\n        \"description\": \"\"\n      }\n    },\n    {\n      \"column\": \"t\",\n      \"properties\": {\n        \"dtype\": \"number\",\n        \"std\": 3,\n        \"min\": 25,\n        \"max\": 35,\n        \"num_unique_values\": 11,\n        \"samples\": [\n          30\n        ],\n        \"semantic_type\": \"\",\n        \"description\": \"\"\n      }\n    },\n    {\n      \"column\": \"Elevation\",\n      \"properties\": {\n        \"dtype\": \"number\",\n        \"std\": 0.22795932651564152,\n        \"min\": 1046.3,\n        \"max\": 1046.98,\n        \"num_unique_values\": 10,\n        \"samples\": [\n          1046.98\n        ],\n        \"semantic_type\": \"\",\n        \"description\": \"\"\n      }\n    },\n    {\n      \"column\": \"Change\",\n      \"properties\": {\n        \"dtype\": \"number\",\n        \"std\": 0.08423991711987636,\n        \"min\": -0.07,\n        \"max\": 0.19,\n        \"num_unique_values\": 9,\n        \"samples\": [\n          0.04\n        ],\n        \"semantic_type\": \"\",\n        \"description\": \"\"\n      }\n    },\n    {\n      \"column\": \"Content\",\n      \"properties\": {\n        \"dtype\": \"number\",\n        \"std\": 16178,\n        \"min\": 7418000,\n        \"max\": 7466000,\n        \"num_unique_values\": 9,\n        \"samples\": [\n          7466000\n        ],\n        \"semantic_type\": \"\",\n        \"description\": \"\"\n      }\n    }\n  ]\n}",
       "type": "dataframe"
      },
      "text/html": [
       "\n",
       "  <div id=\"df-492842e8-51b3-4cbd-abff-08dc8f7e090b\" class=\"colab-df-container\">\n",
       "    <div>\n",
       "<style scoped>\n",
       "    .dataframe tbody tr th:only-of-type {\n",
       "        vertical-align: middle;\n",
       "    }\n",
       "\n",
       "    .dataframe tbody tr th {\n",
       "        vertical-align: top;\n",
       "    }\n",
       "\n",
       "    .dataframe thead th {\n",
       "        text-align: right;\n",
       "    }\n",
       "</style>\n",
       "<table border=\"1\" class=\"dataframe\">\n",
       "  <thead>\n",
       "    <tr style=\"text-align: right;\">\n",
       "      <th></th>\n",
       "      <th>Date</th>\n",
       "      <th>Year</th>\n",
       "      <th>t</th>\n",
       "      <th>Elevation</th>\n",
       "      <th>Change</th>\n",
       "      <th>Content</th>\n",
       "    </tr>\n",
       "  </thead>\n",
       "  <tbody>\n",
       "    <tr>\n",
       "      <th>25</th>\n",
       "      <td>26-Jan</td>\n",
       "      <td>2023</td>\n",
       "      <td>25</td>\n",
       "      <td>1046.30</td>\n",
       "      <td>0.14</td>\n",
       "      <td>7418000</td>\n",
       "    </tr>\n",
       "    <tr>\n",
       "      <th>26</th>\n",
       "      <td>27-Jan</td>\n",
       "      <td>2023</td>\n",
       "      <td>26</td>\n",
       "      <td>1046.49</td>\n",
       "      <td>0.19</td>\n",
       "      <td>7432000</td>\n",
       "    </tr>\n",
       "    <tr>\n",
       "      <th>27</th>\n",
       "      <td>28-Jan</td>\n",
       "      <td>2023</td>\n",
       "      <td>27</td>\n",
       "      <td>1046.63</td>\n",
       "      <td>0.14</td>\n",
       "      <td>7441000</td>\n",
       "    </tr>\n",
       "    <tr>\n",
       "      <th>28</th>\n",
       "      <td>29-Jan</td>\n",
       "      <td>2023</td>\n",
       "      <td>28</td>\n",
       "      <td>1046.74</td>\n",
       "      <td>0.11</td>\n",
       "      <td>7449000</td>\n",
       "    </tr>\n",
       "    <tr>\n",
       "      <th>29</th>\n",
       "      <td>30-Jan</td>\n",
       "      <td>2023</td>\n",
       "      <td>29</td>\n",
       "      <td>1046.88</td>\n",
       "      <td>0.14</td>\n",
       "      <td>7459000</td>\n",
       "    </tr>\n",
       "    <tr>\n",
       "      <th>30</th>\n",
       "      <td>31-Jan</td>\n",
       "      <td>2023</td>\n",
       "      <td>30</td>\n",
       "      <td>1046.97</td>\n",
       "      <td>0.09</td>\n",
       "      <td>7465634</td>\n",
       "    </tr>\n",
       "    <tr>\n",
       "      <th>31</th>\n",
       "      <td>1-Feb</td>\n",
       "      <td>2023</td>\n",
       "      <td>31</td>\n",
       "      <td>1046.95</td>\n",
       "      <td>-0.02</td>\n",
       "      <td>7464000</td>\n",
       "    </tr>\n",
       "    <tr>\n",
       "      <th>32</th>\n",
       "      <td>2-Feb</td>\n",
       "      <td>2023</td>\n",
       "      <td>32</td>\n",
       "      <td>1046.94</td>\n",
       "      <td>-0.01</td>\n",
       "      <td>7464000</td>\n",
       "    </tr>\n",
       "    <tr>\n",
       "      <th>33</th>\n",
       "      <td>3-Feb</td>\n",
       "      <td>2023</td>\n",
       "      <td>33</td>\n",
       "      <td>1046.94</td>\n",
       "      <td>0.00</td>\n",
       "      <td>7464000</td>\n",
       "    </tr>\n",
       "    <tr>\n",
       "      <th>34</th>\n",
       "      <td>4-Feb</td>\n",
       "      <td>2023</td>\n",
       "      <td>34</td>\n",
       "      <td>1046.98</td>\n",
       "      <td>0.04</td>\n",
       "      <td>7466000</td>\n",
       "    </tr>\n",
       "    <tr>\n",
       "      <th>35</th>\n",
       "      <td>5-Feb</td>\n",
       "      <td>2023</td>\n",
       "      <td>35</td>\n",
       "      <td>1046.91</td>\n",
       "      <td>-0.07</td>\n",
       "      <td>7461000</td>\n",
       "    </tr>\n",
       "  </tbody>\n",
       "</table>\n",
       "</div>\n",
       "    <div class=\"colab-df-buttons\">\n",
       "\n",
       "  <div class=\"colab-df-container\">\n",
       "    <button class=\"colab-df-convert\" onclick=\"convertToInteractive('df-492842e8-51b3-4cbd-abff-08dc8f7e090b')\"\n",
       "            title=\"Convert this dataframe to an interactive table.\"\n",
       "            style=\"display:none;\">\n",
       "\n",
       "  <svg xmlns=\"http://www.w3.org/2000/svg\" height=\"24px\" viewBox=\"0 -960 960 960\">\n",
       "    <path d=\"M120-120v-720h720v720H120Zm60-500h600v-160H180v160Zm220 220h160v-160H400v160Zm0 220h160v-160H400v160ZM180-400h160v-160H180v160Zm440 0h160v-160H620v160ZM180-180h160v-160H180v160Zm440 0h160v-160H620v160Z\"/>\n",
       "  </svg>\n",
       "    </button>\n",
       "\n",
       "  <style>\n",
       "    .colab-df-container {\n",
       "      display:flex;\n",
       "      gap: 12px;\n",
       "    }\n",
       "\n",
       "    .colab-df-convert {\n",
       "      background-color: #E8F0FE;\n",
       "      border: none;\n",
       "      border-radius: 50%;\n",
       "      cursor: pointer;\n",
       "      display: none;\n",
       "      fill: #1967D2;\n",
       "      height: 32px;\n",
       "      padding: 0 0 0 0;\n",
       "      width: 32px;\n",
       "    }\n",
       "\n",
       "    .colab-df-convert:hover {\n",
       "      background-color: #E2EBFA;\n",
       "      box-shadow: 0px 1px 2px rgba(60, 64, 67, 0.3), 0px 1px 3px 1px rgba(60, 64, 67, 0.15);\n",
       "      fill: #174EA6;\n",
       "    }\n",
       "\n",
       "    .colab-df-buttons div {\n",
       "      margin-bottom: 4px;\n",
       "    }\n",
       "\n",
       "    [theme=dark] .colab-df-convert {\n",
       "      background-color: #3B4455;\n",
       "      fill: #D2E3FC;\n",
       "    }\n",
       "\n",
       "    [theme=dark] .colab-df-convert:hover {\n",
       "      background-color: #434B5C;\n",
       "      box-shadow: 0px 1px 3px 1px rgba(0, 0, 0, 0.15);\n",
       "      filter: drop-shadow(0px 1px 2px rgba(0, 0, 0, 0.3));\n",
       "      fill: #FFFFFF;\n",
       "    }\n",
       "  </style>\n",
       "\n",
       "    <script>\n",
       "      const buttonEl =\n",
       "        document.querySelector('#df-492842e8-51b3-4cbd-abff-08dc8f7e090b button.colab-df-convert');\n",
       "      buttonEl.style.display =\n",
       "        google.colab.kernel.accessAllowed ? 'block' : 'none';\n",
       "\n",
       "      async function convertToInteractive(key) {\n",
       "        const element = document.querySelector('#df-492842e8-51b3-4cbd-abff-08dc8f7e090b');\n",
       "        const dataTable =\n",
       "          await google.colab.kernel.invokeFunction('convertToInteractive',\n",
       "                                                    [key], {});\n",
       "        if (!dataTable) return;\n",
       "\n",
       "        const docLinkHtml = 'Like what you see? Visit the ' +\n",
       "          '<a target=\"_blank\" href=https://colab.research.google.com/notebooks/data_table.ipynb>data table notebook</a>'\n",
       "          + ' to learn more about interactive tables.';\n",
       "        element.innerHTML = '';\n",
       "        dataTable['output_type'] = 'display_data';\n",
       "        await google.colab.output.renderOutput(dataTable, element);\n",
       "        const docLink = document.createElement('div');\n",
       "        docLink.innerHTML = docLinkHtml;\n",
       "        element.appendChild(docLink);\n",
       "      }\n",
       "    </script>\n",
       "  </div>\n",
       "\n",
       "\n",
       "<div id=\"df-6f517636-5970-4f9c-8890-915dd508409c\">\n",
       "  <button class=\"colab-df-quickchart\" onclick=\"quickchart('df-6f517636-5970-4f9c-8890-915dd508409c')\"\n",
       "            title=\"Suggest charts\"\n",
       "            style=\"display:none;\">\n",
       "\n",
       "<svg xmlns=\"http://www.w3.org/2000/svg\" height=\"24px\"viewBox=\"0 0 24 24\"\n",
       "     width=\"24px\">\n",
       "    <g>\n",
       "        <path d=\"M19 3H5c-1.1 0-2 .9-2 2v14c0 1.1.9 2 2 2h14c1.1 0 2-.9 2-2V5c0-1.1-.9-2-2-2zM9 17H7v-7h2v7zm4 0h-2V7h2v10zm4 0h-2v-4h2v4z\"/>\n",
       "    </g>\n",
       "</svg>\n",
       "  </button>\n",
       "\n",
       "<style>\n",
       "  .colab-df-quickchart {\n",
       "      --bg-color: #E8F0FE;\n",
       "      --fill-color: #1967D2;\n",
       "      --hover-bg-color: #E2EBFA;\n",
       "      --hover-fill-color: #174EA6;\n",
       "      --disabled-fill-color: #AAA;\n",
       "      --disabled-bg-color: #DDD;\n",
       "  }\n",
       "\n",
       "  [theme=dark] .colab-df-quickchart {\n",
       "      --bg-color: #3B4455;\n",
       "      --fill-color: #D2E3FC;\n",
       "      --hover-bg-color: #434B5C;\n",
       "      --hover-fill-color: #FFFFFF;\n",
       "      --disabled-bg-color: #3B4455;\n",
       "      --disabled-fill-color: #666;\n",
       "  }\n",
       "\n",
       "  .colab-df-quickchart {\n",
       "    background-color: var(--bg-color);\n",
       "    border: none;\n",
       "    border-radius: 50%;\n",
       "    cursor: pointer;\n",
       "    display: none;\n",
       "    fill: var(--fill-color);\n",
       "    height: 32px;\n",
       "    padding: 0;\n",
       "    width: 32px;\n",
       "  }\n",
       "\n",
       "  .colab-df-quickchart:hover {\n",
       "    background-color: var(--hover-bg-color);\n",
       "    box-shadow: 0 1px 2px rgba(60, 64, 67, 0.3), 0 1px 3px 1px rgba(60, 64, 67, 0.15);\n",
       "    fill: var(--button-hover-fill-color);\n",
       "  }\n",
       "\n",
       "  .colab-df-quickchart-complete:disabled,\n",
       "  .colab-df-quickchart-complete:disabled:hover {\n",
       "    background-color: var(--disabled-bg-color);\n",
       "    fill: var(--disabled-fill-color);\n",
       "    box-shadow: none;\n",
       "  }\n",
       "\n",
       "  .colab-df-spinner {\n",
       "    border: 2px solid var(--fill-color);\n",
       "    border-color: transparent;\n",
       "    border-bottom-color: var(--fill-color);\n",
       "    animation:\n",
       "      spin 1s steps(1) infinite;\n",
       "  }\n",
       "\n",
       "  @keyframes spin {\n",
       "    0% {\n",
       "      border-color: transparent;\n",
       "      border-bottom-color: var(--fill-color);\n",
       "      border-left-color: var(--fill-color);\n",
       "    }\n",
       "    20% {\n",
       "      border-color: transparent;\n",
       "      border-left-color: var(--fill-color);\n",
       "      border-top-color: var(--fill-color);\n",
       "    }\n",
       "    30% {\n",
       "      border-color: transparent;\n",
       "      border-left-color: var(--fill-color);\n",
       "      border-top-color: var(--fill-color);\n",
       "      border-right-color: var(--fill-color);\n",
       "    }\n",
       "    40% {\n",
       "      border-color: transparent;\n",
       "      border-right-color: var(--fill-color);\n",
       "      border-top-color: var(--fill-color);\n",
       "    }\n",
       "    60% {\n",
       "      border-color: transparent;\n",
       "      border-right-color: var(--fill-color);\n",
       "    }\n",
       "    80% {\n",
       "      border-color: transparent;\n",
       "      border-right-color: var(--fill-color);\n",
       "      border-bottom-color: var(--fill-color);\n",
       "    }\n",
       "    90% {\n",
       "      border-color: transparent;\n",
       "      border-bottom-color: var(--fill-color);\n",
       "    }\n",
       "  }\n",
       "</style>\n",
       "\n",
       "  <script>\n",
       "    async function quickchart(key) {\n",
       "      const quickchartButtonEl =\n",
       "        document.querySelector('#' + key + ' button');\n",
       "      quickchartButtonEl.disabled = true;  // To prevent multiple clicks.\n",
       "      quickchartButtonEl.classList.add('colab-df-spinner');\n",
       "      try {\n",
       "        const charts = await google.colab.kernel.invokeFunction(\n",
       "            'suggestCharts', [key], {});\n",
       "      } catch (error) {\n",
       "        console.error('Error during call to suggestCharts:', error);\n",
       "      }\n",
       "      quickchartButtonEl.classList.remove('colab-df-spinner');\n",
       "      quickchartButtonEl.classList.add('colab-df-quickchart-complete');\n",
       "    }\n",
       "    (() => {\n",
       "      let quickchartButtonEl =\n",
       "        document.querySelector('#df-6f517636-5970-4f9c-8890-915dd508409c button');\n",
       "      quickchartButtonEl.style.display =\n",
       "        google.colab.kernel.accessAllowed ? 'block' : 'none';\n",
       "    })();\n",
       "  </script>\n",
       "</div>\n",
       "\n",
       "    </div>\n",
       "  </div>\n"
      ],
      "text/plain": [
       "      Date  Year   t  Elevation  Change  Content\n",
       "25  26-Jan  2023  25    1046.30    0.14  7418000\n",
       "26  27-Jan  2023  26    1046.49    0.19  7432000\n",
       "27  28-Jan  2023  27    1046.63    0.14  7441000\n",
       "28  29-Jan  2023  28    1046.74    0.11  7449000\n",
       "29  30-Jan  2023  29    1046.88    0.14  7459000\n",
       "30  31-Jan  2023  30    1046.97    0.09  7465634\n",
       "31   1-Feb  2023  31    1046.95   -0.02  7464000\n",
       "32   2-Feb  2023  32    1046.94   -0.01  7464000\n",
       "33   3-Feb  2023  33    1046.94    0.00  7464000\n",
       "34   4-Feb  2023  34    1046.98    0.04  7466000\n",
       "35   5-Feb  2023  35    1046.91   -0.07  7461000"
      ]
     },
     "execution_count": 13,
     "metadata": {},
     "output_type": "execute_result"
    }
   ],
   "source": [
    "###############################\n",
    "# Run to display rows 25 to 35\n",
    "###############################\n",
    "mead_23.loc[25:35]"
   ]
  },
  {
   "cell_type": "markdown",
   "metadata": {
    "id": "TCZtLtK5wrD5"
   },
   "source": [
    "<a name=\"q5\"></a>\n",
    "# Question 5\n",
    "\n",
    "---\n",
    "\n",
    "Let $f(t)$ be the elevation (in feet) of the water level of Lake Mead $t$ days after January 1, 2023.  If needed, refer to the table from the output above to help answer the question related to the average rate of change of $f$ from $t=25$ to $t=35$.\n",
    "\n",
    "\n"
   ]
  },
  {
   "cell_type": "markdown",
   "metadata": {
    "id": "8KhG2s76xks9"
   },
   "source": [
    "<a name=\"q5a\"></a>\n",
    "## Question 5a\n",
    "\n",
    "---\n",
    "\n",
    "\n",
    "Compute the average rate of change of the water level elevation of Lake Mead over the interval from $t=25$ to $t=35$.\n",
    "\n",
    "- Replace each `??` in the first code cell below with an appropriate row index or column label to extract relevant values from the dataframe `mead_23`.\n",
    "- Use the table above to verify the output of the commands of the first code cell before moving on.\n",
    "- In the second code cell below, replace each `??` with either  `t_start_q5`, `t_end_q5`, `f_start_q5` or `f_end_q5` to compute the average rate of change of $f$ over the interval from $t=25$ to $t=35$.\n",
    "\n",
    "<br>  \n",
    "\n",
    "*Hint: The average rate of change of $f$ over the interval from $t=a$ to $t=b$ is given by the formula $\\dfrac{f(b) - f(a)}{b-a}$.*"
   ]
  },
  {
   "cell_type": "markdown",
   "metadata": {
    "id": "gcR-bQQ02p7f"
   },
   "source": [
    "### Solution to Question 5a\n",
    "\n",
    "---\n"
   ]
  },
  {
   "cell_type": "code",
   "execution_count": null,
   "metadata": {
    "id": "unEkRlh70Cvk"
   },
   "outputs": [],
   "source": [
    "########################################################\n",
    "# Replace each ?? with an index value or column label.\n",
    "########################################################\n",
    "# Extract start and end values of t\n",
    "t_start_q5 = mead_23.loc[??, '??']  # start time\n",
    "t_end_q5 = mead_23.loc[??, '??']  # end time\n",
    "\n",
    "# Extract corresponding start and end water level elevations\n",
    "f_start_q5 = mead_23.loc[??, '??']  # elevation at start time\n",
    "f_end_q5 = mead_23.loc[??, '??']  # elevation at end time\n",
    "\n",
    "print(\"The start time is t=\", t_start_q5,\n",
    "      \"and the starting elevation is f(25)=\", f_start_q5,\n",
    "      \"\\nThe end time is t=\", t_end_q5,\n",
    "      \"and the ending elevation is f(35)=\", f_end_q5)"
   ]
  },
  {
   "cell_type": "code",
   "execution_count": null,
   "metadata": {
    "id": "ufyiyk7r0Dmn"
   },
   "outputs": [],
   "source": [
    "#################################################################\n",
    "# Replace each ?? with either t_start_q5, t_end_q5,\n",
    "# f_start_q5, or f_end_q5 to compute the average rate of change.\n",
    "#################################################################\n",
    "( ?? - ?? ) / ( ?? - ?? )  # average rate of change"
   ]
  },
  {
   "cell_type": "markdown",
   "metadata": {
    "id": "kgOW3ziH2kD4"
   },
   "source": [
    "<a name=\"q5b\"></a>\n",
    "## Question 5b\n",
    "\n",
    "---\n",
    "\n",
    "Interpret the practical meaning of the output of the previous code cell.\n",
    "\n",
    "\n",
    "\n"
   ]
  },
  {
   "cell_type": "markdown",
   "metadata": {
    "id": "1AQlfKDL20WQ"
   },
   "source": [
    "### Solution to Question 5b\n",
    "\n",
    "---\n",
    "\n",
    "Type your interpretation in the space below. Be sure to include units in your interpretation.\n",
    "\n",
    "\n",
    "\n",
    "\n",
    "<br>  \n",
    "<br>  \n"
   ]
  },
  {
   "cell_type": "markdown",
   "metadata": {
    "id": "VFD-bu9_7jID"
   },
   "source": [
    "<a name=\"q5c\"></a>\n",
    "## Question 5c\n",
    "\n",
    "---\n",
    "\n",
    "\n",
    "Explain how you can illustrate the the average rate of change in Question 5a on the graph in the plot above.\n",
    "\n",
    "\n"
   ]
  },
  {
   "cell_type": "markdown",
   "metadata": {
    "id": "PJSdO2zZ8rIy"
   },
   "source": [
    "### Solution to Question 5c\n",
    "\n",
    "---\n",
    "\n",
    "Type your answer in the space below.\n",
    "\n",
    "\n",
    "\n",
    "\n",
    "\n",
    "\n",
    "\n",
    "<br>  \n",
    "<br>  "
   ]
  },
  {
   "cell_type": "markdown",
   "metadata": {
    "id": "wbqEt4Nl4oVa"
   },
   "source": [
    "# An Important Caution With the `row_index`\n",
    "\n",
    "---\n",
    "\n",
    "In [Question 5](#q5), the values of the `row_index` and variable `t` are identical. This is not generally the case. For example, suppose the 2023 Lake Mead data over the period from $t=25$ to $t=35$ is stored in a dataframe with the following indices:\n",
    "\n",
    "| Index |Date | Year | t | Elevation | Change | Content |\n",
    "|---|---|---|---|---|---|---|\n",
    "| 1121|26-Jan|2023|25|1046\\.3|0\\.14|7418000|\n",
    "| 1122| 27-Jan  |2023|26|1046\\.49|0\\.19|7432000|\n",
    "| 1123|28-Jan|2023|27|1046\\.63|0\\.14|7441000|\n",
    "| 1124|29-Jan|2023|28|1046\\.74|0\\.11|7449000|\n",
    "| 1125|30-Jan|2023|29|1046\\.88|0\\.14|7459000|\n",
    "| 1126|31-Jan|2023|30|1046\\.97|0\\.09|7465634|\n",
    "| 1127|1-Feb|2023|31|1046\\.95|-0\\.02|7464000|\n",
    "| 1128|2-Feb|2023|32|1046\\.94|-0\\.01|7464000|\n",
    "| 1129|3-Feb|2023|33|1046\\.94|0\\.0|7464000|\n",
    "| 1130|4-Feb|2023|34|1046\\.98|0\\.04|7466000|\n",
    "|1131|5-Feb|2023|35|1046\\.91|-0\\.07|7461000|\n",
    "\n",
    "<br>  \n",
    "\n",
    "Then we could calculate the average rate of change of the water level evelvation from $t=25$ to $t=35$ by identifing the relevant row indices as follows:\n",
    "\n",
    "- At $\\color{dodgerblue}{t=25}$, the time and water level elevation $\\color{dodgerblue}{f(25)}$ would both sliced using the row index $\\color{dodgerblue}{1121}$.\n",
    "- At $\\color{tomato}{t=35}$, the time $t$ and water level elevation $\\color{tomato}{f(35)}$ would both be sliced using the row index $\\color{tomato}{1131}$.\n"
   ]
  },
  {
   "cell_type": "markdown",
   "metadata": {
    "id": "QpVLk7SK9FDx"
   },
   "source": [
    "<a name=\"q6\"></a>\n",
    "# Question 6\n",
    "\n",
    "---\n",
    "\n",
    "Let $f(t)$ be the elevation (in feet) of the water level of Lake Mead $t$ days after January 1, 2023.  If needed, refer to the table below to help answer the question related to the average rate of change of $f$ from $\\color{dodgerblue}{t=25}$ to $\\color{tomato}{t=30}$.\n",
    "\n",
    "\n",
    "| |Date|Year|t|Elevation|Change|Content|\n",
    "|---|---|---|---|---|---|---|\n",
    "|25|26-Jan|2023|25|1046\\.3|0\\.14|7418000|\n",
    "|26|27-Jan|2023|26|1046\\.49|0\\.19|7432000|\n",
    "|27|28-Jan|2023|27|1046\\.63|0\\.14|7441000|\n",
    "|28|29-Jan|2023|28|1046\\.74|0\\.11|7449000|\n",
    "|29|30-Jan|2023|29|1046\\.88|0\\.14|7459000|\n",
    "|30|31-Jan|2023|30|1046\\.97|0\\.09|7465634|\n",
    "|31|1-Feb|2023|31|1046\\.95|-0\\.02|7464000|\n",
    "|32|2-Feb|2023|32|1046\\.94|-0\\.01|7464000|\n",
    "|33|3-Feb|2023|33|1046\\.94|0\\.0|7464000|\n",
    "|34|4-Feb|2023|34|1046\\.98|0\\.04|7466000|\n",
    "|35|5-Feb|2023|35|1046\\.91|-0\\.07|7461000|\n"
   ]
  },
  {
   "cell_type": "markdown",
   "metadata": {
    "id": "Sb2UeNH19FD-"
   },
   "source": [
    "<a name=\"q6a\"></a>\n",
    "## Question 6a\n",
    "\n",
    "---\n",
    "\n",
    "\n",
    "Compute the average rate of change of the water level elevation of Lake Mead over the interval from $\\color{dodgerblue}{t=25}$ to $\\color{tomato}{t=30}$.\n",
    "\n",
    "- Replace each `??` in the first code cell below with an appropriate row index or column label to extract relevant values from the dataframe `mead_23`.\n",
    "- Use the table above to verify the output of the commands of the first code cell before moving on.\n",
    "- In the second code cell below, replace each `??` with either  `t_start_q6`, `t_end_q6`, `f_start_q6` or `f_end_q6` to compute the average rate of change of $f$ over the interval from $t=25$ to $t=30$.\n",
    "\n",
    "<br>  \n",
    "\n",
    "*Hint: The average rate of change of $f$ over the interval from $t=a$ to $t=b$ is given by the formula $\\dfrac{f(b) - f(a)}{b-a}$.*"
   ]
  },
  {
   "cell_type": "markdown",
   "metadata": {
    "id": "TsNPp2Y99FD-"
   },
   "source": [
    "### Solution to Question 6a\n",
    "\n",
    "---\n"
   ]
  },
  {
   "cell_type": "code",
   "execution_count": null,
   "metadata": {
    "id": "N8LRBUcI9FD-"
   },
   "outputs": [],
   "source": [
    "######################################################\n",
    "# Replace each ?? with an index value or column label\n",
    "######################################################\n",
    "\n",
    "# Extract start and end values of t\n",
    "t_start_q6 = mead_23.loc[??, '??']  # start time\n",
    "t_end_q6 = mead_23.loc[??, '??']  # end time\n",
    "\n",
    "# Extract corresponding start and end water level elevations\n",
    "f_start_q6 = mead_23.loc[??, '??']  # elevation at start time\n",
    "f_end_q6 = mead_23.loc[??, '??']  # elevation at end time\n",
    "\n",
    "print(\"The start time is t=\", t_start_q6,\n",
    "      \"and the starting elevation is f(25)=\", f_start_q6,\n",
    "      \"\\nThe end time is t=\", t_end_q6,\n",
    "      \"and the ending elevation is f(30)=\", f_end_q6)"
   ]
  },
  {
   "cell_type": "code",
   "execution_count": null,
   "metadata": {
    "id": "c5OgM25P9FD_"
   },
   "outputs": [],
   "source": [
    "################################################################\n",
    "# Replace each ?? with either t_start_q6, t_end_q6,\n",
    "# f_start_q6, or f_end_q6 to compute the average rate of change\n",
    "################################################################\n",
    "( ?? - ?? ) / ( ?? - ?? )  # average rate of change"
   ]
  },
  {
   "cell_type": "markdown",
   "metadata": {
    "id": "nvMYlUGY9FEA"
   },
   "source": [
    "<a name=\"q6b\"></a>\n",
    "## Question 6b\n",
    "\n",
    "---\n",
    "\n",
    "Interpret the practical meaning of the output of the previous code cell.\n",
    "\n",
    "\n",
    "\n"
   ]
  },
  {
   "cell_type": "markdown",
   "metadata": {
    "id": "e01ljnbr9FEA"
   },
   "source": [
    "### Solution to Question 6b\n",
    "\n",
    "---\n",
    "\n",
    "Type your interpretation in the space below. Be sure to include units in your interpretation.\n",
    "\n",
    "\n",
    "\n",
    "\n",
    "<br>  \n",
    "<br>  \n"
   ]
  },
  {
   "cell_type": "markdown",
   "metadata": {
    "id": "-vOK3Ejc9FEA"
   },
   "source": [
    "<a name=\"q6c\"></a>\n",
    "## Question 6c\n",
    "\n",
    "---\n",
    "\n",
    "Which is a more accurate approximation for $f'(25)$, the average rate of change of $f$ from $t=25$ to $t=35$ (see [Question 5a](#q5a)) or the the average rate of change of $f$ from $t=25$ to $t=30$ (see [Question 6a](#q6a))? Support your answer with an explanation.\n",
    "\n"
   ]
  },
  {
   "cell_type": "markdown",
   "metadata": {
    "id": "WCrlHyrW0ufF"
   },
   "source": [
    "### Solution to Question 6c\n",
    "\n",
    "---\n",
    "\n",
    "Type your answer in the space below and briefly explanation why.\n",
    "\n",
    "\n",
    "\n",
    "\n",
    "\n",
    "<br>  \n",
    "<br>  "
   ]
  },
  {
   "cell_type": "markdown",
   "metadata": {
    "id": "k01UJ35PuO2x"
   },
   "source": [
    "<a name=\"q7\"></a>\n",
    "# Question 7\n",
    "\n",
    "---\n",
    "\n",
    "Let $f(t)$ be the elevation (in feet) of the water level of Lake Mead $t$ days after January 1, 2023. Run the code cell below to create an interactive Python widget from the data stored in `mead_23` to explore the average rate of change of $f$ over different intervals of time near $t=25$ and confirm your answers to [Question 5a](#q5a) and [Question 6a](#q6a).\n",
    "\n",
    "The widget created is a graph of $f$ with a line segment joining the point on the graph at $t=25$ to a second point on the graph at a value of $t$ chosen with slider located above the graph.\n",
    "\n",
    "- You do not need to edit, interpret, or understand the code in the cell below.\n",
    "- You only need to run the code once.\n",
    "- Then use the slider to interact with the resulting widget.\n",
    "\n",
    "Interact with the widget created by the code cell below to answer the question.\n",
    "\n"
   ]
  },
  {
   "cell_type": "code",
   "execution_count": null,
   "metadata": {
    "colab": {
     "base_uri": "https://localhost:8080/",
     "height": 556,
     "referenced_widgets": [
      "70c255eefba7417e900c61aaa932d9a4",
      "2335f61d9688459285c5f809fadef001",
      "c7c7c3ae9d3a4d049e00ebfa34b6f169",
      "182f2b3f857247269f3c2588acea58a2",
      "666a4415cbc049fa9e955c8b337c816f",
      "33d7d815918c44f6bc7998e7fd203575",
      "fc8f5b5bd1f14b8ca98724a1b2a321fe"
     ]
    },
    "executionInfo": {
     "elapsed": 861,
     "status": "ok",
     "timestamp": 1722605357527,
     "user": {
      "displayName": "Elliot Marks",
      "userId": "09138350388793527394"
     },
     "user_tz": -120
    },
    "id": "LVVWS928uO2x",
    "outputId": "2dcb3769-cd47-4ac7-bc15-fdfe9c20a1ca"
   },
   "outputs": [],
   "source": [
    "##################################################\n",
    "# Run code cell to generate an interactive widget.\n",
    "# Do not edit the code cell. Just run it!\n",
    "##################################################\n",
    "from ipywidgets import interact, IntSlider, widgets  # import interactive elements\n",
    "\n",
    "\n",
    "##################################\n",
    "# Convert columns to NumPy arrays\n",
    "##################################\n",
    "t = mead_23['t'].to_numpy()  # store time in numpy array\n",
    "elevation = mead_23['Elevation'].to_numpy()  # store elevation in numpy array\n",
    "flow_rate = mead_23['Change'].to_numpy()  # store rate of change in numpy array\n",
    "\n",
    "##############################\n",
    "# Create the interactive plot\n",
    "##############################\n",
    "def plot_interactive(x_point):\n",
    "  plt.plot(t, elevation, color ='red', label = 'Water Level') # water level plot\n",
    "  plt.text(t[25], elevation[25],  # label the point at t=25\n",
    "           f'({t[25]}, {elevation[25]:.2f})',  # coordinates of point\n",
    "           color = 'black',  # color of text\n",
    "          size = 'large')  # size of text\n",
    "  plt.text(x_point, elevation[x_point],  # label the point on water level plot\n",
    "           f'({x_point}, {elevation[x_point]:.2f})',  # coordinates of point\n",
    "           color = 'black',  # color of text\n",
    "           size = 'large')  # size of text\n",
    "  arc_temp = (elevation[x_point] - elevation[25]) / (t[x_point] - t[25])  # compute arc\n",
    "  plt.text(25, 1045.1,  # indicate value of ARC\n",
    "           f'The average rate of change is {arc_temp:.4f}.',  # arc\n",
    "           color = 'red',  # color of text\n",
    "           size = 'large')  # size of text\n",
    "\n",
    "  ###################################################\n",
    "  # Plot line joining points\n",
    "  ###################################################\n",
    "  t_values = [t[25], x_point]  # store start/end t values\n",
    "  f_values = [elevation[25], elevation[x_point]]  # store start/end f(t) values\n",
    "  plt.plot(t_values,  # start/end values of t\n",
    "           f_values,  # start/end values of f(t)\n",
    "           color = 'black', # plot line in black\n",
    "           marker = 'o',  # plot points to mark start\\end points\n",
    "           linestyle = ':')  # plot as dotted line\n",
    "\n",
    "  ###############\n",
    "  # plot options\n",
    "  ###############\n",
    "  plt.title('2023 Lake Mead Water Level')  # main plot label\n",
    "  plt.xlabel('t, days since Jan. 1, 2023')  # label on x-axis\n",
    "  plt.ylabel('Elevation (in feet)')  # label for the y-axis\n",
    "  plt.xticks(np.arange(0, 101, step=5))  # Set ticks on x-axis\n",
    "  plt.xlim(0, 100)  # set range on x-axis to plot first 101 days of 2023\n",
    "  plt.ylim(1044.7, 1047.8)  # set range on y-axis\n",
    "  plt.grid(True)  # add grid to plot\n",
    "\n",
    "  ####################\n",
    "  # Display the plot\n",
    "  ####################\n",
    "  plt.show()\n",
    "\n",
    "###########################################\n",
    "# Create slider for selecting second point\n",
    "###########################################\n",
    "style = {'description_width': 'initial'}  # set width of slider label\n",
    "# Slider for choosing point\n",
    "x_slider = IntSlider(value=40, min=0, max=99, step=1,\n",
    "                     description='Select second point at t=', style=style,\n",
    "                     layout=widgets.Layout(height='80px'),\n",
    "                     labelHeight = 1)\n",
    "\n",
    "# Use interact to connect the slider to the plotting function\n",
    "interact(plot_interactive, x_point=x_slider);\n"
   ]
  },
  {
   "cell_type": "markdown",
   "metadata": {
    "id": "q6MNWEq032nO"
   },
   "source": [
    "<a name=\"q7a\"></a>\n",
    "## Question 7a\n",
    "\n",
    "---\n",
    "\n",
    "Use the slider in the widget above to compute and illustrate the average rate of change of Lake Mead's water level elevation over the interval from $t=25$ to $t=35$. Based on the output, check your solution to [Question 5a](#q5a).\n"
   ]
  },
  {
   "cell_type": "markdown",
   "metadata": {
    "id": "-LipJ1jY4Yfm"
   },
   "source": [
    "### Solution to Question 7a\n",
    "\n",
    "---\n",
    "\n",
    "Use the widget to answer the question. If your answer in [Question 5a](#q5a) is not consistent with output from the widget, then try to correct your solution to [Question 5a](#q5a).\n",
    "\n",
    "<br>  \n",
    "\n",
    "*You do not need to enter any work to answer this question.*\n",
    "\n",
    "\n",
    "<br>  \n"
   ]
  },
  {
   "cell_type": "markdown",
   "metadata": {
    "id": "Pb835Aaf4_a0"
   },
   "source": [
    "<a name=\"q7b\"></a>\n",
    "## Question 7b\n",
    "\n",
    "---\n",
    "\n",
    "Use the slider in the widget above to compute and illustrate the average rate of change of Lake Mead's water level elevation over the interval from $t=25$ to $t=30$. Based on the output, check your solution to [Question 6a](#q6a).\n"
   ]
  },
  {
   "cell_type": "markdown",
   "metadata": {
    "id": "QysBBG_q4_bA"
   },
   "source": [
    "### Solution to Question 7b\n",
    "\n",
    "---\n",
    "\n",
    "Use the widget to answer the question. If your answer in [Question 6a](#q6a) is not consistent with output from the widget, then try to correct your solution to [Question 6a](#q6a).\n",
    "\n",
    "<br>  \n",
    "\n",
    "*You do not need to enter any work to answer this question.*\n",
    "\n",
    "\n",
    "<br>  \n"
   ]
  },
  {
   "cell_type": "markdown",
   "metadata": {
    "id": "zeVInNlL5SPx"
   },
   "source": [
    "<a name=\"q7c\"></a>\n",
    "## Question 7c\n",
    "\n",
    "---\n",
    "\n",
    "Using the slider in the widget above, what is the best approximation for $f'(25)$.\n"
   ]
  },
  {
   "cell_type": "markdown",
   "metadata": {
    "id": "b2n06EXZ5e8M"
   },
   "source": [
    "### Solution to Question 7c\n",
    "\n",
    "---\n",
    "\n",
    "Based data in `mead_23` plotted in the widget above, the best approximation is $f'(25) \\approx$ <mark>??</mark>?\n",
    "\n",
    "<br>  \n",
    "\n",
    "Explain how you determined your answer in the space below.\n",
    "\n",
    "\n",
    "\n",
    "\n",
    "<br>  \n",
    "<br>  \n"
   ]
  },
  {
   "cell_type": "markdown",
   "metadata": {
    "id": "0yDMT5jG-yrP"
   },
   "source": [
    "<a name=\"q8\"></a>\n",
    "# Question 8\n",
    "\n",
    "---\n",
    "\n",
    "Let $f(t)$ be the elevation (in feet) of the water level of Lake Mead $t$ days after January 1, 2023.  If needed, refer to the table below to help answer the question about $f'(25)$.\n",
    "\n",
    "<br>  \n",
    "\n",
    "\n",
    "| |Date|Year|t|Elevation|Change|Content|\n",
    "|---|---|---|---|---|---|---|\n",
    "|25|26-Jan|2023|25|1046\\.3|0\\.14|7418000|\n",
    "|26|27-Jan|2023|26|1046\\.49|0\\.19|7432000|\n",
    "|27|28-Jan|2023|27|1046\\.63|0\\.14|7441000|\n",
    "|28|29-Jan|2023|28|1046\\.74|0\\.11|7449000|\n",
    "|29|30-Jan|2023|29|1046\\.88|0\\.14|7459000|\n",
    "|30|31-Jan|2023|30|1046\\.97|0\\.09|7465634|\n",
    "|31|1-Feb|2023|31|1046\\.95|-0\\.02|7464000|\n",
    "|32|2-Feb|2023|32|1046\\.94|-0\\.01|7464000|\n",
    "|33|3-Feb|2023|33|1046\\.94|0\\.0|7464000|\n",
    "|34|4-Feb|2023|34|1046\\.98|0\\.04|7466000|\n",
    "|35|5-Feb|2023|35|1046\\.91|-0\\.07|7461000|\n",
    "\n",
    "<br>  \n"
   ]
  },
  {
   "cell_type": "markdown",
   "metadata": {
    "id": "LX-ueaB3CSok"
   },
   "source": [
    "<a name=\"q8a\"></a>\n",
    "## Question 8a\n",
    "\n",
    "---\n",
    "\n",
    "Based on the data in `mead_23`, what is the best approximation for $f'(25)$?\n",
    "\n",
    "- Replace each `??` in the first code cell below with an appropriate row index or column label to extract relevant values from the dataframe `mead_23`.\n",
    "- Use the table above to verify the output of the commands of the first code cell before moving on.\n",
    "- In the second code cell below, replace each `??` with either  `t_start_q8`, `t_end_q8`, `f_start_q8` or `f_end_q8` to compute an average rate of change that best approximates $f'(25)$.\n",
    "\n",
    "<br>  \n",
    "\n",
    "*Hint: The average rate of change of $f$ over the interval from $t=a$ to $t=b$ is given by the formula $\\dfrac{f(b) - f(a)}{b-a}$.*"
   ]
  },
  {
   "cell_type": "markdown",
   "metadata": {
    "id": "Frmp86i2A240"
   },
   "source": [
    "### Solution to Question 8a\n",
    "\n",
    "---\n"
   ]
  },
  {
   "cell_type": "code",
   "execution_count": null,
   "metadata": {
    "id": "NzWTEyuVDArh"
   },
   "outputs": [],
   "source": [
    "########################################################\n",
    "# Replace each ?? with an index value or column label\n",
    "########################################################\n",
    "\n",
    "# Extract start and end values of t\n",
    "t_start_q8 = mead_23.loc[??, '??']  # start time\n",
    "t_end_q8 = mead_23.loc[??, '??']  # end time\n",
    "\n",
    "# Extract corresponding start and end water-level elevations\n",
    "f_start_q8 = mead_23.loc[??, '??']  # elevation at start time\n",
    "f_end_q8 = mead_23.loc[??, '??']  # elevation at end time\n",
    "\n",
    "print(\"The start time is t=\", t_start_q8,\n",
    "      \"and the starting elevation is \", f_start_q8,\n",
    "      \"\\nThe end time is t=\", t_end_q8,\n",
    "      \"and the ending elevation is \", f_end_q8)"
   ]
  },
  {
   "cell_type": "code",
   "execution_count": null,
   "metadata": {
    "id": "ceI9LVsuDArr"
   },
   "outputs": [],
   "source": [
    "################################################################\n",
    "# Replace each ?? with either t_start_q8, t_end_q8,\n",
    "# f_start_q8, or f_end_q8 to approximate f'(25)\n",
    "################################################################\n",
    "( ?? - ?? ) / ( ?? - ?? )  # average rate of change"
   ]
  },
  {
   "cell_type": "markdown",
   "metadata": {
    "id": "kRePBkf9DWD4"
   },
   "source": [
    "<a name=\"q8b\"></a>\n",
    "## Question 8b\n",
    "\n",
    "---\n",
    "\n",
    "Interpret the practical meaning of the output of the previous code cell.\n",
    "\n",
    "\n",
    "\n"
   ]
  },
  {
   "cell_type": "markdown",
   "metadata": {
    "id": "WMWyLba9DWEE"
   },
   "source": [
    "### Solution to Question 8b\n",
    "\n",
    "---\n",
    "\n",
    "Type your interpretation in the space below. Be sure to include units in your interpretation.\n",
    "\n",
    "\n",
    "\n",
    "\n",
    "<br>  \n",
    "<br>  \n"
   ]
  },
  {
   "cell_type": "markdown",
   "metadata": {
    "id": "pX3aXHfJFqFJ"
   },
   "source": [
    "<a name=\"q9\"></a>\n",
    "# Question 9\n",
    "\n",
    "---\n",
    "\n",
    "Let $f(t)$ be the elevation (in feet) of the water level of Lake Mead $t$ days after January 1, 2023.\n"
   ]
  },
  {
   "cell_type": "markdown",
   "metadata": {
    "id": "MHrfw8VkFqFT"
   },
   "source": [
    "<a name=\"q9a\"></a>\n",
    "## Question 9a\n",
    "\n",
    "---\n",
    "\n",
    "Based on the data in `mead_23`, what is the best approximation for $f'(40)$?\n",
    "\n",
    "- Replace each `??` in the first code cell below with an appropriate row index or column label to extract relevant values from the dataframe `mead_23`.\n",
    "- Use the table above to verify the output of the commands of the first code cell before moving on.\n",
    "- In the second code cell below, replace each `??` with either  `t_start_q9`, `t_end_q9`, `f_start_q9` or `f_end_q9` to compute an average rate of change that best approximates $f'(40)$.\n",
    "\n"
   ]
  },
  {
   "cell_type": "markdown",
   "metadata": {
    "id": "VWxtjtUIA5Wa"
   },
   "source": [
    "### Solution to Question 9a\n",
    "\n",
    "---\n"
   ]
  },
  {
   "cell_type": "code",
   "execution_count": null,
   "metadata": {
    "id": "tslQfoKhFqFT"
   },
   "outputs": [],
   "source": [
    "########################################################\n",
    "# Replace each ?? with an index value or column label\n",
    "########################################################\n",
    "\n",
    "# Extract start and end values of t\n",
    "t_start_q9 = mead_23.loc[??, '??']  # start time\n",
    "t_end_q9 = mead_23.loc[??, '??']  # end time\n",
    "\n",
    "# Extract corresponding start and end water-level elevations\n",
    "f_start_q9 = mead_23.loc[??, '??']  # elevation at start time\n",
    "f_end_q9 = mead_23.loc[??, '??']  # elevation at end time"
   ]
  },
  {
   "cell_type": "code",
   "execution_count": null,
   "metadata": {
    "id": "ZXkG23RmFqFU"
   },
   "outputs": [],
   "source": [
    "################################################################\n",
    "# Replace each ?? with either t_start_q9, t_end_q9,\n",
    "# f_start_q9, or f_end_q9 to approximate f'(40)\n",
    "################################################################\n",
    "( ?? - ?? ) / ( ?? - ?? )  # average rate of change"
   ]
  },
  {
   "cell_type": "markdown",
   "metadata": {
    "id": "JthhFT3fFqFU"
   },
   "source": [
    "<a name=\"q9b\"></a>\n",
    "## Question 9b\n",
    "\n",
    "---\n",
    "\n",
    "Interpret the practical meaning of the output of the previous code cell.\n",
    "\n",
    "\n",
    "\n"
   ]
  },
  {
   "cell_type": "markdown",
   "metadata": {
    "id": "VeFYvVlHFqFV"
   },
   "source": [
    "### Solution to Question 9b\n",
    "\n",
    "---\n",
    "\n",
    "Type your interpretation in the space below. Be sure to include units in your interpretation.\n",
    "\n",
    "\n",
    "\n",
    "\n",
    "<br>  \n",
    "<br>  \n"
   ]
  },
  {
   "cell_type": "markdown",
   "metadata": {
    "id": "KYzTQW2iIW1P"
   },
   "source": [
    "<a name=\"q10\"></a>\n",
    "# Question 10\n",
    "\n",
    "---\n",
    "\n",
    "Let $f(t)$ be the elevation (in feet) of the water level of Lake Mead $t$ days after January 1, 2023.\n"
   ]
  },
  {
   "cell_type": "markdown",
   "metadata": {
    "id": "japumvr5IW1Z"
   },
   "source": [
    "<a name=\"q10a\"></a>\n",
    "## Question 10a\n",
    "\n",
    "---\n",
    "\n",
    "Based on the data in `mead_23`, what is the best approximation for $f'(65)$?\n",
    "\n",
    "- Replace each `??` in the first code cell below with an appropriate row index or column label to extract relevant values from the dataframe `mead_23`.\n",
    "- Use the table above to verify the output of the commands of the first code cell before moving on.\n",
    "- In the second code cell below, replace each `??` with either  `t_start_q10`, `t_end_q10`, `f_start_q10` or `f_end_q10` to compute an average rate of change that best approximates $f'(65)$.\n",
    "\n"
   ]
  },
  {
   "cell_type": "markdown",
   "metadata": {
    "id": "GyrGGbWZA9MT"
   },
   "source": [
    "### Solution to Question 10a\n",
    "\n",
    "---\n"
   ]
  },
  {
   "cell_type": "code",
   "execution_count": null,
   "metadata": {
    "id": "fi_KBldPIW1Z"
   },
   "outputs": [],
   "source": [
    "########################################################\n",
    "# Replace each ?? with an index value or column label\n",
    "########################################################\n",
    "\n",
    "# Extract start and end values of t\n",
    "t_start_q10 = mead_23.loc[??, '??']  # start time\n",
    "t_end_q10 = mead_23.loc[??, '??']  # end time\n",
    "\n",
    "# Extract corresponding start and end water-level elevations\n",
    "f_start_q10 = mead_23.loc[??, '??']  # elevation at start time\n",
    "f_end_q10 = mead_23.loc[??, '??']  # elevation at end time"
   ]
  },
  {
   "cell_type": "code",
   "execution_count": null,
   "metadata": {
    "id": "2K3piplVIW1Z"
   },
   "outputs": [],
   "source": [
    "################################################################\n",
    "# Replace each ?? with either t_start_q10, t_end_q10,\n",
    "# f_start_q10, or f_end_q10 to approximate f'(65)\n",
    "################################################################\n",
    "( ?? - ?? ) / ( ?? - ?? )  # average rate of change"
   ]
  },
  {
   "cell_type": "markdown",
   "metadata": {
    "id": "Sv6mFQdGIW1a"
   },
   "source": [
    "<a name=\"q10b\"></a>\n",
    "## Question 10b\n",
    "\n",
    "---\n",
    "\n",
    "Interpret the practical meaning of the output of the previous code cell.\n",
    "\n",
    "\n",
    "\n"
   ]
  },
  {
   "cell_type": "markdown",
   "metadata": {
    "id": "f7GtsPIqIW1a"
   },
   "source": [
    "### Solution to Question 10b\n",
    "\n",
    "---\n",
    "\n",
    "Type your interpretation in the space below. Be sure to include units in your interpretation.\n",
    "\n",
    "\n",
    "\n",
    "\n",
    "<br>  \n",
    "<br>  \n"
   ]
  },
  {
   "cell_type": "markdown",
   "metadata": {
    "id": "pp19nN-FHHsA"
   },
   "source": [
    "<a name=\"q10c\"></a>\n",
    "## Question 10c\n",
    "\n",
    "---\n",
    "\n",
    "Determine whether your original rankings in [Question 4c](#q4c) are correct based on your answers in [Question 8a](#q8a), [Question 9a](#q9a), and [Question 10a](#q10a).\n",
    "\n",
    "\n",
    "\n"
   ]
  },
  {
   "cell_type": "markdown",
   "metadata": {
    "id": "CoBpsTy4HHsK"
   },
   "source": [
    "### Solution to Question 10c\n",
    "\n",
    "---\n",
    "\n",
    "In the space below, comment on whether or not your rankings in [Question 4c](#q4c) are correct.\n",
    "\n",
    "\n",
    "\n",
    "\n",
    "\n",
    "<br>  \n",
    "<br>  \n"
   ]
  },
  {
   "cell_type": "markdown",
   "metadata": {
    "id": "gamXTBtBBKvc"
   },
   "source": [
    "<a name=\"q11\"></a>\n",
    "# Question 11\n",
    "\n",
    "---\n",
    "\n",
    "Let $f(t)$ be the elevation (in feet) of the water level of Lake Mead $t$ days after January 1, 2023. Run the code cell below to create an interactive Python widget from the data stored in `mead_23` to explore the average rate of change of $f$ over different intervals of time. near $t=25$ and confirm your answers to [Question 9a](#q9a) and [Question 10a](#q10a).\n",
    "\n",
    "The widget created is a graph of $f$ with a line segment joining two points on the graph $f$ that are selected using the two sliders above the graph.\n",
    "\n",
    "- You do not need to edit, interpret, or understand the code in the cell below.\n",
    "- You only need to run the code and use the sliders to interact with the plot.\n",
    "\n",
    "Interact with the widget created by the code cell below to answer the question.\n",
    "\n",
    "\n"
   ]
  },
  {
   "cell_type": "code",
   "execution_count": null,
   "metadata": {
    "colab": {
     "base_uri": "https://localhost:8080/",
     "height": 560,
     "referenced_widgets": [
      "f31e8bd851e446ca9b55f4371992ee44",
      "ea61f790345148c8b86d4c90a3f040b2",
      "868cbdc924404544b5572e02e2fab85d",
      "530513dc2abe4a15ac5153bef1556e26",
      "ae01a8d7d48e4be9a11060d46b225442",
      "64c7265971e044f7a47568956b64c713",
      "889fe08002aa47689e636228e14db8e9",
      "9c956d4a8a084ce183d78dbcd84fcffb",
      "6add79318b344259bc22f31d18df1c24",
      "32a134aca9d64376ae158ad1331f4fb1"
     ]
    },
    "executionInfo": {
     "elapsed": 937,
     "status": "ok",
     "timestamp": 1722605693616,
     "user": {
      "displayName": "Elliot Marks",
      "userId": "09138350388793527394"
     },
     "user_tz": -120
    },
    "id": "MtqS5G2DBKvn",
    "outputId": "82c5b7fa-4b6b-476a-ca79-03e55c2bee2a"
   },
   "outputs": [],
   "source": [
    "####################################################\n",
    "# Run Code Cell To Generate an Interactive Widget\n",
    "# Do Not Edit the Code Cell. Just Run It!\n",
    "####################################################\n",
    "from ipywidgets import interact, IntSlider, widgets  # import interactive elements\n",
    "\n",
    "##################################\n",
    "# Convert columns to NumPy arrays\n",
    "##################################\n",
    "t = mead_23['t'].to_numpy()  # store time in numpy array\n",
    "elevation = mead_23['Elevation'].to_numpy()  # store elevation in numpy array\n",
    "flow_rate = mead_23['Change'].to_numpy()  # store rate of change in numpy array\n",
    "\n",
    "##############################\n",
    "# Create the interactive plot\n",
    "##############################\n",
    "def plot_interactive(x0, x1):\n",
    "  plt.plot(t, elevation, color ='red', label = 'Water Level')  # water-level plot\n",
    "  plt.text(t[x0], elevation[x0],  # label the point at t=25\n",
    "           f'({t[x0]}, {elevation[x0]:.2f})', # coordinates of point\n",
    "           color = 'black',   # color of text\n",
    "           size = 'large')  # size of text\n",
    "  plt.text(t[x1], elevation[x1],  # label the point on water-level plot\n",
    "           f'({t[x1]}, {elevation[x1]:.2f})',  # coordinates of point\n",
    "           color = 'black',  # color of text\n",
    "           size = 'large')  # size of text\n",
    "  arc_temp = (elevation[x1] - elevation[x0]) / (t[x1] - t[x0])  # compute ARC\n",
    "  plt.text(25, 1045.1,  # indicate value of ARC on plot\n",
    "           f'The average rate of change is {arc_temp:.4f}.',  # ARC\n",
    "           color = 'red',  # color of text\n",
    "           size = 'large')  # size of text\n",
    "  # Plot line segments joining points\n",
    "  t_values = [t[x0], t[x1]]  # store start/end t values\n",
    "  f_values = [elevation[x0], elevation[x1]]  # store start/end f(t) values\n",
    "  plt.plot(t_values,  # start/end values of t\n",
    "           f_values,  # start/end values of f(t)\n",
    "           color = 'black',  # plot line in black\n",
    "           marker = 'o',  # plot points to mark start\\end points\n",
    "           linestyle = ':')  # plot as dotted line\n",
    "\n",
    "  ###############\n",
    "  # plot options\n",
    "  ###############\n",
    "  plt.title('2023 Lake Mead Water Level')  # main plot label\n",
    "  plt.xlabel('t, days since Jan. 1, 2023')  # label on x-axis\n",
    "  plt.ylabel('Elevation (in feet)')  # label for the y-axis\n",
    "  plt.xticks(np.arange(0, 101, step=5))  # Set ticks on x-axis\n",
    "  plt.xlim(0, 100)  # set range on x-axis to plot first 101 days of 2023\n",
    "  plt.ylim(1044.7, 1047.8)  # set range on y-axis\n",
    "  plt.grid(True)  # add grid to plot\n",
    "\n",
    "  # Display the plot\n",
    "  plt.show()\n",
    "\n",
    "##########################################\n",
    "# Create sliders for selecting each point\n",
    "##########################################\n",
    "style = {'description_width': 'initial'}  # set width of slider labels\n",
    "# slider for first point\n",
    "first_slider = IntSlider(value=40, min=0, max=99, step=1,\n",
    "                     description='Select first point at t=', style=style,\n",
    "                     layout=widgets.Layout(height='40px'),\n",
    "                     labelHeight = 1)\n",
    "# slider for second point\n",
    "second_slider = IntSlider(value=50, min=0, max=99, step=1,\n",
    "                     description='Select second point at t=', style=style,\n",
    "                     layout=widgets.Layout(height='40px'),\n",
    "                     labelHeight = 1)\n",
    "\n",
    "# Use interact to connect the slider to the plotting function\n",
    "interact(plot_interactive, x0=first_slider, x1=second_slider);"
   ]
  },
  {
   "cell_type": "markdown",
   "metadata": {
    "id": "vjTqDpluBKvn"
   },
   "source": [
    "<a name=\"q11a\"></a>\n",
    "## Question 11a\n",
    "\n",
    "---\n",
    "\n",
    "Use the slider in the widget above to check the approximation for $f'(40)$ you obtained in [Question 9a](#q9a).\n"
   ]
  },
  {
   "cell_type": "markdown",
   "metadata": {
    "id": "5Up_ecKPBKvn"
   },
   "source": [
    "### Solution to Question 11a\n",
    "\n",
    "---\n",
    "\n",
    "Use the widget to answer the question. If your answer in [Question 9a](#q9a) is not consistent with output from the widget, try to correct your solution to [Question 9a](#q9a).\n",
    "\n",
    "<br>  \n",
    "\n",
    "*You do not need to enter any work to answer this question.*\n",
    "\n",
    "\n",
    "<br>  \n"
   ]
  },
  {
   "cell_type": "markdown",
   "metadata": {
    "id": "jtuuYeN6D5cp"
   },
   "source": [
    "<a name=\"q11b\"></a>\n",
    "## Question 11b\n",
    "\n",
    "---\n",
    "\n",
    "Use the slider in the widget above to check the approximation for $f'(65)$ you obtained in [Question 10a](#q10a).\n"
   ]
  },
  {
   "cell_type": "markdown",
   "metadata": {
    "id": "DP3RHj6GD5cz"
   },
   "source": [
    "### Solution to Question 11b\n",
    "\n",
    "---\n",
    "\n",
    "Use the widget to answer the question. If your answer in [Question 10a](#q10a) is not consistent with output from the widget, try to correct your solution to [Question 10a](#q10a).\n",
    "\n",
    "<br>  \n",
    "\n",
    "*You do not need to enter any work to answer this question.*\n",
    "\n",
    "\n",
    "<br>  \n"
   ]
  },
  {
   "cell_type": "markdown",
   "metadata": {
    "id": "iBmMPoh1CkEf"
   },
   "source": [
    "# Be Sure You Have Saved Your Work!\n",
    "\n",
    "---\n",
    "\n",
    "This lab is a shared Colab notebook available for anyone to view. However, since everyone is sharing this notebook, you do not have permission to save changes to this shared Colab notebook. In order to save your work:\n",
    "\n",
    "1. You will need to set up a free Google Drive account. If you already have a Google Drive account, you are ready to go!\n",
    "2. Click the `Copy to Drive` button to the right of the `+ Code` and `+ Text` buttons on top of the notebook.\n",
    "3. Select from the menu `File/Save a Copy in Drive`.\n",
    "  - By default, the notebook will be saved in a folder named **Colab Notebooks** in your Drive.\n",
    "  - Feel free to rename and store the notebook wherever you like.\n"
   ]
  },
  {
   "cell_type": "markdown",
   "metadata": {
    "id": "AHZZQ1QkTJmd"
   },
   "source": [
    "# Code Summary\n",
    "\n",
    "---\n",
    "\n",
    "\n"
   ]
  },
  {
   "cell_type": "markdown",
   "metadata": {
    "id": "ZRDSQcYVyO0p"
   },
   "source": [
    "## Displayng Subsets of a Dataframe\n",
    "\n",
    "---\n"
   ]
  },
  {
   "cell_type": "code",
   "execution_count": null,
   "metadata": {
    "colab": {
     "base_uri": "https://localhost:8080/",
     "height": 206
    },
    "executionInfo": {
     "elapsed": 938,
     "status": "ok",
     "timestamp": 1722548359978,
     "user": {
      "displayName": "Adam Spiegler",
      "userId": "08916726237218427358"
     },
     "user_tz": 360
    },
    "id": "HFsOhfQrTxXp",
    "outputId": "1798a247-edc2-4f26-b0cd-2a4d4529d83e"
   },
   "outputs": [],
   "source": [
    "# load data for this example\n",
    "import pandas as pd\n",
    "df = pd.read_csv('https://raw.githubusercontent.com/mcwg/calc-python-labs/main/Data/CO2-emissions.csv')\n",
    "\n",
    "#############################################################################\n",
    "# Turn comments on or off and run different commands to\n",
    "# display different parts of the dataframe\n",
    "#############################################################################\n",
    "df.head()  # display first 5 rows of data\n",
    "#df.tail()  # display last 5 rows of data\n",
    "#df.shape  # indicate the number of rows (observations) and columns (variables)\n",
    "#df.columns  # display the column headers\n",
    "#df.info()  # provides information about the structure of the data"
   ]
  },
  {
   "cell_type": "markdown",
   "metadata": {
    "id": "c8fWRx0iTxXp"
   },
   "source": [
    "## Indexing with `loc`\n",
    "\n",
    "---\n",
    "\n",
    "<mark>**Recall indexing in Python starts at 0 (not at 1)!**</mark>"
   ]
  },
  {
   "cell_type": "code",
   "execution_count": null,
   "metadata": {
    "colab": {
     "base_uri": "https://localhost:8080/"
    },
    "executionInfo": {
     "elapsed": 163,
     "status": "ok",
     "timestamp": 1722548363506,
     "user": {
      "displayName": "Adam Spiegler",
      "userId": "08916726237218427358"
     },
     "user_tz": 360
    },
    "id": "_nJttieHTxXq",
    "outputId": "4a94c93c-09e3-4205-d057-7190ce8383bf"
   },
   "outputs": [],
   "source": [
    "# load data for this example\n",
    "import pandas as pd\n",
    "df = pd.read_csv('https://raw.githubusercontent.com/mcwg/calc-python-labs/main/Data/CO2-emissions.csv')\n",
    "print(df)\n",
    "\n",
    "##############################################################################\n",
    "# Slice value of year with row index 2 (which is the third row of dataframe)\n",
    "##############################################################################\n",
    "myYear = df.loc[3, 'Year']\n",
    "print(\"The year in row with index 3 is\", myYear)"
   ]
  },
  {
   "cell_type": "markdown",
   "metadata": {
    "id": "oPCiP3ngcUkf"
   },
   "source": [
    "The command `loc` can also be used to display a range."
   ]
  },
  {
   "cell_type": "code",
   "execution_count": null,
   "metadata": {
    "colab": {
     "base_uri": "https://localhost:8080/",
     "height": 238
    },
    "executionInfo": {
     "elapsed": 156,
     "status": "ok",
     "timestamp": 1722548365919,
     "user": {
      "displayName": "Adam Spiegler",
      "userId": "08916726237218427358"
     },
     "user_tz": 360
    },
    "id": "DrlnkrhyTxXq",
    "outputId": "c80e5fe5-030f-4064-d4b4-079f12252cae"
   },
   "outputs": [],
   "source": [
    "# load data for this example\n",
    "import pandas as pd\n",
    "df = pd.read_csv('https://raw.githubusercontent.com/mcwg/calc-python-labs/main/Data/CO2-emissions.csv')\n",
    "\n",
    "########################\n",
    "# Display rows 4 to 9\n",
    "########################\n",
    "df.loc[4:9]"
   ]
  },
  {
   "cell_type": "markdown",
   "metadata": {
    "id": "iUgTEwhuDROt"
   },
   "source": [
    "## Approximating the Derivative at a Point from a Dataframe\n",
    "\n",
    "---\n",
    "\n",
    "\n",
    "We can approximate $f'(2014)$ with the average rate of change over the interval from $t=2014$ to $t=2015$,\n",
    "\n",
    "$$f'(2014) \\approx \\frac{f(2015) - f(2014)}{2015-2014}.$$\n",
    "\n"
   ]
  },
  {
   "cell_type": "code",
   "execution_count": null,
   "metadata": {
    "colab": {
     "base_uri": "https://localhost:8080/"
    },
    "executionInfo": {
     "elapsed": 354,
     "status": "ok",
     "timestamp": 1722548368337,
     "user": {
      "displayName": "Adam Spiegler",
      "userId": "08916726237218427358"
     },
     "user_tz": 360
    },
    "id": "lsva0ZdwTxXq",
    "outputId": "860f7a6c-eff4-40e2-d673-8bbf40435f0f"
   },
   "outputs": [],
   "source": [
    "# load data for this example\n",
    "import pandas as pd\n",
    "df = pd.read_csv('https://raw.githubusercontent.com/mcwg/calc-python-labs/main/Data/CO2-emissions.csv')\n",
    "\n",
    "# print de data\n",
    "print(df)\n",
    "\n",
    "####################################\n",
    "# Compute average rate of change\n",
    "####################################\n",
    "\n",
    "# Extract start and end values of t\n",
    "t0 = df.loc[4, 'Year']  # start time (year 2014 is index 4)\n",
    "t1 = df.loc[5, 'Year']  # end time   (year 2015 is index 5)\n",
    "\n",
    "# Extract corresponding start and end water level elevations\n",
    "f0 = df.loc[4, 'CO2_Emissions']  # value of f at start time\n",
    "f1 = df.loc[5, 'CO2_Emissions']  # value of f at end time\n",
    "\n",
    "# Compute average rate of change to approximate f'(2014)\n",
    "average_rate = ( f1 - f0 ) / ( t1 - t0 )\n",
    "print(\"The average rate of change between t =\",t0, \"and t =\",t1,\"is\", average_rate)"
   ]
  }
 ],
 "metadata": {
  "colab": {
   "provenance": [
    {
     "file_id": "1jW26k8xTcyeZ-H9Zpk-B6YLMr6MRuH51",
     "timestamp": 1713979048664
    },
    {
     "file_id": "1ut7-jJPy1o3Eo9mPSmJhmyDNI0VLUtna",
     "timestamp": 1710899482688
    }
   ]
  },
  "kernelspec": {
   "display_name": "Python 3 (ipykernel)",
   "language": "python",
   "name": "python3"
  },
  "language_info": {
   "codemirror_mode": {
    "name": "ipython",
    "version": 3
   },
   "file_extension": ".py",
   "mimetype": "text/x-python",
   "name": "python",
   "nbconvert_exporter": "python",
   "pygments_lexer": "ipython3",
   "version": "3.8.17"
  },
  "widgets": {
   "application/vnd.jupyter.widget-state+json": {
    "0d35fcb8fc364d8485cd4de8b48efa18": {
     "model_module": "@jupyter-widgets/controls",
     "model_module_version": "1.5.0",
     "model_name": "SliderStyleModel",
     "state": {
      "_model_module": "@jupyter-widgets/controls",
      "_model_module_version": "1.5.0",
      "_model_name": "SliderStyleModel",
      "_view_count": null,
      "_view_module": "@jupyter-widgets/base",
      "_view_module_version": "1.2.0",
      "_view_name": "StyleView",
      "description_width": "initial",
      "handle_color": null
     }
    },
    "12d4eb86354845bda9b7fbce27f416e5": {
     "model_module": "@jupyter-widgets/base",
     "model_module_version": "1.2.0",
     "model_name": "LayoutModel",
     "state": {
      "_model_module": "@jupyter-widgets/base",
      "_model_module_version": "1.2.0",
      "_model_name": "LayoutModel",
      "_view_count": null,
      "_view_module": "@jupyter-widgets/base",
      "_view_module_version": "1.2.0",
      "_view_name": "LayoutView",
      "align_content": null,
      "align_items": null,
      "align_self": null,
      "border": null,
      "bottom": null,
      "display": null,
      "flex": null,
      "flex_flow": null,
      "grid_area": null,
      "grid_auto_columns": null,
      "grid_auto_flow": null,
      "grid_auto_rows": null,
      "grid_column": null,
      "grid_gap": null,
      "grid_row": null,
      "grid_template_areas": null,
      "grid_template_columns": null,
      "grid_template_rows": null,
      "height": "40px",
      "justify_content": null,
      "justify_items": null,
      "left": null,
      "margin": null,
      "max_height": null,
      "max_width": null,
      "min_height": null,
      "min_width": null,
      "object_fit": null,
      "object_position": null,
      "order": null,
      "overflow": null,
      "overflow_x": null,
      "overflow_y": null,
      "padding": null,
      "right": null,
      "top": null,
      "visibility": null,
      "width": null
     }
    },
    "182f2b3f857247269f3c2588acea58a2": {
     "model_module": "@jupyter-widgets/base",
     "model_module_version": "1.2.0",
     "model_name": "LayoutModel",
     "state": {
      "_model_module": "@jupyter-widgets/base",
      "_model_module_version": "1.2.0",
      "_model_name": "LayoutModel",
      "_view_count": null,
      "_view_module": "@jupyter-widgets/base",
      "_view_module_version": "1.2.0",
      "_view_name": "LayoutView",
      "align_content": null,
      "align_items": null,
      "align_self": null,
      "border": null,
      "bottom": null,
      "display": null,
      "flex": null,
      "flex_flow": null,
      "grid_area": null,
      "grid_auto_columns": null,
      "grid_auto_flow": null,
      "grid_auto_rows": null,
      "grid_column": null,
      "grid_gap": null,
      "grid_row": null,
      "grid_template_areas": null,
      "grid_template_columns": null,
      "grid_template_rows": null,
      "height": null,
      "justify_content": null,
      "justify_items": null,
      "left": null,
      "margin": null,
      "max_height": null,
      "max_width": null,
      "min_height": null,
      "min_width": null,
      "object_fit": null,
      "object_position": null,
      "order": null,
      "overflow": null,
      "overflow_x": null,
      "overflow_y": null,
      "padding": null,
      "right": null,
      "top": null,
      "visibility": null,
      "width": null
     }
    },
    "19bcc59068084737ba0f992e785d7dbc": {
     "model_module": "@jupyter-widgets/controls",
     "model_module_version": "1.5.0",
     "model_name": "SliderStyleModel",
     "state": {
      "_model_module": "@jupyter-widgets/controls",
      "_model_module_version": "1.5.0",
      "_model_name": "SliderStyleModel",
      "_view_count": null,
      "_view_module": "@jupyter-widgets/base",
      "_view_module_version": "1.2.0",
      "_view_name": "StyleView",
      "description_width": "initial",
      "handle_color": null
     }
    },
    "2335f61d9688459285c5f809fadef001": {
     "model_module": "@jupyter-widgets/controls",
     "model_module_version": "1.5.0",
     "model_name": "IntSliderModel",
     "state": {
      "_dom_classes": [],
      "_model_module": "@jupyter-widgets/controls",
      "_model_module_version": "1.5.0",
      "_model_name": "IntSliderModel",
      "_view_count": null,
      "_view_module": "@jupyter-widgets/controls",
      "_view_module_version": "1.5.0",
      "_view_name": "IntSliderView",
      "continuous_update": true,
      "description": "Select second point at t=",
      "description_tooltip": null,
      "disabled": false,
      "layout": "IPY_MODEL_666a4415cbc049fa9e955c8b337c816f",
      "max": 99,
      "min": 0,
      "orientation": "horizontal",
      "readout": true,
      "readout_format": "d",
      "step": 1,
      "style": "IPY_MODEL_33d7d815918c44f6bc7998e7fd203575",
      "value": 26
     }
    },
    "32a134aca9d64376ae158ad1331f4fb1": {
     "model_module": "@jupyter-widgets/base",
     "model_module_version": "1.2.0",
     "model_name": "LayoutModel",
     "state": {
      "_model_module": "@jupyter-widgets/base",
      "_model_module_version": "1.2.0",
      "_model_name": "LayoutModel",
      "_view_count": null,
      "_view_module": "@jupyter-widgets/base",
      "_view_module_version": "1.2.0",
      "_view_name": "LayoutView",
      "align_content": null,
      "align_items": null,
      "align_self": null,
      "border": null,
      "bottom": null,
      "display": null,
      "flex": null,
      "flex_flow": null,
      "grid_area": null,
      "grid_auto_columns": null,
      "grid_auto_flow": null,
      "grid_auto_rows": null,
      "grid_column": null,
      "grid_gap": null,
      "grid_row": null,
      "grid_template_areas": null,
      "grid_template_columns": null,
      "grid_template_rows": null,
      "height": null,
      "justify_content": null,
      "justify_items": null,
      "left": null,
      "margin": null,
      "max_height": null,
      "max_width": null,
      "min_height": null,
      "min_width": null,
      "object_fit": null,
      "object_position": null,
      "order": null,
      "overflow": null,
      "overflow_x": null,
      "overflow_y": null,
      "padding": null,
      "right": null,
      "top": null,
      "visibility": null,
      "width": null
     }
    },
    "33d7d815918c44f6bc7998e7fd203575": {
     "model_module": "@jupyter-widgets/controls",
     "model_module_version": "1.5.0",
     "model_name": "SliderStyleModel",
     "state": {
      "_model_module": "@jupyter-widgets/controls",
      "_model_module_version": "1.5.0",
      "_model_name": "SliderStyleModel",
      "_view_count": null,
      "_view_module": "@jupyter-widgets/base",
      "_view_module_version": "1.2.0",
      "_view_name": "StyleView",
      "description_width": "initial",
      "handle_color": null
     }
    },
    "37583bcd5b644481a6a18695d7835414": {
     "model_module": "@jupyter-widgets/controls",
     "model_module_version": "1.5.0",
     "model_name": "IntSliderModel",
     "state": {
      "_dom_classes": [],
      "_model_module": "@jupyter-widgets/controls",
      "_model_module_version": "1.5.0",
      "_model_name": "IntSliderModel",
      "_view_count": null,
      "_view_module": "@jupyter-widgets/controls",
      "_view_module_version": "1.5.0",
      "_view_name": "IntSliderView",
      "continuous_update": true,
      "description": "Select second point at t=",
      "description_tooltip": null,
      "disabled": false,
      "layout": "IPY_MODEL_12d4eb86354845bda9b7fbce27f416e5",
      "max": 99,
      "min": 0,
      "orientation": "horizontal",
      "readout": true,
      "readout_format": "d",
      "step": 1,
      "style": "IPY_MODEL_19bcc59068084737ba0f992e785d7dbc",
      "value": 26
     }
    },
    "3fe681cbf3e44ddca6eb92f192e6f32e": {
     "model_module": "@jupyter-widgets/controls",
     "model_module_version": "1.5.0",
     "model_name": "VBoxModel",
     "state": {
      "_dom_classes": [
       "widget-interact"
      ],
      "_model_module": "@jupyter-widgets/controls",
      "_model_module_version": "1.5.0",
      "_model_name": "VBoxModel",
      "_view_count": null,
      "_view_module": "@jupyter-widgets/controls",
      "_view_module_version": "1.5.0",
      "_view_name": "VBoxView",
      "box_style": "",
      "children": [
       "IPY_MODEL_70fc47e938d743a5ac182ce57733f597",
       "IPY_MODEL_37583bcd5b644481a6a18695d7835414",
       "IPY_MODEL_558fe763fbbe44efa97b7b51fb10372c"
      ],
      "layout": "IPY_MODEL_f355fd222570435c97646f2b9098ee11"
     }
    },
    "52680704b7024ea0a54085f2b6b88573": {
     "model_module": "@jupyter-widgets/base",
     "model_module_version": "1.2.0",
     "model_name": "LayoutModel",
     "state": {
      "_model_module": "@jupyter-widgets/base",
      "_model_module_version": "1.2.0",
      "_model_name": "LayoutModel",
      "_view_count": null,
      "_view_module": "@jupyter-widgets/base",
      "_view_module_version": "1.2.0",
      "_view_name": "LayoutView",
      "align_content": null,
      "align_items": null,
      "align_self": null,
      "border": null,
      "bottom": null,
      "display": null,
      "flex": null,
      "flex_flow": null,
      "grid_area": null,
      "grid_auto_columns": null,
      "grid_auto_flow": null,
      "grid_auto_rows": null,
      "grid_column": null,
      "grid_gap": null,
      "grid_row": null,
      "grid_template_areas": null,
      "grid_template_columns": null,
      "grid_template_rows": null,
      "height": "60px",
      "justify_content": null,
      "justify_items": null,
      "left": null,
      "margin": null,
      "max_height": null,
      "max_width": null,
      "min_height": null,
      "min_width": null,
      "object_fit": null,
      "object_position": null,
      "order": null,
      "overflow": null,
      "overflow_x": null,
      "overflow_y": null,
      "padding": null,
      "right": null,
      "top": null,
      "visibility": null,
      "width": null
     }
    },
    "530513dc2abe4a15ac5153bef1556e26": {
     "model_module": "@jupyter-widgets/output",
     "model_module_version": "1.0.0",
     "model_name": "OutputModel",
     "state": {
      "_dom_classes": [],
      "_model_module": "@jupyter-widgets/output",
      "_model_module_version": "1.0.0",
      "_model_name": "OutputModel",
      "_view_count": null,
      "_view_module": "@jupyter-widgets/output",
      "_view_module_version": "1.0.0",
      "_view_name": "OutputView",
      "layout": "IPY_MODEL_32a134aca9d64376ae158ad1331f4fb1",
      "msg_id": "",
      "outputs": [
       {
        "data": {
         "image/png": "iVBORw0KGgoAAAANSUhEUgAAAocAAAHHCAYAAADNpPITAAAAOXRFWHRTb2Z0d2FyZQBNYXRwbG90bGliIHZlcnNpb24zLjcuMSwgaHR0cHM6Ly9tYXRwbG90bGliLm9yZy/bCgiHAAAACXBIWXMAAA9hAAAPYQGoP6dpAAC50ElEQVR4nOzdd1gUVxfA4d/SBQSxgxVbosaKvffe8sXee0ysMZYYe03UaOyaxFijRo1KorFhi7GXiMauCZZYUFRAUOre749xV1aKi4JLOe/z8DA7O3Pvmd0FDndu0SmlFEIIIYQQQgBWlg5ACCGEEEKkHJIcCiGEEEIII0kOhRBCCCGEkSSHQgghhBDCSJJDIYQQQghhJMmhEEIIIYQwkuRQCCGEEEIYSXIohBBCCCGMJDkUQgghhBBGkhwKId6JCRMmoNPpCAgIsHQoFnPjxg10Oh0rVqywdCgiDitWrECn03Hjxg1LhyKERUlyKEQyOnnyJAMGDKB48eI4OTmRN29e2rZty9WrV+M8/tKlSzRq1AhnZ2cyZ85Mly5dePjwockxly9fZsSIEZQuXZqMGTPi7u5O06ZNOXXqVKzytmzZQsOGDfHw8MDe3p7cuXPTunVrzp8/b1b8tWrV4oMPPkj8hVtIrVq10Ol0FC5cOM7nfXx80Ol06HQ6fvnll3ccnXlOnDiBTqfj22+/jfVcy5Yt0el0LF++PNZzNWrUIFeuXImqa+3atcyZM+dNQ30jqe0zJUR6JMmhEMlo+vTpbNq0ibp16zJ37lz69u3LwYMHKVu2bKwE7b///qNGjRpcv36dadOmMWzYMH7//Xfq169PRESE8bilS5fyww8/UK5cOWbNmsXQoUO5cuUKlSpVYs+ePSZl/v3337i5uTF48GAWLVrEJ598wpkzZ6hQoQJnz559J6/Bu+bg4MD169c5ceJErOfWrFmDg4ODBaIyX9myZXF0dOTQoUOxnjty5Ag2NjYcPnzYZH9ERAQnT56katWqiarLEsmhECLls7F0AEKkZUOHDmXt2rXY2dkZ97Vr144SJUrw9ddf89NPPxn3T5s2jdDQUE6fPk3evHkBqFChAvXr12fFihX07dsXgA4dOjBhwgScnZ2N5/bs2ZOiRYsyYcIE6tWrZ9w/bty4WDH17t2b3Llzs3jxYpYsWZLk12xpBQsWJCoqinXr1lGhQgXj/rCwMLZs2ULTpk3ZtGmTBSNMmI2NDRUrVoyVAF65coWAgAA6duwYK3E8ffo0YWFhVKtW7V2GGie9Xk9ERESKT8KFEPGTlkMhklGVKlVMEkOAwoULU7x4cS5dumSyf9OmTTRr1syYGALUq1ePIkWKsGHDBuM+Ly8vk8QQIEuWLFSvXj1WmXHJnj07jo6OBAYGvsEVxXbu3Dm6d+9OgQIFcHBwIGfOnPTs2ZNHjx699tybN29SqFAhPvjgA/z9/QEIDAxkyJAh5MmTB3t7ewoVKsT06dPR6/Vmx9ShQwfWr19vcs7WrVt59uwZbdu2jfOcO3fu0LNnT3LkyIG9vT3Fixdn2bJlJsdEREQwbtw4vLy8cHV1xcnJierVq7N///5Y5QUGBtK9e3dcXV3JlCkT3bp1M/s1r1atGv7+/ly/ft247/Dhw7i4uNC3b19johjzOcN5AL/++itNmzY1dicoWLAgkydPJjo62nhOrVq1+P3337l586bxVnv+/PmNz4eHhzN+/HgKFSqEvb09efLkYcSIEYSHh5vEqtPpGDBgAGvWrKF48eLY29uzc+dOs64zITt27KB69eo4OTmRMWNGmjZtyoULF4zPf/PNN+h0Om7evBnr3FGjRmFnZ8eTJ0+M+44fP06jRo1wdXXF0dGRmjVrxkrAhRAaaTkU4h1TSuHv70/x4sWN++7cucODBw8oV65crOMrVKjA9u3bX1vu/fv3yZo1a5zPBQYGEhkZyf3795kzZw7BwcHUrVv3zS8iBh8fH/7991969OhBzpw5uXDhAt9//z0XLlzg2LFj6HS6OM/7559/qFOnDpkzZ8bHx4esWbPy7NkzatasyZ07d/j444/JmzcvR44cYdSoUdy7d8/sW6AdO3ZkwoQJHDhwgDp16gDaLdS6deuSPXv2WMf7+/tTqVIlY6KTLVs2duzYQa9evQgODmbIkCEABAcHs3TpUjp06ECfPn14+vQpP/74Iw0bNuTEiROULl0a0N7jli1bcujQIfr160fRokXZsmUL3bp1Myt+Q5J36NAhChUqBGgJYKVKlahYsSK2trYcOXKEFi1aGJ/LmDEjpUqVArSBFc7OzgwdOhRnZ2f27dvHuHHjCA4OZubMmQCMHj2aoKAg/vvvP2P/RsM/HXq9nhYtWnDo0CH69u1L0aJF+fvvv/n222+5evUq3t7eJvHu27ePDRs2MGDAALJmzWqSZL6J1atX061bNxo2bMj06dN59uwZixcvplq1apw5c4b8+fPTtm1bRowYwYYNGxg+fLjJ+Rs2bKBBgwa4ubkZ42vcuDFeXl6MHz8eKysrli9fTp06dfjzzz9NWpiFEIASQrxTq1evVoD68ccfjftOnjypALVq1apYxw8fPlwBKiwsLN4yDx48qHQ6nRo7dmycz7/33nsKUIBydnZWY8aMUdHR0a+NtWbNmqp48eIJHvPs2bNY+9atW6cAdfDgQeO+8ePHK0A9fPhQXbp0SXl4eKjy5curx48fG4+ZPHmycnJyUlevXjUp74svvlDW1tbq1q1bZsdbrlw51atXL6WUUk+ePFF2dnZq5cqVav/+/QpQGzduNJ7Xq1cv5e7urgICAkzKa9++vXJ1dTVeY1RUlAoPDzc55smTJypHjhyqZ8+exn3e3t4KUDNmzDDui4qKUtWrV1eAWr58eYLXERwcrKytrY3xK6W9hxMnTlRKKVWhQgU1fPhw43PZsmVT9evXNz6O6z35+OOPlaOjo8nnqGnTpipfvnyxjl29erWysrJSf/75p8n+JUuWKEAdPnzYuA9QVlZW6sKFCwlek8HrPlNPnz5VmTJlUn369DHZf//+feXq6mqyv3LlysrLy8vkuBMnTpj8LOn1elW4cGHVsGFDpdfrjcc9e/ZMeXp6mrxuy5cvV4Dy8/Mz61qESKvktrIQ79Dly5fp378/lStXNmlFev78OQD29vaxzjH03TIc86oHDx7QsWNHPD09GTFiRJzHLF++nJ07d7Jo0SKKFi3K8+fPTW4xvo0MGTIYt8PCwggICKBSpUoA/PXXX7GOP3/+PDVr1iR//vzs2bPH2LoDsHHjRqpXr46bmxsBAQHGr3r16hEdHc3BgwfNjqtjx45s3ryZiIgIfvnlF6ytrfnwww9jHaeUYtOmTTRv3hyllEm9DRs2JCgoyHgd1tbWxm4Cer2ex48fExUVRbly5Uyudfv27djY2PDJJ58Y91lbWzNw4ECzYs+YMSMlS5Y09i0MCAjgypUrVKlSBYCqVasab4levXqVhw8fmvQ3jPmePH36lICAAKpXr86zZ8+4fPnya+vfuHEjRYsW5f333zd5PQytsK/eRq9ZsybFihUz69pex8fHh8DAQDp06GBSt7W1NRUrVjSpu127dpw+fZp//vnHuG/9+vXY29vTsmVLAHx9fbl27RodO3bk0aNHxvJCQ0OpW7cuBw8eTFSXBSHSA7mtLMQ7cv/+fZo2bYqrq6sxWTEw/DF/tT8XaAlXzGNiCg0NpVmzZjx9+pRDhw7F6otoULlyZeN2+/btKVq0KKD123pbjx8/ZuLEifz88888ePDA5LmgoKBYxzdv3pwcOXKwa9euWPFeu3aNc+fOkS1btjjrerX8hLRv355hw4axY8cO1qxZQ7NmzciYMWOs4x4+fEhgYCDff/8933///WvrXblyJbNmzeLy5ctERkYa93t6ehq3b968ibu7e6zre++998yOv1q1asyfP5+AgACOHDmCtbW1MemuUqUKixYtIjw8PFZ/Q4ALFy4wZswY9u3bR3BwsEm5cb0nr7p27RqXLl0y+32Iee1v69q1awDGRPRVLi4uxu02bdowdOhQ1q9fz5dffolSio0bN9K4cWPjcYbyErqlHxQUZPJPihDpnSSHQrwDQUFBNG7cmMDAQP788088PDxMnnd3dwfg3r17sc69d+8emTNnjtWqGBERwf/+9z/OnTvHrl27zJ47zs3NjTp16rBmzZokSQ7btm3LkSNHGD58OKVLl8bZ2Rm9Xk+jRo3ibJH56KOPWLlyJWvWrOHjjz82eU6v11O/fv14W0CLFClidlzu7u7UqlWLWbNmcfjw4XhHKBti7Ny5c7wJRMmSJQH46aef6N69O61atWL48OFkz54da2trvvrqK5PWq6RgSA4PHz7MkSNHKFGihDHZrFKlCuHh4Zw8eZJDhw5hY2NjTBwDAwOpWbMmLi4uTJo0iYIFC+Lg4MBff/3FyJEjzWol0+v1lChRgtmzZ8f5fJ48eUwex/WPy5syxLd69Wpy5swZ63kbm5d/tjw8PKhevTobNmzgyy+/5NixY9y6dYvp06fHKm/mzJnGPqGviu+fKiHSK0kOhUhmYWFhNG/enKtXr7Jnz544b7/lypWLbNmyxTmRdcyBDgZ6vZ6uXbuyd+9eNmzYQM2aNRMV0/Pnz81qQXqdJ0+esHfvXiZOnGgybY6htSYuM2fOxMbGhk8//ZSMGTPSsWNH43MFCxYkJCTEZDqet9GxY0d69+5NpkyZaNKkSZzHZMuWjYwZMxIdHf3aen/55RcKFCjA5s2bTQbajB8/3uS4fPnysXfvXkJCQkwSjytXrpgde8xBKUePHjWZw9DDw4N8+fJx+PBhDh8+TJkyZXB0dATgwIEDPHr0iM2bN1OjRg3jOX5+frHqiG+wUMGCBTl79ix169aN95jkUrBgQUAbVW/O56Bdu3Z8+umnXLlyhfXr1+Po6Ejz5s1jlefi4pJknysh0jrpcyhEMoqOjqZdu3YcPXqUjRs3mtzefdVHH33Etm3buH37tnHf3r17uXr1Km3atDE5duDAgaxfv55Fixbxv//9L94y47oNe+PGDfbu3RvnyOjEMtwaV0qZ7E9oVLFOp+P777+ndevWdOvWjd9++834XNu2bTl69Ci7du2KdV5gYCBRUVGJiq9169aMHz+eRYsWxZpSKOY1fPTRR2zatCnOlWNirlAT1/UeP36co0ePmpzTpEkToqKiWLx4sXFfdHQ08+fPNzt2Dw8PPD092bt3L6dOnTL2NzSoUqUK3t7eXLlyxeSWclwxRkREsGjRolh1ODk5xflPQtu2bblz5w4//PBDrOeeP39OaGio2deRWA0bNsTFxYVp06aZ3LY3eHXFoI8++ghra2vWrVvHxo0badasGU5OTsbnvby8KFiwIN988w0hISGvLU8IIS2HQiSrzz//nN9++43mzZvz+PFjk0mvQbuVafDll1+yceNGateuzeDBgwkJCWHmzJmUKFGCHj16GI+bM2cOixYtonLlyjg6OsYq88MPPzT+cSxRogR169aldOnSuLm5ce3aNX788UciIyP5+uuvzbqGhw8fMmXKlFj7PT096dSpEzVq1GDGjBlERkaSK1cudu/eHWcrVUxWVlb89NNPtGrVirZt27J9+3bq1KnD8OHD+e2332jWrBndu3fHy8uL0NBQ/v77b3755Rdu3LgR73Q9cXF1dWXChAmvPe7rr79m//79VKxYkT59+lCsWDEeP37MX3/9xZ49e3j8+DEAzZo1Y/PmzXz44Yc0bdoUPz8/lixZQrFixUwSj+bNm1O1alW++OILbty4QbFixdi8eXOiW2urVavG6tWrAWKtflKlShXWrVtnPC7mfjc3N7p168agQYPQ6XSsXr06VgIPWuK0fv16hg4dSvny5XF2dqZ58+Z06dKFDRs20K9fP/bv30/VqlWJjo7m8uXLbNiwgV27dr3VPxev+0wtXryYLl26ULZsWdq3b0+2bNm4desWv//+O1WrVmXBggXGc7Jnz07t2rWZPXs2T58+pV27diZlWllZsXTpUho3bkzx4sXp0aMHuXLl4s6dO+zfvx8XFxe2bt36xtciRJpkwZHSQqR5NWvWNE4hE9fXq86fP68aNGigHB0dVaZMmVSnTp3U/fv3TY7p1q1bgmXGnIZj/Pjxqly5csrNzU3Z2NgoDw8P1b59e3Xu3Lm3jr9u3bpKKaX+++8/9eGHH6pMmTIpV1dX1aZNG3X37l0FqPHjx5vEwoupbAyePXumatasqZydndWxY8eUUtpUJqNGjVKFChVSdnZ2KmvWrKpKlSrqm2++UREREa+N93VT78Q1lY1SSvn7+6v+/furPHnyKFtbW5UzZ05Vt25d9f333xuP0ev1atq0aSpfvnzK3t5elSlTRm3btk1169Yt1pQwjx49Ul26dFEuLi7K1dVVdenSRZ05c8asqWwMvvvuOwWoXLlyxXrur7/+Mr4X/v7+Js8dPnxYVapUSWXIkEF5eHioESNGqF27dilA7d+/33hcSEiI6tixo8qUKZMCTK4hIiJCTZ8+XRUvXlzZ29srNzc35eXlpSZOnKiCgoKMxwGqf//+Zl2PUuZ9ppTS3qeGDRsqV1dX5eDgoAoWLKi6d++uTp06FavMH374QQEqY8aM6vnz53HWe+bMGfW///1PZcmSRdnb26t8+fKptm3bqr179xqPkalshNDolIrj30khhBBCCJEuSZ9DIYQQQghhJMmhEEIIIYQwkuRQCCGEEEIYSXIohBBCCCGMJDkUQgghhBBGkhwKIYQQQggjmQQ7Gen1eu7evUvGjBnf+RJUQgghhHgzSimePn2Kh4cHVlbprx1NksNkdPfu3VgL1AshhBAidbh9+za5c+e2dBjvnCSHyShjxoyAtuB95syZk7z8yMhIdu/eTYMGDbC1tU3y8qWOlFVHWrgGqSPllC91pKw60sI1pKU6Hj9+jKenp/HveHojyWEyMtxKzpgxIy4uLklefmRkJI6Ojri4uCTrD6HUkTLqSAvXIHWknPKljpRVR1q4hrRWB5Buu4SlvxvpQgghhBAiXpIcCiGEEEIII0kOhRBCCCGEkSSHQgghhBDCSJJDIYQQQghhJMmhEEIIIYQwkuRQCCGEEEIYSXIohBBCCCGMJDkUQgghhBBGkhwKIYQQQggjSQ6FEEIIIYSRJIdCCCGEEMJIkkMhhBBCCGEkyaEQQgghhDCS5FAIIYQQQhhJciiEEIkRFgZLlmDdqBE5Tp2ydDRCCJHkbCwdgBBCpAqhofDdd/DNN3DvHlZAkTt3YNw4S0cmhBBJSpJDIYRISESElhDOng2PHmn7smeHBw9w8fNDRUWBra1lYxRCiCQkt5WFECI+YWHQujWMHq0lhoUKwdKlcPMmytkZm4gIuHzZ0lEKIUSSkuRQCCHi8uwZtGgBW7eCgwOsWAGXLkGvXuDggCpVCgDdX39ZNk4hhEhikhwKIcSrnj6FRo3AxwecnGDHDujWDWxe9sRRZcsCoPP1tVCQQgiRPKTPoRBCxPTkCTRuDMePg4sL7NwJlSvHOkyVKQNIy6EQIu2R5FAIIQwCA6FOHfD1hcyZYfdu8PKK81CTlsPoaLC2fmdhCiFEcpLbykIIYTBggJYYZs8OBw7EmxgC8N57RNnbo3v2DK5efVcRCiFEspPkUAiR9pw/j8PDh4k7Z/16WLMGrKzg11+hRImEj7e2JsjTU9s+ffrN4hRCiBRIkkMhRNqycCG2ZctS/+OPse7RQxth/Dp37sAnn2jbX34JlSqZVVVQwYLahiSHQog0RJJDIUTa8c032q1hwEqvx2rNGiheHNq0gTNn4j5HKejZUxuI4uWVqBVPAiU5FEKkQZIcCiFSP6Vg0iQYPhyA6JEj+WPmTPQtWmjP/fILlC0LTZvCkSOm5y5apA08cXCA1asTtdpJYIEC2saZM6DXJ9XVCCGERUlyKIRI3ZTSbgWPH689njIF/eTJBBYuTPQvv8Dff0PHjlpfwu3boWpVqF0b9uyBK1eMCSXTp0PRoomqOiRPHlSGDBASAteuJfGFCSGEZVg0OTx48CDNmzfHw8MDnU6Ht7e3yfNKKcaNG4e7uzsZMmSgXr16XIvnF3B4eDilS5dGp9PhG2NS2gkTJqDT6WJ9OTk5JRhbXOf8/PPPb3vJQoikpBR89hl8/bX2ePZsbam7mD74QBtocuWKtrqJra02Erl+fa018flzqFfPeDs6UdVbW6NKltQeyK1lIUQaYdHkMDQ0lFKlSrFw4cI4n58xYwbz5s1jyZIlHD9+HCcnJxo2bEhYWFisY0eMGIGHh0es/cOGDePevXsmX8WKFaNNmzavjW/58uUm57Vq1SrR1yiESEYzZ8Lcudr24sVaohgfw7rI//wDAwdqt5GfPYNMmWD5cq1l8Q0YJsNGJsMWQqQRFp0Eu3HjxjRu3DjO55RSzJkzhzFjxtCyZUsAVq1aRY4cOfD29qZ9+/bGY3fs2MHu3bvZtGkTO3bsMCnH2dkZZ2dn4+OzZ89y8eJFlixZ8tr4MmXKRM6cOd/k0oQQye233+CLL7TtefOgXz/zzsuTRzt+9GitRbFGDcid+43DMEyGLS2HQoi0IsWukOLn58f9+/epV6+ecZ+rqysVK1bk6NGjxuTQ39+fPn364O3tjaOj42vLXbp0KUWKFKF69eqvPbZ///707t2bAgUK0K9fP3r06IFOp4v3+PDwcMLDw42Pg4ODAYiMjCQyMvK19SWWoczkKFvqSHl1pIVrSLI6/v4bm06d0ClF9Mcfo+/XD2KUZ1YdmTNrLYjagYkOwVhHiRLYAOqvv4gKD3/jFsh4y0/p74XUkSrKlzrerI70SqeUUpYOArQ+flu2bDHeuj1y5AhVq1bl7t27uLu7G49r27YtOp2O9evXo5SiSZMmVK1alTFjxnDjxg08PT05c+YMpUuXjlVHWFgYHh4efPHFF4wYMSLBeCZPnkydOnVwdHRk9+7djB8/nhkzZjBo0KB4z5kwYQITJ06MtX/t2rVmJa5CCI1VRASVpkzB5vlz/mnRgjtVqhiXp7MLDKTm8OE4PnzIwxIlODp+PMrGcv/n6qKiaNqhA9aRkexZtIjQOLq3CCFSl2fPntGxY0eCgoJwcXGxdDjvXIptOTTH/Pnzefr0KaNGjTLr+C1btvD06VO6dev22mPHjh1r3C5TpgyhoaHMnDkzweRw1KhRDB061Pg4ODiYPHnyULt2bbJkyWJWjIkRGRmJj48P9evXxzYR029IHamzjrRwDebWYTV1KtbnzgFQbtYsvH79legRI1CtW2PdrBlWDx+iChUik48PjTNntuh11GvcGF2pUnDqFLVcXFBNmiRp+ZZ+L6SOd1NHWriGtFTHo0ePkqXc1CLFJoeGvn7+/v4mLYf+/v7GVsF9+/Zx9OhR7O3tTc4tV64cnTp1YuXKlSb7ly5dSrNmzciRI0ei46lYsSKTJ08mPDw8Vn0G9vb2cT5na2ubbB/gd1G+1JGy6kgL15BgHTduaNPKAHToALt2obt+HZu+fWHIEG0Qiasruq1bsX3Nz/K7ug6rcuXg1Clszp6FTp2SvPw0/X5LHe+0fKnD/LLTsxQ7z6Gnpyc5c+Zk7969xn3BwcEcP36cypUrAzBv3jzOnj2Lr68vvr6+bN++HYD169czdepUk/L8/PzYv38/vXr1eqN4fH19cXNzizcxFEIkkaFDISwMatXSBozcvKmNSs6RQ0sMraxgwwZ4/31LR/qSl5f2XQalCCHSAIu2HIaEhHD9+nXjYz8/P3x9fcmcOTN58+ZlyJAhTJkyhcKFC+Pp6cnYsWPx8PAw9kvMmzevSXmGUckFCxYk9yujD5ctW4a7u3uco6O3bNnCqFGjuHz5MgBbt27F39+fSpUq4eDggI+PD9OmTWPYsGFJeflCiFft2gVbtmj9C+fPB50OnJ1h2DDo3x82boRcuaBuXUtHasowYvmvv7S5FxMYuCaEECmdRZPDU6dOUbt2beNjQ3+9bt26sWLFCkaMGEFoaCh9+/YlMDCQatWqsXPnThwcHBJVj16vZ8WKFXTv3h3rF53aYwoKCuLKlSvGx7a2tixcuJDPPvsMpRSFChVi9uzZ9OnT5w2vVAjxWhERYOjTO3CgNnl1TBkyQNeu7z4uc3zwAdjZQWAg+PmBYVk9IYRIhSyaHNaqVYuEBkvrdDomTZrEpEmTzCovf/78cZZnZWXF7du34z2ve/fudO/e3fi4UaNGNGrUyKw6hRBJZM4cuHoVsmeHCRMsHU3i2NlBiRLabeXTpyU5FEKkaim2z6EQIh25cwcM/wTOmAGurpaN500Y+h2uWwePH1s2FiGEeAuSHAohLG/4cAgNhSpVoEsXS0fzZgxT2GzZAvnywciR4O9v2ZiEEOINSHIohLCse/e01jbQBqEk0Qoj71zLltoo6pIlISREawHNn1/rPxkUZOnohBDCbKn0t7AQIs3YvVv77uX1ctRvatWmDfj6aus+V6yoTcmzYAF8/LGlIxNCCLNJciiEsKxdu7TvDRtaNo6kotNB8+Zw9KiWJII2BU+MabuEECIlk+RQCGE5ej34+GjbaSU5NDAkiU2aaNc5a5alIxJCCLNIciiEsJy//oKAAMiYEV6sfJTmjBihfV++XAaoCCFSBUkOhRCWY7ilXKcOpNW1TGvUgAoVIDxcG3AjhBApnCSHQgjLSWv9DeOi071sPVy4UBvJLIQQKZgkh0IIywgO1gZtQNpODgFatYLChbXl9ZYutXQ0QgiRIEkOhRAWodu/H6KioFChtL/cnLU1DBumbc+eDZGRlo1HCCESIMmhEMIidGl1lHJ8unaFHDng9m34+WdLRyOEEPGS5FAI8e4phVV6Sw4dHGDwYG17xgxQyrLxCCFEPCQ5FEK8c0737qHz89NGKNeubelw3p1+/cDZGc6fhx07LB2NEELESZJDIcQ7l/3MGW2jalUtWUov3NxeLqX3xRdan0shhEhhJDkUQrxzxuQwvdxSjmnUKMicGf7+GxYtsnQ0QggRiySHQoh3KyKCrOfPa9vpMTnMkgWmTtW2x46VVVOEECmOJIdCiHdKd+QINmFhqBw5oFQpS4djGX36QNmy2lyPo0ZZOhohhDAhyaEQ4p3S7d4NgKpXD6zS6a8ga2tYsEDbXr4cjh2zbDxCCBFDOv3NLISwFMMUNvr69S0ciYVVrgzdu2vbAwZAdLRFwxFCCANJDoUQ786uXejOnkVvZaW1HKZ3X38NLi5w+jT8+KOloxFCCECSQyHEuxIRAYMGAeDXtClkz27hgFKAHDlg0iRte9QouHxZJscWQlicjaUDEEKkE3PmwNWrqBw5uNy+PXktHU9K0b8/LF2qTYxdtCh4eED16lhVrUpGkGRRCPHOScuhECL53bljbCGLnjaNKCcnCweUgtjYaGstV6+urRhz9y6sX4/1oEHUGTQI69q1tdVUJEkUQrwjkhwKIZLfsGEQGgpVqqA6dbJ0NClP8eJw8CAEBsL+/TBpEvq6dYm2scHqyBFo0gTKlYNNm0Cvt3S0Qog0TpJDIUTyOnBAaxnT6bTpW9Lr9DXmcHSEWrVg7Fiid+zA5/vvif7sM23/X39B69ZQsiT8+6+lIxVCpGHyW1oIkXwiI2HgQG27Xz8oU8ay8aQy4Zkzo58+HW7ehDFjwNUVLlzQ1mUWQohkIsmhECL5LFqkDbTIkgWmTLF0NKlX1qwweTL8+af2eNMmuH7dsjEJIdIsSQ6FEMljx46XLVzTpkHmzJaNJy0oUULrf6jXw6xZlo5GCJFGSXIohEh6W7ZAy5YQFgYtWkCvXpaOKO0YMUL7vnw5+PtbNhYhRJokyaEQImmtWwdt2mj9Ddu0gV9+0dYSFkmjRg2oUAHCw1+uzyyEEElIkkMhRNJZtgw6ddLWCe7aFdau1ebuE0lHp4ORI7XthQshJMSy8Qgh0hxJDoUQSeO777Tbx0ppI5OXL9cmeBZJr2VLKFwYnjzRVlcRQogkJMmhEOLt3bplXDeZzz7TRinLfIbJx9pam1gcYPZs7Ra+EEIkEfntLYR4e5MnQ0SENoHzrFnarU+RvLp2hRw54PZtWL/e0tEIIdIQSQ6FEG/n2jXtFjLA1KmSGL4rDg4weLC2PWOGrL0shEgykhwKId7OhAnaAJQmTaBKFUtHk7706wfOzvD337B7t6WjEUKkEZIcCiHe3Pnz2tQ1ICugWIKbG/TsqW3/8INlYxFCpBmSHAoh3tzYsdrtzNatZd1kSzFMMP7bbxAQYNlYhBBpgiSHQog3c/IkeHtro5InTbJ0NOlXyZJQtqw2YnntWktHI4RIAyQ5FEK8mTFjtO+dO0PRopaNJb3r0UP7vmKFRcMQQqQNkhwKIRLv4EFtAISNDYwfb+loRIcOYGcHZ87A2bOWjkYIkcpJciiESDxDQtinDxQoYNlYBGTJAi1aaNuGaYWEEOINSXIohEicq1fhwAGtr+GXX1o6GmFguLW8Zo02IbkQQrwhSQ6FEIlj6NfWqBHkzm3RUEQMDRqAu7s2YnnbNktHI4RIxSQ5FEKYLzoaVq3Stg0tVSJlsLHRltQDubUshHgrkhwKIczn4wN37kDmzNC8uaWjEa8yJOw7dsD9+5aNRQiRaklyKIQwn6FFqlMnsLe3bCwitvfeg8qVtRben36ydDRCiFTKosnhwYMHad68OR4eHuh0Ory9vU2eV0oxbtw43N3dyZAhA/Xq1ePatWtxlhUeHk7p0qXR6XT4+voa90+YMAGdThfry8nJKcHYbt26RdOmTXF0dCR79uwMHz6cqKiot71kIVKvJ0+0Sa9BbimnZIb3ZvlybfUaIYRIJIsmh6GhoZQqVYqFCxfG+fyMGTOYN28eS5Ys4fjx4zg5OdGwYUPCwsJiHTtixAg8PDxi7R82bBj37t0z+SpWrBht2rSJN67o6GiaNm1KREQER44cYeXKlaxYsYJx48a9+cUKkdqtW6eNgi1ZEkqXtnQ0Ij5t20KGDHDxIuzcaelohBCpkEWTw8aNGzNlyhQ+/PDDWM8ppZgzZw5jxoyhZcuWlCxZklWrVnH37t1YLYw7duxg9+7dfPPNN7HKcXZ2JmfOnMYvf39/Ll68SC/DeqRx2L17NxcvXuSnn36idOnSNG7cmMmTJ7Nw4UIiZIoIkV4Zbin36AE6nWVjEfFzddVWrQH46CNtsnIhhEiEFNvn0M/Pj/v371OvXj3jPldXVypWrMjRo0eN+/z9/enTpw+rV6/G0dHxteUuXbqUIkWKUL169XiPOXr0KCVKlCBHjhzGfQ0bNiQ4OJgLFy684RUJkYqdPw+nTmkjYjt1snQ04nXmzoUmTeD5c23g0Natlo5ICJGK2Fg6gPjcfzHSLmaCZnhseE4pRffu3enXrx/lypXjxo0bCZYZFhbGmjVr+OKLL15bd1z1xowrLuHh4YSHhxsfBwcHAxAZGUlkZGSCdb4JQ5nJUbbUkfLqsOQ1WP34I9aAvmlTojNlgreIIS28F++ijrcq38YGNmzAunNnrLy9Uf/7H9ErV6Je6U6TFl6ntFJHWriGtFhHeqVTKmX0WNbpdGzZsoVWrVoBcOTIEapWrcrdu3dxd3c3Hte2bVt0Oh3r169n3rx5bNiwgT/++ANra2tu3LiBp6cnZ86coXQcfaLWrVtH165d+e+//2IlfzH17duXmzdvsmvXLuO+Z8+e4eTkxPbt22ncuHGc502YMIGJEyfG2r927VqzWjWFeKeUwiYsjKgMGRI8TBcVRYNevXAICuLYl1/iX6HCOwpQvC1ddDRl5s4lz8GDKCsrzgwcyO3atS0dlhAp3rNnz+jYsSNBQUG4uLhYOpx3LsW2HObMmRPQbhvHTA79/f2Nid++ffs4evQo9q9MqVGuXDk6derEypUrTfYvXbqUZs2aJZgYGuo+ceKEyT5/f3+TuOIyatQohg4danwcHBxMnjx5qF27NlmyZEmwzjcRGRmJj48P9evXx9bWNsnLlzpSVh1JWn5wMNZt2qA7doxob2/Ui4Qhrjp0W7diExSEyp4dr9Gj4S3rTgvvxbuoI8nKb9IEff/+WC1bRtm5cynZtCmqVq2krSMBUkfKKF/qSJxHjx4lS7mpRYpNDj09PcmZMyd79+41JoPBwcEcP36cTz75BIB58+YxZcoU4zl3796lYcOGrF+/nooVK5qU5+fnx/79+/ntt99eW3flypWZOnUqDx48IHv27AD4+Pjg4uJCsWLF4j3P3t4+VqIKYGtrm2wf4HdRvtSRMurQbdlC/QEDsG/TBuuRIyFv3jcr6PFjrT/ai3+AbAYOhL//Bjs74yEm17B0qVZ/ly7YJmELeGp+L95lHW9dvq0t/PADREXBqlXYjBkDx46ZDCpKC69TWqkjLVxDWqgjuWNP6Sw6ICUkJARfX1/jvIR+fn74+vpy69YtdDodQ4YMYcqUKfz222/8/fffdO3aFQ8PD+Ot57x58/LBBx8Yv4oUKQJAwYIFyf3Kmq/Lli3D3d09zlvCW7Zs4f333zc+btCgAcWKFaNLly6cPXuWXbt2MWbMGPr37x9n8idEsouMxHr4cBwfPsR60SIoWBB69oSrVxNXzsOHUKeOlhhmyQLZsmllzJkT9/Hr1mmrbVhbQ+/eb30ZwkKsrGDGDHB01N57M/5JFkKkXxZNDk+dOkWZMmUoU6YMAEOHDqVMmTLG+QRHjBjBwIED6du3L+XLlyckJISdO3fi4OCQqHr0ej0rVqyge/fuWFtbx3o+KCiIK1euGB9bW1uzbds2rK2tqVy5Mp07d6Zr165MmjTpLa5WiLewYQO6W7cId3VFX7u21gq0fDkULQrt2mlJ3H//JVzGvXtQsyacPQs5csCBAzBzpvbcpEnasngx/fcffPqptj12LMT4B0qkQjlywODB2vbYsaDXWzYeIUSKZdHbyrVq1SKh8TA6nY5JkyaZnZTlz58/zvKsrKy4fft2vOd1796d7t27m+zLly8f27dvN6teIZKVUlqrD/Bvs2YUWr4cq1OnYOpU+P132LBB+wLw9ITq1aFCBYj5T5RSMH06XL8OuXPD3r1QpAgUKwbffw9HjsDw4WDop6vXQ/fuEBiolfXll+/0kkUyGT4cFi3SuhGsXw+tW1s6IiFECpRi+xwKIV7YvRvOnUM5OeHXuDGFQFs/d9s28PWFVavg4EE4cwb8/LSvVaviLit/fti3T0siQbvduGABeHnBunXoXkwOb7VokZZAZsgAq1e/9SAUkUK4ucGwYVrL4fjx8KKLjhBCxCTJoRAp3fTpAOh79ybS2dn0udKlXy5lFxwMR4/Cn39qLUOv3jbMkQMmTNBaDmMqUwb69YPFi7EePJiMffpgZWgp/OYbrYVRpB2DB2uTZF+7hm71au1zIYQQMUhyKERKdvIk7N8PNjboBw3Skr74uLhAw4baV2JNmaL1a7xwgepffokuLEwr58XMACINyZgRRo2Czz/HeupUrGbNsnREQogUJsUunyeEwNjXkI4dIU+e5Ksnc2aYNg0A22fPUG5usGyZrKGcVn3yCXh4oLt1i3wxJvsXQgiQ5FCIlOv6ddi0SdseNiz56+vVC/2L1U+iFy4ED4/kr1NYRoYMWr9DoMgvv0A6n/BXCGFKkkMhUqpZs7RRxk2aQIkSyV+ftTXRO3awd/58lIxiTft69kQVKIBDYCA25cppUxvF5/Rp2L4dIiLeWXhCCMuR5FCIlMjfX5vHEGDkyHdXb8aMhCTn7WuRctjZEbVxI09z5UJ35442Ofro0RAZqT2vlNbftW5dKFcOmjaFQoW00e3Pn1s2diFEspLkUIiU6PvvITwcKlbU5i0UIjmUKMEfs2ah79FDSwanTdM+b2vWQNWqWsK4bx/Y2EDWrHD7NgwcqE2FNGMGPH1q6SsQQiQDSQ6FSIm8vbXvH38sg0JEsop2cCD6u++0SbFdXeH4cejcWZsWyd4e+vfX+r/evg0LF0K+fFrL9siR2jRKwcGWvgQhRBKT5FCIlObOHfjrLy0pbNrU0tGI9KJtW21pxVq1tOluhg+HGze028j58mkr7nz6KVy7BitWaC2J//6rTZYuhEhTJDkUIqUxLNtYsSJkz27ZWET6ki+f1s8wMFC7bZwzZ+xjbG2hWzf46CPt8eHD7zREIUTyk+RQiJRm2zbte7Nmlo1DpF9WZvxpqFpV+y7JoRBpjiSHQqQkz5/Dnj3atiSHIiUzJIenT8voZSHSGEkOhUhJDhyAZ8+09Y9LlrR0NELEz9MT3N21qW9OnrR0NEKIJCTJoRApScxbyjJKWaRkOp3cWhYijZLkUIiUQinpbyhSF0kOhUiTJDkUIqU4fx5u3dLWva1Tx9LRCPF6huTwyBHQ6y0bixAiyUhyKERKYWg1rFtXSxCFSOlKlwZHR3jyBC5ftnQ0QogkIsmhECmFITls3tyycQhhLltbqFBB25Zby0KkGZIcCpESBARoy5WBrIoiUpdq1bTvhw5ZNg4hRJKR5FCIlGD7dm1ASpkykCuXpaMRwnwyKEWINEeSQyFSAhmlLFKrypW1aW3++Qf8/S0djRAiCbxRchgZGcnt27e5cuUKjx8/TuqYhEhfIiJg1y5tW5JDkdq4usIHH2jb0nooRJpgdnL49OlTFi9eTM2aNXFxcSF//vwULVqUbNmykS9fPvr06cNJmSVfiMQ7dAiCgyF7dihXztLRCJF4cmtZiDTFrORw9uzZ5M+fn+XLl1OvXj28vb3x9fXl6tWrHD16lPHjxxMVFUWDBg1o1KgR165dS+64hUg7Nm3SvjdpAlbS00OkQpIcCpGm2Jhz0MmTJzl48CDFixeP8/kKFSrQs2dPFi9ezIoVK/jzzz8pXLhwkgYqRJoUFgZr12rbHTtaNhYh3pQhOfzrL21tcEdHy8YjhHgrZiWH69atM6swBwcH+vXr91YBCZGu/PorBAZCnjyyKopIvfLnBw8PuHsXTp6EmjUtHZEQ4i0k+h5Wz549efr0aaz9oaGh9OzZM0mCEiLdWL5c+96tG1hbWzYWId6UTie3loVIQxKdHK5cuZLnz5/H2v/8+XNWrVqVJEEJkS7cuQM+Ptp29+4WDUWItybJoRBphlm3lQGCg4NRSqGU4unTpzg4OBifi46OZvv27WTPnj1ZghQiTVq1CvR6qFEDCha0dDRCvB1DcnjkiPa5lsFVQqRaZieHmTJlQqfTodPpKFKkSKzndTodEydOTNLghEizlHp5S7lHD8vGIkRSKF0anJ21PrQHDkgfWiFSMbOTw/3796OUok6dOmzatInMmTMbn7OzsyNfvnx4eHgkS5BCpDlHjsC1a+DkBK1bWzoaId6ejY3WPWLBApgxQ5JDIVIxs5PDmi9Gn/n5+ZE3b150Ol2yBSVEmmdoNWzTRmttESItGDoUFi3SVvw5exZKlbJ0REKIN5DoTiH58uXj0KFDdO7cmSpVqnDnzh0AVq9ezaFDh5I8QCHSnNBQ2LBB25ZbyiIt8fSEtm217ZkzLRuLEOKNJTo53LRpEw0bNiRDhgz89ddfhIeHAxAUFMS0adOSPEAh0pzNm+HpU20QSvXqlo5GiKQ1fLj2/eef4cYNi4YihHgziU4Op0yZwpIlS/jhhx+wtbU17q9atSp//fVXkgYnRJpkuKXcvbs2P5wQaUnZslCvHkRHw7ffWjoaIcQbSHRyeOXKFWrUqBFrv6urK4GBgUkRkxBpl58f7N+vJYXdulk6GiGSx8iR2velS+HRI8vGIoRItEQnhzlz5uT69eux9h86dIgCBQokSVBCpFmGpSjr1tWWzBMiLapbF8qUgWfPsFq82NLRCCESKdHJYZ8+fRg8eDDHjx9Hp9Nx9+5d1qxZw7Bhw/jkk0+SI0Yh0o6tW7Xvhk77QqRFOh2MGAGA1aJFWL/omy6ESB3MnsrG4IsvvkCv11O3bl2ePXtGjRo1sLe3Z9iwYQwcODA5YhQibXjwAI4f17abNLFsLEIkt9at4csv0fn5kXfvXvjwQ0tHJIQwU6JbDnU6HaNHj+bx48ecP3+eY8eO8fDhQyZPnpwc8QmRduzYoa2MUrYs5Mpl6WiESF42NvD55wAU9PaGqCjLxiOEMNsbL35569Ytbt++TYkSJXB2dkYplZRxCZH2bNumfW/e3LJxCPGu9OiBypIFpwcP0G3fbulohBBmSnRy+OjRI+rWrUuRIkVo0qQJ9+7dA6BXr158/uK/RCHEKyIitFUjAJo1s2wsQrwrjo7ou3cHwOq77ywbixDCbIlODj/77DNsbW25desWjo6Oxv3t2rVj586dSRqcEGnGwYPaxNc5c2q3lYVIJ/R9+6J0Oqx8fODqVUuHI4QwQ6KTw927dzN9+nRy585tsr9w4cLcvHkzyQITIk0x3FJu2hSs3rg3hxCpj6cn/l5e2vaSJZaNRQhhlkT/lQoNDTVpMTR4/Pgx9vb2SRKUEGmKUi+nsJFbyiId8mvUSNtYvhyePbNsMEKI10p0cli9enVWrVplfKzT6dDr9cyYMYPatWsnaXBCpAlXrsC//4KdnbasmBDpzIOyZVGenhAY+HIieCFEipXoeQ5nzJhB3bp1OXXqFBEREYwYMYILFy7w+PFjDh8+nBwxCpG6GW4p164Nzs6WjUUIS7CyQt+3L9ajRsHChdCzp6wrLkQKluiWww8++ICrV69SrVo1WrZsSWhoKP/73/84c+YMBQsWTI4YhUjdDMmh3FIW6Zi+e3dwcIAzZ15OBi+ESJHMSg7/97//ERwcDMCqVatwcHBg9OjRbNiwge3btzNlyhTc3d0TXfnBgwdp3rw5Hh4e6HQ6vL29TZ5XSjFu3Djc3d3JkCED9erV49q1a3GWFR4eTunSpdHpdPj6+sYq55tvvqFIkSLY29uTK1cupk6dmmBs+fPnR6fTmXx9/fXXib5Gkc49eQKHDmnbTZtaNhYhLClLFmjfXtteuNCysQghEmRWcrht2zZCQ0MB6NGjB0FBQUlSeWhoKKVKlWJhPL8oZsyYwbx581iyZAnHjx/HycmJhg0bEhYWFuvYESNG4OHhEWc5gwcPZunSpXzzzTdcvnyZ3377jQoVKrw2vkmTJnHv3j3jlywPKBJt506IjobixcHT09LRCGFZn36qfd+wAR4+tGwsQoh4mdXn8P3332fUqFHUrl0bpRQbNmzAxcUlzmO7du1qduWNGzemcePGcT6nlGLOnDmMGTOGli1bAlqrZY4cOfD29qa94T9QYMeOHezevZtNmzaxY8cOk3IuXbrE4sWLOX/+PO+99x4Anmb+kc6YMSM5c+Y0+3qEiEVuKQvxUvny2tfJk7BsGYwcaemIhBBxMCs5XLJkCUOHDuX3339Hp9MxZswYdHF0JtbpdIlKDhPi5+fH/fv3qRdjdKerqysVK1bk6NGjxuTQ39+fPn364O3tHecUO1u3bqVAgQJs27aNRo0aoZSiXr16zJgxg8yZMycYw9dff83kyZPJmzcvHTt25LPPPsPGJv6XLDw8nPDwcONjw634yMhIIiMjE3X95jCUmRxlSx1JUEdUFDY7dqADoho1Qr1l3Wn2dZI6LFK+perQffwxNidPohYvJmrIkCSZ9zMtvFZp4RrSYh3plU4lclFkKysr7t+/T/bs2ZM2EJ2OLVu20KpVKwCOHDlC1apVuXv3rkl/xrZt26LT6Vi/fj1KKZo0aULVqlUZM2YMN27cwNPTkzNnzlC6dGkA+vXrx4oVKyhdujQzZ84kOjqazz77DDc3N/bt2xdvPLNnz6Zs2bJkzpyZI0eOMGrUKHr06MHs2bPjPWfChAlMnDgx1v61a9fGmbiKtC3zhQtUHz2aiIwZ2bliBcra2tIhCWFxVuHhNOreHdvnzznwzTcEFSpk6ZCEiOXZs2d07NiRoKCgeO+UpmWJnsrGz8+PbNmyJUcsiTZ//nyePn3KqFGj4j1Gr9cTHh7OqlWrKFKkCAA//vgjXl5eXLlyxXir+VVDhw41bpcsWRI7Ozs+/vhjvvrqq3gn+x41apTJecHBweTJk4fatWuTJUuWN7nEBEVGRuLj40P9+vWxtbVN8vKljrerw+rUKQBsmjShcfPmSV5+cpA6Uk4daeEa4qvD+qefYOtWqj97hr5Jk2SpI6nJ+52+6nj06FGylJtaJDo5zJcvX3LEEYuhr5+/v79Jy6G/v7+xVXDfvn0cPXo0VrJWrlw5OnXqxMqVK3F3d8fGxsaYGAIULVoUgFu3bsWbHL6qYsWKREVFcePGjXjPsbe3jzNxtLW1TbYP8LsoX+p4wzpOngTAqkYNrJKwzjT3OkkdFi3fInU0bgxbt2K9Zw/WY8cmTx3JRN7v9FFHcsee0qXYRV49PT3JmTMne/fuNe4LDg7m+PHjVK5cGYB58+Zx9uxZfH198fX1Zfv27QCsX7/eOFVN1apViYqK4p9//jGWc/XF4u+JSXR9fX2xsrJK8tvpIo3S61/O5VapkmVjESKladhQ+37kCLzomy2ESDkS3XKYlEJCQrh+/brxsZ+fH76+vmTOnJm8efMyZMgQpkyZQuHChfH09GTs2LF4eHgY+yXmzZvXpDznF6tPFCxYkNy5cwNQr149ypYtS8+ePZkzZw56vZ7+/ftTv359Y2viiRMn6Nq1K3v37iVXrlwcPXqU48ePU7t2bTJmzMjRo0f57LPP6Ny5M25ubu/glRGp3tWr2lJhGTJAiRKWjkaIlKVAAShUCK5fh/374cWMFEKIlMGiLYenTp2iTJkylClTBtD6+ZUpU4Zx48YB2tyFAwcOpG/fvpQvX56QkBB27tyJg4OD2XVYWVmxdetWsmbNSo0aNWjatClFixbl559/Nh7z7Nkzrly5YhydZG9vz88//0zNmjUpXrw4U6dO5bPPPuP7779PwqsXadqxY9r3cuUgnd+eECJOhtbDXbssG4cQIhaLthzWqlWLhAZL63Q6Jk2axKRJk8wqL3/+/HGW5+HhwaZNm8yOo2zZshwz/HEX4k0YPj9yS1mIuDVsqK2UIsmhEClOolsO/f396dKlCx4eHtjY2GBtbW3yJYRAkkMhXqd2ba1V/d9/tdvLQogUI9Eth927d+fWrVuMHTsWd3f3OCfDFiJdCwmBv//WtiU5FCJuzs5QtSocOKC1Hsp8h0KkGIlODg8dOsSff/5pnE5GCGFKd/q0Nlo5Tx6IZ71vIQTarWVDcti/v6WjEUK8kOjbynny5Emwn6AQ6Z1OprARwjyGQSn790NEhGVjEUIYJTo5nDNnDl988QU3btxIhnCESP0kORTCTKVKQfbsWleMI0csHY0Q4oVE31Zu164dz549o2DBgjg6OsaaRfzx48dJFpwQqY5S6E6c0LYlORQiYVZW0KAB/PSTdmu5Vi1LRySE4A2Swzlz5iRDGEKkDRkePEDn76+Nwnwxf6cQIgENG75MDr/6ytLRCCF4g+SwW7duyRGHEGlC5hdLM1K6tLY6ihAiYQ0aaN/PnAF/f8iRw7LxCCHM63MYHGPty+Dg4AS/hEjP3K5c0TbklrIQ5sme/WUru4+PZWMRQgBmJodubm48ePAAgEyZMuHm5hbry7BfiPTMzdByKMmhEOaTpfSESFHMuq28b98+MmfODMD+/fuTNSAhUq3wcFz//VfbluRQCPM1bAhffw27d4NSIIsrCGFRZiWHNWvWjHNbCPGSztcX66goVLZs6Dw9LR2OEKlHlSpgbw8PHsA//8hqKUJYmFm3lW/dupWoQu/cufNGwQiRmhnmN1QVKkjLhxCJYWenDeICOHnSoqEIIcxMDsuXL8/HH3/MyQR+aIOCgvjhhx/44IMP2LRpU5IFKERqYUwOK1a0cCRCpELly2vfJTlMGn5+sHo1REZaOhKRCpl1W/nixYtMnTqV+vXr4+DggJeXFx4eHjg4OPDkyRMuXrzIhQsXKFu2LDNmzKBJkybJHbcQKY5h8mtJDoV4A5IcJq327eHECfjlF1i/HhwcLB1R6vL8uaUjsCizWg6zZMnC7NmzuXfvHgsWLKBw4cIEBARw7do1ADp16sTp06c5evSoJIYifbp3D93NmyidDlWunKWjESL1qVBB+376NERFWTaW1O78eS0xBPjtN2jZEp49s2xMqYzO29vSIVhUoibBzpAhA61bt6Z169bJFY8QqdOxYwAE582LY8aMFg5GiFSoSBFwcYHgYLh4EUqWtHREqdfy5dr30qXh6lVtFHiTJrB5s0XDSk2sli2zdAgWZVbLoRDiNXbuBOBxsWIWDkSIVMrKCry8tG25tfzmIiO15QgBJk3S5o7MmBH++APrJk2wCQmxbHypwYYNWJ05Y+koLEqSQyHellKwbRsA9w39poQQiSf9Dt/e9u3alEA5ckDjxlCtGuzdC25uWB0/TtVx4yA01NJRpkzPn0P//tCunaUjsThJDoV4W76+cPcuytGRgA8+sHQ0QqRehn6Hhv5yIvEMt5S7dAGbFz3HypeHAwdQWbOS6d9/0f3yi+XiS6n+/lt7nRYtAiD6008tHJBlSXIoxNt60Wqo6tZFb2dn4WCESMUMLYd//w1hYZaNJTV68AB+/13b7tHD9LmSJdH36QOA1e7d7ziwFEwpLSEsXx4uXNBaXHftQj9pkqUjsyhJDoV4Wy+SQ33TphYORIhULk8eyJ5dG63s62vpaFKfNWu0165CBYij/7Nq0AAA3d69EB39rqNLmbZu1W4lh4drg3bOnYMXr1N6lqjRygbXrl1j//79PHjwAL1eb/LcuHHjkiQwIVIFf3/jLTDVqJH8QRPibeh0WgvO779r/Q5ljXLzKfXylnL37nEfUqECkY6O2D5+rE0ZZLiNn56tWKF979MHvvtOVrd6IdHJ4Q8//MAnn3xC1qxZyZkzJ7oYL6ROp5PkUKQv27dr3728wMNDkkMh3laFClpyKP0OE+evv7Tb8fb22gTYcbG15WHJkngcO6aNYk7vyWFQ0Mvf4f37S2IYQ6KTwylTpjB16lRGjhyZHPEIkbq8uKVMs2aWjUOItEJGLL8ZQ6vhhx+Cm1u8hz0oU+Zlcjh27DsKLoXaskW7nVy0qMyr+YpE9zl88uQJbdq0SY5YhEhdwsO1yWUBmje3bCxCpBWG5PDKFa1lR7xeWBisXattvzoQ5RUPSpfWNo4dk9f355+17x06SKvhKxKdHLZp04bdMtJJCPjjDwgJAXd3KFPG0tEIkTZkzQr582vbp09bNJRU47ff4MkTyJ0b6tZN8NDnOXKgChfWBqTs2/eOAkyBHj6EPXu07fhuw6djib6tXKhQIcaOHcuxY8coUaIEtra2Js8PGjQoyYITIkUz3FJu2lRb3UFG/wmRNCpUgBs3tH6HdepYOpqU78cfte/duoG19WsP1zdogPW1a9qt5Q8/TObgUqiNG7Xf2V5eULiwpaNJcRKdHH7//fc4Ozvzxx9/8Mcff5g8p9PpJDkU6UOMVVGkv6EQSax8ediwQfodmuPaNa17i04HPXuadYqqXx8WLtSSQ6XS5y3Vdeu07x06WDaOFCrRyaGfn19yxCFE6nLpEvj5aSMDX3MbRwiRSDIoxXxLlmjfGzeGAgXMOkXVrAl2dlrr7LVrUKRI8sWXEt2+DYcOaUmxLJUXp7eaBFsphVIqqWIRIvUwtBrWrg3OzpaNRYi0pmxZ7Q/37dtw/76lo0m5nj2DZcu07f79zT/PyUlbcxm01sP0Zv167Xv16lo/TRHLGyWHq1atokSJEmTIkIEMGTJQsmRJVq9endSxCZFyyS1lIZJPxowvV/iQ1sP4/fwzBAaCpyc0bJi4cw3Hp8fk0HBLWQaixCvRyeHs2bP55JNPaNKkCRs2bGDDhg00atSIfv368e233yZHjEKkLI8fw+HD2rYsmSdE8pBbywlTSus3CNCvn1kDUUwYksP9+7VpudKLq1e1CcOtraF1a0tHk2Ilus/h/PnzWbx4MV27djXua9GiBcWLF2fChAl89tlnSRqgECnO77+DXg8ffPByyg0hRNIqX15b2kySw7idOKElOfb2Zg9EMVGyJOTMqd22P3w4/YwKN8xtWL8+ZMtm2VhSsES3HN67d48qVarE2l+lShXu3buXJEEJkaIZfrl89JFl4xAiLTO0HB47Bs+fWzaWlMjQatiunTY3ZGLpdNCggbadXm4tKyWjlM2U6OSwUKFCbNiwIdb+9evXU1jmChJp3aNHL1dFkf4qQiSf0qUhb16tT93ixZaOJmUJCHg5qCIxA1Fe9Rb9DmfMmMH777+PXq9/8/rftXPn4PJlrbW1VStLR5OsIiMjyZMnD4sWLXqj8xOdHE6cOJFx48bRqFEjJk+ezOTJk2nUqBETJ05k0qRJbxSEEKnGL79AVJT2h+v99y0djRBpl60tjB+vbX/1FTx9atl4UpIff4SICG0CZ0ML65uoX19rQTx7Fu7cMfu04OBgpk+fzsiRI7GyeplGhIWFMX36dAYMGICrqyu5cuWiTZs2XLhwIVYZp0+fplmzZuTMmRNnZ2dKlizJvHnziH7DxQRCQkIYP348jRo1InPmzOh0OlasWGF60P792ve6dbl05w6NGjXC2dmZzJkz06VLFx4+fJhgHWvWrEGn0+EczwwVer2exYsXU7p0aTJkyECWLFmoU6cOZ8+eNesafvvtN8qWLYuDgwN58+Zl/PjxREVFmRxz8OBBWrRoQZ48eXBwcCBnzpw0atSIw4Z+8C/Y2toydOhQpk6dSlhYmFn1x5To5PCjjz7i+PHjZM2aFW9vb7y9vcmaNSsnTpzgw/Q607pIP2KuxSmESF5du2pz8AUEwNy5lo4mZYiOfjm3Yf/+bzeBdbZsULmytj1kiHbb1QzLli0jKiqKDq/8HuzUqRMTJ07kgw8+4Ntvv+Xjjz/m4MGDVK5cmZs3bxqPO336NFWqVOHGjRuMHDmSWbNmUaBAAQYPHszQoUPf6FICAgKYNGkSly5dolSpUnEfdOwYAP998AE1atTg+vXrTJs2jWHDhvH7779Tv359IiIi4jw1JCSEESNG4OTkFG8MPXv2ZNCgQXh5eTF//nzGjRtH3rx5efDgwWvj37FjB61atSJTpkzMnz+fVq1aMWXKFAYOHGhy3NWrV7GysqJfv34sXLiQYcOGcf/+fWrUqMHOnTtNju3RowcBAQGsNay7nRhKJJugoCAFqICAgGQpPyIiQnl7e6uIiIhkKV/qeMV//yml0ykFSt24kTx1JCDVvE5SR6ooP9XUsW6d9jPn4qLUo0fJU4cZUsz7vXWr9nq4uSkVGvr2dZw6pZSNjVbm6tVmlVOyZEnVuXNnk33//fefAtTQoUNN6ti3b58C1OzZs43H9unTR9nZ2alHr7yfNWrUUC4uLm90HWFhYerevXtKKaVOnjypALV8+XLTE/PlUwrUJy1aqAwZMqibN28an/Lx8VGA+u6775RSSgUEBChABQUFKaWUGjlypHrvvfdUp06dlJOTU6yY1q9frwC1efPm18Yfl2LFiqlSpUqpyMhI477Ro0crnU6nLl26lOC5oaGhKkeOHKphw4axnmvWrJmqXr16ouMxq+UwODjYZDuhLyHSrA0btP+sq1SBfPksHY0Q6UPbttrI2uBgmDnT0tFY3rx52veePcHR8e3L8/J6eft+wAC4dSvBw/38/Dh37hz16tUz2f/0xW3/7Nmzm+x3d3cHIEOGDMZ9wcHBODg4kClTpljHxjwuMezt7cmZM2f8B9y7Bzdvgk7HpqNHadasGXnz5jU+Xa9ePYoUKRLnmIpr167x7bffMnv2bGxs4p7kZfbs2VSoUIEPP/wQvV5PaGio2bFfvHiRixcv0rdvX5PyP/30U5RS/PLLLwme7+joSLZs2QgMDIz1XP369Tl06BCPHz82Ox4w87aym5ubsVk0U6ZMuLm5xfoy7BcizZJbykK8e1ZWMHmytj1vXvpeMeXMGfDx0eboe5uBKK/64guoVAmCgqB7d22qrngcOXIEgLJly5rsL1iwILlz52bOnDmcOHGC//77jxMnTtCvXz88PT1pH2MAX61atQgODubjjz/m0qVL3Lx5kyVLlrB582ZGjRqVdNcV0/HjANx57z0ePHxIuXLlYh1SoUIFzpw5E2v/kCFDqF27Nk2aNImz6ODgYE6cOEH58uX58ssvcXV1xdnZmQIFCsSZbL7KUOerMXl4eJA7d+44YwoODiYgIIDLly/z5Zdfcv78eerGsZSrl5cXSinj+2Yus+Y53LdvH5kzZwZgv6FDpxDpyT//aPOKWVlBmzaWjkaI9KV5c6hQQfsZ/Oqr9Nv/0NBy2rattipKUrGxgVWrtIF2+/drr288cxZfvnwZAM9X6re1tWXTpk107NiRadOmMW3aNEBLTo4cOWLSStinTx8uXLjAd999x9KlSwGwtrZmwYIF9OvXL+muK6YX/Q3vvf8+XL5sbNGMyd3dncePHxMeY1LwXbt2sXv37gQHlfzzzz8opfj555+xsbFhxowZuLq6MnfuXNq3b4+LiwuNGjWK93zDNIDxxXT37t1Y+9u2bcuuF6PM7ezs+Pjjjxk7dmys4wq8WG/74sWLNEvEil5mJYc1a9Y0bnt6epInTx50r3SCVUpx+/ZtsysWIlUxtBrWrQs5clg2FiHSG50Opk7VRtcuWQKff65Nc5Oe+Pm9nL5m+PCkL79wYZg9W1ttZdQobQ7E4sVjHfbo0SNsbGziHLHr5uZGyZIlKV26NB06dODGjRt89dVXtGnTBh8fHxwcHAAtESxYsCANGzakTZs2ODg4sG7dOgYOHEjOnDlplRzTzLxIDp+/9x6g3YZ+lSG+5zHm1Rw1ahT9+vWjmGE5xziEhIQA2mtz7NgxKlasCGgLhHh6ejJlypQEk0NDffHFFFeXva+//prPP/+c27dvs3LlSiIiImKNbAaMd3QDAgLirT8uiR6t7OnpGedw78ePH8f6T0KINMOQHMrchkJYRt26ULu2NoVLr17w22/aUpbpxezZ2u3eBg2gTJnkqaNvX2jSRFtOr3NnePbM7FODgoKoXr06lZVisr09LerX5/PPP2fTpk0cOnSI5cuXG4/9+uuvmT59OuvWraNr1660bduWLVu2UK1aNfr37x9nkvNWoqKMK+1keHE7PDyOJQMNU77E7Pf46NEjJk6cmGDxhuM9PT2NiSGAs7MzzZs358SJEwlek+H8+GKKqx9m6dKlqV+/Pj179sTHx4cTJ07QvXv3WMepFyPQX23Qe51EJ4dKqTgrCQkJMWbdQqQp589rX3Z28L//WToaIdInQ+uhTgd79kDLlpAlC5QogdXAgWS6di356tbr0a1fT8YbN5KvjoQEBGhzGwKMGJF89eh0sHSp9rr6+mqJ4tOnREdHc+DAAdatW0dISAhRUVHGASgGmzZuxN/fn1be3hRduxabKlXg/Hlq1qyJi4uLyTx8ixYtok6dOrFaH1u0aMHdu3e5kdSv8/nzWqLr4oL7i6l74lrR7d69e2TOnBl7e3tja123bt0IDg7mxo0b3Lhxg5CQEJRS3LhxwzgWw8PDA4AccdxVyp49O5GRkQkOUDHcTo4vJkP58bGzs6NFixZs3rzZpNUT4MmTJwBkTeQqOmavrWyYe0in0zF27FgcY4ySio6O5vjx45QuXTpRlQuRKhiWW2rcGF4ZXSeEeIcqV4a9e7WW/IMHtdUuzp/H+vx5qtnYoDw9k2dZy5UrsenZkzqA3scHxo6FGC1EyW7hQm0JQS+v5F8D2d0dfv1V+333xx9sLleOwSEh/PdKv7cffvjh5ZyE0dH4f/cdAFFARMaM2F24AOXKob75hujoaJOWM39//zgnu46MjNTKSOqWw6NHte8VK5IrTx6yZcvGqVOnYh124sQJYx5jGPk7d+5c5sbRx9XT05OWLVvi7e2Nh4cHOXPm5E4cE4nfvXsXBwcHMmbMGG94hjpPnTpFhQoVTM7977//6Nu372sv8fnz5yilePr0qUlLo5+fHwBFixZ9bRkxmd1yeObMGc6cOYNSir///tv4+MyZM1y+fJlSpUrFno1ciNROKbmlLERKUrs2fPcdXLoE/v6waRP6Ro2wjorCun37l/3yktL27cZNq99/10b21qunDd4wc+LoNxYaCvPna9sjRrzdpNfmqloV9u5ls5MTra9ejZUYAnz++eds3rxZu2XbtStFXiRb61q0YO/8+egbN4bwcH4bOJDQ0FDKFCliPLdIkSL4+Pjw6NEj477o6Gg2bNhAxowZKViwYNJez4v+hlSqBGiLeWzbts1knMTevXu5evUqbV4MODS0tK1Zs4YtW7YYv2rXro2DgwNbtmwxGVndrl07bt++jY+Pj3FfQEAAv/76K3Xq1DGuJBMZGcnly5dNWgmLFy/O+++/z/fff2+SNC9evBidTkfr1q2N++KaUDswMJBNmzaRJ0+eWFMJnT59Gp1OR2XDZOdmMrvl0DBKuUePHsydOxcXF5dEVSREqnToEPz7rzafWPPmlo5GCBFT9uzwv/8R3bgxdxo3Js8ff0DHjhAWBt26JU0der1x2bW/Bg6kdHAwVmvWaC2Ye/dqt7d//FG7FZscli/X1nQvUOCddmuJLluWwc7OqARuhw4ZPJiWP/2E9ZYtNLe2priHB1O2bqV2SAh+//sffmFhLNi/H3eg18qVMHIkODnxxRdf0LlzZypWrEjfvn3JkCED69at4/Tp00yZMgVbW1tjHd27d2flypX4+fmRP3/+BGNesGABgYGBxtG9W7du5b///oPff2cg4PoiOfzyyy/ZuHEjtWvXZvDgwYSEhDBz5kxKlChBjx49AIx3R5s1a2aS73h7e3PixIlYg2ZGjRrFhg0b+Oijjxg6dCiurq4sWbKEyMhI48htgDt37lC0aFG6detm0qA2c+ZMWrRoQYMGDWjfvj3nz59nwYIF9O7d26TVr3HjxuTOnZuKFSuSPXt2bt26xfLly7l79y7r4/jHyMfHh6pVq5IlsZ/PRE+bnYT++OMP1axZM+Xu7q4AtWXLFpPn9Xq9Gjt2rMqZM6dycHBQdevWVVevXo2zrLCwMFWqVCkFqDNnzsQqZ+bMmapw4cLKzs5OeXh4qClTpiQY26NHj1THjh1VxowZlaurq+rZs6d6+vRpoq5PVkhJ5XVERSnl5aWtHNC7d/LUkQgp9nWSOlJl+Wmujs2bVXSvXtrPKyi1eHHSFH7mjFKg9M7O6tdfftGu48YNpT79VClbW60uDw+l9u17+2t49XWKjFQqf36tjkWLElWeXq83boeEhKgzZ86oEydOmNTx66+/qlmzZqmLFy8aj7169apq166dat68uQJe+7UflLKzU+rXX9Xjx4/V4MGDlYeHh7K3t1dZs2ZV7Rs1Uv/mzKldw1dfGevZuXOnqlmzpsqaNauys7NTJUqUUEuWLIl1HR999JHKkCGDevLkScKvlVIqX7588cbpB0rF+Ft8/vx51aBBA+Xo6KgyZcqkOnXqpO7fv298/tUVUgy6desW5wopSin1zz//qA8//FC5uLioDBkyqDp16qgTJ06YHOPn56cA1a1bt1jnb9myRZUuXVrZ29ur3LlzqzFjxsS6xgULFqhq1aqprFmzKhsbG5UtWzbVvHlzdfDgwVjlBQYGKjs7O7V06dI4403IGyWHJ0+eVMOHD1ft2rVTH374oclXYmzfvl2NHj1abd68Oc7k8Ouvv1aurq7K29tbnT17VrVo0UJ5enqq58+fxypr0KBBqnHjxnEmhwMHDlTvvfee+vXXX9W///6rTp06pXbv3p1gbI0aNVKlSpVSx44dU3/++acqVKiQ6tChQ6KuT5LDVF7H99+/XLYrxi+NJK0jEVLs6yR1pMry02Qd4eFKDRqUtAnirFlKgYpu3Dj2dfz1l1LvvafVpdMpNWqUUmZeZ3R0tAoJCTEulxYREaFWrVqldu/erY4ePaod9GLpwB+dndWYkSPVlStXjOefOnVKNWjQQPXp08ek3IYNGypbW1uTZdwOHDigAFWkSBGTa2jYsKEC1MqVK43Hnj59WgEqU6ZMZiWHa+3slNq1y3h+nO/3qlUvl/yLkeSZI3v27GrYsGEm+xL1mdq+Xau7cOFE1RtfcpiafPvtt8rd3V09e/Ys0ecmerTyzz//TJUqVbh06RJbtmwhMjKSCxcusG/fPlxdXRNVVuPGjZkyZQoffvhhrOeUUsyZM4cxY8bQsmVLSpYsyapVq7h79y7e3t4mx+7YsYPdu3fzzTffxCrn0qVLLF68mF9//dU455CXlxf169ePN65Lly6xc+dOli5dSsWKFalWrRrz58/n559/jnMySpH6zJgxg/fffx99fCsBPH6szfUFMGmSzG1oAZUqVWJEco7MFGmPTgdz5mi3L0H7GX7LwQ2BO3dyGwivVs2479atW2zevJk/goPh9Gno3RuU4uuvvmJg7tz4HTpkPNbHx4cKFSrQp08fk3JLlCiBs7Mzf/75p3HfpUuXaNCgAUOGDNF2LFwIwPeZMjFl+nTjBNSgrZCxe/duk1HAoPXde3V0rIuLC+7u7rH6o9WqVYuOHTuSL8ZyoPny5WPOnDl88sknZr0+OTZs0KbXSUjHjlCsGDx5ok3JY6YLFy7w/PlzRhrezzfxSn/D9CIyMpLZs2czZsyYN1qSMNHJ4bRp0/j222/ZunUrdnZ2zJ07l8uXL9O2bVuTdQrflp+fH/fv3zdZv9HV1ZWKFSty1DDyCG3UU58+fVi9erXJCGqDrVu3UqBAAbZt24anpyf58+end+/eCa4zePToUTJlymSylE29evWwsrLi+IsleETqFRwczPTp0xk5cqSxk/CjR4+YOXMmNWrUIFu2bGRyd6fSo0esz5MnzmWqwsPDGTlyJB4eHmTIkIGKFSuyZ8+et4pr6tSptGjRghw5cqDT6ZgwYUK8x965c4e2bduSKVMmXFxcaNmyJf/++2+C5R86dAidTodOp4s1IeqECRPQ6XTY2dnRqlUr7Ozs0Ol0Zk9PFRkZycSJEylQoAD29vYUKFCAKVOmxBp1GBISwsSJE5k4caLxOuMbyDZy5EgWLlzI/fS8XJowm7+/P3///TcRkZHalDdZsnAxMJClX34Z62dzyJAhdOrUyeSf/Z9//pnChQvz8ccfvzwwMpLie/aQF/g7Tx7j7gMHDvDRRx9pfcmcnOCHH2DjRlZYWbHgwQNu9eoFL0behoSEcPLkSS5cuGASg+Hv1atJXNGiRbU5g69d0/o8W1nxv27d6N+/v8nf2GLFirFy5UpmzZplUu6KFSu4desWH8UYtV2mTBnu3r3Lvn37TI794osvWLNmjclCF1myZGHw4MFMnjyZ3Llzxzs/nk6nI0+ePNQ0Z9UNa2vtn2yAb7+FOOZKjkvx4sUJDg5O9DQsJtJpcmhra8utW7f49NNP3+h8swekGPzzzz80bdoU0ObWCQ0NRafT8dlnn1GnTp3XThZpLsMfhFfnDcqRI4fxOaUU3bt3p1+/fpQrVy7OuZH+/fdfbt68ycaNG1m1ahXR0dF89tlntG7dOtYPSsy6X/0Py8bGhsyZMyf4hyo8PNxkEkvDPEmRkZHGIfpJyVBmcpSdluv44YcfiIqKonXr1sb9f/75J6NHj6ZRo0aM6tIFu2+/ZTPQ/vZt/p4wgfGGhelf6Nq1K5s3b2bQoEEUKlSIVatW0aJFCyZNmpRgq3RCxowZQ86cOSldujS7d+82tgC8eg1Pnjwxrk06cuRIbG1tmTdvHjVr1uTkyZNxdjzW6/UMGDAAJycnQkNDY30mDSPk5s6di5+fHx988AHW1tZYW1ub9b507NiRTZs20b17d7y8vDh+/Dhjx47lxo0bLF682HjcvXv3mDp1KtmyZaNEiRIcPHgw1nUaNGnSBBcXF+bPn59gohyXtPC5TQvXoJQy/k6MjIxEr9fj6+tLaGgoVapUwdraGoDjx49z6NAhSpQoQYMXrVBKKTp06MCzZ89YuXKlcaWHRYsWMXnyZNq0acO8efOMZQ8ePJiwsDAuX75MgQIFsG7UiD1r1jB45kxa+/mZJEDr16/n/v37fPbZZ2TLlg3QkrTr169TqFAh4+uhO3oUJ6WwBULc3eHFz06OHDmoUqUKRYsWffnatWxJrxEjCJozh9xXrxI9YQL6CRMoV64cmzdvJkeOHCav8/bt27G1tSVDhgzGn8eiRYty6tQpbG1tiR47FmtA36ABn8X4/WMoI3PmzHR4sc57zHJj/u169X1N7Ps9a9Ys2rdvj06nM06mDC8nVP7mm2/Q6/Umd2DiraN5c2zKlEF35gzRX32Ffvp0s2KIi9nXoddjc/w4OiCyXDljwp6YOtKrRCeHbm5uxskvc+XKxfnz5ylRogSBgYE8S8Rs6klh/vz5PH36NMGFuvV6PeHh4axatYoiL4bS//jjj3h5eXHlyhXee7GUTlL46quv4kyO9+/fH2erZlKJOXRe6nh9HQsWLKBMmTIm/xw8ePCAhQsXkj1rVqqPGkVmoGW1ajQNCmLGjBmUKFHC2Ip29epVNmzYQPfu3alRowagzQM6aNAgVq5cmeAySwn57rvvyJEjh/F20bVr19geYwoNg+HDh3P9+nVmzpxJ4cKFAa2VbdCgQQwYMIAuXbrEOmfnzp38+++/1K5dm23btrFnzx6TEXjXXkwg7ObmZnKLCYgzhpiuXbvGL7/8Qtu2bWnZsiUAuXPnJjg4mGXLllGiRAnjKMPIyEiWL1+Om5sb169f5+DBg5w9ezbeOsqWLcsPP/xA+fLlEz3DP6SNz21ylx8dHc2vv/6KtbW1cfkuQ3ehiIgIk3nXTp8+zcWLFylevDhlX6w0ERYWxrRp0wgPD2fq1KnY2Gh/VtasWcOmTZto3rw5PXr0wMfHh+joaGOL1urVq41zv61fv55169bRoEEDk9bmbdu2ERERgbe3t7Gh4Ny5czx69IgLFy6YfG5cXFywt7dnz5495M6dGw93dwoDjRwccHR0NDm2efPmREVFceHCBePcdNbW1kybNo1MmTIZjy2yfj0XAf8qVTj1ooXP8H4YujzELLdIpUp4DBhAwW++QX39NYddXXny3ntYWVnx8OHD1/4sGcuPjqbB0qVkAE6XKMFdM85LDHM/U/b29owYMYKlS5eaTDuTJUsWevXqhb29fbzXFFcd2Zs3p/KZM7BwIftKlCAsc+Y3u4AE6ojJ+fZt6gYFEWVnx47bt1FxTDIdn3edz6Q4ie2k2KFDBzVr1iyllFKTJk1S2bJlU71791b58uVL9ICUmHhlQMo///wT5+CSGjVqqEGDBimllGrZsqWysrJS1tbWxi9AWVtbq65duyqllBo3bpyysbExKePZs2cKiHdQyo8//qgyZcpksi8yMlJZW1ubdPJ9VVhYmAoKCjJ+3b59WwHq3r17KiIiIsm/QkNDlbe3twoNDU2W8tNiHRcuXFCAWrp0aZzHRf74ozYy0clJRfj5qW+//VYB6vTp08Zjhg4dqqytrVVAQIDJuRMmTFCAunLlylvFevfuXQUYR6q9eg1eXl6qXLlysc6rX7++KliwYKz99+/fV1myZFHz5s1TY8aMUYC6e/euyTGG/Tdu3FBr165VISEhZsc7Y8YMBShfX1+T/UePHlWAGjlyZJzX8eeffyb4XkRERKhNmzYpQB0/fjzFfqaSq45Xy3/w4IG6du2aevDggfGYR48eqTVr1qhVq1aZnLtixQrVt29f9fvvvxv33bp1S5UpU0aVLFnSpI769esrQI0fPz7WZxBQz58/N+4fMmSIAtTQoUON+54+fWo8NmZshs9U7969Ta6jQIECqkiRIur27dvGYzdv3qw6deqkfvjhB5PrWLJkifrhhx9Mftbu3LmjfH19Tc6P87148EDpbWyUAhVx6dIbvQfRNWsqBSpqwYJEvd/RHTpov0cKFVIRT54k+v2O3LZNO9/NTUU8fWrxz+zz58+Vj4+PWrVqlfLx8TH5TCSqjvBwFV21qvaafvxxsl9H5A8/aIOJqlVLdB337t1L9QNS3kaiWw4XLFhgXH9w9OjR2NracuTIET766CPGjBnz5lnqKzw9PcmZMyd79+41zh4eHBzM8ePHjR1l582bx5QpU4zn3L17l4YNG7J+/Xrj+oZVq1YlKiqKf/75xzix5tWrVwFitZAYVK5cmcDAQE6fPo2XlxcA+/btQ6/Xm6yb+Cp7e/s4F862tbU1mbcpqSV3+WmpjpMv1tesUKFC7LoePIAvvwRAN24ctvnzG9cRd3d3Nx5/7tw5ihQpEuv2baUXfVouXLhgbKV+E4Z6rK2tY8Wo1+s5f/48PXv2jPVcxYoV8fHxISwszGQ2/kmTJpEzZ04+/fRTJk+ebKwj5vmG23sffPABISEhODk50apVK2bNmhXnklAxGVp6XFxcTMo0tEz6+vrG+b4aWpjius6Y1wTaygUxW7DMZYnP7e3btwkICCBv3rzGz8iDBw/YsmULdnZ2xnnUAObMmcOxY8fo06cPdevWBeDy5cs0adIEZ2dnJk+ebCy/f//+bNy4kXnz5jFw4EBA62LQqVMnnJycTFqMDx48yLJly8iXLx9NmjQBtN9PZ86cAbTX3NDf1tAiHhYWZrwONzc3SpQogZOTE3q93nhMrVq10Ov11KxZ03isjY0Na9aswdHR0eQz8Pnnn/Ppp5/i6OjIgQMHjNfxzz//xHoNP/zwwzgHJpr0/3vBw8Mj3uXETN6LbNmgenXYvx/b3bth0KA4z4nXs2fGlTWs69c3lmvWZ2rRIvjzT3TXr2M7ahTE6FrxOra2ttisXg2ArmNHbF9ZYi4pJPbnwtbW1qT//1vVMW0a1KyJ9Y8/Yj1yJHh6Jqpcs+owePH73qpyZawS+XsguX9vpHSJTg4zx2gGtrKy4osvvnjjykNCQrh+/brxsZ+fH76+vmTOnJm8efMyZMgQpkyZQuHChfH09GTs2LF4eHgYJ598dQCMYZ3GggULkjt3bkAbSFK2bFl69uzJnDlz0Ov19O/fn/r16xv/gJ84cYKuXbuyd+9ecuXKRdGiRWnUqBF9+vQxTmI5YMAA2rdv/9o1DkXKduXKFUD758PE3bvaigf+/vDeezBkCI8fP2bp0qVUr17duPYlaP3mYj42yJkzp/H55BISEkJ4eHic9Rv23b1719hd4ty5c3z33Xds377dmADGxc3NjQEDBlC+fHnjCMHFixdz4sQJTp06leCk94a6Dh8+bPK6GkZhxrWklLly5cqFnZ0dFy9efOMyQEuqIyIiTAbYnD9/nocPH1KiRAljh/cbN27w888/4+bmZpKYfPnll5w+fZoxY8ZQvXp1AI4dO0anTp0oUKAA586dMx7bu3dvdu/ezapVq4wJ2+3bt+nXrx+5cuUySQ4PHTrEpk2bqFGjhjE5tLa2xs/PL9Zr7uzsjIODg8kKCq6urtSoUYOMGTOarHvfokUL8uTJY4wVtPd4+/btODk5mZTbuXNnfvrpJ5N/KBwcHEyuyaBly5bGrgMGOp2Ojh07xjo2U6ZMZMqUybJ9t5o10yaw3rYt8cnhkSMQEQG5c0Phwokb9ZwpE6xYof1OWbIEWrTQlqMzx5MnYJiRI8ZnJc2oUUMb3bx7N0ycqL1OycUwGCWRq4OINxitXK9ePVasWGEcbPE2Tp06RZkyZShTpgyg9dsqU6YM48aNA7Q+HQMHDqRv376UL1+ekJAQdu7cafYIStAS2K1bt5I1a1Zq1KhB06ZNKVq0KD8blkRD61tw5coVk19ia9as4f3336du3bo0adKEatWq8f3337/1NQvLevz4MTY2NqYLvt+8qf3CunRJ+0Pw22/obWzo1KkTgYGBzDcsXfXC8+fP42whNnwuX134PCkZOvebW/+gQYNo3LixsZN/fAYPHsz8+fPp0KEDVapUYdasWaxcuZJr166xaNGiBM9t0qQJ+fLlY9iwYWzevJmbN2+yYcMGRo8ejY2NjdmvR1RUFI8fPzbp2wTg5OSEr6+vyf5z584ZRzPH1KNHDypUqGBsIQZtxgJra2tq165tcmzv3r2pU6cOR44cMe77999/GTVqVKz3/OTJk+zevZtbt24Z99nY2BAaGmpcg9Uge/bsuLu7myTj2bJlo2XLlsbBfAbdunVjzpw5VIsxTUqePHk4evQoBw4cMDn2xx9/5Pnz5y+nOUFb4uuPP/5g27ZtJn0yW7ZsyYQJE0ySQ1tbWxo3bkyNGjWMrYagfZYyZMjwRn06UzzDSNoDB+BFX3mz7d2rfa9T582WrKtbFwYP1rZ79oRXZgiIj9WGDRAeDiVKwIt+nWnO1Kna99WrtRWoksPTp3D+vLb9LtfBTiMS3XJYvHhxRo0axaeffkrTpk3p3LkzTZo0eaMm2Fq1apmMgHqVTqdj0qRJTDIMgX+N/Pnzx1meh4cHmzZtSlQcmTNnZu3atWbVK1K26Oho/vjjDw4ePBh7nsrr17Vf4rduabc39u4FT08G9u/Pzp07WbVqFaVKlTI5JUOGDCaj0g0M3S3eZE4pcxmSQnPqX79+PUeOHOG84RdkInXs2JHPP/+cPXv2mNwhCAkJwd/fH3t7e3Lnzo2DgwO///47jRo1Mg42sLe3Z8aMGUyYMIEnT54wb948BsVouRk/fnys6XTWrFlD9+7dadiwITt37jTuDw4O5ujRo1y4cME4AOj69evMmDGDKlWq0D/GVEPnz5/n1KlTPHjwwJjsGJLm0FeWAStYsCBPnz41SbTz5MlDjx49Yt2VGDp0KF26dKFKlSrGfcWLF2fBggWxEr7VL24JxpQ3b95Y87OCNjDiVQ4ODlSqVInIyEiTZDRNJm/JrUgRrdXv2jXw8Unc8nOGAWsvWnTfyFdfaS1kly5B585aC6ZNwn92dStXahs9erybdZQtoVw5rSV1xw6YNcs4n2OSOnlSW/owTx6QO36JluiWw7lz53Lnzh28vb1xcnKia9eu5MiRg759+/LHH38kR4xCvLHNmzeTP39+6tevz+zZs9m6dStRUVGsWbNG+4Vdo4aWGBYpAgcPgqcnEydOZNGiRXz99ddxjvx1d3eP89axYZqjuG75JhVnZ2fs7e3jrN+Q+Bq6Pnz++efUqVOH+/fvc+PGDW7cuGFs5ZoyZYpxhDLAb7/9Rps2bViwYIFJmYGBgRw4cMBkmqhly5ZRqFAhhg0bZtxXvHhxIiIiAIzrfPbp04fAwEAeP35skuyB1gfv1dvNhtudrya+Sily5sxpknS/9957DB06lM6dO5scO336dH777TeTOUpr1KiBv7+/yfyooCWjFy5coGHDhsZ9hQsXZtmyZbGmzmncuDFdu3Y1uW2eIUMGcufOTa5cuRApmKH1cNs2888JDIRTp7TtOnXevO4MGWDdOm1t9l27IMbPTFwy3rqF1alTWgL5ymc7zTFMcL9smdnzHibKwYPa9xit8sJ8iW45BO1WbYMGDWjQoAFLlixh69atTJ06lR9//NGkP4wQlrR582Zat24dZ2ty586dyeDszP9CQrTbNz4+kCMHCxcuZMKECQwZMiTeWflLly7N/v37CQ4ONukXduLECYBYLY0xRUVF8ezZM5Pz/vnnH/7991/y5s1rMrXSwYMH+fLLL5k0aZJx8Mb+/fuxs7Pj999/NynTzc2NkJAQ8ufPb+w7dufOHe7cucOuXbtixTF37lx2795t7Mv3zz//8Msvv2BtbU2BAgWAl3PUKaUICQkxnpsxY0acnJyMMRnUr1+foKAgqlatSubMmdm+fTtKKVq0aEGnTp1Mjh08eDCZMmWiX79+xn2tWrUiIiLC5C7EnTt30Ov1jB49mvLlyxv3Fy9ePNbkvwB1Xvwhj9lFxN7ePta8pSIdadZMm3j599+1liQrM9pEDh7Uji1SROtq8jZKlYJVq6B1a5g7F4oXh1dWSzHIa7iV3ayZNqAmLatZE8qX11r4FizQ+h8mJUNjVYz5LYX5Et1yGNP9+/dZsmQJ06dP59y5cya/vIWwpOjoaAYPHpxgt4UhISFEe3lpHdZz5GD9+vUMGjSIjh07MmrUKG7fvm1y/JkzZ9iwYQNeXl5ER0fz/fffExgYyLBhw+jfv79xLs08efIwc+ZMvLy8WLJkifH8gIAAbG1tcXV1NfknauHChTRo0IBly5aZ1Ld//36++uork9uhDx484OnTp9y6dYtTL1o2bGxsjLeUG8fo9N63b1+yZMlCy5Yt2bJlC1u2bKFdu3aANorfMHIZtIR3wYIFJoMlFi9ejFKKESNGUKhQIeP+ypUrc/HiRX766SeTeH/66Se2bt1K4cKFef78OWPHjsXd3Z2ffvqJtm3bmhz7/vvvx0qibWxsYnVPOX36NIDJ7VwhEqVaNXBx0WYjiNEXNUGGJO1tbinH9NFHL1cI+fRTrQ/kqyIjyW3YnxYHorxKp3u5zOGCBfBKt4+3Eh7+cjDKi64oInES3XIYHBzMpk2bWLt2LQcOHKBAgQJ06tSJ9evXG6eKEcLS/vzzT/77778Ej7kNdMifn1Ply9OxY0dmzpxJlixZKFGiBDly5MDe3p6lS5cCWnKyYMECli1bxtSpU2nTpg2jRo3Cz8/POGDDxsbGOAn6nTt3+Ouvv/jpp5/45JNP2L9/v8lULM+ePTO28OXNm5cSJUpw69YtpkyZYpx81d3dnXz58vHNN9/Qu3dvPDw8qFSpErVr12bKlCk0bdqUYcOGYWtrS7Zs2VBKGQdzgTap9nfffWdyzb6+vgB4e3ubLEnVtGlT2rVrx7Nnz7h+/Trr1q1jw4YNlC5dmvHjx5sMAitatCg1a9Y0GTDRtm1bPDw8KFasmHHy63///Zfff//dZBQsaCtcnDhxwrh/69atxvdq4MCBJmu0+/j4kDdvXuOgNSESzc4OGjaEjRu1W8vmDE6IORglqYwZAxcvws8/a8niiRNQsCAoBdeuYbV6NbZBQajs2dGZO7I5tWvVCgoV0vp+//hj4keUx+fkSQgLg+zZ4f33k6bM9CaxEyM6ODgod3d3NWTIEHXy5Mmkmm8xTQoKClKACggISJbyIyIilLe3t4qIiEiW8lNzHWvXrjVOzJvQV40aNRSgWrduneBxy5cvVzNnzlQ1atRQK1asUM+fP1fDhg1TOXPmVNbW1srDw0P9+uuvxuv4+++/1fbt21WvXr2UTqdTly5dUnq9XgUEBKjnz58rvV4fK+aaNWvGW//+/ftNXqfbt2+r1q1bKxcXF+Xs7KyaNWumrl279trXZfz48QpQDx8+NNnfu3dvVaxYMZUxY0ZlY2OjChUqpEaOHKmCg4NjlQGomjVrmuybPn26ev/995WDg4Nyc3NTLVq0iDWBvUG+fPnivU4/Pz/jcdHR0crd3V2NGTPmtdf1qtT6uX2X5aerOlauVAqUKl369YXdv68dq9MpFeN3d5Jcx7NnSpUvr5X/3ntKtWmjVI4c2uMXX1Gfffbm5b9GingvXrVkiXbtefMqZeY5r61jyhStzNatzYw6toCAgHQ9CXaik8Pdu3er6Ojo5IglzZHk0HJ17N+/36zkcOXKlero0aPq3r17xnP1er2KiopKkusoX768av0Wv6BeV35SS0l1bNmyRWXIkEHdvXs32ep4G5IcpqI6HjzQkj1Q6vbthAubPTvORDLJruPOHaVy5TJJCJWdnYquVk1dbttWRTx48HblJyBFvBevev5cqezZtdfhp5+Spo769bXy5s0zM+rY0ntymOg+h/Xr10ev17Nnzx6+++474zrLd+/eNem0LoQlVa9endy5c5PQRBA2NjZ06NCBSpUqGSewBm3KkIQmjDZXcHAwZ8+eNXsqJmFq+vTpDBgwIFlHf4t0Ils2eLGCETEGc8Xi7w+GkeovVuJKch4e2hQunTvDlCna4JegIKL37eNyx47aBNrpiYPDy/kgZ8zQ0uW3ERmpTWAOMhjlLSS6z+HNmzdp1KgRt27dIjw8nPr165MxY0amT59OeHi4SQd8ISzF2tqaud98Q+v27dGhNRMaGOaLW79+fbIukeTi4hLnfITCPK9OPSPEW2nWTFsOb+1abbRwXKOWv/gCgoPBywt69Uq+WEqU0CaAjsmSK8lY2iefaHNCnjunTfnTqNGbl/XXX9rglsyZ4YMPki7GdCbRLYeDBw+mXLlyPHnyxGTesQ8//JC9hk68QqQA/3vwgF+AXK/8EcidOze//PIL/0vMhLhCiNStbVttcMrBgzB+fOznjx59uZTbggWQBHcPhJnc3KBvX2178uS3S5QNU9hUr27etEUiTol+5f7880/GjBmDnZ2dyf78+fO/1RqqQiSp0FCYOpX/ATfmz8fHx4ehQ4fi4+ODn5+fJIZCpDeFCsEPP2jbU6Zok1MbREfDgAHado8eL29Bi3dnyBDtFvORI9qckC+m50o0w+TXMoXNW0l0cqjX6+Oc6Pq///6LNWWFEBYzf77Wf6hAAax796ZmzZrUqFGDmjVrJkl/QiFEKtS168uVOXr00KaTAVi6VLsd6eoKX39tufjSszx5YPNmLUH87Tdo2RJeTOtltuho+PNPbVv6G76VRCeHDRo0YM6cOcbHOp2OkJAQxo8fT5MmTZIyNiHeTGCg1rEZtM7lr7RyCyHSsWnToHlzbaLkli3h7Fn48kvtucmTtbnxhGU0bqwNGHJ01NakbtIEXgx6NcvZs1qf0YwZoXTpZAszPUh0cjhr1iwOHz5MsWLFCAsLo2PHjsZbytOnT0+OGIVInNmz4ckTKFYMOna0dDRCiJTE2hrWrNEGhdy/DxUqwOPH2uPkGqEszFenjpYYurho/QcbNND+4TdHzPWU5Q7RW0n0aOXcuXNz9uxZfv75Z86dO0dISAi9evWiU6dOJgNUhLCIs2e1dVRBW65KfkEIIV6VMaN267JCBXj4UNu3YAHYJPpPokgOVatqq9Q0aKAtg9esmZb4vW6AiaynnGTe6CfBxsaGzp07J3UsQrydEye0ZbJCQrT/HGXQiRAiPvnzw5Yt0KIFtG8vAxhSmnLltDWoq1aFw4e1/oitW8d/vF7/suVQksO3ZlZy+Ntvv5ldYIsWLd44GCHe2KFDL/unVKmiraGqS2gKbCFEule1KgQEyO+KlKpkSRg6VLsLNG4cfPhh/HeDLl7Uugc4OmrzVIq3YlZy2KpVK7MK0+l0cY5kFiJZ7dnzcmRbrVqwdSs4O1s6KiFEaiCJYco2dKg2+8SlS1pf0a5d4z7OcEu5ShVIxsUN0guzBqTo9XqzviQxFO/c779r/VGePdNm1d++XRJDIYRIK1xdYeRIbXv8eIiIiPs46W+YpGT6cJF6bdqk3WYID4dWrcDbG2RQlBBCpC0DBkDOnHDjBvz4Y+znlZLJr5OY2clhkyZNCAoKMj7++uuvCYwxvPzRo0cUK1YsSYMTIl5r1kC7dtoyS+3bw4YNYG9v6aiEEEIkNScnGD1a254yBZ4/f/mcUvD999qiB/b22gh08dbMTg537dpFeHi48fG0adN4/Pix8XFUVBRXrlxJ2uiEiMuPP0KXLtps+N27w08/SR8TIYRIy/r0gbx54e5drJYs0fYFBmqNA/36aY+7dNFWWBFvzezkUCmV4GMh3okFC6B3b+2/xU8+0RJFmctQCCHSNnt7rc8hYDVjBtlPn8amXDntrpGNDXz1FRiSRvHWpM+hSD2++QYGDtS2hw6FhQtfPymqEEKItKFrVyhSBN2jR1SePBndrVtQsKA2D+IXX0hDQRIy+y+rTqdD98qQ/1cfC5FsjhyB4cO17bFjtURRPn9CCJF+2NjAxInGh/rOneHMGelnmAzMXiFFKUX37t2xf9HpPywsjH79+uHk5ARg0h9RiCQVHa2NVgOtj+GkSRYNRwghhIW0a0dUcDCnbt3Ca/x4rKS/ebIwOzns1q2byeO4ls/rGt/klEK8jR9+0P47zJQJZsywdDRCCCEsRadD9eiB//btlo4kTTM7OVy+fHlyxiFE3AIC4Msvte3JkyFbNsvGI4QQQqRx0ptfpGyjR8OTJ9oam4bpCoQQQgiRbCQ5FCnXqVPaLWXQprCxMbuhWwghhBBvSJJDkTLp9dogFKWgUyeoXt3SEQkhhBDpgiSHImVauRKOHwdnZ5g509LRCCGEEOmGJIci5XnwAEaO1LYnTAB3d4uGI4QQQqQnkhyKlEUp6NsXHj6EDz54uSKKEEIIId4JSQ5FyrJiBfz6K9jawk8/gZ2dpSMSQggh0hVJDkXK4ecHgwZp25MnQ6lSlo1HCCGESIckORQpQ3Q01r16QUgIVKsGw4ZZOiIhhBAiXZLkUKQIhX79FatDh7TRyatWgbW1pUMSQggh0iVJDoXlnT1L0bVrte25c8HT07LxCCGEEOmYJIfCskJCsOnWDauoKPTNm0OPHpaOSAghhEjXJDkUlqPXQ+fO6C5eJCxTJqIXLwadztJRCSGEEOmaJIfCckaPhl9/Rdnbc2LUKMie3dIRCSGEEOmejaUDEOnU6tXw9dcARH/3HU8yZbJsPEIIIYQApOVQWMLRo9C7t7Y9ahSqY0fLxiOEEEIII0kOxbt16xa0agUREdr3KVMsHZEQQgghYpDkULxbHTrAgwfa6ierV4OVfASFEEKIlET+Mot3x98fjhzRRiR7e2sTXgshhBAiRZHkULw7x49r34sVg/z5LRqKEEIIIeImyaF4d44d075XrmzZOIQQQggRL0kOxbtjSA4rVbJsHEIIIYSIl0WTw4MHD9K8eXM8PDzQ6XR4e3ubPK+UYty4cbi7u5MhQwbq1avHtWvX4iwrPDyc0qVLo9Pp8PX1Ne6/ceMGOp0u1tcxQ6ISj7jO+fnnn9/2ktOv6Gg4cULbluRQCCGESLEsmhyGhoZSqlQpFi5cGOfzM2bMYN68eSxZsoTjx4/j5OREw4YNCQsLi3XsiBEj8PDwiLeuPXv2cO/ePeOXl5fXa+Nbvny5yTmtWrUy+9rEK86fh9BQcHGBokUtHY0QQggh4mHRFVIaN25M48aN43xOKcWcOXMYM2YMLVu2BGDVqlXkyJEDb29v2rdvbzx2x44d7N69m02bNrFjx444y8uSJQs5c+ZMVHyZMmVK9DkiHoaW2goVZPoaIYQQIgVLscvn+fn5cf/+ferVq2fc5+rqSsWKFTl69KgxOfT396dPnz54e3vj6OgYb3ktWrQgLCyMIkWKMGLECFq0aPHaGPr370/v3r0pUKAA/fr1o0ePHuh0uniPDw8PJzw83Pg4ODgYgMjISCIjI19bX2IZykyOspO6DusjR7ACosuXR/9KWanpOixZR1q4Bqkj5ZQvdaSsOtLCNaTFOtIrnVJKWToI0Pr4bdmyxXjr9siRI1StWpW7d+/i7u5uPK5t27bodDrWr1+PUoomTZpQtWpVxowZw40bN/D09OTMmTOULl0agICAAFatWkXVqlWxsrJi06ZNzJgxA29v7wQTxMmTJ1OnTh0cHR3ZvXs348ePZ8aMGQwaNCjecyZMmMDEiRNj7V+7dm2CiWt6UGfAADL+9x/HxozBv1w5S4cjhBBCxOvZs2d07NiRoKAgXFxcLB3OO5diWw7NMX/+fJ4+fcqoUaPiPSZr1qwMHTrU+Lh8+fLcvXuXmTNnJpgcjh071rhdpkwZQkNDmTlzZoLJ4ahRo0zqCg4OJk+ePNSuXZssWbKYe1lmi4yMxMfHh/r162Nra5vk5SdZHU+eYPvffwB4ffopZM2a9HW8RlqoIy1cg9SRcsqXOlJWHWnhGtJSHY8ePUqWclOLFJscGvr6+fv7m7Qc+vv7G1sF9+3bx9GjR7G3tzc5t1y5cnTq1ImVK1fGWXbFihXx8fFJVDwVK1Zk8uTJhIeHx6rPwN7ePs7nbG1tk+0D/C7Kf+s6zpzRvhcqhG2M9zJJ6zBTWqgjLVyD1JFyypc6UlYdaeEa0kIdyR17SpdiRwZ4enqSM2dO9u7da9wXHBzM8ePHqfxiEuV58+Zx9uxZfH198fX1Zfv27QCsX7+eqVOnxlu2r6+vScJpDl9fX9zc3OJNDEUCZH5DIYQQItWwaMthSEgI169fNz728/PD19eXzJkzkzdvXoYMGcKUKVMoXLgwnp6ejB07Fg8PD2O/xLx585qU5/xird6CBQuSO3duAFauXImdnR1lypQBYPPmzSxbtoylS5caz9uyZQujRo3i8uXLAGzduhV/f38qVaqEg4MDPj4+TJs2jWHDhiXba5GmSXIohBBCpBoWTQ5PnTpF7dq1jY8N/fW6devGihUrGDFiBKGhofTt25fAwECqVavGzp07cXBwSFQ9kydP5ubNm9jY2PD++++zfv16WrdubXw+KCiIK1euGB/b2tqycOFCPvvsM5RSFCpUiNmzZ9OnT5+3vOJ0SK9/uaayJIdCCCFEimfR5LBWrVokNFhap9MxadIkJk2aZFZ5+fPnj1Vet27d6NatW4Lnde/ene7duxsfN2rUiEaNGplVp3iNa9fgyRNwcICSJS0djRBCCCFeI8X2ORRphOGWcrlykM47+AohhBCpgSSHInlJf0MhhBAiVZHkUCQvSQ6FEEKIVEWSQ5F8QkPh3DltW5JDIYQQIlWQ5FAkn1OntNHKefJArlyWjkYIIYQQZpDkUCQfuaUshBBCpDqSHIrkc+SI9l2SQyGEECLVkORQJC2l4I8/oEED+O03bZ8kh0IIIUSqYdFJsEUaohTs3AlTp8Lhw9o+a2sYOBBerIUthBBCiJRPkkPx9m7dgq5dtRZDADs76NkTRowAT0/LxiaEEEKIRJHkULydX36BPn0gMBAcHaFfP/j8c/DwsHRkQgghhHgDkhyKNxMaCoMHw48/ao8rVIC1a6FgQcvGJYQQQoi3IgNSROL9/Td4eWmJoU4Ho0bBoUOSGAohhBBpgLQcisTR6+F//4Pr17WJrVevhtq1LR2VEEIIIZKIJIcicXbu1BLDTJnA1xeyZrV0REIIIYRIQnJbWSTOokXa9x49JDEUQggh0iBJDoX5/Pxg+3Zt+5NPLBuLEEIIIZKFJIfCfEuWaJNdN2gAhQtbOhohhBBCJANJDoV5wsJeTlvTv79lYxFCCCFEspHkUJhFt3EjPHoEefNC06aWDkcIIYQQyUSSQ2EWqyVLtI1+/bQ1k4UQQgiRJklyKF4r0/XrWJ08qa2Z3KuXpcMRQgghRDKS5FC8Vv4dO7SNNm0ge3bLBiOEEEKIZCXJoUjY48fk/vNPbfvTTy0bixBCCCGSnSSHIkFWq1ZhHRGBKlUKKle2dDhCCCGESGaSHIoEWa1dC0D0xx+DTmfhaIQQQgiR3CQ5FPELDYVz5wBQjRtbOBghhBBCvAuSHIr4nTqFTq/neZYskCuXpaNJew4c0Fpjf/nF0pGItGTmTChQQJtyqnTptyure3dwdk6KqFKuFSu0n8MbNywdiRAphiSHIn7HjgHw+L33LBxI6tGyVSts7ey0PzYJfR04YOlQRXKYNg28vS1X/+7dMGIEVK0Ky5dr8Yh369IlaNRIS6ozZ4YuXeDhQ7NP123dCmXLgoODtujA+PEQFRX7wMBA6NsXsmUDJyeoXRv++iv2cevXQ+fOULgwtnZ2VB09Ov7Kr12D9u0hd25wdIT334dJk+DZM7PjF2mDjaUDECnYi+TwSZEiyAQ25jk9ZAilSpXCxubFj9aqVeDjA6tXmx5YtKj2R0SkLdOmQevW0KqVZerftw+srLSlLu3sLBNDatOli5YQ2du/fVn//Qc1aoCrq/ZZCAmBb76Bv/+GEyde+55kP30a6ylToFYtmD9fO2/KFHjwABYvfnmgXq+tVHX2LAwfDlmzwqJF2nmnT0Phwi+PXbxY21e+POrRo/grv30bKlTQYh8wQEtsjx7VktPTp+HXX9/qpRGpiySHIm5KvUwOpeXQbP/VqkXJJk3A1lbbceyYlhx27hz74PSYHOr12jrdqYFeDxERWgtOavHgAWTIIIlhYlhbJ92qT9OmaX21T5/WWv1AS7jq19duX/ftm+DpxVesgBIltBZgwz+YLi5auYMHay15oHVFOXIENm7U/hkBaNsWihTRkrkXAwkB7R/TXLm0fxqKF4+/8tWrtdbIQ4deHte3r/ZzsGoVPHkCbm6JfUVEKiW3lUXcbt2C+/dRNjYEFihg6WjSNr0epk7VbuU4OEDdunD9eqzDdCdOUGniRGyyZtVu+dSsCYcPv778iAgYNw68vLRWAScnqF4d9u9/eUxkJGTOjHXv3rHPDw7W4ho27OW+8HDtj1ChQlqLS5482u3M8PBXgtZprRBr1mh/cOzt0e3aBYDV7NlQpQpkyaIlNF5ecfe/fP4cBg3SWkcyZoQWLeDOHa3sCRNMj71zB3r2xCZ3bpq1bo1NqVKwbNnrX6N4YmXnTu25b76JFatu06bY54eGwsqVL7sPdO8eKzZy5NDKLl7c/NiiomDyZChYUDs3f3748kvT11un024lh4a+rH/FioQv+cQJKk2ahE327NrnomRJmDs39oF37mitoc7O2m3MYcMgOtr0mDheozjfT8Pr7O0NH3zw8rUwvNYxHTgA5cppn7+CBeG777T3PI6ZE3IfOIBNxYpa3Zkza62Bt28neP1A3H0OT52Chg21z1yGDODpiXWfPq8va9MmaNbsZWIIUK+elrRt2JDwuRcv4nL7NvrevV8mhqDNL6uU6Wv5yy/a5+h//3u5L1s2LUH89VfTz0WePFpi+DrBwdr3HDlM97u7a+fLPxzpirQcirgdPQqAKlUKfVLcbhHx+/pr7ZfvsGEQFAQzZkCnTnD8+Mtj9u3DunFjbD090Y8Zg7WtrZYI1KkDf/6ptU7EJzgYli6FDh2gTx94+lS77diwoXarq3RpraXzww/Rbd6Mrnlz0/O9vbU/Nu3ba4/1ei1BO3RIa1koWlS7/fXtt3D1auw+d/v2aX8YBwyArFlR+fLB3btYLVigldOpk5bA/vyztgrPtm3aLTOD7t2187t0gUqV4I8/TJ838PfXntfp0H/yCef9/Snx33/oevXSXoMhQ17/XrwSK/nza/vnzo0Vq02HDuQYMwaaNNGOWb0aevfW3gtDC1HBgrFiY8AA7Q/5jh3acpTmxNa7t5Z0tm4Nn3+ufTa++kprfd6y5WX933+vvadLl2r7qlSJv0wfH6ybNSOjqyv6AQOwzpVLK2/bNq2VyiA6WvusVKyoJYB79sCsWdq1ffLJy+PieI1o0wZdXH0wDx2CzZu1xCdjRpg3Dz76SPunNEsW7ZgzZ7S+e+7uMHGiFsekSdpr9wqrr76i7Ny5qNat0fXpo/Xxmz9fu8V75gxkypTw6xvTgwfQoIFWzxdfaOfeuKH9M/Dhh/Gfd+eOdm65crGfq1ABtm9PsFqdry8AysvL9AkPD+0fxzNnXu47c0brl/hq0lehgvYZuHpVa4FMjFq1YPp07TM5caL2Phw5ot2WHjRI++dBpB9KJJugoCAFqICAgGQpPyIiQnl7e6uIiIikL3zwYKVARfXvn3x1vJCs12HpOvr3Vyq+H7P9+7XnihZVKjz85f65c7X9f/+tPdbrlSpcWEU3aKC8t2x5Wf6zZ0p5eipVv37CgUVFmZavlFJPniiVI4dSPXu+3Ldrl1Kgjo4ebXoNTZooVaDAy8erVytlZaXUn3+alrlkiRb34cMv94F27IULxl3G1ykoyPT8iAilPvhAqTp1Xu47fVorY8gQ02O7d9f2jx//cl+vXkq5uysVEGD6XrRvr5Srq/Z6JSSOWI1ePTciQumLF1cPSpQwfa2cnJTq1i32+TFiM5FAbMZrOHlSi613b9MDhg3T9u/b93Jft25aDK8TFaWUp6fS58untv30k+k16PWm5YFSkyaZnl+mjFJeXqb74niN1AcfqOjatU1/LkApOzulrl9/eezZs9r++fNf7mveXClHR6Xu3Hm579o1pWxsTH+mbtxQemtrdaFTJ9Pr+Ptv7dipUxN+LZYv18rz89Meb9miPT558pXLec3vEMP7tGpV7OeGD9eeCwuLN4yor79WClTEP//EfrJ8eaUqVXr52MnJ9GfX4PfftXp27oyzDn2xYuph8eLxX8PkyUplyKCVYfgaPTremOOSVn6fBwQEKEAFvfp7Kp2Q28oibi/6G6qEWqRE0ujRw/SWTfXq2vd//9W++/rCtWvo27XD7ulTCAjQvkJDtVvQBw9qrXnxsbZ+Wb5eD48fa7cpy5UzHd1Ypw4qa1ZyHTr0ct+TJ1qfyXbtXu7buFFrLXz//ZexBARorZhgersatNvfxYrFjitDBtN6goK0a48Zk+FW46tLNw4caPpYKe2WXvPm2nZAAHbBwVpcDRtqZcc1kvNViYhVX60arob3KCFxxGb8MiM2K8NrMHSo6ROff659//3318fwqjNnwM8P/cCBRL06VU1ck93362f6uHr1l59Pg3jeT13MFi+DevVetqqCdjvbxeVlmdHRWgtlq1Zay5lBoULw6pyrmzeDXs/datVMX9ucObWBGa9+Hl/H0Mq4bZvW3cJcz59r3+O602Lot2o45k3Oj3nu8+dvXk9C8ufXWlu//177zPbsqfV3XLDgzcoTqZbcVv5/e3ceF1W9/gH8M6yiCCaLgAKyuuMCiYS5BFdUcu2aC7dGTb0ZvtLqipoLmrnVtZ9LZtcs1KxcUqxUNEXFLMQk0MANFaUUwZVFFHDm+f3xbY4MMzADHALxeb9e8xLOOfN9vs85c5yHs3wP01VcLJ3CoMBA4Ny5Ou5QA1f2+iTg8UXfd++KfzMyAABmr72GCociz8ur/GLxjRvFqcBz57S/8Dw8Hv9sZgb1sGFw2rxZfAbMzcUXb2mpdnGYkSFOP+o5vQdAnForq2yMMhR79ohT6qmputfOaVy9Kk6dlW/D21v795s3xcX069YB69bBHNBdV+X7pU8FfcXu3eKu0TJ9NQVgolBAzyAjlfZNr8r6lpUl1kH5nJ2cRCFz9aqhHui6dAkAQB066F4nWl6jRrrb+plnHn8+NfSsIwD6i83yn/nybebmigKnfM6A7rSMDCiIEDp5svZpbg3NzWHG6t1bnOJesEBcKtGnjyhSR4yo/H2a4ljf+tTchFW2gK7q+8u+18qq+nEqsmWLuBziwgVxGhsQ1zSq1cCMGeKyFM0pf9bgcXHIdKWkiGuGHBzElyUXh7WrojslicS/fx0VVC1diqTiYnTv3v3xUDkalQ1UvHmzuG5v6FAx7IWjo4i5ZIlUJEghX34Z5p99hkf79onr27ZtE0cIO3d+vJBaLa5n+ugj/fFcXbV/1/NF1Tw9HaZz5oijFJ98Iq4r01xHWfZOS2Npjpz+61+AUolHjx7hxIkT2uvKz89wO/q+VH/6SVxLV66v6s8/h8mWLVXum17G9K2uHl9pzJ28FawjxMRAoW97GvrMV4VaDVIokDhvHrr36FG1fUMfzcD0x48DP/wA7N8vbnL6739hOnduxe9zdhb/ZmfrzsvOFjfJVHL9Njk5ifA3bohBzMu/v+xZHGfniuMA2kdbjfXJJ0DXro8LQ43Bg8VNOykp4ogveypwcch0/XVKWbqAntWtv06/kY0Nbrq4gEJCqnY05NtvxZfNzp3a2zM6WmdRev55PHzmGVhs3y6OmBw6BJQfNNfLS4yvFhJS7c+HS2KiOCK1f7/2F2ZMjPaC7u6iuMrM1B67rfzd3A4O4sYGlQoIDQWVluJmcXHV15U+O3bo7+vnn+suq299lOtblbm5iXWQkSFO52vk5Igjku7uVW/zr8+UIj1d/9G5qqpoHZXfnsZydBTt6blrX2ealxcURChydJRne2v06CFeixYBX38NRUSEuOTipZf0L9+ypdjWJ0/qztPc+FUJ+usPMEVysvaNRNevi/ETyw6D06WLKMjVau2bUpKSxEgGvr7G5VhWTo7+sw+aMw36BuJmDRZfc/g0KC0Vp3pOntR+6fuPF9AuDlnd8/cHvLxg+tFHMNV3LZGhpy9ojtKUPSqTlCTdka7FxATXn3tOnPL98kvxhVD2lDIghsu4dg347DPd9z94IK6FNIBMTEQhVXY4lCtXdO90DgsT/37yifb01au1fzc1FV/aO3YAaWm6AavwhAodpqZ6+6r4/nvdZZs0EQWbjH1T9+8vflixQnuG5sitvju3DenWDfDwgMnq1TArLNSeV52jdxWso2o/LcbUVBTSu3aJ4kjj4kVxl3dZw4eDTE3RZutW3b4TAZUN/KzP3bu67fxV2JkaugbxpZfE6fWyQ+jEx4tTtWVPS5eWijMyZY/+deiAglatYLJ+vfZ6XLtWrFvNeIaA+DknR/zBp3HrlrgeeNCg6g3o7esrjg5euKA9/ZtvRAFa9uh2VhafUWrg+MhhQ/bggTi68eGHYmfW59tvdf8S5uKwfjExEUOTDBiAF958Eybp6eJo0rVr4mJ7Gxtx+qsiL74ovkSGDROFRGYm8Omn4saL8oUBgGs9e8Jzzx5xZLFTJ+2jVYAYUmbbNnGTwuHD4lFtKpX4sti2TRw90jecRxk5AQHw/v57MVTJmDHiGrM1a8RRrNOnHy/o7y8+nytWiC95zVA2mi+wskfqli4V/QkMhMlrr8H90SOYpKWJo5wHD4obcaojPFwUYuX76uUlhvApy99fxProI3Fqz8NDDAFTpm+YOFGs+zt3xI0ohvrWubM4Hb1unSg8e/cWR6I2bhSXCvTtW/WcTExE0TFoEPq+9RZMzp8XpxPPnQPS08U2rIqK1lH57VkV8+eLwaCDg8W1hCqVuDGiY0fxx66GlxfUCxbAdc4cqPv0EZ/zpk3F5zw2VhxxKztGpyEbN4o/RoYNE9u4oAD47DOQjQ1y/P3RrrL3vvuuKND69hXDARUWiv9/O3USN55pXLsm9iulUmssynSlEoGLF4uhdEaNEn9MfPyxGMqo7H74z3+KfWHcOODMmcdPSFGpxLWSZR09Kl4AcOsWrACYLF4sCvBevcQLEJecxMWJm42mTBHXF+7eLaZNmKB9qvrVV8V+WJ0/JNiToa5vl27I6mwom/x8omXLxFAlmuEIbGyIXF0fvxwdxfSWLYkKCh6/9/p1MV2hIMrPbzDDEtTroWy2b9eenpkppsfEaLd/4gRd69GD1HZ2RJaWRO7uRC+/TBQfX3nH1GqixYvF8paWYhiS3bvFMCXu7ro5xMaS2tVV9OH99ytKVnzGOnQQbT7zjBjaZMECorJDPwBiHZSPsWsXla5bR+TjI97ftq3INzpad33dvy/aaN6cyNqaaOhQovPnxXJLl2ovm5NDFBlJaldXUpmZkdrJiSgkhGjdusrXUQV9lXz+uU5fH82ZI4YeKbu9z50j6tXr8XAgZYe1+atv5OpKZG5OZKBvWp+n0lKxbj08xHtdXYlmzdIdGsXYoWz+UnrkCOV07kzqpk3F+/z8tIeTqag9fdtJzzrSLKczlI2+9ezurjsMUHy8+LxaWBB5eRGtX0/0zjtEjRppLVZSUkJJM2aQKjhY9LdJE9GHyEjxWalM+aFsfvuNaPRoIjc3kYujI9GLL1LJ8ePG/R+SlkbUr58YhqdZM6KICKIbN7SX0ezjZfKV9ovt24m6dBGxW7UimjNH7G/l3bkjhkiysxOxevfWGX6HiB5vK32vskNBERElJRENGCA+m+bmRL6+Yiig0lLt5Xr3rvD/tYby//nTPpQNF4e1qE6Kwx9+EF/Ump3fzY1ozRqiBw+036wZIw8gmjnz8XTNGF+dOlUc4+/Ig2P87e0/UTFSUsTndPPm2othAG/vOooxZAiRt3ftxtCDt/fTFeNpLw75msOG5I8/xB2Rd++K60diYsQ1Om+8oft8WCurx4/JWr4cOH9e/MynlFl9o+86yxUrxKlRzSkx1jCV3/YZGeJJI3361El3GHta8DWHDYVaLYYrycsT1zX99JPhu/ZefFE8+mvvXvF4pH37uDhk9c8HHwDJyeI6LjMzcQ1UXJy4lqz8sDmsYfH0FP+veXqK8RzXrhUDukdF1XXPGGvQuDhsKFatEsOONG4MbNpk3HAOCoU4AnPwoLjwe8cO4NdfxTwuDll98dxz4iktCxeKC/zd3MTNCuWH2GENT//+4m7ZGzfEHbhBQeKJHWWHNWKMyY6Lw4bgzBnxgHhAnCKuyhhXPj7iTr7Fi8UD14uKxN2vbdvWTl8Zq6p//EO82NOnuuMkMsZqhK85fMIpSkthNnaseJTSgAHAv/9d9UbefVecnsvPF78HBmoPrMoYY4yxpwZXAE+4tlu3QpGaKh7N9Pnn1XtiRZMm2o9C41PKjDHG2FOLi8MnmOL4cfhoRsj/3/8eP9uzOl56SQxkq1BU74kLjDHGGGsQ6rQ4PHr0KAYNGgQXFxcoFArsKveoJSLCvHnz4OzsDCsrK4SGhiIjI0NvW8XFxejSpQsUCgVSy4yef+XKFSgUCp3Xcc1duRXIyspCeHg4GjduDEdHR0yfPh2P6tOzJR89gunkyVCo1VCPGaP9aKXqUCjE0wQyM8VpZcYYY4w9leq0OLx//z46d+6MNWvW6J3/wQcfYNWqVfj000+RlJSEJk2aICwsDA8fPtRZNioqCi5lH+9TzsGDB5GdnS29/P39K1xWpVIhPDwcJSUl+OWXX7Bx40Zs2LAB8+bNq3qSteWTT6BIT0dJ06ZQLV8uT5vm5oC7uzxtMcYYY+yJVKd3Kw8YMAADBgzQO4+IsGLFCsyZMwdDhgwBAGzatAktWrTArl27MGrUKGnZuLg4/Pjjj9ixYwfiyj+U/S92dnZwcnIyql8//vgjzpw5g4MHD6JFixbo0qULFi5ciBkzZmD+/PmwsLCoYqYyy8kB5s4FAJz517/Qwc6ubvvDGGOMsQaj3g5lk5mZiRs3biA0NFSaZmtri8DAQCQmJkrFYU5ODiZOnIhdu3ahcePGFbY3ePBgPHz4EL6+voiKisLgwYMrXDYxMRGdOnVCixYtpGlhYWGYPHky0tPT0bVrV73vKy4uRnFxsfR7/l93/5aWlqK0tNS4xI1gOmMGTPLzoeraFVdDQ+ErY9vlafotZ/85Rv1sn2PUrxgNIQeOUX/a5xjVi/G0UhAR1XUnAEChUCA2NhZDhw4FAPzyyy8IDg7G9evX4VzmRouXX34ZCoUCW7duBRFh4MCBCA4Oxpw5c3DlyhV4eHggJSUFXbp0AQDcunULmzZtQnBwMExMTLBjxw588MEH2LVrV4UF4qRJk3D16lXs379fmlZUVIQmTZpg7969FR7tnD9/PhYsWKAz/euvv66wcHU8eRLtN2/GrY4dcXHoUDy0t690PT1z7hx6/TWm4dFly3C3TZtKl2eMMcZY1RQVFWHMmDHIy8uDjY1NXXfnb1dvjxwaY/Xq1SgoKMCsWbMqXMbe3h5vv/229Puzzz6L69ev48MPP6z06GF1zJo1SytWfn4+XF1d0bdvX9jpOfWr2LEDpkuXQvHoEWyvXIHn/v2gV16Bavp0wMtLN4BKBbO/ik+1UomAKVNw4MAB/OMf/4C5MU9EqYbS0lKOUU9iNIQcOEb9aZ9j1K8YDSGHhhTj9u3btdLuk6LeFoea6wNzcnK0jhzm5ORIRwUPHTqExMREWFpaar03ICAAERER2Lhxo962AwMDceDAgUpjnzhxQmtaTk6OVr/0sbS01OkLAJibm+t+gDdvBpRK8UzkIUOAvDwojhyB4osvYLJhAzBqFDBiBNCzJ6A5mvjFF0BKCmBrC5Nly6Q29bYvM45Rf2I0hBw4Rv1pn2PUrxgNIYeGEKO2+17f1dtxDj08PODk5IT4+HhpWn5+PpKSkhAUFAQAWLVqFU6dOoXU1FSkpqZi7969AICtW7di0aJFFbadmpqqVXCWFxQUhN9//x25ubnStAMHDsDGxgbt27evaWrA+vXAq6+KwnDcOPFM48OHgWPHxFNO1Grg66+BYcMABwegY0dg8mTxJBMAeO89oMz1kIwxxhhjcqnTI4eFhYW4ePGi9HtmZiZSU1PRvHlzuLm5Ydq0aXj//ffh4+MDDw8PzJ07Fy4uLtJ1iW5ublrtWVtbAwC8vLzQqlUrAMDGjRthYWEh3USyc+dOfPHFF1i/fr30vtjYWMyaNQvnzp0DAPTr1w/t27fHK6+8gg8++AA3btzAnDlzEBkZqffIYJWsWgVMnSp+fuMNYPXqx4+qCw4G9u4VRwfXrQOOHhXPTU5PFy8A6NRJvI8xxhhjrBbUaXF48uRJ9O3bV/pdc72eUqnEhg0bEBUVhfv372PSpEm4d+8eevbsiX379qFRo0ZVirNw4UJcvXoVZmZmaNu2LbZu3Yp/lhk0Oi8vD+fPn5d+NzU1xe7duzF58mQEBQWhSZMmUCqVeO+992qW8LJlwF83k+Cdd4APP9T/uLuuXYG1a8XPN2+KI4o//QRcuAAsWgSY1durARhjjDH2hKvTKqNPnz6o7GZphUKB9957z+iirHXr1jrtKZVKKJXKSt83duxYjB07Vmuau7u7dJq6xoiA6GhxOhgA5s0D5s837jnIDg7i9PKwYfL0hTHGGGOsEnwI6m9gMn8+oHkKzJIlj48eMsYYY4zVM1wc/g1MNYXhypXAm2/WbWcYY4wxxirBxeHfgADgf/8DJk2q664wxhhjjFWq3g5l05Co1qzhwpAxxhhjTwQuDv8GNHJkXXeBMcYYY8woXBwyxhhjjDEJF4eMMcYYY0zCxSFjjDHGGJNwccgYY4wxxiRcHDLGGGOMMQkXh4wxxhhjTMLFIWOMMcYYk3BxyBhjjDHGJFwcMsYYY4wxCReHjDHGGGNMwsUhY4wxxhiTcHHIGGOMMcYkXBwyxhhjjDEJF4eMMcYYY0zCxSFjjDHGGJNwccgYY4wxxiRcHDLGGGOMMQkXh4wxxhhjTMLFIWOMMcYYk3BxyBhjjDHGJFwcMsYYY4wxCReHjDHGGGNMwsUhY4wxxhiTmNV1BxoyIgIAFBQUwNzcXPb2S0tLUVRUhPz8/Fppn2PUrxgNIQeOUX/a5xj1K0ZDyKEhxSgoKADw+Hv8acPFYS26ffs2AMDDw6OOe8IYY4yxqrp9+zZsbW3ruht/Oy4Oa1Hz5s0BAFlZWbXy4crPz4erqyv++OMP2NjYyN4+x6hfMRpCDhyj/rTPMepXjIaQQ0OKkZeXBzc3N+l7/GnDxWEtMjERl3Ta2trW2gcYAGxsbGq1fY5Rv2I0hBw4Rv1pn2PUrxgNIYeGFEPzPf60eTqzZowxxhhjenFxyBhjjDHGJFwc1iJLS0tER0fD0tLyiWyfY9SvGA0hB45Rf9rnGPUrRkPIgWM0HAp6Wu/TZowxxhhjOvjIIWOMMcYYk3BxyBhjjDHGJFwcMsYYY4wxCReHjDHGGGNMwsVhLVmzZg1at26NRo0aITAwECdOnJCt7fnz50OhUGi92rZtW6M2jx49ikGDBsHFxQUKhQK7du3Smk9EmDdvHpydnWFlZYXQ0FBkZGTIGmPs2LE6efXv39/o9pcsWYJnn30WTZs2haOjI4YOHYrz589rLfPw4UNERkbCzs4O1tbWeOmll5CTkyNrjD59+ujk8frrrxsdY+3atfDz85MGeA0KCkJcXJxsORgTo6Y5lLd06VIoFApMmzZN1jwMxahpHob2NTlyMBRDjm1x7do1/Otf/4KdnR2srKzQqVMnnDx5Upovx/5tKEZN9+/WrVvrvF+hUCAyMhKAPNvCUAw5toVKpcLcuXPh4eEBKysreHl5YeHChVrP8K3J9jCm/ZpuC0A8e3jatGlwd3eHlZUVnnvuOfz666+y5GBsjKrmIcf33J07dxAREQEbGxs0a9YMr732GgoLC6uU1xOBmOy2bNlCFhYW9MUXX1B6ejpNnDiRmjVrRjk5ObK0Hx0dTR06dKDs7GzpdfPmzRq1uXfvXpo9ezbt3LmTAFBsbKzW/KVLl5KtrS3t2rWLTp06RYMHDyYPDw968OCBbDGUSiX1799fK687d+4Y3X5YWBjFxMRQWloapaam0sCBA8nNzY0KCwulZV5//XVydXWl+Ph4OnnyJPXo0YOee+45WWP07t2bJk6cqJVHXl6e0TG+//572rNnD124cIHOnz9P7777Lpmbm1NaWposORgTo6Y5lHXixAlq3bo1+fn50dSpU6XpcuRhKEZN8zC0r8mRg6EYNc3hzp075O7uTmPHjqWkpCS6fPky7d+/ny5evCgtU9P925gYNd2/c3Nztd574MABAkCHDx8mInm2haEYcuwXixYtIjs7O9q9ezdlZmbS9u3bydramlauXCktU5PtYUz7Nd0WREQvv/wytW/fnhISEigjI4Oio6PJxsaG/vzzzxrnYGyMquYhx/dc//79qXPnznT8+HH66aefyNvbm0aPHl2FNfdk4OKwFnTv3p0iIyOl31UqFbm4uNCSJUtkaT86Opo6d+4sS1v6lN9p1Go1OTk50YcffihNu3fvHllaWtI333wjSwwisaMPGTKkWu3pk5ubSwAoISGBiESfzc3Nafv27dIyZ8+eJQCUmJgoSwwi8QVStkCRwzPPPEPr16+vlRzKxyCSL4eCggLy8fGhAwcOaLUpZx4VxZAjj8r2NblyMLQ/1zSHGTNmUM+ePSucL8f+bSgGkfz799SpU8nLy4vUanWt7RdlYxDJs1+Eh4fT+PHjtaYNHz6cIiIiiKjm28NQ+0Q13xZFRUVkampKu3fv1prerVs3mj17tiyfKUMxappHdb7nzpw5QwDo119/lZaJi4sjhUJB165dq1Y/6is+rSyzkpISJCcnIzQ0VJpmYmKC0NBQJCYmyhYnIyMDLi4u8PT0REREBLKysmRru7zMzEzcuHFDKydbW1sEBgbKmhMAHDlyBI6OjmjTpg0mT56M27dvV7utvLw8AJAenJ6cnIzS0lKtPNq2bQs3N7dq51E+hsZXX30Fe3t7dOzYEbNmzUJRUVG12lepVNiyZQvu37+PoKCgWsmhfAw5c4iMjER4eLhWfwF5t0VFMeTKo6J9Tc4cDO3PNcnh+++/R0BAAEaMGAFHR0d07doVn332mTRfjv3bUAwNufbvkpISbN68GePHj4dCoaiV/aJ8DI2afp6ee+45xMfH48KFCwCAU6dO4dixYxgwYACAmm8PQ+1r1GRbPHr0CCqVCo0aNdKabmVlhWPHjsnymTIUQ448yjKmz4mJiWjWrBkCAgKkZUJDQ2FiYoKkpKRqxa2vzOq6Aw3NrVu3oFKp0KJFC63pLVq0wLlz52SJERgYiA0bNqBNmzbIzs7GggUL8PzzzyMtLQ1NmzaVJUZZN27cAAC9OWnmyaF///4YPnw4PDw8cOnSJbz77rsYMGAAEhMTYWpqWqW21Go1pk2bhuDgYHTs2BGAyMPCwgLNmjXTWra6eeiLAQBjxoyBu7s7XFxccPr0acyYMQPnz5/Hzp07jW77999/R1BQEB4+fAhra2vExsaiffv2SE1NlS2HimLIlcOWLVvw22+/aV0jpCHXtqgshhx5VLavyZWDof25pjlcvnwZa9euxdtvv413330Xv/76K958801YWFhAqVTKsn8bigHIu3/v2rUL9+7dw9ixYwHIv2/riwHIs1/MnDkT+fn5aNu2LUxNTaFSqbBo0SJERERIuWj6Xp1cDLUP1HxbNG3aFEFBQVi4cCHatWuHFi1a4JtvvkFiYiK8vb1l+UwZiiFHHmUZ0+cbN27A0dFRa76ZmRmaN28u63dhfcDF4ROo7F+Afn5+CAwMhLu7O7Zt24bXXnutDntWM6NGjZJ+7tSpE/z8/ODl5YUjR44gJCSkSm1FRkYiLS1N6y9MuVUUY9KkSdLPnTp1grOzM0JCQnDp0iV4eXkZ1XabNm2QmpqKvLw8fPvtt1AqlUhISJC1/xXFaN++fY1z+OOPPzB16lQcOHBA5y9/uRgTo6Z5VLavWVlZ1TwJAzFee+21GuegVqsREBCAxYsXAwC6du2KtLQ0fPrpp1LhVlPGxJBz//78888xYMAAuLi4yNJ/Y2PIsW9v27YNX331Fb7++mt06NABqampmDZtGlxcXGTZHsa0L8e2+PLLLzF+/Hi0bNkSpqam6NatG0aPHo3k5OQa52BsDDk/U0wbn1aWmb29PUxNTXXuksvJyYGTk1OtxGzWrBl8fX1x8eLFWmlf0++/MycA8PT0hL29fZXzmjJlCnbv3o3Dhw+jVatW0nQnJyeUlJTg3r17WstXJ4+KYugTGBgIAFXKw8LCAt7e3vD398eSJUvQuXNnrFy5UtYcKoohRw7JycnIzc1Ft27dYGZmBjMzMyQkJGDVqlUwMzNDixYtapyHoRgqlarGeZRXdl+Tc1tUFEOfqubg7OwsHRHWaNeunXTqWo7921AMfaq7f1+9ehUHDx7EhAkTpGlybwt9MfSpzudp+vTpmDlzJkaNGoVOnTrhlVdewVtvvYUlS5YAqPn2MNS+PtXZFl5eXkhISEBhYSH++OMPnDhxAqWlpfD09JTtO6OyGHLloWFMn52cnJCbm6s1/9GjR7hz506tfhfWBS4OZWZhYQF/f3/Ex8dL09RqNeLj47Wu55JTYWEhLl26BGdn51pp38PDA05OTlo55efnIykpqdZyAoA///wTt2/fNjovIsKUKVMQGxuLQ4cOwcPDQ2u+v78/zM3NtfI4f/48srKyjM7DUAx9UlNTAaBG20etVqO4uFiWHAzF0KeqOYSEhOD3339Hamqq9AoICEBERIT0c03zMBRD32mlmm6LsvtabW0LQ/tzVXMIDg7WGW7pwoULcHd3ByDP/m0ohj5V3b81YmJi4OjoiPDwcGma3NtCXwx9qvN5KioqgomJ9levqakp1Go1gJpvD0Pt61PdbQEATZo0gbOzM+7evYv9+/djyJAhsn9n6Ishdx7G9DkoKAj37t3TOjp66NAhqNVq6Q+FBqOu74hpiLZs2UKWlpa0YcMGOnPmDE2aNImaNWtGN27ckKX9d955h44cOUKZmZn0888/U2hoKNnb21Nubm612ywoKKCUlBRKSUkhAPTRRx9RSkoKXb16lYjELf7NmjWj7777jk6fPk1Dhgyp8rAElcUoKCig//znP5SYmEiZmZl08OBB6tatG/n4+NDDhw+Nan/y5Mlka2tLR44c0RraoKioSFrm9ddfJzc3Nzp06BCdPHmSgoKCKCgoyOgcDMW4ePEivffee3Ty5EnKzMyk7777jjw9PalXr15Gx5g5cyYlJCRQZmYmnT59mmbOnEkKhYJ+/PFHWXIwFEOOHPQpf6enHHlUFkOOPAzta3LkUFkMOXI4ceIEmZmZ0aJFiygjI4O++uoraty4MW3evFlapqb7t6EYcuzfRGLkBzc3N5oxY4bOPLk+TxXFkGu/UCqV1LJlS2momZ07d5K9vT1FRUVJy9RkexhqX65tsW/fPoqLi6PLly/Tjz/+SJ07d6bAwEAqKSmpcQ7GxKhOHnJ8z/Xv35+6du1KSUlJdOzYMfLx8eGhbJjxVq9eTW5ubmRhYUHdu3en48ePy9b2yJEjydnZmSwsLKhly5Y0cuRIrfHEquPw4cMEQOelVCqJSNzmP3fuXGrRogVZWlpSSEgInT9/XrYYRUVF1K9fP3JwcCBzc3Nyd3eniRMnVqmg1tc2AIqJiZGWefDgAb3xxhv0zDPPUOPGjWnYsGGUnZ0tW4ysrCzq1asXNW/enCwtLcnb25umT59epbHQxo8fT+7u7mRhYUEODg4UEhIiFYZy5GAohhw56FO+OJQjj8piyJGHoX1NjhwqiyHXtvjhhx+oY8eOZGlpSW3btqV169ZpzZdj/64shhz7NxHR/v37CYDevsn1eaoohlzbIj8/n6ZOnUpubm7UqFEj8vT0pNmzZ1NxcbG0TE22h6H25doWW7duJU9PT7KwsCAnJyeKjIyke/fuyZKDMTGqk4cc33O3b9+m0aNHk7W1NdnY2NC4ceOooKCgSnk9CRREZYZNZ4wxxhhjTzW+5pAxxhhjjEm4OGSMMcYYYxIuDhljjDHGmISLQ8YYY4wxJuHikDHGGGOMSbg4ZIwxxhhjEi4OGWOMMcaYhItDxpjR5s+fjy5dutR1N/S6cuUKFAqF9Egzxhhj1cPFIWMNXJ8+fTBt2rS67katc3V1RXZ2Njp27Fin/WjdujVWrFjxt8fduXMn+vXrBzs7u2oXyadOncLo0aPh6uoKKysrtGvXDitXrtRZ7siRI+jWrRssLS3h7e2NDRs2aM1fsmQJnn32WTRt2hSOjo4YOnSozrOX//3vf8PLywtWVlZwcHDAkCFDcO7cuSr3mTEmPy4OGWMNgqmpKZycnGBmZlbXXakT9+/fR8+ePbFs2bJqt5GcnAxHR0ds3rwZ6enpmD17NmbNmoWPP/5YWiYzMxPh4eHo27cvUlNTMW3aNEyYMAH79++XlklISEBkZCSOHz+OAwcOoLS0FP369cP9+/elZfz9/RETE4OzZ89i//79ICL069cPKpWq2v1njMmkjh/fxxirRUqlUuc5opmZmUa/f8mSJeTo6EjW1tY0fvx4mjFjBnXu3Fmaf+LECQoNDSU7OzuysbGhXr16UXJysjR/3LhxFB4ertVmSUkJOTg40Pr164mIaPv27dSxY0dq1KgRNW/enEJCQqiwsFBvf+7cuUNjxowhe3t7atSoEXl7e9MXX3xBRESZmZkEgFJSUojo8XNUDx48SP7+/mRlZUVBQUF07tw5rTa///57CggIIEtLS7Kzs6OhQ4dK8x4+fEjvvPMOubi4UOPGjal79+50+PDhSteZu7s7/d///Z/0+/Lly6ljx47UuHFjatWqFU2ePFnrWawxMTFka2tL+/bto7Zt21KTJk0oLCyMrl+/XmmcipRfDzX1xhtvUN++faXfo6KiqEOHDlrLjBw5ksLCwipsIzc3lwBQQkJChcucOnWKANT4OfGMsZrjI4eMNWArV65EUFAQJk6ciOzsbGRnZ8PV1dWo927btg3z58/H4sWLcfLkSTg7O+OTTz7RWqagoABKpRLHjh3D8ePH4ePjg4EDB6KgoAAAMGHCBOzbtw/Z2dnSe3bv3o2ioiKMHDkS2dnZGD16NMaPH4+zZ8/iyJEjGD58OKiCR77PnTsXZ86cQVxcHM6ePYu1a9fC3t6+0jxmz56N5cuX4+TJkzAzM8P48eOleXv27MGwYcMwcOBApKSkID4+Ht27d5fmT5kyBYmJidiyZQtOnz6NESNGoH///sjIyDBqHQKAiYkJVq1ahfT0dGzcuBGHDh1CVFSU1jJFRUX473//iy+//BJHjx5FVlYW/vOf/xgdozbl5eWhefPm0u+JiYkIDQ3VWiYsLAyJiYmVtgFAq52y7t+/j5iYGHh4eBj9+WSM1aK6rk4ZY7Wrd+/eNHXq1Cq/LygoiN544w2taYGBgVpHDstTqVTUtGlT+uGHH6Rp7du3p2XLlkm/Dxo0iMaOHUtERMnJyQSArly5YlSfBg0aROPGjdM7r7Ijhxp79uwhAPTgwQMpx4iICL3tXb16lUxNTenatWta00NCQmjWrFkV9rH8kcPytm/fTnZ2dtLvMTExOkfM1qxZQy1atKiwjcrIeeTw559/JjMzM9q/f780zcfHhxYvXqy1nGa9FhUV6bShUqkoPDycgoODdeatWbOGmjRpQgCoTZs2fNSQsXqCjxwyxvQ6e/YsAgMDtaYFBQVp/Z6Tk4OJEyfCx8cHtra2sLGxQWFhIbKysqRlJkyYgJiYGGn5uLg46ehd586dERISgk6dOmHEiBH47LPPcPfu3Qr7NHnyZGzZsgVdunRBVFQUfvnlF4N5+Pn5ST87OzsDAHJzcwEAqampCAkJ0fu+33//HSqVCr6+vrC2tpZeCQkJuHTpksG4GgcPHkRISAhatmyJpk2b4pVXXsHt27dRVFQkLdO4cWN4eXlp9VPTx7qSlpaGIUOGIDo6Gv369at2O5GRkUhLS8OWLVt05kVERCAlJQUJCQnw9fXFyy+/jIcPH9ak24wxGXBxyBirNqVSidTUVKxcuRK//PILUlNTYWdnh5KSEmmZV199FZcvX0ZiYiI2b94MDw8PPP/88wDETSQHDhxAXFwc2rdvj9WrV6NNmzbIzMzUG2/AgAG4evUq3nrrLVy/fh0hISEGT7+am5tLPysUCgCAWq0GAFhZWVX4vsLCQpiamiI5ORmpqanS6+zZs3rv4NXnypUrePHFF+Hn54cdO3YgOTkZa9asAQCtdVS2j5p+UgWn1v8OZ86cQUhICCZNmoQ5c+ZozXNyckJOTo7WtJycHNjY2OiszylTpmD37t04fPgwWrVqpRPH1tYWPj4+6NWrF7799lucO3cOsbGx8ifEGKsSLg4Za+AsLCyqdQdou3btkJSUpDXt+PHjWr///PPPePPNNzFw4EB06NABlpaWuHXrltYydnZ2GDp0KGJiYrBhwwaMGzdOa75CoUBwcDAWLFiAlJQUWFhYVFogODg4QKlUYvPmzVixYgXWrVtX5dw0/Pz8EB8fr3de165doVKpkJubC29vb62Xk5OTUe0nJydDrVZj+fLl6NGjB3x9fXH9+vVq9/fvkJ6ejr59+0KpVGLRokU684OCgnTW2YEDB7SOKhMRpkyZgtjYWBw6dAgeHh4G4xIRiAjFxcU1T4IxViNP55gPjD1FWrdujaSkJFy5cgXW1tZo3rw5TEwM/104depUjB07FgEBAQgODsZXX32F9PR0eHp6Ssv4+Pjgyy+/REBAAPLz8zF9+nS9R+MmTJiAF198ESqVCkqlUpqelJSE+Ph49OvXD46OjkhKSsLNmzfRrl07vX2aN28e/P390aFDBxQXF2P37t0VLmuM6OhohISEwMvLC6NGjcKjR4+wd+9ezJgxA76+voiIiMCrr76K5cuXo2vXrrh58ybi4+Ph5+eH8PBwg+17e3ujtLQUq1evxqBBg/Dzzz/j008/rXI/Y2NjMWvWrErHAbxz5w6ysrKk4lMzrqCTk5PRxWxaWhpeeOEFhIWF4e2338aNGzcAiCO8Dg4OAIDXX38dH3/8MaKiojB+/HgcOnQI27Ztw549e6R2IiMj8fXXX+O7775D06ZNpXZsbW1hZWWFy5cvY+vWrejXrx8cHBzw559/YunSpbCyssLAgQOrvH4YYzKr20seGWO17fz589SjRw+ysrLSGsrG3d2doqOjK33vokWLyN7enqytrUmpVFJUVJTWDSm//fYbBQQEUKNGjcjHx4e2b9+u94YMtVpN7u7uNHDgQK3pZ86cobCwMHJwcCBLS0vy9fWl1atXV9ifhQsXUrt27cjKyoqaN29OQ4YMocuXLxNRxTek3L17V3p/SkqKznA+O3bsoC5dupCFhQXZ29vT8OHDpXklJSU0b948at26NZmbm5OzszMNGzaMTp8+XWEfXV1dtXL46KOPyNnZmaysrCgsLIw2bdqk1S/NUDZlxcbGUtn/njU3rVRGs0z5V9ltrFQqqXfv3hW2ER0drbcNd3d3reUOHz4srTNPT0+KiYnRmq+vDQDScteuXaMBAwaQo6MjmZubU6tWrWjMmDE6wwwxxuqGgqgOL2xhjNWJoqIi2NnZIS4uDn369Kn1eIWFhWjZsiViYmIwfPjwWo9XV1QqFWxsbLBx40b885//rOvu6Ojduzf69u2L+fPn13VXGGP1GJ9WZuwpdPjwYbzwwgu1Xhiq1WrcunULy5cvR7NmzTB48OBajVeX/vzzT2zatAkqlQo9e/as6+7oyMvLw6VLl7RO/zLGmD585JAxVmuuXLkCDw8PtGrVChs2bKhw2JiGwN7eHnZ2dnj//fcxYsSIuu4OY4xVGxeHjDHGGGNMwkPZMMYYY4wxCReHjDHGGGNMwsUhY4wxxhiTcHHIGGOMMcYkXBwyxhhjjDEJF4eMMcYYY0zCxSFjjDHGGJNwccgYY4wxxiRcHDLGGGOMMcn/A0iLE6QqZl2sAAAAAElFTkSuQmCC\n",
         "text/plain": "<Figure size 640x480 with 1 Axes>"
        },
        "metadata": {},
        "output_type": "display_data"
       }
      ]
     }
    },
    "558fe763fbbe44efa97b7b51fb10372c": {
     "model_module": "@jupyter-widgets/output",
     "model_module_version": "1.0.0",
     "model_name": "OutputModel",
     "state": {
      "_dom_classes": [],
      "_model_module": "@jupyter-widgets/output",
      "_model_module_version": "1.0.0",
      "_model_name": "OutputModel",
      "_view_count": null,
      "_view_module": "@jupyter-widgets/output",
      "_view_module_version": "1.0.0",
      "_view_name": "OutputView",
      "layout": "IPY_MODEL_673bc51a9fdb4c64b1c8bf2ecd97fec6",
      "msg_id": "",
      "outputs": [
       {
        "data": {
         "image/png": "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\n",
         "text/plain": "<Figure size 640x480 with 1 Axes>"
        },
        "metadata": {},
        "output_type": "display_data"
       }
      ]
     }
    },
    "64180ec808194905a352292d8055f9ea": {
     "model_module": "@jupyter-widgets/controls",
     "model_module_version": "1.5.0",
     "model_name": "VBoxModel",
     "state": {
      "_dom_classes": [
       "widget-interact"
      ],
      "_model_module": "@jupyter-widgets/controls",
      "_model_module_version": "1.5.0",
      "_model_name": "VBoxModel",
      "_view_count": null,
      "_view_module": "@jupyter-widgets/controls",
      "_view_module_version": "1.5.0",
      "_view_name": "VBoxView",
      "box_style": "",
      "children": [
       "IPY_MODEL_aed3f19cf02945cfbd21036ea2203066",
       "IPY_MODEL_7ce7487591924a2d8ccd217da115f171"
      ],
      "layout": "IPY_MODEL_f9197ca10ade460a8206843548fe60be"
     }
    },
    "64c7265971e044f7a47568956b64c713": {
     "model_module": "@jupyter-widgets/base",
     "model_module_version": "1.2.0",
     "model_name": "LayoutModel",
     "state": {
      "_model_module": "@jupyter-widgets/base",
      "_model_module_version": "1.2.0",
      "_model_name": "LayoutModel",
      "_view_count": null,
      "_view_module": "@jupyter-widgets/base",
      "_view_module_version": "1.2.0",
      "_view_name": "LayoutView",
      "align_content": null,
      "align_items": null,
      "align_self": null,
      "border": null,
      "bottom": null,
      "display": null,
      "flex": null,
      "flex_flow": null,
      "grid_area": null,
      "grid_auto_columns": null,
      "grid_auto_flow": null,
      "grid_auto_rows": null,
      "grid_column": null,
      "grid_gap": null,
      "grid_row": null,
      "grid_template_areas": null,
      "grid_template_columns": null,
      "grid_template_rows": null,
      "height": "40px",
      "justify_content": null,
      "justify_items": null,
      "left": null,
      "margin": null,
      "max_height": null,
      "max_width": null,
      "min_height": null,
      "min_width": null,
      "object_fit": null,
      "object_position": null,
      "order": null,
      "overflow": null,
      "overflow_x": null,
      "overflow_y": null,
      "padding": null,
      "right": null,
      "top": null,
      "visibility": null,
      "width": null
     }
    },
    "666a4415cbc049fa9e955c8b337c816f": {
     "model_module": "@jupyter-widgets/base",
     "model_module_version": "1.2.0",
     "model_name": "LayoutModel",
     "state": {
      "_model_module": "@jupyter-widgets/base",
      "_model_module_version": "1.2.0",
      "_model_name": "LayoutModel",
      "_view_count": null,
      "_view_module": "@jupyter-widgets/base",
      "_view_module_version": "1.2.0",
      "_view_name": "LayoutView",
      "align_content": null,
      "align_items": null,
      "align_self": null,
      "border": null,
      "bottom": null,
      "display": null,
      "flex": null,
      "flex_flow": null,
      "grid_area": null,
      "grid_auto_columns": null,
      "grid_auto_flow": null,
      "grid_auto_rows": null,
      "grid_column": null,
      "grid_gap": null,
      "grid_row": null,
      "grid_template_areas": null,
      "grid_template_columns": null,
      "grid_template_rows": null,
      "height": "80px",
      "justify_content": null,
      "justify_items": null,
      "left": null,
      "margin": null,
      "max_height": null,
      "max_width": null,
      "min_height": null,
      "min_width": null,
      "object_fit": null,
      "object_position": null,
      "order": null,
      "overflow": null,
      "overflow_x": null,
      "overflow_y": null,
      "padding": null,
      "right": null,
      "top": null,
      "visibility": null,
      "width": null
     }
    },
    "673bc51a9fdb4c64b1c8bf2ecd97fec6": {
     "model_module": "@jupyter-widgets/base",
     "model_module_version": "1.2.0",
     "model_name": "LayoutModel",
     "state": {
      "_model_module": "@jupyter-widgets/base",
      "_model_module_version": "1.2.0",
      "_model_name": "LayoutModel",
      "_view_count": null,
      "_view_module": "@jupyter-widgets/base",
      "_view_module_version": "1.2.0",
      "_view_name": "LayoutView",
      "align_content": null,
      "align_items": null,
      "align_self": null,
      "border": null,
      "bottom": null,
      "display": null,
      "flex": null,
      "flex_flow": null,
      "grid_area": null,
      "grid_auto_columns": null,
      "grid_auto_flow": null,
      "grid_auto_rows": null,
      "grid_column": null,
      "grid_gap": null,
      "grid_row": null,
      "grid_template_areas": null,
      "grid_template_columns": null,
      "grid_template_rows": null,
      "height": null,
      "justify_content": null,
      "justify_items": null,
      "left": null,
      "margin": null,
      "max_height": null,
      "max_width": null,
      "min_height": null,
      "min_width": null,
      "object_fit": null,
      "object_position": null,
      "order": null,
      "overflow": null,
      "overflow_x": null,
      "overflow_y": null,
      "padding": null,
      "right": null,
      "top": null,
      "visibility": null,
      "width": null
     }
    },
    "6add79318b344259bc22f31d18df1c24": {
     "model_module": "@jupyter-widgets/controls",
     "model_module_version": "1.5.0",
     "model_name": "SliderStyleModel",
     "state": {
      "_model_module": "@jupyter-widgets/controls",
      "_model_module_version": "1.5.0",
      "_model_name": "SliderStyleModel",
      "_view_count": null,
      "_view_module": "@jupyter-widgets/base",
      "_view_module_version": "1.2.0",
      "_view_name": "StyleView",
      "description_width": "initial",
      "handle_color": null
     }
    },
    "70c255eefba7417e900c61aaa932d9a4": {
     "model_module": "@jupyter-widgets/controls",
     "model_module_version": "1.5.0",
     "model_name": "VBoxModel",
     "state": {
      "_dom_classes": [
       "widget-interact"
      ],
      "_model_module": "@jupyter-widgets/controls",
      "_model_module_version": "1.5.0",
      "_model_name": "VBoxModel",
      "_view_count": null,
      "_view_module": "@jupyter-widgets/controls",
      "_view_module_version": "1.5.0",
      "_view_name": "VBoxView",
      "box_style": "",
      "children": [
       "IPY_MODEL_2335f61d9688459285c5f809fadef001",
       "IPY_MODEL_c7c7c3ae9d3a4d049e00ebfa34b6f169"
      ],
      "layout": "IPY_MODEL_182f2b3f857247269f3c2588acea58a2"
     }
    },
    "70fc47e938d743a5ac182ce57733f597": {
     "model_module": "@jupyter-widgets/controls",
     "model_module_version": "1.5.0",
     "model_name": "IntSliderModel",
     "state": {
      "_dom_classes": [],
      "_model_module": "@jupyter-widgets/controls",
      "_model_module_version": "1.5.0",
      "_model_name": "IntSliderModel",
      "_view_count": null,
      "_view_module": "@jupyter-widgets/controls",
      "_view_module_version": "1.5.0",
      "_view_name": "IntSliderView",
      "continuous_update": true,
      "description": "Select first point at t=",
      "description_tooltip": null,
      "disabled": false,
      "layout": "IPY_MODEL_eea7e67a35de4020809d23021f71ff70",
      "max": 99,
      "min": 0,
      "orientation": "horizontal",
      "readout": true,
      "readout_format": "d",
      "step": 1,
      "style": "IPY_MODEL_0d35fcb8fc364d8485cd4de8b48efa18",
      "value": 25
     }
    },
    "7ce7487591924a2d8ccd217da115f171": {
     "model_module": "@jupyter-widgets/output",
     "model_module_version": "1.0.0",
     "model_name": "OutputModel",
     "state": {
      "_dom_classes": [],
      "_model_module": "@jupyter-widgets/output",
      "_model_module_version": "1.0.0",
      "_model_name": "OutputModel",
      "_view_count": null,
      "_view_module": "@jupyter-widgets/output",
      "_view_module_version": "1.0.0",
      "_view_name": "OutputView",
      "layout": "IPY_MODEL_e75fae7ac83347a194d32029577ffc5d",
      "msg_id": "",
      "outputs": [
       {
        "data": {
         "image/png": "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\n",
         "text/plain": "<Figure size 800x1000 with 2 Axes>"
        },
        "metadata": {},
        "output_type": "display_data"
       }
      ]
     }
    },
    "868cbdc924404544b5572e02e2fab85d": {
     "model_module": "@jupyter-widgets/controls",
     "model_module_version": "1.5.0",
     "model_name": "IntSliderModel",
     "state": {
      "_dom_classes": [],
      "_model_module": "@jupyter-widgets/controls",
      "_model_module_version": "1.5.0",
      "_model_name": "IntSliderModel",
      "_view_count": null,
      "_view_module": "@jupyter-widgets/controls",
      "_view_module_version": "1.5.0",
      "_view_name": "IntSliderView",
      "continuous_update": true,
      "description": "Select second point at t=",
      "description_tooltip": null,
      "disabled": false,
      "layout": "IPY_MODEL_9c956d4a8a084ce183d78dbcd84fcffb",
      "max": 99,
      "min": 0,
      "orientation": "horizontal",
      "readout": true,
      "readout_format": "d",
      "step": 1,
      "style": "IPY_MODEL_6add79318b344259bc22f31d18df1c24",
      "value": 88
     }
    },
    "889fe08002aa47689e636228e14db8e9": {
     "model_module": "@jupyter-widgets/controls",
     "model_module_version": "1.5.0",
     "model_name": "SliderStyleModel",
     "state": {
      "_model_module": "@jupyter-widgets/controls",
      "_model_module_version": "1.5.0",
      "_model_name": "SliderStyleModel",
      "_view_count": null,
      "_view_module": "@jupyter-widgets/base",
      "_view_module_version": "1.2.0",
      "_view_name": "StyleView",
      "description_width": "initial",
      "handle_color": null
     }
    },
    "9c956d4a8a084ce183d78dbcd84fcffb": {
     "model_module": "@jupyter-widgets/base",
     "model_module_version": "1.2.0",
     "model_name": "LayoutModel",
     "state": {
      "_model_module": "@jupyter-widgets/base",
      "_model_module_version": "1.2.0",
      "_model_name": "LayoutModel",
      "_view_count": null,
      "_view_module": "@jupyter-widgets/base",
      "_view_module_version": "1.2.0",
      "_view_name": "LayoutView",
      "align_content": null,
      "align_items": null,
      "align_self": null,
      "border": null,
      "bottom": null,
      "display": null,
      "flex": null,
      "flex_flow": null,
      "grid_area": null,
      "grid_auto_columns": null,
      "grid_auto_flow": null,
      "grid_auto_rows": null,
      "grid_column": null,
      "grid_gap": null,
      "grid_row": null,
      "grid_template_areas": null,
      "grid_template_columns": null,
      "grid_template_rows": null,
      "height": "40px",
      "justify_content": null,
      "justify_items": null,
      "left": null,
      "margin": null,
      "max_height": null,
      "max_width": null,
      "min_height": null,
      "min_width": null,
      "object_fit": null,
      "object_position": null,
      "order": null,
      "overflow": null,
      "overflow_x": null,
      "overflow_y": null,
      "padding": null,
      "right": null,
      "top": null,
      "visibility": null,
      "width": null
     }
    },
    "ae01a8d7d48e4be9a11060d46b225442": {
     "model_module": "@jupyter-widgets/base",
     "model_module_version": "1.2.0",
     "model_name": "LayoutModel",
     "state": {
      "_model_module": "@jupyter-widgets/base",
      "_model_module_version": "1.2.0",
      "_model_name": "LayoutModel",
      "_view_count": null,
      "_view_module": "@jupyter-widgets/base",
      "_view_module_version": "1.2.0",
      "_view_name": "LayoutView",
      "align_content": null,
      "align_items": null,
      "align_self": null,
      "border": null,
      "bottom": null,
      "display": null,
      "flex": null,
      "flex_flow": null,
      "grid_area": null,
      "grid_auto_columns": null,
      "grid_auto_flow": null,
      "grid_auto_rows": null,
      "grid_column": null,
      "grid_gap": null,
      "grid_row": null,
      "grid_template_areas": null,
      "grid_template_columns": null,
      "grid_template_rows": null,
      "height": null,
      "justify_content": null,
      "justify_items": null,
      "left": null,
      "margin": null,
      "max_height": null,
      "max_width": null,
      "min_height": null,
      "min_width": null,
      "object_fit": null,
      "object_position": null,
      "order": null,
      "overflow": null,
      "overflow_x": null,
      "overflow_y": null,
      "padding": null,
      "right": null,
      "top": null,
      "visibility": null,
      "width": null
     }
    },
    "aed3f19cf02945cfbd21036ea2203066": {
     "model_module": "@jupyter-widgets/controls",
     "model_module_version": "1.5.0",
     "model_name": "IntSliderModel",
     "state": {
      "_dom_classes": [],
      "_model_module": "@jupyter-widgets/controls",
      "_model_module_version": "1.5.0",
      "_model_name": "IntSliderModel",
      "_view_count": null,
      "_view_module": "@jupyter-widgets/controls",
      "_view_module_version": "1.5.0",
      "_view_name": "IntSliderView",
      "continuous_update": true,
      "description": "t, days since Jan. 1",
      "description_tooltip": null,
      "disabled": false,
      "layout": "IPY_MODEL_52680704b7024ea0a54085f2b6b88573",
      "max": 98,
      "min": 0,
      "orientation": "horizontal",
      "readout": true,
      "readout_format": "d",
      "step": 1,
      "style": "IPY_MODEL_bebf699631364823a98023dee8e9d86e",
      "value": 25
     }
    },
    "bebf699631364823a98023dee8e9d86e": {
     "model_module": "@jupyter-widgets/controls",
     "model_module_version": "1.5.0",
     "model_name": "SliderStyleModel",
     "state": {
      "_model_module": "@jupyter-widgets/controls",
      "_model_module_version": "1.5.0",
      "_model_name": "SliderStyleModel",
      "_view_count": null,
      "_view_module": "@jupyter-widgets/base",
      "_view_module_version": "1.2.0",
      "_view_name": "StyleView",
      "description_width": "initial",
      "handle_color": null
     }
    },
    "c7c7c3ae9d3a4d049e00ebfa34b6f169": {
     "model_module": "@jupyter-widgets/output",
     "model_module_version": "1.0.0",
     "model_name": "OutputModel",
     "state": {
      "_dom_classes": [],
      "_model_module": "@jupyter-widgets/output",
      "_model_module_version": "1.0.0",
      "_model_name": "OutputModel",
      "_view_count": null,
      "_view_module": "@jupyter-widgets/output",
      "_view_module_version": "1.0.0",
      "_view_name": "OutputView",
      "layout": "IPY_MODEL_fc8f5b5bd1f14b8ca98724a1b2a321fe",
      "msg_id": "",
      "outputs": [
       {
        "data": {
         "image/png": "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\n",
         "text/plain": "<Figure size 640x480 with 1 Axes>"
        },
        "metadata": {},
        "output_type": "display_data"
       }
      ]
     }
    },
    "e75fae7ac83347a194d32029577ffc5d": {
     "model_module": "@jupyter-widgets/base",
     "model_module_version": "1.2.0",
     "model_name": "LayoutModel",
     "state": {
      "_model_module": "@jupyter-widgets/base",
      "_model_module_version": "1.2.0",
      "_model_name": "LayoutModel",
      "_view_count": null,
      "_view_module": "@jupyter-widgets/base",
      "_view_module_version": "1.2.0",
      "_view_name": "LayoutView",
      "align_content": null,
      "align_items": null,
      "align_self": null,
      "border": null,
      "bottom": null,
      "display": null,
      "flex": null,
      "flex_flow": null,
      "grid_area": null,
      "grid_auto_columns": null,
      "grid_auto_flow": null,
      "grid_auto_rows": null,
      "grid_column": null,
      "grid_gap": null,
      "grid_row": null,
      "grid_template_areas": null,
      "grid_template_columns": null,
      "grid_template_rows": null,
      "height": null,
      "justify_content": null,
      "justify_items": null,
      "left": null,
      "margin": null,
      "max_height": null,
      "max_width": null,
      "min_height": null,
      "min_width": null,
      "object_fit": null,
      "object_position": null,
      "order": null,
      "overflow": null,
      "overflow_x": null,
      "overflow_y": null,
      "padding": null,
      "right": null,
      "top": null,
      "visibility": null,
      "width": null
     }
    },
    "ea61f790345148c8b86d4c90a3f040b2": {
     "model_module": "@jupyter-widgets/controls",
     "model_module_version": "1.5.0",
     "model_name": "IntSliderModel",
     "state": {
      "_dom_classes": [],
      "_model_module": "@jupyter-widgets/controls",
      "_model_module_version": "1.5.0",
      "_model_name": "IntSliderModel",
      "_view_count": null,
      "_view_module": "@jupyter-widgets/controls",
      "_view_module_version": "1.5.0",
      "_view_name": "IntSliderView",
      "continuous_update": true,
      "description": "Select first point at t=",
      "description_tooltip": null,
      "disabled": false,
      "layout": "IPY_MODEL_64c7265971e044f7a47568956b64c713",
      "max": 99,
      "min": 0,
      "orientation": "horizontal",
      "readout": true,
      "readout_format": "d",
      "step": 1,
      "style": "IPY_MODEL_889fe08002aa47689e636228e14db8e9",
      "value": 20
     }
    },
    "eea7e67a35de4020809d23021f71ff70": {
     "model_module": "@jupyter-widgets/base",
     "model_module_version": "1.2.0",
     "model_name": "LayoutModel",
     "state": {
      "_model_module": "@jupyter-widgets/base",
      "_model_module_version": "1.2.0",
      "_model_name": "LayoutModel",
      "_view_count": null,
      "_view_module": "@jupyter-widgets/base",
      "_view_module_version": "1.2.0",
      "_view_name": "LayoutView",
      "align_content": null,
      "align_items": null,
      "align_self": null,
      "border": null,
      "bottom": null,
      "display": null,
      "flex": null,
      "flex_flow": null,
      "grid_area": null,
      "grid_auto_columns": null,
      "grid_auto_flow": null,
      "grid_auto_rows": null,
      "grid_column": null,
      "grid_gap": null,
      "grid_row": null,
      "grid_template_areas": null,
      "grid_template_columns": null,
      "grid_template_rows": null,
      "height": "40px",
      "justify_content": null,
      "justify_items": null,
      "left": null,
      "margin": null,
      "max_height": null,
      "max_width": null,
      "min_height": null,
      "min_width": null,
      "object_fit": null,
      "object_position": null,
      "order": null,
      "overflow": null,
      "overflow_x": null,
      "overflow_y": null,
      "padding": null,
      "right": null,
      "top": null,
      "visibility": null,
      "width": null
     }
    },
    "f31e8bd851e446ca9b55f4371992ee44": {
     "model_module": "@jupyter-widgets/controls",
     "model_module_version": "1.5.0",
     "model_name": "VBoxModel",
     "state": {
      "_dom_classes": [
       "widget-interact"
      ],
      "_model_module": "@jupyter-widgets/controls",
      "_model_module_version": "1.5.0",
      "_model_name": "VBoxModel",
      "_view_count": null,
      "_view_module": "@jupyter-widgets/controls",
      "_view_module_version": "1.5.0",
      "_view_name": "VBoxView",
      "box_style": "",
      "children": [
       "IPY_MODEL_ea61f790345148c8b86d4c90a3f040b2",
       "IPY_MODEL_868cbdc924404544b5572e02e2fab85d",
       "IPY_MODEL_530513dc2abe4a15ac5153bef1556e26"
      ],
      "layout": "IPY_MODEL_ae01a8d7d48e4be9a11060d46b225442"
     }
    },
    "f355fd222570435c97646f2b9098ee11": {
     "model_module": "@jupyter-widgets/base",
     "model_module_version": "1.2.0",
     "model_name": "LayoutModel",
     "state": {
      "_model_module": "@jupyter-widgets/base",
      "_model_module_version": "1.2.0",
      "_model_name": "LayoutModel",
      "_view_count": null,
      "_view_module": "@jupyter-widgets/base",
      "_view_module_version": "1.2.0",
      "_view_name": "LayoutView",
      "align_content": null,
      "align_items": null,
      "align_self": null,
      "border": null,
      "bottom": null,
      "display": null,
      "flex": null,
      "flex_flow": null,
      "grid_area": null,
      "grid_auto_columns": null,
      "grid_auto_flow": null,
      "grid_auto_rows": null,
      "grid_column": null,
      "grid_gap": null,
      "grid_row": null,
      "grid_template_areas": null,
      "grid_template_columns": null,
      "grid_template_rows": null,
      "height": null,
      "justify_content": null,
      "justify_items": null,
      "left": null,
      "margin": null,
      "max_height": null,
      "max_width": null,
      "min_height": null,
      "min_width": null,
      "object_fit": null,
      "object_position": null,
      "order": null,
      "overflow": null,
      "overflow_x": null,
      "overflow_y": null,
      "padding": null,
      "right": null,
      "top": null,
      "visibility": null,
      "width": null
     }
    },
    "f9197ca10ade460a8206843548fe60be": {
     "model_module": "@jupyter-widgets/base",
     "model_module_version": "1.2.0",
     "model_name": "LayoutModel",
     "state": {
      "_model_module": "@jupyter-widgets/base",
      "_model_module_version": "1.2.0",
      "_model_name": "LayoutModel",
      "_view_count": null,
      "_view_module": "@jupyter-widgets/base",
      "_view_module_version": "1.2.0",
      "_view_name": "LayoutView",
      "align_content": null,
      "align_items": null,
      "align_self": null,
      "border": null,
      "bottom": null,
      "display": null,
      "flex": null,
      "flex_flow": null,
      "grid_area": null,
      "grid_auto_columns": null,
      "grid_auto_flow": null,
      "grid_auto_rows": null,
      "grid_column": null,
      "grid_gap": null,
      "grid_row": null,
      "grid_template_areas": null,
      "grid_template_columns": null,
      "grid_template_rows": null,
      "height": null,
      "justify_content": null,
      "justify_items": null,
      "left": null,
      "margin": null,
      "max_height": null,
      "max_width": null,
      "min_height": null,
      "min_width": null,
      "object_fit": null,
      "object_position": null,
      "order": null,
      "overflow": null,
      "overflow_x": null,
      "overflow_y": null,
      "padding": null,
      "right": null,
      "top": null,
      "visibility": null,
      "width": null
     }
    },
    "fc8f5b5bd1f14b8ca98724a1b2a321fe": {
     "model_module": "@jupyter-widgets/base",
     "model_module_version": "1.2.0",
     "model_name": "LayoutModel",
     "state": {
      "_model_module": "@jupyter-widgets/base",
      "_model_module_version": "1.2.0",
      "_model_name": "LayoutModel",
      "_view_count": null,
      "_view_module": "@jupyter-widgets/base",
      "_view_module_version": "1.2.0",
      "_view_name": "LayoutView",
      "align_content": null,
      "align_items": null,
      "align_self": null,
      "border": null,
      "bottom": null,
      "display": null,
      "flex": null,
      "flex_flow": null,
      "grid_area": null,
      "grid_auto_columns": null,
      "grid_auto_flow": null,
      "grid_auto_rows": null,
      "grid_column": null,
      "grid_gap": null,
      "grid_row": null,
      "grid_template_areas": null,
      "grid_template_columns": null,
      "grid_template_rows": null,
      "height": null,
      "justify_content": null,
      "justify_items": null,
      "left": null,
      "margin": null,
      "max_height": null,
      "max_width": null,
      "min_height": null,
      "min_width": null,
      "object_fit": null,
      "object_position": null,
      "order": null,
      "overflow": null,
      "overflow_x": null,
      "overflow_y": null,
      "padding": null,
      "right": null,
      "top": null,
      "visibility": null,
      "width": null
     }
    }
   }
  }
 },
 "nbformat": 4,
 "nbformat_minor": 4
}
