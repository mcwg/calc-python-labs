{
 "cells": [
  {
   "cell_type": "markdown",
   "metadata": {
    "id": "d8538825-184f-4fb8-878d-0c239eea11fa"
   },
   "source": [
    "[![Open In Colab](https://colab.research.google.com/assets/colab-badge.svg)](https://colab.research.google.com/github/mcwg/calc-python-labs/blob/main/Lab3-Linear-Regression.ipynb)\n"
   ]
  },
  {
   "cell_type": "markdown",
   "metadata": {
    "id": "BScDcN5evEo_"
   },
   "source": [
    "# Lab 3: Linear Regression with Worldwide $\\text{CO}_2$ Emissions Data\n",
    "\n",
    "---\n",
    "\n",
    "![UN SDGs](https://github.com/mcwg/calc-python-labs/raw/main/Images/UN-SDGs.png)\n",
    "\n",
    "Image Credit: [https://www.un.org/sustainabledevelopment/](https://www.un.org/sustainabledevelopment/)\n",
    "\n",
    "<br>  \n",
    "\n",
    "The United Nations (UN) launched [Sustainable Development Goals (SDGs)](https://www.un.org/sustainabledevelopment/) in 2015. The UN states the purpose of the goals as follows:\n",
    "\n",
    "> The Sustainable Development Goals are a call for action by all countries – poor, rich and middle-income – to promote prosperity while protecting the planet. They recognize that ending poverty must go hand-in-hand with strategies that build economic growth and address a range of social needs including education, health, social protection, and job opportunities, while tackling climate change and environmental protection.\n",
    "\n",
    "\n",
    "\n",
    "[Goal 13](https://www.un.org/sustainabledevelopment/climate-change/) of the SDGs is *Climate Action*. Goal 13 begins with the following:\n",
    "\n",
    "> Every person, in every country in every continent will be impacted in some shape or form by climate change. There is a climate cataclysm looming, and we are underprepared for what this could mean.\n",
    "\n",
    "The increase in the concentration of greenhouse gases such as $\\text{CO}_2$ can trap heat from the sun and contribute to climate change. In this lab we import and analyze data from the [World Bank Database](https://data.worldbank.org/) on the worldwide $\\text{CO}_2$ emissions over the period from 2010 to 2019. We use Python to create visualizations (scatterplots) to identify potential patterns and build a model for worldwide $\\text{CO}_2$ emissions."
   ]
  },
  {
   "cell_type": "markdown",
   "metadata": {
    "id": "XQYAZYMYHani"
   },
   "source": [
    "## Saving Your Work to a Colab Notebook\n",
    "\n",
    "---\n",
    "\n",
    "This lab is a shared Colab notebook available for anyone to view. However, since everyone is sharing this notebook, you do not have permission to save changes to this shared Colab notebook. In order to save your work:\n",
    "\n",
    "1. You will need to set up a free Google Drive account. If you already have a Google Drive account, you are ready to go!\n",
    "2. Click the `Copy to Drive` button to the right of the `+ Code` and `+ Text` buttons on top of the notebook.\n",
    "3. Select from the menu `File/Save a Copy in Drive`.\n",
    "  - By default, the notebook will be saved in a folder named **Colab Notebooks** in your Drive.\n",
    "  - Feel free to rename and store the notebook wherever you like.\n"
   ]
  },
  {
   "cell_type": "markdown",
   "metadata": {
    "id": "utkKdRbd4yXv"
   },
   "source": [
    "# Learning Objectives\n",
    "\n",
    "---\n",
    "\n",
    "- Importing and storing external data as a dataframe using the `pandas` library.\n",
    "- Creating scatterplots to visual patterns in data.\n",
    "- Defining vectorized functions to transform variables.\n",
    "- Performing linear regression with `numpy.polyfit`.\n",
    "- Making predictions with linear models."
   ]
  },
  {
   "cell_type": "markdown",
   "metadata": {
    "id": "-Dkn8NnY7bAd"
   },
   "source": [
    "# Importing Required Libraries\n",
    "\n",
    "---\n",
    "\n"
   ]
  },
  {
   "cell_type": "code",
   "execution_count": null,
   "metadata": {
    "id": "a9OkxXmNvEo_"
   },
   "outputs": [],
   "source": [
    "#################################\n",
    "# Run to load required libraries\n",
    "#################################\n",
    "import numpy as np  # import numpy\n",
    "import pandas as pd  # import pandas\n",
    "import matplotlib.pyplot as plt  # import matplotlib.pyplot"
   ]
  },
  {
   "cell_type": "markdown",
   "metadata": {
    "id": "2H0VzX3PaPtV"
   },
   "source": [
    "## How Often Do We Need to Import Libraries?\n",
    "\n",
    "---\n",
    "\n",
    "After importing a library for the first time, we can now access functions in the library in any code cell we run, regardless of where the code cell is located in the notebook. Thus, we only need to run `import` commands such as `import numpy as np` or `import pandas as pd` once, and then we can continue calling in functions from those libraries (using specified abbreviations) for as long as the session remains active. If you take a break while working in Colab, your session may *time out* and disconnect.\n",
    "\n",
    "- We need to import libraries one time after opening a notebook or reconnecting after timing out.\n",
    "- We do not need to import the library again unless we take a break and the connection times out.\n"
   ]
  },
  {
   "cell_type": "markdown",
   "metadata": {
    "id": "hSfZuihCsaw5"
   },
   "source": [
    "# Dataframes\n",
    "\n",
    "---\n",
    "\n",
    "A **dataframe** is a system for storing data in rows and columns, similar to an Excel spreadsheet.\n",
    "\n",
    "- Each row of a dataframe corresponds to a different **observation**.\n",
    "- Each column of a dataframe corresponds to a different **variable**.\n",
    "\n",
    "We will use the [Pandas library](https://pandas.pydata.org/) to import and store data as [Pandas DataFrames](https://pandas.pydata.org/docs/reference/api/pandas.DataFrame.html)."
   ]
  },
  {
   "cell_type": "markdown",
   "metadata": {
    "id": "_C2jrSAXXwpH"
   },
   "source": [
    "## Types of Variables\n",
    "\n",
    "---\n",
    "\n",
    "Variables (columns) of a dataframe correspond to different attributes or characteristics of an observation.\n",
    "\n",
    "- The term *variable* is used since the values of the characteristic *vary* from observation to observation.\n",
    "- We use the term variable differently in this context than we do when talk about algebraic variables.\n",
    "\n",
    "Each variable of a dataframe can be stored as different data types.\n",
    "\n",
    "-  If a variable is measured or counted by a number, it is called a **quantitative** or **numerical** variable.\n",
    "-  If a variable groups observations into different categories or rankings, it is a **qualitative** or a **categorical** variable.\n",
    "\n"
   ]
  },
  {
   "cell_type": "markdown",
   "metadata": {
    "id": "Jjv6PdT6CVS_"
   },
   "source": [
    "# Loading and Storing Worldwide $\\text{CO}_2$ Emissions Data\n",
    "\n",
    "---\n",
    "\n",
    "To begin our analysis on worldwide $\\text{CO}_2$ emissions, we first need data. Data has been exported from the [World Bank Database](https://data.worldbank.org/) with worldwide $\\text{CO}_2$ emissions (in kilotons, kt) over the period from 2010 to 2019 and saved to a [comma separated values](https://en.wikipedia.org/wiki/Comma-separated_values) (or csv) file named `CO2-emissions.csv` that we load from [GitHub](https://raw.githubusercontent.com/mcwg/calc-python-labs/main/Data/CO2-emissions.csv).\n",
    "\n",
    "- The Pandas command [`pandas.read_csv()`](https://pandas.pydata.org/docs/reference/api/pandas.read_csv.html) can be used to store data from a csv file to a dataframe using the Pandas library.\n",
    "- We have already imported the Pandas library with the abbreviation `pd`.\n",
    "\n",
    "Run the code cell below to import and store worldwide $\\text{CO}_2$ emissions data to a dataframe called `world_co2`. *There will not be any output displayed since the code does not ask for the data to be displayed.*"
   ]
  },
  {
   "cell_type": "code",
   "execution_count": null,
   "metadata": {
    "id": "MGAsaR9-FbAW"
   },
   "outputs": [],
   "source": [
    "###################################\n",
    "# Run to store data in a dataframe\n",
    "###################################\n",
    "world_co2 = pd.read_csv('https://raw.githubusercontent.com/mcwg/calc-python-labs/main/Data/CO2-emissions.csv')"
   ]
  },
  {
   "cell_type": "markdown",
   "metadata": {
    "id": "62l_PCFO81Z1"
   },
   "source": [
    "# Getting to Know Our Data\n",
    "\n",
    "---\n",
    "\n",
    "The previous code cell created a dataframe named `world_co2`. Run the code cell below to display the data stored in `world_co2` to the screen.\n",
    "\n"
   ]
  },
  {
   "cell_type": "code",
   "execution_count": null,
   "metadata": {
    "colab": {
     "base_uri": "https://localhost:8080/",
     "height": 363
    },
    "executionInfo": {
     "elapsed": 260,
     "status": "ok",
     "timestamp": 1722526457269,
     "user": {
      "displayName": "Elliot Marks",
      "userId": "09138350388793527394"
     },
     "user_tz": -120
    },
    "id": "yPnjfysKvEpA",
    "outputId": "948f9f69-3ee1-4b66-8e9e-f71164d26af1"
   },
   "outputs": [
    {
     "data": {
      "application/vnd.google.colaboratory.intrinsic+json": {
       "summary": "{\n  \"name\": \"world_co2\",\n  \"rows\": 10,\n  \"fields\": [\n    {\n      \"column\": \"Year\",\n      \"properties\": {\n        \"dtype\": \"number\",\n        \"std\": 3,\n        \"min\": 2010,\n        \"max\": 2019,\n        \"num_unique_values\": 10,\n        \"samples\": [\n          2018,\n          2011,\n          2015\n        ],\n        \"semantic_type\": \"\",\n        \"description\": \"\"\n      }\n    },\n    {\n      \"column\": \"CO2_Emissions\",\n      \"properties\": {\n        \"dtype\": \"number\",\n        \"std\": 1047313.9674059142,\n        \"min\": 32095872.94,\n        \"max\": 35560555.79,\n        \"num_unique_values\": 10,\n        \"samples\": [\n          35560555.79,\n          33079721.35,\n          34070176.85\n        ],\n        \"semantic_type\": \"\",\n        \"description\": \"\"\n      }\n    }\n  ]\n}",
       "type": "dataframe",
       "variable_name": "world_co2"
      },
      "text/html": [
       "\n",
       "  <div id=\"df-29103ab1-6dd0-41aa-b9e2-e74291e68574\" class=\"colab-df-container\">\n",
       "    <div>\n",
       "<style scoped>\n",
       "    .dataframe tbody tr th:only-of-type {\n",
       "        vertical-align: middle;\n",
       "    }\n",
       "\n",
       "    .dataframe tbody tr th {\n",
       "        vertical-align: top;\n",
       "    }\n",
       "\n",
       "    .dataframe thead th {\n",
       "        text-align: right;\n",
       "    }\n",
       "</style>\n",
       "<table border=\"1\" class=\"dataframe\">\n",
       "  <thead>\n",
       "    <tr style=\"text-align: right;\">\n",
       "      <th></th>\n",
       "      <th>Year</th>\n",
       "      <th>CO2_Emissions</th>\n",
       "    </tr>\n",
       "  </thead>\n",
       "  <tbody>\n",
       "    <tr>\n",
       "      <th>0</th>\n",
       "      <td>2010</td>\n",
       "      <td>32095872.94</td>\n",
       "    </tr>\n",
       "    <tr>\n",
       "      <th>1</th>\n",
       "      <td>2011</td>\n",
       "      <td>33079721.35</td>\n",
       "    </tr>\n",
       "    <tr>\n",
       "      <th>2</th>\n",
       "      <td>2012</td>\n",
       "      <td>33460087.50</td>\n",
       "    </tr>\n",
       "    <tr>\n",
       "      <th>3</th>\n",
       "      <td>2013</td>\n",
       "      <td>34119894.39</td>\n",
       "    </tr>\n",
       "    <tr>\n",
       "      <th>4</th>\n",
       "      <td>2014</td>\n",
       "      <td>34261369.66</td>\n",
       "    </tr>\n",
       "    <tr>\n",
       "      <th>5</th>\n",
       "      <td>2015</td>\n",
       "      <td>34070176.85</td>\n",
       "    </tr>\n",
       "    <tr>\n",
       "      <th>6</th>\n",
       "      <td>2016</td>\n",
       "      <td>34145652.30</td>\n",
       "    </tr>\n",
       "    <tr>\n",
       "      <th>7</th>\n",
       "      <td>2017</td>\n",
       "      <td>34687837.09</td>\n",
       "    </tr>\n",
       "    <tr>\n",
       "      <th>8</th>\n",
       "      <td>2018</td>\n",
       "      <td>35560555.79</td>\n",
       "    </tr>\n",
       "    <tr>\n",
       "      <th>9</th>\n",
       "      <td>2019</td>\n",
       "      <td>35477245.40</td>\n",
       "    </tr>\n",
       "  </tbody>\n",
       "</table>\n",
       "</div>\n",
       "    <div class=\"colab-df-buttons\">\n",
       "\n",
       "  <div class=\"colab-df-container\">\n",
       "    <button class=\"colab-df-convert\" onclick=\"convertToInteractive('df-29103ab1-6dd0-41aa-b9e2-e74291e68574')\"\n",
       "            title=\"Convert this dataframe to an interactive table.\"\n",
       "            style=\"display:none;\">\n",
       "\n",
       "  <svg xmlns=\"http://www.w3.org/2000/svg\" height=\"24px\" viewBox=\"0 -960 960 960\">\n",
       "    <path d=\"M120-120v-720h720v720H120Zm60-500h600v-160H180v160Zm220 220h160v-160H400v160Zm0 220h160v-160H400v160ZM180-400h160v-160H180v160Zm440 0h160v-160H620v160ZM180-180h160v-160H180v160Zm440 0h160v-160H620v160Z\"/>\n",
       "  </svg>\n",
       "    </button>\n",
       "\n",
       "  <style>\n",
       "    .colab-df-container {\n",
       "      display:flex;\n",
       "      gap: 12px;\n",
       "    }\n",
       "\n",
       "    .colab-df-convert {\n",
       "      background-color: #E8F0FE;\n",
       "      border: none;\n",
       "      border-radius: 50%;\n",
       "      cursor: pointer;\n",
       "      display: none;\n",
       "      fill: #1967D2;\n",
       "      height: 32px;\n",
       "      padding: 0 0 0 0;\n",
       "      width: 32px;\n",
       "    }\n",
       "\n",
       "    .colab-df-convert:hover {\n",
       "      background-color: #E2EBFA;\n",
       "      box-shadow: 0px 1px 2px rgba(60, 64, 67, 0.3), 0px 1px 3px 1px rgba(60, 64, 67, 0.15);\n",
       "      fill: #174EA6;\n",
       "    }\n",
       "\n",
       "    .colab-df-buttons div {\n",
       "      margin-bottom: 4px;\n",
       "    }\n",
       "\n",
       "    [theme=dark] .colab-df-convert {\n",
       "      background-color: #3B4455;\n",
       "      fill: #D2E3FC;\n",
       "    }\n",
       "\n",
       "    [theme=dark] .colab-df-convert:hover {\n",
       "      background-color: #434B5C;\n",
       "      box-shadow: 0px 1px 3px 1px rgba(0, 0, 0, 0.15);\n",
       "      filter: drop-shadow(0px 1px 2px rgba(0, 0, 0, 0.3));\n",
       "      fill: #FFFFFF;\n",
       "    }\n",
       "  </style>\n",
       "\n",
       "    <script>\n",
       "      const buttonEl =\n",
       "        document.querySelector('#df-29103ab1-6dd0-41aa-b9e2-e74291e68574 button.colab-df-convert');\n",
       "      buttonEl.style.display =\n",
       "        google.colab.kernel.accessAllowed ? 'block' : 'none';\n",
       "\n",
       "      async function convertToInteractive(key) {\n",
       "        const element = document.querySelector('#df-29103ab1-6dd0-41aa-b9e2-e74291e68574');\n",
       "        const dataTable =\n",
       "          await google.colab.kernel.invokeFunction('convertToInteractive',\n",
       "                                                    [key], {});\n",
       "        if (!dataTable) return;\n",
       "\n",
       "        const docLinkHtml = 'Like what you see? Visit the ' +\n",
       "          '<a target=\"_blank\" href=https://colab.research.google.com/notebooks/data_table.ipynb>data table notebook</a>'\n",
       "          + ' to learn more about interactive tables.';\n",
       "        element.innerHTML = '';\n",
       "        dataTable['output_type'] = 'display_data';\n",
       "        await google.colab.output.renderOutput(dataTable, element);\n",
       "        const docLink = document.createElement('div');\n",
       "        docLink.innerHTML = docLinkHtml;\n",
       "        element.appendChild(docLink);\n",
       "      }\n",
       "    </script>\n",
       "  </div>\n",
       "\n",
       "\n",
       "<div id=\"df-57fe1f67-20f4-4982-9458-82f974a711d6\">\n",
       "  <button class=\"colab-df-quickchart\" onclick=\"quickchart('df-57fe1f67-20f4-4982-9458-82f974a711d6')\"\n",
       "            title=\"Suggest charts\"\n",
       "            style=\"display:none;\">\n",
       "\n",
       "<svg xmlns=\"http://www.w3.org/2000/svg\" height=\"24px\"viewBox=\"0 0 24 24\"\n",
       "     width=\"24px\">\n",
       "    <g>\n",
       "        <path d=\"M19 3H5c-1.1 0-2 .9-2 2v14c0 1.1.9 2 2 2h14c1.1 0 2-.9 2-2V5c0-1.1-.9-2-2-2zM9 17H7v-7h2v7zm4 0h-2V7h2v10zm4 0h-2v-4h2v4z\"/>\n",
       "    </g>\n",
       "</svg>\n",
       "  </button>\n",
       "\n",
       "<style>\n",
       "  .colab-df-quickchart {\n",
       "      --bg-color: #E8F0FE;\n",
       "      --fill-color: #1967D2;\n",
       "      --hover-bg-color: #E2EBFA;\n",
       "      --hover-fill-color: #174EA6;\n",
       "      --disabled-fill-color: #AAA;\n",
       "      --disabled-bg-color: #DDD;\n",
       "  }\n",
       "\n",
       "  [theme=dark] .colab-df-quickchart {\n",
       "      --bg-color: #3B4455;\n",
       "      --fill-color: #D2E3FC;\n",
       "      --hover-bg-color: #434B5C;\n",
       "      --hover-fill-color: #FFFFFF;\n",
       "      --disabled-bg-color: #3B4455;\n",
       "      --disabled-fill-color: #666;\n",
       "  }\n",
       "\n",
       "  .colab-df-quickchart {\n",
       "    background-color: var(--bg-color);\n",
       "    border: none;\n",
       "    border-radius: 50%;\n",
       "    cursor: pointer;\n",
       "    display: none;\n",
       "    fill: var(--fill-color);\n",
       "    height: 32px;\n",
       "    padding: 0;\n",
       "    width: 32px;\n",
       "  }\n",
       "\n",
       "  .colab-df-quickchart:hover {\n",
       "    background-color: var(--hover-bg-color);\n",
       "    box-shadow: 0 1px 2px rgba(60, 64, 67, 0.3), 0 1px 3px 1px rgba(60, 64, 67, 0.15);\n",
       "    fill: var(--button-hover-fill-color);\n",
       "  }\n",
       "\n",
       "  .colab-df-quickchart-complete:disabled,\n",
       "  .colab-df-quickchart-complete:disabled:hover {\n",
       "    background-color: var(--disabled-bg-color);\n",
       "    fill: var(--disabled-fill-color);\n",
       "    box-shadow: none;\n",
       "  }\n",
       "\n",
       "  .colab-df-spinner {\n",
       "    border: 2px solid var(--fill-color);\n",
       "    border-color: transparent;\n",
       "    border-bottom-color: var(--fill-color);\n",
       "    animation:\n",
       "      spin 1s steps(1) infinite;\n",
       "  }\n",
       "\n",
       "  @keyframes spin {\n",
       "    0% {\n",
       "      border-color: transparent;\n",
       "      border-bottom-color: var(--fill-color);\n",
       "      border-left-color: var(--fill-color);\n",
       "    }\n",
       "    20% {\n",
       "      border-color: transparent;\n",
       "      border-left-color: var(--fill-color);\n",
       "      border-top-color: var(--fill-color);\n",
       "    }\n",
       "    30% {\n",
       "      border-color: transparent;\n",
       "      border-left-color: var(--fill-color);\n",
       "      border-top-color: var(--fill-color);\n",
       "      border-right-color: var(--fill-color);\n",
       "    }\n",
       "    40% {\n",
       "      border-color: transparent;\n",
       "      border-right-color: var(--fill-color);\n",
       "      border-top-color: var(--fill-color);\n",
       "    }\n",
       "    60% {\n",
       "      border-color: transparent;\n",
       "      border-right-color: var(--fill-color);\n",
       "    }\n",
       "    80% {\n",
       "      border-color: transparent;\n",
       "      border-right-color: var(--fill-color);\n",
       "      border-bottom-color: var(--fill-color);\n",
       "    }\n",
       "    90% {\n",
       "      border-color: transparent;\n",
       "      border-bottom-color: var(--fill-color);\n",
       "    }\n",
       "  }\n",
       "</style>\n",
       "\n",
       "  <script>\n",
       "    async function quickchart(key) {\n",
       "      const quickchartButtonEl =\n",
       "        document.querySelector('#' + key + ' button');\n",
       "      quickchartButtonEl.disabled = true;  // To prevent multiple clicks.\n",
       "      quickchartButtonEl.classList.add('colab-df-spinner');\n",
       "      try {\n",
       "        const charts = await google.colab.kernel.invokeFunction(\n",
       "            'suggestCharts', [key], {});\n",
       "      } catch (error) {\n",
       "        console.error('Error during call to suggestCharts:', error);\n",
       "      }\n",
       "      quickchartButtonEl.classList.remove('colab-df-spinner');\n",
       "      quickchartButtonEl.classList.add('colab-df-quickchart-complete');\n",
       "    }\n",
       "    (() => {\n",
       "      let quickchartButtonEl =\n",
       "        document.querySelector('#df-57fe1f67-20f4-4982-9458-82f974a711d6 button');\n",
       "      quickchartButtonEl.style.display =\n",
       "        google.colab.kernel.accessAllowed ? 'block' : 'none';\n",
       "    })();\n",
       "  </script>\n",
       "</div>\n",
       "\n",
       "  <div id=\"id_58ebb813-e204-4839-a4e8-b00aaead81d6\">\n",
       "    <style>\n",
       "      .colab-df-generate {\n",
       "        background-color: #E8F0FE;\n",
       "        border: none;\n",
       "        border-radius: 50%;\n",
       "        cursor: pointer;\n",
       "        display: none;\n",
       "        fill: #1967D2;\n",
       "        height: 32px;\n",
       "        padding: 0 0 0 0;\n",
       "        width: 32px;\n",
       "      }\n",
       "\n",
       "      .colab-df-generate:hover {\n",
       "        background-color: #E2EBFA;\n",
       "        box-shadow: 0px 1px 2px rgba(60, 64, 67, 0.3), 0px 1px 3px 1px rgba(60, 64, 67, 0.15);\n",
       "        fill: #174EA6;\n",
       "      }\n",
       "\n",
       "      [theme=dark] .colab-df-generate {\n",
       "        background-color: #3B4455;\n",
       "        fill: #D2E3FC;\n",
       "      }\n",
       "\n",
       "      [theme=dark] .colab-df-generate:hover {\n",
       "        background-color: #434B5C;\n",
       "        box-shadow: 0px 1px 3px 1px rgba(0, 0, 0, 0.15);\n",
       "        filter: drop-shadow(0px 1px 2px rgba(0, 0, 0, 0.3));\n",
       "        fill: #FFFFFF;\n",
       "      }\n",
       "    </style>\n",
       "    <button class=\"colab-df-generate\" onclick=\"generateWithVariable('world_co2')\"\n",
       "            title=\"Generate code using this dataframe.\"\n",
       "            style=\"display:none;\">\n",
       "\n",
       "  <svg xmlns=\"http://www.w3.org/2000/svg\" height=\"24px\"viewBox=\"0 0 24 24\"\n",
       "       width=\"24px\">\n",
       "    <path d=\"M7,19H8.4L18.45,9,17,7.55,7,17.6ZM5,21V16.75L18.45,3.32a2,2,0,0,1,2.83,0l1.4,1.43a1.91,1.91,0,0,1,.58,1.4,1.91,1.91,0,0,1-.58,1.4L9.25,21ZM18.45,9,17,7.55Zm-12,3A5.31,5.31,0,0,0,4.9,8.1,5.31,5.31,0,0,0,1,6.5,5.31,5.31,0,0,0,4.9,4.9,5.31,5.31,0,0,0,6.5,1,5.31,5.31,0,0,0,8.1,4.9,5.31,5.31,0,0,0,12,6.5,5.46,5.46,0,0,0,6.5,12Z\"/>\n",
       "  </svg>\n",
       "    </button>\n",
       "    <script>\n",
       "      (() => {\n",
       "      const buttonEl =\n",
       "        document.querySelector('#id_58ebb813-e204-4839-a4e8-b00aaead81d6 button.colab-df-generate');\n",
       "      buttonEl.style.display =\n",
       "        google.colab.kernel.accessAllowed ? 'block' : 'none';\n",
       "\n",
       "      buttonEl.onclick = () => {\n",
       "        google.colab.notebook.generateWithVariable('world_co2');\n",
       "      }\n",
       "      })();\n",
       "    </script>\n",
       "  </div>\n",
       "\n",
       "    </div>\n",
       "  </div>\n"
      ],
      "text/plain": [
       "   Year  CO2_Emissions\n",
       "0  2010    32095872.94\n",
       "1  2011    33079721.35\n",
       "2  2012    33460087.50\n",
       "3  2013    34119894.39\n",
       "4  2014    34261369.66\n",
       "5  2015    34070176.85\n",
       "6  2016    34145652.30\n",
       "7  2017    34687837.09\n",
       "8  2018    35560555.79\n",
       "9  2019    35477245.40"
      ]
     },
     "execution_count": 4,
     "metadata": {},
     "output_type": "execute_result"
    }
   ],
   "source": [
    "###########################\n",
    "# Run to display dataframe\n",
    "###########################\n",
    "world_co2 # display dataframe on screen"
   ]
  },
  {
   "cell_type": "markdown",
   "metadata": {
    "id": "ShhythyWMN9V"
   },
   "source": [
    "## Data Dictionary for `world_co2`\n",
    "\n",
    "---\n",
    "\n",
    "The dataframe `world_co2` has a total of 10 observations.\n",
    "- There is one observation for each year starting in 2010 and ending in 2019.\n",
    "\n",
    "The dataframe `world_co2` contains two variables named (or labeled) `Year` and `CO2_Emissions`.\n",
    "\n",
    "- `Year` is a quantitative variable that gives the year of the observation.\n",
    "- `CO2_Emissions` is a quantitative variable that gives the total worldwide $\\text{CO}_2$ emissions in kilotons (kt).\n",
    "\n"
   ]
  },
  {
   "cell_type": "markdown",
   "metadata": {
    "id": "nnGj8umEbdhf"
   },
   "source": [
    "### The Index Column\n",
    "\n",
    "---\n",
    "\n",
    "The first, unlabeled column is called the **index column**, and it is *not* a variable. The first column indicates the row number (or index) for each row in the dataframe. **In Python, indexing starts at 0** (not at 1).\n",
    "  - The $1^{\\text{st}}$ row has row index `0`.\n",
    "  - The $2^{\\text{nd}}$ row has row index `1`.\n",
    "  - In general, the $i^{\\text{th}}$ row has row index `i-1`.\n",
    "\n",
    "We can ignore the index column for now. However, we will discuss indexing and slicing dataframes in [Lab 4](https://githubtocolab.com/mcwg/calc-python-labs/blob/main/Lab4-Derivatives-with-Water-Level.ipynb).\n"
   ]
  },
  {
   "cell_type": "markdown",
   "metadata": {
    "id": "ps2Pku8fP_dz"
   },
   "source": [
    "# Question 1\n",
    "\n",
    "---\n",
    "\n",
    "Based on the data stored in the dataframe `world_co2` displayed after running the code cell above, what was the amount of $\\text{CO}_2$ emissions generated worldwide in 2015?\n",
    "\n",
    "\n"
   ]
  },
  {
   "cell_type": "markdown",
   "metadata": {
    "id": "7RAeY0wUQmL_"
   },
   "source": [
    "## Solution to Question 1\n",
    "\n",
    "---\n",
    "\n",
    "In 2015, the world's $\\text{CO}_2$ emissions were <mark>??</mark>.\n",
    "\n",
    "<br>  \n",
    "\n",
    "*Be sure to include units in your answer.*\n",
    "\n",
    "<br>  \n",
    "<br>  "
   ]
  },
  {
   "cell_type": "markdown",
   "metadata": {
    "id": "qKNqU9lzGHbp"
   },
   "source": [
    "# Storing Variables in NumPy Arrays\n",
    "\n",
    "---\n",
    "\n",
    "\n",
    "\n",
    "`NumPy` and `Pandas` are two of the most useful libraries in Python for storing, manipulating, and analyzing data.\n",
    "\n",
    "- A dataframe is a two-dimensional data structure since data is arranged and stored in rows and columns.\n",
    "- NumPy arrays can have different **dimensions**.\n",
    "  - A one-dimensional NumPy array is called a **vector**. Values are stored in a single row.\n",
    "  - A two-dimensional NumPy array is called a **matrix**. Values are arranged in rows and columns similar to a dataframe\n",
    "\n",
    "\n",
    "Storing a variable (column) from a two-dimensional dataframe as a one-dimensional NumPy array is useful when we wish to transform a variable (such as changing units) in our dataframe by applying operation(s) to the vector stored as a one-dimensional NumPy array. The Pandas library has a [`to_numpy()`](https://pandas.pydata.org/docs/reference/api/pandas.DataFrame.to_numpy.html) function we can apply to store values of a dataframe variable as a NumPy array.\n",
    "\n",
    "Run the code cell below to store the values of the variable `Year` in the dataframe `world_co2` to a (one-dimensional) NumPy array  named `year`.\n"
   ]
  },
  {
   "cell_type": "code",
   "execution_count": null,
   "metadata": {
    "colab": {
     "base_uri": "https://localhost:8080/"
    },
    "executionInfo": {
     "elapsed": 537,
     "status": "ok",
     "timestamp": 1722526464713,
     "user": {
      "displayName": "Elliot Marks",
      "userId": "09138350388793527394"
     },
     "user_tz": -120
    },
    "id": "SbZ0Z68VGHbq",
    "outputId": "7ec1bdaa-046a-4940-eb58-13c06891a347"
   },
   "outputs": [
    {
     "data": {
      "text/plain": [
       "array([2010, 2011, 2012, 2013, 2014, 2015, 2016, 2017, 2018, 2019])"
      ]
     },
     "execution_count": 5,
     "metadata": {},
     "output_type": "execute_result"
    }
   ],
   "source": [
    "##############################################\n",
    "# Run to store variable Year as a NumPy array\n",
    "##############################################\n",
    "year = world_co2['Year'].to_numpy()  # store Year as a 1-dim array\n",
    "year  # print array to screen"
   ]
  },
  {
   "cell_type": "markdown",
   "metadata": {
    "id": "J9fKaSvQ9rYL"
   },
   "source": [
    "# Question 2\n",
    "\n",
    "---\n",
    "\n",
    "The worldwide $\\text{CO}_2$ emissions (in kilotons) from 2010 to 2019 are stored in the dataframe `world_co2` in the column labeled `CO2_Emissions`.\n",
    "\n",
    "- Replace the `??` in the code cell below with an appropriate command to store the values of the variable `CO2_Emissions` in the dataframe `world_co2` to a NumPy array named `co2`.\n",
    "\n",
    "- Then run the code cell and verify the output displayed on the screen is correct."
   ]
  },
  {
   "cell_type": "markdown",
   "metadata": {
    "id": "-3fBBpUHYwnj"
   },
   "source": [
    "## Solution to Question 2\n",
    "\n",
    "---"
   ]
  },
  {
   "cell_type": "code",
   "execution_count": null,
   "metadata": {
    "id": "bDSmxs709p2N"
   },
   "outputs": [],
   "source": [
    "###########################################\n",
    "# Solution to Question 2\n",
    "# Replace ?? with an appropriate command\n",
    "###########################################\n",
    "\n",
    "co2 = ??  # store CO2 emissions as a numpy array\n",
    "co2  # print values in vector co2 to screen"
   ]
  },
  {
   "cell_type": "markdown",
   "metadata": {
    "id": "NFdOmJEevEpA"
   },
   "source": [
    "# Visualizing the Data with a Scatterplot\n",
    "\n",
    "---\n",
    "\n",
    "Data modeling is the process of presenting relationships between different features of the data. Often the process begins by looking for relationships by selecting an appropriate graph or plot. When comparing two quantitative variables such as `year` and `co2`, a **scatterplot** is useful to help identify which formula is most appropriate.\n"
   ]
  },
  {
   "cell_type": "markdown",
   "metadata": {
    "id": "CpTryWGovEpB"
   },
   "source": [
    "## Predictor and Response Variables\n",
    "\n",
    "---\n",
    "\n",
    "Suppose we would like to construct a model to predict the world's annual $\\text{CO}_2$ emissions (in kilotons) in different years.\n",
    "\n",
    "- `year` is called the **predictor** or **explanatory variable**.\n",
    "  - The horizontal axis corresponds to values of the predictor variable, `year`.\n",
    "\n",
    "-  `co2` is the annual world $\\text{CO}_2$ emissions (in kilotons) and is called the **response** or **target variable**.\n",
    "  - The vertical axis corresponds to values of the response variable, `co2`.\n",
    "\n",
    "\n"
   ]
  },
  {
   "cell_type": "markdown",
   "metadata": {
    "id": "ivUL7LmLfY0o"
   },
   "source": [
    "## Creating a Scatterplot\n",
    "\n",
    "---\n",
    "\n",
    "For each observation in our data, we can express the values of the predictor and response variables as coordinates of an ordered pair of values.\n",
    "\n",
    "\n",
    "- (predictor, response) $=$ (`year`, `co2`)\n",
    "\n",
    "A **scatterplot** is a graph of all points (predictor, response). We can look for patterns in the scatterplot to see how values of the response variable, `co2`, are related to values of the predictor variable, `year`.\n",
    "\n",
    "In the first code cell of this notebook, we imported [`matplotlib.pyplot`](https://matplotlib.org/3.5.3/api/_as_gen/matplotlib.pyplot.html) using the abbreviation `plt`. Run the code cell below to create a scatterplot of the the data using the [`pyplot.scatter()`](https://matplotlib.org/3.5.3/api/_as_gen/matplotlib.pyplot.scatter.html) function.\n",
    "\n",
    "<br>  \n",
    "\n",
    "*Note: You do not need to edit the code cell below. Simply run the code cell below to generate a scatterplot.*"
   ]
  },
  {
   "cell_type": "code",
   "execution_count": null,
   "metadata": {
    "colab": {
     "base_uri": "https://localhost:8080/",
     "height": 472
    },
    "executionInfo": {
     "elapsed": 710,
     "status": "ok",
     "timestamp": 1722526475247,
     "user": {
      "displayName": "Elliot Marks",
      "userId": "09138350388793527394"
     },
     "user_tz": -120
    },
    "id": "6-JvBpfLvEpC",
    "outputId": "77cee30b-37fd-41d9-f55d-7a59c5d07571"
   },
   "outputs": [
    {
     "data": {
      "image/png": "[encoded data removed]",
      "text/plain": [
       "<Figure size 640x480 with 1 Axes>"
      ]
     },
     "metadata": {},
     "output_type": "display_data"
    }
   ],
   "source": [
    "###########################################################\n",
    "# Run code cell to create a scatterplot.\n",
    "# You do not need to edit any commands in this code cell.\n",
    "###########################################################\n",
    "plt.scatter(year,  # array where predictor variable stored\n",
    "            co2,  # array where response variable stored\n",
    "            color ='blue')  # option to set point color\n",
    "\n",
    "###############\n",
    "# Plot options\n",
    "###############\n",
    "plt.title('Annual Worldwide CO2 Emissions 2010-2019')  # main plot label\n",
    "plt.xlabel('Year')  # label on x-axis\n",
    "plt.ylabel('CO2 Emissions (in kt)')  # label on y-axis\n",
    "#plt.grid(True)  # add gridlines to plot\n",
    "plt.show()  # show the plot on the screen"
   ]
  },
  {
   "cell_type": "markdown",
   "metadata": {
    "id": "6KSmK6IavEpE"
   },
   "source": [
    "# Transforming Variables\n",
    "\n",
    "---\n",
    "\n",
    "\n",
    "Suppose we would like to **transform** or **manipulate** the predictor variable `year` and measure time as years since 2010. We store the transformed values to a new vector `t`. We could compute each of the 10 values stored in the vector `t` separately:\n",
    "\n",
    "- The first entry in `t` is $2010 - 2010 = 0$\n",
    "- The second entry in `t` is $2011 - 2010 = 1$\n",
    "- $\\vdots$\n",
    "- The last entry in `t` is $2019 - 2010 = 9$\n",
    "\n",
    "The 10 calculations outlined above can be computed with 10 separate commands or using a loop. Both of these methods require multiple lines of code that repeat the same calculations over and over again.\n",
    "\n",
    "**Vectorization** is a method used to improve the efficiency of Python code by eliminating the use of loops and repetitive calculations. Instead of repeating the same operation over and over again to each value stored in a vector, **we apply the operation subtract 2010 from `year` once to the entire vector**:\n",
    "\n",
    "- `t = year - 2010`.\n",
    "\n",
    "\n",
    "Run the code cell below to create a new vector `t` that is the number of years since 2010.\n"
   ]
  },
  {
   "cell_type": "code",
   "execution_count": null,
   "metadata": {
    "colab": {
     "base_uri": "https://localhost:8080/"
    },
    "executionInfo": {
     "elapsed": 267,
     "status": "ok",
     "timestamp": 1722526479648,
     "user": {
      "displayName": "Elliot Marks",
      "userId": "09138350388793527394"
     },
     "user_tz": -120
    },
    "id": "0F-ki28clD8G",
    "outputId": "3bc366ac-bf11-47b1-cef8-f17cc74f8514"
   },
   "outputs": [],
   "source": [
    "###############################\n",
    "# Run to define a new vector\n",
    "# t that is years since 2010\n",
    "###############################\n",
    "t = year - 2010  # create vector t, years since 2010\n",
    "t  # print result to screen"
   ]
  },
  {
   "cell_type": "markdown",
   "metadata": {
    "id": "yILZ5M-ivEpE"
   },
   "source": [
    "# Question 3\n",
    "\n",
    "---\n",
    "\n",
    "The worldwide $\\text{CO}_2$ emissions stored in the vector `co2` are very large values. To help make the values easier to read and interpret, we can convert the units of the $\\text{CO}_2$ emissions from kilotons to *millions of kilotons*.\n",
    "\n",
    "\n",
    "Use a vectorized function to convert $\\text{CO}_2$ emissions from kt to millions of kt. Store the resulting output to a new variable named `co2_mil_kt`.\n",
    "\n",
    "<br>  \n",
    "\n",
    "*Hint: Divide the $\\text{CO}_2$ emissions in `co2` by 1,000,000.*\n",
    "\n",
    "\n"
   ]
  },
  {
   "cell_type": "markdown",
   "metadata": {
    "id": "dcyKExQWjvj8"
   },
   "source": [
    "## Solution to Question 3\n",
    "\n",
    "---\n",
    "\n",
    "Replace the `??` in the code cell below with a vectorized function. Then run code cell and verify the output stored in `co2_mil_kt` is correct.\n",
    "\n",
    "<br>  "
   ]
  },
  {
   "cell_type": "code",
   "execution_count": null,
   "metadata": {
    "id": "HyapnBe9vEpF"
   },
   "outputs": [],
   "source": [
    "###########################\n",
    "# Solution to Question 3\n",
    "###########################\n",
    "co2_mil_kt = ??  # convert to millions of kt\n",
    "co2_mil_kt  # print output to screen and verify result"
   ]
  },
  {
   "cell_type": "markdown",
   "metadata": {
    "id": "IpewdCW6vEpF"
   },
   "source": [
    "# Question 4\n",
    "\n",
    "---\n",
    "\n",
    "Use the code cell below to create a scatterplot to display the relation between predictor variable `t` (years since 2010) and the response variable  `co2_mil_kt`, worldwide $\\text{CO}_2$ emissions in millions of kt.\n",
    "\n",
    "Replace each of the four `??`'s in the code cell below to adjust the variables plotted and the labels on the axes. Then compare the resulting scatterplot to the scatterplot of `year` and `co2` that was created above.\n",
    "\n",
    "\n"
   ]
  },
  {
   "cell_type": "code",
   "execution_count": null,
   "metadata": {
    "id": "lL5SiEoTmCdB"
   },
   "outputs": [],
   "source": [
    "###########################\n",
    "# Solution to Question 4\n",
    "###########################\n",
    "plt.scatter(??,  # predictor variable\n",
    "            ??,  # response variable\n",
    "            color ='blue')  # set point color\n",
    "\n",
    "###############\n",
    "# Plot options\n",
    "###############\n",
    "plt.title('Annual Worldwide CO2 Emissions 2010-2019')  # main plot label\n",
    "plt.xlabel('??')  # label on x-axis\n",
    "plt.ylabel('??')  # label on y-axis\n",
    "plt.show()  # show the plot on the screen"
   ]
  },
  {
   "cell_type": "markdown",
   "metadata": {
    "id": "J8god0DYlzd0"
   },
   "source": [
    "## Solution to Question 4\n",
    "\n",
    "---\n",
    "\n",
    "\n",
    "Comment on the similarities and differences between the scatterplot created above and the scatterplot we first created using the variables `year` and `co2`.\n",
    "\n",
    "\n",
    "<br>  \n",
    "<br>  "
   ]
  },
  {
   "cell_type": "markdown",
   "metadata": {
    "id": "fiu3MJRuvEpG"
   },
   "source": [
    "# Finding the Line of Best Fit\n",
    "\n",
    "---\n",
    "\n",
    "The points in the scatterplot above are not perfectly linear. The points generally follow an upward trend, though there are dips at couple of points. The data appears roughly linear, and we can use a linear model of the form\n",
    "\n",
    "$$\\text{co2_mil_kt} \\approx \\color{dodgerblue}{m} \\cdot \\text{t} + \\color{tomato}{a}.$$\n",
    "\n",
    "as an initial model for the data.\n",
    "\n",
    "What are values for the coefficients  $\\color{dodgerblue}{m}$ and $\\color{tomato}{a}$ in the formula above that results in the linear model that *best fits* the data?"
   ]
  },
  {
   "cell_type": "markdown",
   "metadata": {
    "id": "aSPZYpaIvEpG"
   },
   "source": [
    "# Question 5\n",
    "\n",
    "---\n",
    "\n",
    "An interactive plot or applet in Python is called a [**widget**](https://ipywidgets.readthedocs.io/en/latest/examples/Widget%20Basics.html). The code in the cell below creates a Python widget with two interactive sliders that can be used to adjust the values of the slope $\\color{dodgerblue}{m}$ and vertical intercept $\\color{tomato}{a}$ in the formula for a possible line of best fit of the form\n",
    "\n",
    "$$\\text{co2_mil_kt} \\approx \\color{dodgerblue}{m} \\cdot \\text{t} + \\color{tomato}{a}.$$\n",
    "\n",
    "In order to interact with and update the plot:\n",
    "\n",
    "- We run the code cell below once.\n",
    "- Then we adjust the slope and vertical intercept with the two sliders above the plot.\n",
    "  - The first slider adjusts the slope, $\\color{dodgerblue}{m}$.\n",
    "  - The second slider adjusts the vertical intercept, $\\color{tomato}{a}$.\n",
    "- As we adjust the values with the sliders the plot will automatically update.\n",
    "\n",
    "Run the code cell to create a Python widget. Then use the sliders to choose different values for the slope $\\color{dodgerblue}{m}$ and vertical intercept $\\color{tomato}{a}$ that results in a line that *best fits the data*. *You do not need to edit, interpret, or understand the code in the cell below.*\n",
    "\n",
    "\n",
    "\n",
    "\n"
   ]
  },
  {
   "cell_type": "markdown",
   "metadata": {
    "id": "WkMcDYZE7YE1"
   },
   "source": [
    "# Question 5\n",
    "\n",
    "---\n"
   ]
  },
  {
   "cell_type": "code",
   "execution_count": null,
   "metadata": {
    "colab": {
     "base_uri": "https://localhost:8080/",
     "height": 536,
     "referenced_widgets": [
      "36353cd2c31c429ab5e58720f85e553b",
      "2504e3f893584e0f8a951d0b4331f3f9",
      "b18b3a8dee1643f7a919031b4efcbe37",
      "4513ab0a95fb4c9aae511874a072237c",
      "d2e86cbc51084772a8c8ce4fc541af23",
      "7c570f16871e429aa23b981bf841f02d",
      "d63d4b3758fc4d0da7262b406ce06c4a",
      "b814fce7289743888a3e35b765307226",
      "21cb1942a6444f3995a16843a6ad9a54",
      "04f1704a7c1740ef820732ce6a3bd58e"
     ]
    },
    "executionInfo": {
     "elapsed": 783,
     "status": "ok",
     "timestamp": 1722526554522,
     "user": {
      "displayName": "Elliot Marks",
      "userId": "09138350388793527394"
     },
     "user_tz": -120
    },
    "id": "NCLrah2tvEpH",
    "outputId": "fe0f527e-59b3-4eaf-c7cd-6d057c6e9777"
   },
   "outputs": [],
   "source": [
    "########################################################\n",
    "# Run code cell to generate an interactive widget.\n",
    "# Do not edit the code cell. Just run it!\n",
    "# Then adjust the sliders to find the line of best fit.\n",
    "########################################################\n",
    "from ipywidgets import interactive, FloatSlider  # import interactive elements\n",
    "\n",
    "def plot_line_of_best_fit(slope, intercept):\n",
    "\n",
    "    # Plot scatterplot\n",
    "    plt.scatter(t, co2_mil_kt, label='Observed Data')\n",
    "\n",
    "    # Plot the line with chosen slope and intercept\n",
    "    x_values = np.linspace(min(t), max(t), 100)\n",
    "    y_values = slope * x_values + intercept\n",
    "    plt.plot(x_values, y_values, color='red', label='Line of Best Fit')\n",
    "\n",
    "    # Plot labels and legend\n",
    "    plt.xlabel('t, years since 2010')\n",
    "    plt.ylabel('CO2 Emissions (in millions of kt)')\n",
    "    plt.title('Find a Possible Line of Best Fit')\n",
    "    plt.ylim(30, 36)\n",
    "    plt.legend()\n",
    "\n",
    "    # Show plot\n",
    "    plt.grid(True)\n",
    "    plt.show()\n",
    "\n",
    "# Create sliders for slope and intercept\n",
    "intercept_slider = FloatSlider(value=34.0, min=30.0, max=36.0, step=0.25, description='Vertical Intercept, a:')\n",
    "slope_slider = FloatSlider(value=0.2, min=0, max=1.0, step=0.05, description='Slope, m:')\n",
    "\n",
    "# Create an interactive plot\n",
    "interactive_plot = interactive(plot_line_of_best_fit, intercept=intercept_slider, slope=slope_slider)\n",
    "\n",
    "# Display the interactive plot\n",
    "interactive_plot"
   ]
  },
  {
   "cell_type": "markdown",
   "metadata": {
    "id": "2cIuiV2opDQP"
   },
   "source": [
    "## Solution to Question 5\n",
    "\n",
    "---\n",
    "\n",
    "- The slope of the line of best fit is approximately $\\color{dodgerblue}{m} = $ <mark>??</mark>.\n",
    "\n",
    "- The vertical intercept of the line of best fit is approximately $\\color{tomato}{a}=$ <mark>??</mark>.\n",
    "\n",
    "<br>  \n",
    "<br>  "
   ]
  },
  {
   "cell_type": "markdown",
   "metadata": {
    "id": "5ofDz4Ro6S2q"
   },
   "source": [
    "# Linear Regression\n",
    "\n",
    "---\n",
    "\n",
    "The process of fitting a line to a set of data points is called **linear regression** and the line of best fit is called the **regression line**."
   ]
  },
  {
   "cell_type": "markdown",
   "metadata": {
    "id": "3YNjMltEvEpI"
   },
   "source": [
    "## Linear Regression with NumPy `polyfit`\n",
    "\n",
    "---\n",
    "\n",
    "The `numpy.polyfit(x, y, deg)` function performs a least-squares polynomial fit and has three main inputs:\n",
    "\n",
    "- `x` is the vector where the predictor variable values are stored.\n",
    "- `y` is the vector where the response variable values are stored.\n",
    "- `deg` is the degree of the polynomial (`deg=1` for linear fit, `deg=2` for quadratic fit, ...).\n",
    "- See [`numpy.polyfit()` documentation](https://numpy.org/doc/stable/reference/generated/numpy.polyfit.html) for more information.\n",
    "\n",
    "\n",
    "**When we do linear regression, we set `deg = 1`**, and the output of `numpy.polyfit(x, y, 1)` is an array with two values:\n",
    "\n",
    "- The first value in the output is the slope $m$ of the regression line.\n",
    "- The second value in the output is the vertical intercept $a$ of the regression line.\n",
    "\n",
    "Run the code cell below to find the slope and vertical intercept of the line that best fits the data points (`t`, co2_mil_kt`).\n",
    "\n",
    "\n"
   ]
  },
  {
   "cell_type": "code",
   "execution_count": null,
   "metadata": {
    "colab": {
     "base_uri": "https://localhost:8080/"
    },
    "executionInfo": {
     "elapsed": 239,
     "status": "ok",
     "timestamp": 1722526694210,
     "user": {
      "displayName": "Elliot Marks",
      "userId": "09138350388793527394"
     },
     "user_tz": -120
    },
    "id": "gNtTjyv7tytx",
    "outputId": "4907b242-f466-4ca0-e925-8c04eed0082c"
   },
   "outputs": [],
   "source": [
    "################################\n",
    "# Run to find the coefficients\n",
    "# for the line of best fit\n",
    "################################\n",
    "\n",
    "np.polyfit(t, co2_mil_kt, 1)  # (predictor, response, deg)"
   ]
  },
  {
   "cell_type": "markdown",
   "metadata": {
    "id": "VpDwv-ycvEpJ"
   },
   "source": [
    "<a name=\"q6\"></a>\n",
    "# Question 6\n",
    "\n",
    "---\n",
    "\n",
    "Based on the output of the previous code cell, give a formula for the regression line.\n",
    "\n",
    "## Solution to Question 6\n",
    "\n",
    "---\n",
    "\n",
    "Type the formula for the line of best fit.\n",
    "\n",
    "$$\\text{co2_mil_kt} = \\ ?? \\ t + \\ ?? $$\n",
    "\n",
    "<br>  \n",
    "<br>  \n"
   ]
  },
  {
   "cell_type": "markdown",
   "metadata": {
    "id": "ZUCLrlflvEpJ"
   },
   "source": [
    "# Question 7\n",
    "\n",
    "---\n",
    "\n",
    "Interpret the practical meaning of the values of the regression coefficients $m$ and $a$ in [Question 6](#q6). Include units in your interpretations.\n",
    "\n",
    "## Solution to Question 7\n",
    "\n",
    "---\n",
    "\n",
    "\n",
    "<br>  \n",
    "<br>  \n"
   ]
  },
  {
   "cell_type": "markdown",
   "metadata": {
    "id": "izX0zLKMudzZ"
   },
   "source": [
    "## Storing the Output of `polyfit`\n",
    "\n",
    "---\n",
    "\n",
    "In the case of linear regression, we have two regression coefficients $m$ and $a$.  Thus, the output of the command `np.polyfit(t, co2_mil_kt, 1)` is an array with two entries:\n",
    "\n",
    "- The first value `0.32620013` is the slope, $m$.\n",
    "- The second value `32.62794072` is the vertical intercept, $a$.\n",
    "\n",
    "Entering the command `np.polyfit(t, co2_mil_kt, 1)` displays the values on the screen, but the values are not being stored.\n",
    "\n",
    "- In Python, we assign values using `=`.\n",
    "- If the output is an array with two entries, then we need to define two objects (separated by a comma) where each of the values is stored.\n",
    "\n",
    "In the code cell below, the command `m, a = np.polyfit(t, co2_mil_kt, 1)` computes and stores the slope and vertical intercept of the line of best fit to objects named `m` and `a`, respectively.\n",
    "\n",
    "Run the code cell below to compute, store, and print the values of the regression coefficients.\n",
    "\n",
    "\n"
   ]
  },
  {
   "cell_type": "code",
   "execution_count": null,
   "metadata": {
    "colab": {
     "base_uri": "https://localhost:8080/"
    },
    "executionInfo": {
     "elapsed": 266,
     "status": "ok",
     "timestamp": 1722526782744,
     "user": {
      "displayName": "Elliot Marks",
      "userId": "09138350388793527394"
     },
     "user_tz": -120
    },
    "id": "5G_2zMBud6VW",
    "outputId": "6cb3706a-448e-4aef-bf84-040f44c11310"
   },
   "outputs": [],
   "source": [
    "########################################\n",
    "# Run to find and store and print the\n",
    "# coefficients for the line of best fit\n",
    "########################################\n",
    "m, a = np.polyfit(t, co2_mil_kt, 1)  # (predictor, response, deg)\n",
    "\n",
    "print(\"The slope is \", m,\n",
    "      \"\\nThe vertical intercept is \", a)"
   ]
  },
  {
   "cell_type": "markdown",
   "metadata": {
    "id": "3acup2TvvEpJ"
   },
   "source": [
    "# Making Predictions\n",
    "\n",
    "---\n",
    "\n",
    "\n",
    "We have determined the formula for the regression line is\n",
    "\n",
    "$$\\text{co2_mil_kt} = \\color{dodgerblue}{0.326} \\ \\text{t} + \\color{tomato}{32.628}.$$\n",
    "\n",
    "We can use the formula for the regression line to make **predictions** about the amount of the world's $\\text{CO}_2$ emissions for different values of the predictor variable $t$ (years since 2010).\n",
    "\n",
    "Suppose we want to predict the world's $\\text{CO}_2$ emissions in 2030 if $\\text{CO}_2$ emissions continue to follow the pattern of our model based on data from 2010 to 2019.\n",
    "\n",
    "- The year 2030 is $t=20$ years since 2010.\n",
    "- We can evaluate the regression line at $t=20$ to obtain our prediction.\n",
    "\n",
    "Thus, our model predicts the world's $\\text{CO}_2$ emissions in 2030 will be\n",
    "\n",
    "$$0.326 (20) + 32.628 \\approx 39.148 \\text{ million kt}.$$\n",
    "\n",
    "We have previously stored the values of the slope and vertical intercept of the regression line to `m` and `a`, respectively. Thus, we can calculate the predicted world $\\text{CO}_2$ emissions in 2030 using the code `m * 20 + a`.\n",
    "\n",
    "<br>\n",
    "\n",
    "*Note: The values stored `m` and `a` are `0.32620013387878916` and `32.62794072454544`, respectively. Thus, the formula `m * 20 + a` results in a more accurate prediction than the calculation `0.326 * 20 + 32.628`.*\n",
    "\n",
    "\n"
   ]
  },
  {
   "cell_type": "code",
   "execution_count": null,
   "metadata": {
    "colab": {
     "base_uri": "https://localhost:8080/"
    },
    "executionInfo": {
     "elapsed": 285,
     "status": "ok",
     "timestamp": 1718305592802,
     "user": {
      "displayName": "Adam Spiegler",
      "userId": "08916726237218427358"
     },
     "user_tz": 360
    },
    "id": "-0zDGjEQl2jI",
    "outputId": "f3f4d522-40e0-4629-ef17-0e1ea8736c92"
   },
   "outputs": [],
   "source": [
    "###########################################\n",
    "# Run to compute prediction in 2030 (t=20)\n",
    "###########################################\n",
    "m * 20 + a   # prediction"
   ]
  },
  {
   "cell_type": "markdown",
   "metadata": {
    "id": "2R6TvyeRrljM"
   },
   "source": [
    "# Question 8\n",
    "\n",
    "---\n",
    "\n",
    "Replace each ?? in the code cell below to create a vector named `co2_predict` that contains the predicted worldwide $\\text{CO}_2$ emissions for each value of $t$ stored in the vector `t`. Then run the code cell to compute, store, and print the predictions on screen.\n",
    "\n",
    "- The first prediction (in 2010) should be approximately $32.628$ million kt.\n",
    "- The final prediction (in 2019) should be approximately $35.564$ million kt.\n",
    "\n",
    "\n",
    "<br>   \n",
    "\n",
    "*Hint: Recall how we applied vectorized functions earlier to create vectors:*\n",
    "\n",
    "- *`t = year - 2010` subtracts 2010 from each value stored in `year`.*\n",
    "- *`co2_mil_kt = co2 / 1000000` divides each value stored in `co2` by 1,000,000.*\n",
    "\n",
    "*Apply similar operations to the vector `t` to create a vector of predicted values named `co2_predict`.*\n",
    "\n"
   ]
  },
  {
   "cell_type": "code",
   "execution_count": null,
   "metadata": {
    "id": "j7TOO1RnfPsd"
   },
   "outputs": [],
   "source": [
    "######################################################\n",
    "# Solution to Question 8\n",
    "# Replace each ?? with the name of the variable where\n",
    "# you have previously stored the appropriate values.\n",
    "######################################################\n",
    "co2_predict = ?? * t + ??  # compute predicted values\n",
    "co2_predict"
   ]
  },
  {
   "cell_type": "markdown",
   "metadata": {
    "id": "5V0ksaefWSr_"
   },
   "source": [
    "# Comparing Plots of the Regression Line  and Observed Data\n",
    "\n",
    "---\n",
    "Run the code cell below to use the predicted values in `co2_predict` to add the regression line to the scatterplot to compare the predicted $\\text{CO}_2$ emissions to the observed $\\text{CO}_2$ emissions over the period from $t=0$ to $t=9$.\n"
   ]
  },
  {
   "cell_type": "code",
   "execution_count": null,
   "metadata": {
    "colab": {
     "base_uri": "https://localhost:8080/",
     "height": 472
    },
    "executionInfo": {
     "elapsed": 856,
     "status": "ok",
     "timestamp": 1722527248191,
     "user": {
      "displayName": "Elliot Marks",
      "userId": "09138350388793527394"
     },
     "user_tz": -120
    },
    "id": "Ay5IM4n94ZQG",
    "outputId": "bd41b6d1-f98b-4398-bd0d-fed319475a54"
   },
   "outputs": [
    {
     "data": {
      "image/png": "[encoded data removed]",
      "text/plain": [
       "<Figure size 640x480 with 1 Axes>"
      ]
     },
     "metadata": {},
     "output_type": "display_data"
    }
   ],
   "source": [
    "###########################################################\n",
    "# Run code cell to create plot.\n",
    "# You do not need to edit any commands in this code cell.\n",
    "###########################################################\n",
    "\n",
    "###########################\n",
    "# Add scatterplot\n",
    "###########################\n",
    "plt.scatter(t,  # predictor variable\n",
    "            co2_mil_kt,  # response variable\n",
    "            color ='blue',  # set point color\n",
    "            label='Actual Values')  # label for points\n",
    "\n",
    "###########################\n",
    "# Add line of best fit\n",
    "###########################\n",
    "plt.plot(t,  # predictor variable\n",
    "         co2_predict,  # predicted value of response variable\n",
    "         color='red',  # set color of line\n",
    "         label='Predicted Values')  # label for line\n",
    "\n",
    "###############\n",
    "# Plot options\n",
    "###############\n",
    "plt.title('Annual Worldwide CO2 Emissions 2010-2019')  # main plot label\n",
    "plt.xlabel('t, years since 2010')  # label on x-axis\n",
    "plt.ylabel('CO2 Emissions (in millions of kt)')  # label on y-axis\n",
    "plt.grid(True)  # add gridlines to plot\n",
    "plt.legend()  # add legend to plot\n",
    "plt.show()  # show the plot on the screen"
   ]
  },
  {
   "cell_type": "markdown",
   "metadata": {
    "id": "4L55s-wIvEpL"
   },
   "source": [
    "# Question 9\n",
    "\n",
    "---\n",
    "\n",
    "Based on the graph above, estimate error of the prediction in 2016.\n",
    "\n",
    "## Solution to Question 9\n",
    "\n",
    "---\n",
    "\n",
    "\n",
    "\n",
    "<br>  \n",
    "<br>  \n",
    "<br>  "
   ]
  },
  {
   "cell_type": "markdown",
   "metadata": {
    "id": "b8dupFD32DjH"
   },
   "source": [
    "# Question 10\n",
    "\n",
    "---\n",
    "\n",
    "Instead of using the transformed variables stored in vectors `t` and `co2_mil_kt`, we can construct a linear model using the (non-transformed) values stored in the vectors `year` and `co2`.\n",
    "\n",
    "- Find the coefficients $a$ and $m$ for regression line that models the relationship between `year` and `co2`.\n",
    "- Intepret the practical meaning of the values of the coefficients in the model.\n",
    "- Compare the new coefficients to the coefficients from the model using `t` and `co2_mil_kt` in [Question 6](#q6).\n",
    "\n",
    "\n"
   ]
  },
  {
   "cell_type": "code",
   "execution_count": null,
   "metadata": {
    "id": "-BngGTZ20dzs"
   },
   "outputs": [],
   "source": [
    "###################################################\n",
    "# Solution to Question 10\n",
    "# Replace ?? with a command to find the values of\n",
    "# the regression coefficients.\n",
    "###################################################\n",
    "\n",
    "m_2, a_2 = ??\n",
    "\n",
    "print(\"The slope is \", m_2,\n",
    "      \"\\nThe vertical intercept is \", a_2)"
   ]
  },
  {
   "cell_type": "markdown",
   "metadata": {
    "id": "SeD8flfsQM_u"
   },
   "source": [
    "## Solution to Question 10\n",
    "\n",
    "---\n",
    "\n",
    "Interpret the practical meaning of the values of the regression coefficients of the model in the previous code cell.\n",
    "\n",
    "\n",
    "\n",
    "\n",
    "<br>  \n",
    "<br>  \n",
    "\n",
    "Is the value of the slope in the new model equal to the  slope from the model in [Question 6](#q6)? In practical terms, explain why the slopes are equal or not equal.\n",
    "\n",
    "\n",
    "\n",
    "\n",
    "<br>  \n",
    "<br>  \n",
    "\n",
    "Is the value of the vertical intercept in the new model equal to the vertical intercept from the model in [Question 6](#q6)? In practical terms, explain why the vertical intercepts are equal or not equal.\n",
    "\n",
    "\n",
    "\n",
    "\n",
    "<br>  \n",
    "<br>  \n"
   ]
  },
  {
   "cell_type": "markdown",
   "metadata": {
    "id": "iBmMPoh1CkEf"
   },
   "source": [
    "# Be Sure You Have Saved Your Work!\n",
    "\n",
    "---\n",
    "\n",
    "This lab is a shared Colab notebook available for anyone to view. However, since everyone is sharing this notebook, you do not have permission to save changes to this shared Colab notebook. In order to save your work:\n",
    "\n",
    "1. You will need to set up a free Google Drive account. If you already have a Google Drive account, you are ready to go!\n",
    "2. Click the `Copy to Drive` button to the right of the `+ Code` and `+ Text` buttons on top of the notebook.\n",
    "3. Select from the menu `File/Save a Copy in Drive`.\n",
    "  - By default, the notebook will be saved in a folder named **Colab Notebooks** in your Drive.\n",
    "  - Feel free to rename and store the notebook wherever you like.\n"
   ]
  },
  {
   "cell_type": "markdown",
   "metadata": {
    "id": "OZYJGBqxTLUs"
   },
   "source": [
    "# Code Summary\n",
    "\n",
    "---\n"
   ]
  },
  {
   "cell_type": "markdown",
   "metadata": {
    "id": "cya04UGbTc3K"
   },
   "source": [
    "## Loading External Data to a Dataframe with Pandas\n",
    "\n",
    "Data Source: [Dr. Kristen Gorman](https://www.uaf.edu/cfos/people/faculty/detail/kristen-gorman.php) and the [Palmer Station, Antarctica LTER](https://pallter.marine.rutgers.edu/), a member of the [Long Term Ecological Research Network](https://lternet.edu/).\n",
    "\n"
   ]
  },
  {
   "cell_type": "code",
   "execution_count": null,
   "metadata": {
    "colab": {
     "base_uri": "https://localhost:8080/",
     "height": 424
    },
    "executionInfo": {
     "elapsed": 685,
     "status": "ok",
     "timestamp": 1722547912183,
     "user": {
      "displayName": "Adam Spiegler",
      "userId": "08916726237218427358"
     },
     "user_tz": 360
    },
    "id": "kdKm8U5ITb9V",
    "outputId": "f379e17b-793c-4cea-be3a-3da4e7097411"
   },
   "outputs": [],
   "source": [
    "# import pandas to be able to work with data frames\n",
    "import pandas as pd\n",
    "\n",
    "\n",
    "# import data from URL as dataframe named df\n",
    "df = pd.read_csv('https://raw.githubusercontent.com/mcwg/calc-python-labs/main/Data/palmer-penguins.csv')\n",
    "\n",
    "# display the dataframe\n",
    "df"
   ]
  },
  {
   "cell_type": "markdown",
   "metadata": {
    "id": "kKwqT-jRTre-"
   },
   "source": [
    "## Storing columns as NumPy Arrays\n"
   ]
  },
  {
   "cell_type": "code",
   "execution_count": null,
   "metadata": {
    "colab": {
     "base_uri": "https://localhost:8080/"
    },
    "executionInfo": {
     "elapsed": 304,
     "status": "ok",
     "timestamp": 1722436611512,
     "user": {
      "displayName": "Enrique Acosta",
      "userId": "01862593623389693265"
     },
     "user_tz": 300
    },
    "id": "iHkO-LzjTrfI",
    "outputId": "1048138e-cc5f-4ccf-91b4-3f7d5aa71b16"
   },
   "outputs": [],
   "source": [
    "# Load data for this example:\n",
    "import numpy as np\n",
    "import pandas as pd\n",
    "df = pd.read_csv('https://raw.githubusercontent.com/mcwg/calc-python-labs/main/Data/palmer-penguins.csv')\n",
    "\n",
    "# The dataFrame has a column 'body_mass_g'\n",
    "# The following command stores the 'body_mass_g' column into a regular Numpy array\n",
    "mass = df['body_mass_g'].to_numpy()\n",
    "\n",
    "# print the NumPy array\n",
    "mass"
   ]
  },
  {
   "cell_type": "markdown",
   "metadata": {
    "id": "GmOpC8d4U82v"
   },
   "source": [
    "## Transforming Variables\n",
    "\n",
    "---\n",
    "\n"
   ]
  },
  {
   "cell_type": "code",
   "execution_count": null,
   "metadata": {
    "colab": {
     "base_uri": "https://localhost:8080/"
    },
    "executionInfo": {
     "elapsed": 249,
     "status": "ok",
     "timestamp": 1722547969830,
     "user": {
      "displayName": "Adam Spiegler",
      "userId": "08916726237218427358"
     },
     "user_tz": 360
    },
    "id": "FBpY800zU827",
    "outputId": "3ecb8a75-fcd5-4e7c-8ca4-27f1bed439f1"
   },
   "outputs": [],
   "source": [
    "# Load data for this example.\n",
    "# penguin mass in grams is stored into the numpy array called \"mass\"\n",
    "import numpy as np\n",
    "import pandas as pd\n",
    "df = pd.read_csv('https://raw.githubusercontent.com/mcwg/calc-python-labs/main/Data/palmer-penguins.csv')\n",
    "mass = df['body_mass_g'].to_numpy()\n",
    "\n",
    "# convert mass to thousands of grams\n",
    "mass_kg = mass / 1000\n",
    "\n",
    "# print\n",
    "print(\"Mass in kg:\\n\", mass_kg)"
   ]
  },
  {
   "cell_type": "markdown",
   "metadata": {
    "id": "5CBgIBTEUL9C"
   },
   "source": [
    "## Creating a Scatterplot from data in a dataframe\n",
    "\n",
    "---\n"
   ]
  },
  {
   "cell_type": "code",
   "execution_count": null,
   "metadata": {
    "colab": {
     "base_uri": "https://localhost:8080/",
     "height": 472
    },
    "executionInfo": {
     "elapsed": 1313,
     "status": "ok",
     "timestamp": 1722547986573,
     "user": {
      "displayName": "Adam Spiegler",
      "userId": "08916726237218427358"
     },
     "user_tz": 360
    },
    "id": "VoEhQVd0UKTH",
    "outputId": "7f53c3a3-3eeb-4b24-cc24-67c30b5633d9"
   },
   "outputs": [],
   "source": [
    "# Load data for this example\n",
    "import numpy as np\n",
    "import pandas as pd\n",
    "df = pd.read_csv('https://raw.githubusercontent.com/mcwg/calc-python-labs/main/Data/palmer-penguins.csv')\n",
    "\n",
    "mass = df['body_mass_g'].to_numpy()  # NumPy array with mass in grams\n",
    "bill_length = df['bill_length_mm'].to_numpy()  # NumPy array with bill length in mm\n",
    "\n",
    "# Load matplotlib for the plot\n",
    "import matplotlib.pyplot as plt\n",
    "\n",
    "##############################\n",
    "# Run to create a scatterplot\n",
    "##############################\n",
    "plt.scatter(mass,  # x-values in numpy array (horizontal axis)\n",
    "            bill_length,  # y-values in numpy array (vertical axis)\n",
    "            color ='blue')  # set point color\n",
    "\n",
    "###############\n",
    "# Plot options\n",
    "###############\n",
    "plt.title('A Sample Scatterplot')  # main plot label\n",
    "plt.xlabel('Body Mass (in grams)')  # label on x-axis\n",
    "plt.ylabel('Bill Length (in mm)')  # label for the y-axis\n",
    "#plt.grid(True)  # add gridlines to plot\n",
    "\n",
    "# Display the scatter plot\n",
    "plt.show()"
   ]
  },
  {
   "cell_type": "markdown",
   "metadata": {
    "id": "6JNG46RmUYBU"
   },
   "source": [
    "## Linear Regression with NumPy `polyfit`\n",
    "\n",
    "---\n",
    "\n"
   ]
  },
  {
   "cell_type": "code",
   "execution_count": null,
   "metadata": {
    "colab": {
     "base_uri": "https://localhost:8080/"
    },
    "executionInfo": {
     "elapsed": 238,
     "status": "ok",
     "timestamp": 1722547993512,
     "user": {
      "displayName": "Adam Spiegler",
      "userId": "08916726237218427358"
     },
     "user_tz": 360
    },
    "id": "BhNaZvNjUYBf",
    "outputId": "61991775-af03-46c7-dc9d-8c3008f73131"
   },
   "outputs": [],
   "source": [
    "# Load data for this example\n",
    "import numpy as np\n",
    "import pandas as pd\n",
    "df = pd.read_csv('https://raw.githubusercontent.com/mcwg/calc-python-labs/main/Data/palmer-penguins.csv')\n",
    "\n",
    "mass = df['body_mass_g'].to_numpy()\n",
    "bill_length = df['bill_length_mm'].to_numpy()\n",
    "\n",
    "# Find a line of best fit for bill_length as a function of mass_kg\n",
    "# uses np.polyfit(x-values, y-values, deg), with deg = 1 for a line\n",
    "slope, intercept = np.polyfit(mass, bill_length, 1)  # find slope and intercept of line of best fit\n",
    "\n",
    "# Display slope and intercept\n",
    "print(\"The slope is\", slope)\n",
    "print(\"The vertical intercept is\", intercept)"
   ]
  },
  {
   "cell_type": "markdown",
   "metadata": {
    "id": "k_4I5JBfWAvC"
   },
   "source": [
    "## Comparing Plots of the Regression Line and Observed Data\n",
    "\n",
    "---\n",
    "\n"
   ]
  },
  {
   "cell_type": "code",
   "execution_count": null,
   "metadata": {
    "colab": {
     "base_uri": "https://localhost:8080/",
     "height": 472
    },
    "executionInfo": {
     "elapsed": 1116,
     "status": "ok",
     "timestamp": 1722548005099,
     "user": {
      "displayName": "Adam Spiegler",
      "userId": "08916726237218427358"
     },
     "user_tz": 360
    },
    "id": "FouAiC77WAAR",
    "outputId": "2d0ac061-1c1b-4a0e-93e3-440e4c732211"
   },
   "outputs": [],
   "source": [
    "# Load data for this example\n",
    "import numpy as np\n",
    "import pandas as pd\n",
    "df = pd.read_csv('https://raw.githubusercontent.com/mcwg/calc-python-labs/main/Data/palmer-penguins.csv')\n",
    "\n",
    "mass = df['body_mass_g'].to_numpy()\n",
    "bill_length = df['bill_length_mm'].to_numpy()\n",
    "slope, intercept = np.polyfit(mass, bill_length, 1)  # find slope and intercept of line of best fit\n",
    "fit_line_predicted_bill_length = slope * mass + intercept # compute predicted bill_length with line of best fit\n",
    "\n",
    "##############################\n",
    "# Create scatterplot\n",
    "##############################\n",
    "plt.scatter(mass,  # x-values in numpy array (horizontal axis)\n",
    "            bill_length,  # y-values in numpy array (vertical axis)\n",
    "            color ='blue',  # set point color\n",
    "            label='Actual Values')  # label for points\n",
    "\n",
    "###########################\n",
    "# Add line of best fit\n",
    "###########################\n",
    "plt.plot(mass,  # x-values same as data (horizontal axis)\n",
    "         fit_line_predicted_bill_length,  # y-values from the line of best fit  (vertical axis)\n",
    "         color='red',  # set color of line\n",
    "         label='Predicted Values')  # label for line\n",
    "\n",
    "###########################\n",
    "# Format the plot\n",
    "###########################\n",
    "plt.title('A Sample Linear Regression')  # main plot label\n",
    "plt.xlabel('Body Mass (in grams)')  # label on x-axis\n",
    "plt.ylabel('Bill Length (in mm)')  # label for the y-axis\n",
    "#plt.grid(True)  # add gridlines to plot\n",
    "\n",
    "# Display the plot\n",
    "plt.show()  # show the plot on the screen"
   ]
  },
  {
   "cell_type": "code",
   "execution_count": null,
   "metadata": {
    "id": "FuP6TL3dvEpA"
   },
   "outputs": [],
   "source": [
    "#################\n",
    "# Importing data\n",
    "#################\n",
    "year = np.array([2010,\n",
    "                 2011,\n",
    "                 2012,\n",
    "                 2013,\n",
    "                 2014,\n",
    "                 2015,\n",
    "                 2016,\n",
    "                 2017,\n",
    "                 2018,\n",
    "                 2019])\n",
    "\n",
    "world_$\\text{CO}_2$ = np.array([32095872.94,  # world $\\text{CO}_2$ Emissions in 2010\n",
    "                      33079721.35,  # world $\\text{CO}_2$ Emissions in 2011\n",
    "                      33460087.5,  # world $\\text{CO}_2$ Emissions in 2012\n",
    "                      34119894.39,  # world $\\text{CO}_2$ Emissions in 2013\n",
    "                      34261369.66,  # world $\\text{CO}_2$ Emissions in 2014\n",
    "                      34070176.85,  # world $\\text{CO}_2$ Emissions in 2015\n",
    "                      34145652.3,  # world $\\text{CO}_2$ Emissions in 2016\n",
    "                      34687837.09,  # world $\\text{CO}_2$ Emissions in 2017\n",
    "                      35560555.79,  # world $\\text{CO}_2$ Emissions in 2018\n",
    "                      35477245.4])   # world $\\text{CO}_2$ Emissions in 2019"
   ]
  }
 ],
 "metadata": {
  "colab": {
   "provenance": [
    {
     "file_id": "1ut7-jJPy1o3Eo9mPSmJhmyDNI0VLUtna",
     "timestamp": 1710899482688
    }
   ]
  },
  "kernelspec": {
   "display_name": "Python 3 (ipykernel)",
   "language": "python",
   "name": "python3"
  },
  "language_info": {
   "codemirror_mode": {
    "name": "ipython",
    "version": 3
   },
   "file_extension": ".py",
   "mimetype": "text/x-python",
   "name": "python",
   "nbconvert_exporter": "python",
   "pygments_lexer": "ipython3",
   "version": "3.8.17"
  },
  "widgets": {
   "application/vnd.jupyter.widget-state+json": {
    "04f1704a7c1740ef820732ce6a3bd58e": {
     "model_module": "@jupyter-widgets/base",
     "model_module_version": "1.2.0",
     "model_name": "LayoutModel",
     "state": {
      "_model_module": "@jupyter-widgets/base",
      "_model_module_version": "1.2.0",
      "_model_name": "LayoutModel",
      "_view_count": null,
      "_view_module": "@jupyter-widgets/base",
      "_view_module_version": "1.2.0",
      "_view_name": "LayoutView",
      "align_content": null,
      "align_items": null,
      "align_self": null,
      "border": null,
      "bottom": null,
      "display": null,
      "flex": null,
      "flex_flow": null,
      "grid_area": null,
      "grid_auto_columns": null,
      "grid_auto_flow": null,
      "grid_auto_rows": null,
      "grid_column": null,
      "grid_gap": null,
      "grid_row": null,
      "grid_template_areas": null,
      "grid_template_columns": null,
      "grid_template_rows": null,
      "height": null,
      "justify_content": null,
      "justify_items": null,
      "left": null,
      "margin": null,
      "max_height": null,
      "max_width": null,
      "min_height": null,
      "min_width": null,
      "object_fit": null,
      "object_position": null,
      "order": null,
      "overflow": null,
      "overflow_x": null,
      "overflow_y": null,
      "padding": null,
      "right": null,
      "top": null,
      "visibility": null,
      "width": null
     }
    },
    "1d3cb900ff1a47688633ffd037e0d660": {
     "model_module": "@jupyter-widgets/base",
     "model_module_version": "1.2.0",
     "model_name": "LayoutModel",
     "state": {
      "_model_module": "@jupyter-widgets/base",
      "_model_module_version": "1.2.0",
      "_model_name": "LayoutModel",
      "_view_count": null,
      "_view_module": "@jupyter-widgets/base",
      "_view_module_version": "1.2.0",
      "_view_name": "LayoutView",
      "align_content": null,
      "align_items": null,
      "align_self": null,
      "border": null,
      "bottom": null,
      "display": null,
      "flex": null,
      "flex_flow": null,
      "grid_area": null,
      "grid_auto_columns": null,
      "grid_auto_flow": null,
      "grid_auto_rows": null,
      "grid_column": null,
      "grid_gap": null,
      "grid_row": null,
      "grid_template_areas": null,
      "grid_template_columns": null,
      "grid_template_rows": null,
      "height": null,
      "justify_content": null,
      "justify_items": null,
      "left": null,
      "margin": null,
      "max_height": null,
      "max_width": null,
      "min_height": null,
      "min_width": null,
      "object_fit": null,
      "object_position": null,
      "order": null,
      "overflow": null,
      "overflow_x": null,
      "overflow_y": null,
      "padding": null,
      "right": null,
      "top": null,
      "visibility": null,
      "width": null
     }
    },
    "21cb1942a6444f3995a16843a6ad9a54": {
     "model_module": "@jupyter-widgets/controls",
     "model_module_version": "1.5.0",
     "model_name": "SliderStyleModel",
     "state": {
      "_model_module": "@jupyter-widgets/controls",
      "_model_module_version": "1.5.0",
      "_model_name": "SliderStyleModel",
      "_view_count": null,
      "_view_module": "@jupyter-widgets/base",
      "_view_module_version": "1.2.0",
      "_view_name": "StyleView",
      "description_width": "",
      "handle_color": null
     }
    },
    "2504e3f893584e0f8a951d0b4331f3f9": {
     "model_module": "@jupyter-widgets/controls",
     "model_module_version": "1.5.0",
     "model_name": "FloatSliderModel",
     "state": {
      "_dom_classes": [],
      "_model_module": "@jupyter-widgets/controls",
      "_model_module_version": "1.5.0",
      "_model_name": "FloatSliderModel",
      "_view_count": null,
      "_view_module": "@jupyter-widgets/controls",
      "_view_module_version": "1.5.0",
      "_view_name": "FloatSliderView",
      "continuous_update": true,
      "description": "Slope, m:",
      "description_tooltip": null,
      "disabled": false,
      "layout": "IPY_MODEL_7c570f16871e429aa23b981bf841f02d",
      "max": 1,
      "min": 0,
      "orientation": "horizontal",
      "readout": true,
      "readout_format": ".2f",
      "step": 0.05,
      "style": "IPY_MODEL_d63d4b3758fc4d0da7262b406ce06c4a",
      "value": 0.25
     }
    },
    "293c0346fe124798af5f52218a5028d8": {
     "model_module": "@jupyter-widgets/base",
     "model_module_version": "1.2.0",
     "model_name": "LayoutModel",
     "state": {
      "_model_module": "@jupyter-widgets/base",
      "_model_module_version": "1.2.0",
      "_model_name": "LayoutModel",
      "_view_count": null,
      "_view_module": "@jupyter-widgets/base",
      "_view_module_version": "1.2.0",
      "_view_name": "LayoutView",
      "align_content": null,
      "align_items": null,
      "align_self": null,
      "border": null,
      "bottom": null,
      "display": null,
      "flex": null,
      "flex_flow": null,
      "grid_area": null,
      "grid_auto_columns": null,
      "grid_auto_flow": null,
      "grid_auto_rows": null,
      "grid_column": null,
      "grid_gap": null,
      "grid_row": null,
      "grid_template_areas": null,
      "grid_template_columns": null,
      "grid_template_rows": null,
      "height": null,
      "justify_content": null,
      "justify_items": null,
      "left": null,
      "margin": null,
      "max_height": null,
      "max_width": null,
      "min_height": null,
      "min_width": null,
      "object_fit": null,
      "object_position": null,
      "order": null,
      "overflow": null,
      "overflow_x": null,
      "overflow_y": null,
      "padding": null,
      "right": null,
      "top": null,
      "visibility": null,
      "width": null
     }
    },
    "3082a9db79794792a387f07d2cd7bea7": {
     "model_module": "@jupyter-widgets/controls",
     "model_module_version": "1.5.0",
     "model_name": "SliderStyleModel",
     "state": {
      "_model_module": "@jupyter-widgets/controls",
      "_model_module_version": "1.5.0",
      "_model_name": "SliderStyleModel",
      "_view_count": null,
      "_view_module": "@jupyter-widgets/base",
      "_view_module_version": "1.2.0",
      "_view_name": "StyleView",
      "description_width": "",
      "handle_color": null
     }
    },
    "355917b9f4f84a419afa394b25dfba7d": {
     "model_module": "@jupyter-widgets/output",
     "model_module_version": "1.0.0",
     "model_name": "OutputModel",
     "state": {
      "_dom_classes": [],
      "_model_module": "@jupyter-widgets/output",
      "_model_module_version": "1.0.0",
      "_model_name": "OutputModel",
      "_view_count": null,
      "_view_module": "@jupyter-widgets/output",
      "_view_module_version": "1.0.0",
      "_view_name": "OutputView",
      "layout": "IPY_MODEL_1d3cb900ff1a47688633ffd037e0d660",
      "msg_id": "",
      "outputs": [
       {
        "data": {
         "image/png": "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\n",
         "text/plain": "<Figure size 640x480 with 1 Axes>"
        },
        "metadata": {},
        "output_type": "display_data"
       }
      ]
     }
    },
    "36353cd2c31c429ab5e58720f85e553b": {
     "model_module": "@jupyter-widgets/controls",
     "model_module_version": "1.5.0",
     "model_name": "VBoxModel",
     "state": {
      "_dom_classes": [
       "widget-interact"
      ],
      "_model_module": "@jupyter-widgets/controls",
      "_model_module_version": "1.5.0",
      "_model_name": "VBoxModel",
      "_view_count": null,
      "_view_module": "@jupyter-widgets/controls",
      "_view_module_version": "1.5.0",
      "_view_name": "VBoxView",
      "box_style": "",
      "children": [
       "IPY_MODEL_2504e3f893584e0f8a951d0b4331f3f9",
       "IPY_MODEL_b18b3a8dee1643f7a919031b4efcbe37",
       "IPY_MODEL_4513ab0a95fb4c9aae511874a072237c"
      ],
      "layout": "IPY_MODEL_d2e86cbc51084772a8c8ce4fc541af23"
     }
    },
    "4513ab0a95fb4c9aae511874a072237c": {
     "model_module": "@jupyter-widgets/output",
     "model_module_version": "1.0.0",
     "model_name": "OutputModel",
     "state": {
      "_dom_classes": [],
      "_model_module": "@jupyter-widgets/output",
      "_model_module_version": "1.0.0",
      "_model_name": "OutputModel",
      "_view_count": null,
      "_view_module": "@jupyter-widgets/output",
      "_view_module_version": "1.0.0",
      "_view_name": "OutputView",
      "layout": "IPY_MODEL_04f1704a7c1740ef820732ce6a3bd58e",
      "msg_id": "",
      "outputs": [
       {
        "data": {
         "image/png": "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\n",
         "text/plain": "<Figure size 640x480 with 1 Axes>"
        },
        "metadata": {},
        "output_type": "display_data"
       }
      ]
     }
    },
    "7c570f16871e429aa23b981bf841f02d": {
     "model_module": "@jupyter-widgets/base",
     "model_module_version": "1.2.0",
     "model_name": "LayoutModel",
     "state": {
      "_model_module": "@jupyter-widgets/base",
      "_model_module_version": "1.2.0",
      "_model_name": "LayoutModel",
      "_view_count": null,
      "_view_module": "@jupyter-widgets/base",
      "_view_module_version": "1.2.0",
      "_view_name": "LayoutView",
      "align_content": null,
      "align_items": null,
      "align_self": null,
      "border": null,
      "bottom": null,
      "display": null,
      "flex": null,
      "flex_flow": null,
      "grid_area": null,
      "grid_auto_columns": null,
      "grid_auto_flow": null,
      "grid_auto_rows": null,
      "grid_column": null,
      "grid_gap": null,
      "grid_row": null,
      "grid_template_areas": null,
      "grid_template_columns": null,
      "grid_template_rows": null,
      "height": null,
      "justify_content": null,
      "justify_items": null,
      "left": null,
      "margin": null,
      "max_height": null,
      "max_width": null,
      "min_height": null,
      "min_width": null,
      "object_fit": null,
      "object_position": null,
      "order": null,
      "overflow": null,
      "overflow_x": null,
      "overflow_y": null,
      "padding": null,
      "right": null,
      "top": null,
      "visibility": null,
      "width": null
     }
    },
    "9232c81869e14d7b9743e3d54869380e": {
     "model_module": "@jupyter-widgets/base",
     "model_module_version": "1.2.0",
     "model_name": "LayoutModel",
     "state": {
      "_model_module": "@jupyter-widgets/base",
      "_model_module_version": "1.2.0",
      "_model_name": "LayoutModel",
      "_view_count": null,
      "_view_module": "@jupyter-widgets/base",
      "_view_module_version": "1.2.0",
      "_view_name": "LayoutView",
      "align_content": null,
      "align_items": null,
      "align_self": null,
      "border": null,
      "bottom": null,
      "display": null,
      "flex": null,
      "flex_flow": null,
      "grid_area": null,
      "grid_auto_columns": null,
      "grid_auto_flow": null,
      "grid_auto_rows": null,
      "grid_column": null,
      "grid_gap": null,
      "grid_row": null,
      "grid_template_areas": null,
      "grid_template_columns": null,
      "grid_template_rows": null,
      "height": null,
      "justify_content": null,
      "justify_items": null,
      "left": null,
      "margin": null,
      "max_height": null,
      "max_width": null,
      "min_height": null,
      "min_width": null,
      "object_fit": null,
      "object_position": null,
      "order": null,
      "overflow": null,
      "overflow_x": null,
      "overflow_y": null,
      "padding": null,
      "right": null,
      "top": null,
      "visibility": null,
      "width": null
     }
    },
    "9e9939d9c23449fea3a36126a0489177": {
     "model_module": "@jupyter-widgets/controls",
     "model_module_version": "1.5.0",
     "model_name": "FloatSliderModel",
     "state": {
      "_dom_classes": [],
      "_model_module": "@jupyter-widgets/controls",
      "_model_module_version": "1.5.0",
      "_model_name": "FloatSliderModel",
      "_view_count": null,
      "_view_module": "@jupyter-widgets/controls",
      "_view_module_version": "1.5.0",
      "_view_name": "FloatSliderView",
      "continuous_update": true,
      "description": "Slope:",
      "description_tooltip": null,
      "disabled": false,
      "layout": "IPY_MODEL_cfd8d2cbe14149a683572d11fb703603",
      "max": 10,
      "min": -10,
      "orientation": "horizontal",
      "readout": true,
      "readout_format": ".2f",
      "step": 0.1,
      "style": "IPY_MODEL_cd58570fb87e445b8fa964ec2ae5856c",
      "value": 2.6
     }
    },
    "af015be477024078b4a85e76f35072da": {
     "model_module": "@jupyter-widgets/controls",
     "model_module_version": "1.5.0",
     "model_name": "FloatSliderModel",
     "state": {
      "_dom_classes": [],
      "_model_module": "@jupyter-widgets/controls",
      "_model_module_version": "1.5.0",
      "_model_name": "FloatSliderModel",
      "_view_count": null,
      "_view_module": "@jupyter-widgets/controls",
      "_view_module_version": "1.5.0",
      "_view_name": "FloatSliderView",
      "continuous_update": true,
      "description": "Intercept:",
      "description_tooltip": null,
      "disabled": false,
      "layout": "IPY_MODEL_293c0346fe124798af5f52218a5028d8",
      "max": 10,
      "min": -10,
      "orientation": "horizontal",
      "readout": true,
      "readout_format": ".2f",
      "step": 0.1,
      "style": "IPY_MODEL_3082a9db79794792a387f07d2cd7bea7",
      "value": -1.5
     }
    },
    "b18b3a8dee1643f7a919031b4efcbe37": {
     "model_module": "@jupyter-widgets/controls",
     "model_module_version": "1.5.0",
     "model_name": "FloatSliderModel",
     "state": {
      "_dom_classes": [],
      "_model_module": "@jupyter-widgets/controls",
      "_model_module_version": "1.5.0",
      "_model_name": "FloatSliderModel",
      "_view_count": null,
      "_view_module": "@jupyter-widgets/controls",
      "_view_module_version": "1.5.0",
      "_view_name": "FloatSliderView",
      "continuous_update": true,
      "description": "Vertical Intercept, a:",
      "description_tooltip": null,
      "disabled": false,
      "layout": "IPY_MODEL_b814fce7289743888a3e35b765307226",
      "max": 36,
      "min": 30,
      "orientation": "horizontal",
      "readout": true,
      "readout_format": ".2f",
      "step": 0.25,
      "style": "IPY_MODEL_21cb1942a6444f3995a16843a6ad9a54",
      "value": 32.5
     }
    },
    "b814fce7289743888a3e35b765307226": {
     "model_module": "@jupyter-widgets/base",
     "model_module_version": "1.2.0",
     "model_name": "LayoutModel",
     "state": {
      "_model_module": "@jupyter-widgets/base",
      "_model_module_version": "1.2.0",
      "_model_name": "LayoutModel",
      "_view_count": null,
      "_view_module": "@jupyter-widgets/base",
      "_view_module_version": "1.2.0",
      "_view_name": "LayoutView",
      "align_content": null,
      "align_items": null,
      "align_self": null,
      "border": null,
      "bottom": null,
      "display": null,
      "flex": null,
      "flex_flow": null,
      "grid_area": null,
      "grid_auto_columns": null,
      "grid_auto_flow": null,
      "grid_auto_rows": null,
      "grid_column": null,
      "grid_gap": null,
      "grid_row": null,
      "grid_template_areas": null,
      "grid_template_columns": null,
      "grid_template_rows": null,
      "height": null,
      "justify_content": null,
      "justify_items": null,
      "left": null,
      "margin": null,
      "max_height": null,
      "max_width": null,
      "min_height": null,
      "min_width": null,
      "object_fit": null,
      "object_position": null,
      "order": null,
      "overflow": null,
      "overflow_x": null,
      "overflow_y": null,
      "padding": null,
      "right": null,
      "top": null,
      "visibility": null,
      "width": null
     }
    },
    "cd58570fb87e445b8fa964ec2ae5856c": {
     "model_module": "@jupyter-widgets/controls",
     "model_module_version": "1.5.0",
     "model_name": "SliderStyleModel",
     "state": {
      "_model_module": "@jupyter-widgets/controls",
      "_model_module_version": "1.5.0",
      "_model_name": "SliderStyleModel",
      "_view_count": null,
      "_view_module": "@jupyter-widgets/base",
      "_view_module_version": "1.2.0",
      "_view_name": "StyleView",
      "description_width": "",
      "handle_color": null
     }
    },
    "cfd8d2cbe14149a683572d11fb703603": {
     "model_module": "@jupyter-widgets/base",
     "model_module_version": "1.2.0",
     "model_name": "LayoutModel",
     "state": {
      "_model_module": "@jupyter-widgets/base",
      "_model_module_version": "1.2.0",
      "_model_name": "LayoutModel",
      "_view_count": null,
      "_view_module": "@jupyter-widgets/base",
      "_view_module_version": "1.2.0",
      "_view_name": "LayoutView",
      "align_content": null,
      "align_items": null,
      "align_self": null,
      "border": null,
      "bottom": null,
      "display": null,
      "flex": null,
      "flex_flow": null,
      "grid_area": null,
      "grid_auto_columns": null,
      "grid_auto_flow": null,
      "grid_auto_rows": null,
      "grid_column": null,
      "grid_gap": null,
      "grid_row": null,
      "grid_template_areas": null,
      "grid_template_columns": null,
      "grid_template_rows": null,
      "height": null,
      "justify_content": null,
      "justify_items": null,
      "left": null,
      "margin": null,
      "max_height": null,
      "max_width": null,
      "min_height": null,
      "min_width": null,
      "object_fit": null,
      "object_position": null,
      "order": null,
      "overflow": null,
      "overflow_x": null,
      "overflow_y": null,
      "padding": null,
      "right": null,
      "top": null,
      "visibility": null,
      "width": null
     }
    },
    "d2e86cbc51084772a8c8ce4fc541af23": {
     "model_module": "@jupyter-widgets/base",
     "model_module_version": "1.2.0",
     "model_name": "LayoutModel",
     "state": {
      "_model_module": "@jupyter-widgets/base",
      "_model_module_version": "1.2.0",
      "_model_name": "LayoutModel",
      "_view_count": null,
      "_view_module": "@jupyter-widgets/base",
      "_view_module_version": "1.2.0",
      "_view_name": "LayoutView",
      "align_content": null,
      "align_items": null,
      "align_self": null,
      "border": null,
      "bottom": null,
      "display": null,
      "flex": null,
      "flex_flow": null,
      "grid_area": null,
      "grid_auto_columns": null,
      "grid_auto_flow": null,
      "grid_auto_rows": null,
      "grid_column": null,
      "grid_gap": null,
      "grid_row": null,
      "grid_template_areas": null,
      "grid_template_columns": null,
      "grid_template_rows": null,
      "height": null,
      "justify_content": null,
      "justify_items": null,
      "left": null,
      "margin": null,
      "max_height": null,
      "max_width": null,
      "min_height": null,
      "min_width": null,
      "object_fit": null,
      "object_position": null,
      "order": null,
      "overflow": null,
      "overflow_x": null,
      "overflow_y": null,
      "padding": null,
      "right": null,
      "top": null,
      "visibility": null,
      "width": null
     }
    },
    "d63d4b3758fc4d0da7262b406ce06c4a": {
     "model_module": "@jupyter-widgets/controls",
     "model_module_version": "1.5.0",
     "model_name": "SliderStyleModel",
     "state": {
      "_model_module": "@jupyter-widgets/controls",
      "_model_module_version": "1.5.0",
      "_model_name": "SliderStyleModel",
      "_view_count": null,
      "_view_module": "@jupyter-widgets/base",
      "_view_module_version": "1.2.0",
      "_view_name": "StyleView",
      "description_width": "",
      "handle_color": null
     }
    },
    "f6cb1a17551e4b1ea88dad9fb23308af": {
     "model_module": "@jupyter-widgets/controls",
     "model_module_version": "1.5.0",
     "model_name": "VBoxModel",
     "state": {
      "_dom_classes": [
       "widget-interact"
      ],
      "_model_module": "@jupyter-widgets/controls",
      "_model_module_version": "1.5.0",
      "_model_name": "VBoxModel",
      "_view_count": null,
      "_view_module": "@jupyter-widgets/controls",
      "_view_module_version": "1.5.0",
      "_view_name": "VBoxView",
      "box_style": "",
      "children": [
       "IPY_MODEL_9e9939d9c23449fea3a36126a0489177",
       "IPY_MODEL_af015be477024078b4a85e76f35072da",
       "IPY_MODEL_355917b9f4f84a419afa394b25dfba7d"
      ],
      "layout": "IPY_MODEL_9232c81869e14d7b9743e3d54869380e"
     }
    }
   }
  }
 },
 "nbformat": 4,
 "nbformat_minor": 4
}
