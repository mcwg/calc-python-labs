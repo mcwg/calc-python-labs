{
  "nbformat": 4,
  "nbformat_minor": 0,
  "metadata": {
    "colab": {
      "provenance": []
    },
    "kernelspec": {
      "name": "python3",
      "display_name": "Python 3"
    },
    "language_info": {
      "name": "python"
    }
  },
  "cells": [
    {
      "cell_type": "markdown",
      "metadata": {
        "id": "d8538825-184f-4fb8-878d-0c239eea11fa"
      },
      "source": [
        "[![Open In Colab](https://colab.research.google.com/assets/colab-badge.svg)](https://colab.research.google.com/github/mcwg/calc-python-labs/blob/main/Lab2-Plotting-and-Solving-Equations.ipynb)\n"
      ]
    },
    {
      "cell_type": "markdown",
      "source": [
        "<a name=\"intro\"></a>\n",
        "# Python Lab 2: Plotting Functions and Solving Equations\n",
        "\n",
        "\n",
        "---\n",
        "\n",
        "\n",
        "The learning objectives are to use Python to:\n",
        "\n",
        "- Evaluate mathematical expressions using functions in the NumPy library.\n",
        "- Define mathematical functions.\n",
        "- Plot functions.\n",
        "- Solve equations.\n",
        "\n"
      ],
      "metadata": {
        "id": "OCyzDPhzHD66"
      }
    },
    {
      "cell_type": "markdown",
      "source": [
        "<a name=\"save\"></a>\n",
        "## Saving Your Work to a Colab Notebook\n",
        "\n",
        "---\n",
        "\n",
        "This lab is a shared Colab notebook available for anyone to view. However, since everyone is sharing this notebook, you do not have permission to save changes to this shared Colab notebook. In order to save your work:\n",
        "\n",
        "1. You will need to set up a free Google Drive account. If you already have a Google Drive account, you are ready to go!\n",
        "2. Click the `Copy to Drive` button to the right of the `+ Code` and `+ Text` buttons on top of the notebook.\n",
        "3. Select from the menu `File/Save a Copy in Drive`.\n",
        "  - By default, the notebook will be saved in a folder named **Colab Notebooks** in your Drive.\n",
        "  - Feel free to rename and store the notebook wherever you like.\n"
      ],
      "metadata": {
        "id": "XQYAZYMYHani"
      }
    },
    {
      "cell_type": "markdown",
      "source": [
        "# Importing Required Libraries\n",
        "\n",
        "---\n",
        "\n",
        "Recall our previous introduction to the [NumPy](https://numpy.org/doc/stable/) library in [Python Lab 1](https://githubtocolab.com/mcwg/calc-python-labs/blob/main/Lab1-Getting-Started-with-Colab-Python.ipynb). The NumPy library contains functions for calculating most mathematical functions. See [NumPy help documentation](https://numpy.org/doc/stable/reference/routines.math.html) for a full list of functions available in NumPy.\n",
        "\n",
        "- Before we can access any files in a library, we must first `import` the library.\n",
        "- In the code cell below we import the NumPy library with the abbreviation `np`.\n",
        "  - We now use `np` to call in functions and modules stored in NumPy.\n",
        "- We also import the `matplotlib.pyplot` library with the abbreviation `plt` that we will use later in this lab to plot functions.\n",
        "- Lastly, we import the `fsolve` function from the `scipy` library that we will use to solve equations.\n",
        "\n",
        "**Run the code cell below to import all required libraries and functions used in this lab.**\n"
      ],
      "metadata": {
        "id": "-Dkn8NnY7bAd"
      }
    },
    {
      "cell_type": "code",
      "source": [
        "###################################\n",
        "# Run to import required libraries\n",
        "###################################\n",
        "import numpy as np  # import numpy\n",
        "import matplotlib.pyplot as plt  # import matplotlib.pyplot\n",
        "from scipy.optimize import fsolve  # import fsolve from scipy.optimize"
      ],
      "metadata": {
        "id": "a9OkxXmNvEo_"
      },
      "execution_count": null,
      "outputs": []
    },
    {
      "cell_type": "markdown",
      "source": [
        "<a name=\"how-often\"></a>\n",
        "## How Often Do We Need to Import Libraries?\n",
        "---\n",
        "\n",
        "After importing a library for the first time, we can now access functions in the library in any code cell we run, regardless of where the code cell is located in the notebook. Thus, we only need to run the command `import numpy as np` once, and then we can continue calling in NumPy functions (with the abbreviation `np`) for as long as the session remains active. If you take a break while working in Colab, your session may *time out* and disconnect.\n",
        "\n",
        "- We need to import libraries one time after opening a notebook or reconnecting after timing out.\n",
        "- We do not need to import the library again unless we take a break and the connection times out.\n"
      ],
      "metadata": {
        "id": "2H0VzX3PaPtV"
      }
    },
    {
      "cell_type": "markdown",
      "source": [
        "<a name=\"q1\"></a>\n",
        "# Question 1\n",
        "---\n",
        "\n",
        "Use the code cell below to calculate and display the value of $e^3$. Confirm the result is approximately $20.0855$.\n",
        "\n",
        "- *Hint: You will need to use a function stored in the NumPy library.*"
      ],
      "metadata": {
        "id": "CKD88vnLjX_o"
      }
    },
    {
      "cell_type": "code",
      "source": [
        "#########################\n",
        "# Solution to Question 1\n",
        "#########################\n"
      ],
      "metadata": {
        "id": "9IqUgfeEKbBD"
      },
      "execution_count": null,
      "outputs": []
    },
    {
      "cell_type": "markdown",
      "source": [
        "<a name=\"def-func\"></a>\n",
        "# Defining Functions in Python\n",
        "---\n",
        "\n",
        "A [Python function](https://www.w3schools.com/python/python_functions.asp) is a reusable block of code that performs a certain task. Like a mathematical function, a Python function is a rule that generates a unique output from a set of inputs. We can define mathematical functions with a Python function, but Python functions can be used to define more general tasks.\n",
        "\n",
        "For example, we can define the function\n",
        "\n",
        "$$f(x) = 2 + \\sqrt{x}$$\n",
        "\n",
        "using a Python function named `f` with input `x` that is assigned the output `2 + np.sqrt(x)` with the code cell below.\n",
        "\n",
        "- Python functions begin with the keyword `def`.\n",
        "- Next we give the function a name. We name our function `f`.\n",
        "- Then inside a set of parentheses we indicate the name of the input(s). We have one input we name `x`.\n",
        "- Use a colon `:` after closing the parentheses around the input(s). By default, each line of code in the function is indented.\n",
        "- The function is ended by `return [mathematical expression]`."
      ],
      "metadata": {
        "id": "BvxST4Q6HVCl"
      }
    },
    {
      "cell_type": "code",
      "source": [
        "###########################################\n",
        "# be sure you have already imported numpy\n",
        "###########################################\n",
        "def f(x):  # function name is f with one input x\n",
        "  return 2 + np.sqrt(x)  # statement that assigns output"
      ],
      "metadata": {
        "id": "gTIL6Ul-HH1w"
      },
      "execution_count": null,
      "outputs": []
    },
    {
      "cell_type": "markdown",
      "source": [
        "<a name=\"eval\"></a>\n",
        "# Evaluating Functions\n",
        "\n",
        "---\n",
        "\n",
        "After defining a Python function, we can call the function by its name to compute the output that is assigned to a given input. Entering the command `f(0)` evaluates the expression `2 + np.sqrt(0)`."
      ],
      "metadata": {
        "id": "nH5uq216Hwx-"
      }
    },
    {
      "cell_type": "code",
      "source": [
        "f(0)  # f(0) = 2 + np.sqrt(0)"
      ],
      "metadata": {
        "colab": {
          "base_uri": "https://localhost:8080/"
        },
        "id": "xNfdSc1PH7DQ",
        "outputId": "4277b53c-0497-42ce-efc7-5108f57c2215"
      },
      "execution_count": null,
      "outputs": [
        {
          "output_type": "execute_result",
          "data": {
            "text/plain": [
              "2.0"
            ]
          },
          "metadata": {},
          "execution_count": 4
        }
      ]
    },
    {
      "cell_type": "markdown",
      "source": [
        "<a name=\"q2\"></a>\n",
        "# Question 2\n",
        "---\n",
        "\n",
        "Let $f(x) = 2 + \\sqrt{x}$. If possible, calculate the values of $f(1)$, $f(9)$, and $f(-1)$ without using a calculator or computer. Then check your answers using the Python function `f(x)` defined above.\n",
        "\n",
        "- First enter the values in the in the text cell below without using a calculator or computer to perform the calculations.\n",
        "- Then check your answers by completing the three code cells below the text cell.\n",
        "\n",
        "<br>  \n",
        "\n",
        "*Hint: Be sure you have already defined the function `f(x)` before completing the code cells below.*\n",
        "\n"
      ],
      "metadata": {
        "id": "RyyCqILpu25q"
      }
    },
    {
      "cell_type": "markdown",
      "source": [
        "## Solution to Question 2\n",
        "\n",
        "---\n",
        "\n",
        "Replace each <mark>??</mark> with a value. If the function is not defined, then type *undefined*. Then complete the code cells below to check your answers.\n",
        "\n",
        "<br>  \n",
        "\n",
        "$f(1) =$ <mark>??</mark>\n",
        "\n",
        "<br>  \n",
        "\n",
        "$f(9) =$  <mark>??</mark>\n",
        "\n",
        "<br>  \n",
        "\n",
        "$f(-1) =$ <mark>??</mark>\n",
        "\n",
        "<br>  \n",
        "<br>  \n"
      ],
      "metadata": {
        "id": "u0OWXHUJBF5M"
      }
    },
    {
      "cell_type": "code",
      "source": [
        "# Complete the code to compute f(1).\n",
        "f(??)"
      ],
      "metadata": {
        "id": "uIQBLZF8vMvg"
      },
      "execution_count": null,
      "outputs": []
    },
    {
      "cell_type": "code",
      "source": [
        "# Complete the code to compute f(9).\n",
        "f(??)"
      ],
      "metadata": {
        "id": "Xib6J_NavX1Q"
      },
      "execution_count": null,
      "outputs": []
    },
    {
      "cell_type": "code",
      "source": [
        "# Complete the code to compute f(-1).\n",
        "f(??)"
      ],
      "metadata": {
        "id": "qwYgL_7MvYV9"
      },
      "execution_count": null,
      "outputs": []
    },
    {
      "cell_type": "markdown",
      "source": [
        "<a name=\"q3\"></a>\n",
        "# Question 3\n",
        "\n",
        "---\n",
        "\n",
        "The population of a country is $1.5$ million in 2020 and is increasing with a continuous growth rate of 3% per year. Let $p(t)$ denote the population of the country (in millions) $t$ years after 2020.\n",
        "\n",
        "\n"
      ],
      "metadata": {
        "id": "H4vAyDchs5Vh"
      }
    },
    {
      "cell_type": "markdown",
      "source": [
        "<a name=\"q3a\"></a>\n",
        "## Question 3a\n",
        "---\n",
        "\n",
        "Give a formula for $p(t)$ in the text cell below.\n",
        "\n"
      ],
      "metadata": {
        "id": "9MOjlGgkT_OU"
      }
    },
    {
      "cell_type": "markdown",
      "source": [
        "### Solution to Question 3a\n",
        "\n",
        "---\n",
        "\n",
        "Replace each ?? in the formula below with an appropriate value.\n",
        "\n",
        "$$p(t) =  ??   e^{  ??   t }$$"
      ],
      "metadata": {
        "id": "6dFc26DO9OUx"
      }
    },
    {
      "cell_type": "markdown",
      "source": [
        "<a name=\"q3b\"></a>\n",
        "## Question 3b\n",
        "---\n",
        "\n",
        "\n",
        "If the population continues to grow with a continuous growth rate of 3% per year, what is the country's predicted population in 2030?\n",
        "\n",
        "<br>  \n",
        "\n",
        "Complete and run the code cell below to answer the question. Then interpret output of the code in the text cell that follows.\n",
        "\n",
        "<br>  \n",
        "\n",
        "*Hint: Use a NumPy function to compute the exponential term.*\n"
      ],
      "metadata": {
        "id": "6LvSojcRVlmL"
      }
    },
    {
      "cell_type": "code",
      "source": [
        "#############################################################################\n",
        "# Solution to Question 3b\n",
        "# Enter mathematical operations to compute the predicted population in 2030.\n",
        "#############################################################################\n"
      ],
      "metadata": {
        "id": "uy8litoDCUJd"
      },
      "execution_count": null,
      "outputs": []
    },
    {
      "cell_type": "markdown",
      "source": [
        "### Solution to Question 3b\n",
        "\n",
        "---\n",
        "\n",
        "Based on the output of the previous code cell, what is the predicted population in 2030?\n",
        "\n",
        "<br>  \n",
        "\n",
        "In 2030, the country's population is predicted to be <mark>??</mark>.\n",
        "\n",
        "<br>\n",
        "<br>"
      ],
      "metadata": {
        "id": "Z5FHQwP70ybI"
      }
    },
    {
      "cell_type": "markdown",
      "source": [
        "<a name=\"q3c\"></a>\n",
        "## Question 3c\n",
        "\n",
        "---\n",
        "\n",
        "In what year is the country's population expected to reach $2.5$ million people?\n",
        "\n",
        "\n",
        "- First set up an equation and solve for $t$ without using a calculator or computer. You do not need to show that work.\n",
        "- Then use the code cell below to compute the value of $t$ as a decimal.\n",
        "- Finally, interpert the output of the code cell in the text cell that follows.\n",
        "\n",
        "<br>  \n",
        "\n",
        "*Hint: Use the function `np.log()` for the natural log when computing the value of $t$.*"
      ],
      "metadata": {
        "id": "p_UeT5G0UkLX"
      }
    },
    {
      "cell_type": "code",
      "source": [
        "########################################################################\n",
        "# Solution to Question 3c\n",
        "# Enter mathematical operations to compute the value of t as a decimal.\n",
        "########################################################################\n"
      ],
      "metadata": {
        "id": "I_fpGo8737Jq"
      },
      "execution_count": null,
      "outputs": []
    },
    {
      "cell_type": "markdown",
      "source": [
        "### Solution to Question 3c\n",
        "\n",
        "----\n",
        "\n",
        "Based on the output of the previous code cell, in what year is the population predicted to reach $2.5$ million?\n",
        "\n",
        "<br>\n",
        "\n",
        "The country's population is predicted to reach $2.5$ million in the year <mark>??</mark>.\n",
        "\n",
        "\n",
        "<br>  \n",
        "<br>  "
      ],
      "metadata": {
        "id": "GvbW4nkvHs35"
      }
    },
    {
      "cell_type": "markdown",
      "source": [
        "<a name=\"q3d\"></a>\n",
        "## Question 3d\n",
        "\n",
        "---\n",
        "\n",
        "\n",
        "Use the first code cell below to define a Python function `p(t)` that gives the country's population $t$ years after 2020. Then in the second code cell, use the function `p(t)` to check your prediction in [Question 3b](#q3b).\n",
        "\n",
        "<br>\n",
        "\n",
        "*Hint: In the code cell below, we use `p` for the output and `t` for the input. Use the function `np.exp()` when defining `p(t)`.*\n"
      ],
      "metadata": {
        "id": "djpWzu4yUQ3u"
      }
    },
    {
      "cell_type": "code",
      "source": [
        "##########################\n",
        "# Solution to Question 3d\n",
        "##########################\n",
        "def p(t):\n",
        "  return ??  # replace ?? with an expression that assigns the output of p(t)"
      ],
      "metadata": {
        "id": "l6ICTsmzCkgu"
      },
      "execution_count": null,
      "outputs": []
    },
    {
      "cell_type": "code",
      "source": [
        "#################################\n",
        "# Replace ?? with a value for t.\n",
        "#################################\n",
        "p(??)  # compute the predicted population in 2030"
      ],
      "metadata": {
        "id": "BcM8prH7DJwG"
      },
      "execution_count": null,
      "outputs": []
    },
    {
      "cell_type": "markdown",
      "source": [
        "<a name=\"plot\"></a>\n",
        "# Plotting Functions with `matplotlib.pyplot`\n",
        "\n",
        "---\n",
        "\n",
        "The Python library [Matplotlib](https://matplotlib.org/) contains a library of scripts for creating visualizations, such as plotting functions. In the first code cell below we import the `matplotlib.pyplot` library with the abbreviation `pyplot`.\n",
        "\n",
        "- *If you have already imported the `matplotlib.pyplot` library in the first code cell of this lab, you do not need to run the first code cell below.*\n",
        "\n",
        "\n",
        "In the second code cell below, we plot the function $f(x) = 2 + \\sqrt{x}$  we previously stored with the name `f(x)` using the following steps\n",
        "\n",
        "1. We define an array of inputs `x` where we plot values of the function.\n",
        "  - `np.linspace(0, 10, 1000)` picks 1000 input values equally spaced between $x=0$ and $x=10$.\n",
        "  - Changing the number of values we pick can make the graph appear more or less smooth.\n",
        "2. The command `plt.plot(x, f(x))` plots a smooth curve through the 1000 points, one output `f(x)` for each input value stored in `x`.\n",
        "3. Additional plotting options are described with comments in the code cell below.\n",
        "\n",
        "See [`pyplot` documentation](https://matplotlib.org/stable/api/pyplot_summary.html) for more details on plotting options such as changing the color, line style, viewing window, and more.\n",
        "\n",
        "<br>  \n",
        "\n",
        "*Note: Be sure you have already [defined the function `f(x)`](#def-func) in a previous code cell before running the code cell to graph $y= f(x)$.*\n"
      ],
      "metadata": {
        "id": "JyODmkZZmcwf"
      }
    },
    {
      "cell_type": "code",
      "source": [
        "######################################################\n",
        "# Run code cell if you need to import library\n",
        "# Note: If the library has already been imported\n",
        "# in this session, you do not need to import it again\n",
        "######################################################\n",
        "import matplotlib.pyplot as plt  # import library for plotting"
      ],
      "metadata": {
        "id": "vBj9UcocIR84"
      },
      "execution_count": null,
      "outputs": []
    },
    {
      "cell_type": "code",
      "source": [
        "###############\n",
        "# Graph y=f(x)\n",
        "###############\n",
        "x = np.linspace(0, 10, 1000)  # pick 1000 evenly spaced x-values from x=0 to x=10\n",
        "\n",
        "plt.plot(x, f(x))  # plot each point (x, f(x))\n",
        "\n",
        "###############\n",
        "# Plot options\n",
        "###############\n",
        "plt.xlabel('x')  # label on the x-axis\n",
        "plt.ylabel('y')  # label on the y-axis\n",
        "plt.ylim((0, 6))  # set limits on y-axis\n",
        "plt.grid(True)  # include a grid on the plot\n",
        "\n",
        "# Display the plot\n",
        "plt.show()"
      ],
      "metadata": {
        "colab": {
          "base_uri": "https://localhost:8080/",
          "height": 455
        },
        "id": "B9ZH00effzYP",
        "outputId": "ef79e46d-71ee-46b7-d5d9-2daca21c2d40"
      },
      "execution_count": null,
      "outputs": [
        {
          "output_type": "display_data",
          "data": {
            "text/plain": [
              "<Figure size 640x480 with 1 Axes>"
            ],
            "image/png": "[encoded data removed]"
          },
          "metadata": {}
        }
      ]
    },
    {
      "cell_type": "markdown",
      "source": [
        "<a name=\"q4\"></a>\n",
        "# Question 4\n",
        "---\n",
        "\n",
        "Plot the population model $p(t)$ from [Question 3](#q3) and verify your solution to [Question 3c](#q3c) (when the population is predicted to reach $2.5$ million).\n",
        "\n",
        "\n",
        "<br>  \n",
        "\n",
        "*Hint: Use the Python function `p(t)` you defined in your solution to [Question 3d](#q3d). Be sure Be sure you have already imported both the `numpy` and `matplotlib.pyplot` libraries.*"
      ],
      "metadata": {
        "id": "nuB1H_Ycmgyo"
      }
    },
    {
      "cell_type": "code",
      "source": [
        "#########################\n",
        "# Solution to Question 4\n",
        "#########################\n",
        "\n",
        "#####################################################################\n",
        "# Replace ?? with a value to set the t values of the plotted points.\n",
        "#####################################################################\n",
        "t = np.linspace(0, ??, 1000)  # t values where outputs p(t) will be computed\n",
        "\n",
        "################################\n",
        "# Replace each ?? to plot p(t).\n",
        "################################\n",
        "plt.plot(??, ??)  # function that will be plotted\n",
        "\n",
        "######################################################\n",
        "# Replace each ?? with a value to set viewing window.\n",
        "######################################################\n",
        "plt.xlim((0, ??))  # set limits on x-axis\n",
        "plt.ylim((0, ??))  # set limits on y-axis\n",
        "\n",
        "################################################################\n",
        "# No further edits required in the rest of the code cell below.\n",
        "################################################################\n",
        "\n",
        "########################################################################\n",
        "# Add dashed vertical and horizontal lines to visualize the prediction.\n",
        "########################################################################\n",
        "plt.hlines(y=2.5, xmin=0, xmax=17.02752, color='red', linestyle='dashed')  # horizontal line y=2.5\n",
        "plt.vlines(x=17.02752, ymin=0, ymax=2.5, color='green', linestyle='dotted')  # vertical at solution\n",
        "\n",
        "############################################################\n",
        "# Plot options\n",
        "# Feel free to experiment with additional plotting options.\n",
        "############################################################\n",
        "plt.xlabel('t (years since 2020)')  # label on the x-axis\n",
        "plt.ylabel('p (millions of people)')  # label on the y-axis\n",
        "plt.grid(True)  # include a grid in the plot\n",
        "\n",
        "# Display the plot\n",
        "plt.show()"
      ],
      "metadata": {
        "id": "VE-kQLS37SIp"
      },
      "execution_count": null,
      "outputs": []
    },
    {
      "cell_type": "markdown",
      "source": [
        "<a name=\"q5\"></a>\n",
        "# Question 5: Malthusian Catastrophe\n",
        "---\n",
        "\n",
        "[Thomas Robert Malthus](https://en.wikipedia.org/wiki/Thomas_Robert_Malthus) (13 February 1766 - 23 December 1834) was an English political economist and demographer. He expressed views on population growth and noted the potential for populations to increase rapidly, and often faster than the food supply available to them. This scenario, outlined in his treatise [*An Essay on the Principle of Population*](https://oll.libertyfund.org/titles/malthus-an-essay-on-the-principle-of-population-vol-1-1826-6th-ed), is today known as a [Malthusian catastrophe](https://en.wikipedia.org/wiki/Malthusianism#:~:text=This%20event%2C%20called%20a%20Malthusian,resulting%20in%20poverty%20and%20depopulation.).\n",
        "\n",
        "<br>  \n",
        "\n",
        "Suppose the country's population from [Question 3](#q3) has a food supply in 2020 that can feed $2$ million people, and the food production level increases so that it can feed an additional $100,\\!000$ people each year.\n"
      ],
      "metadata": {
        "id": "Z9cX5PS0l1O5"
      }
    },
    {
      "cell_type": "markdown",
      "source": [
        "<a name=\"q5a\"></a>\n",
        "## Question 5a\n",
        "\n",
        "---\n",
        "\n",
        "Give a formula for $g(t)$, the number of people (in millions) that can be fed from the food supply $t$ years after 2020.\n",
        "\n",
        "<br>  \n",
        "\n",
        "*Hint: Be sure to convert units so $g(t)$ is in millions.*\n",
        "\n"
      ],
      "metadata": {
        "id": "5hXFFkOCX8VD"
      }
    },
    {
      "cell_type": "markdown",
      "source": [
        "### Solution to Question 5a\n",
        "\n",
        "---\n",
        "\n",
        "Replace $b$ and $m$ with appropriate values in the formula below.\n",
        "\n",
        "\n",
        "$$g(t) = b  + m t $$\n",
        "\n",
        "<br>\n",
        "<br>"
      ],
      "metadata": {
        "id": "PlJLyrpD08j1"
      }
    },
    {
      "cell_type": "markdown",
      "source": [
        "<a name=\"q5b\"></a>\n",
        "## Question 5b\n",
        "\n",
        "---\n",
        "\n",
        "Use the first code cell below to define a Python function `g(t)` that gives the number of people (in millions) that can be fed from the food supply $t$ years after 2020. Then in the second code cell, use the function `g(t)` to compute the food supply in 2030.  Interpret output of the code in the text cell that follows.\n",
        "\n",
        "<br>  \n",
        "\n",
        "*Hint: In the code cell below, use `g` for the output and `t` for the input.*\n",
        "\n"
      ],
      "metadata": {
        "id": "_jlVcYr4X8VQ"
      }
    },
    {
      "cell_type": "code",
      "source": [
        "##########################\n",
        "# Solution to Question 5b\n",
        "##########################\n",
        "def g(t):\n",
        "  return ??  # replace ?? with an expression that assigns the output of g(t)"
      ],
      "metadata": {
        "id": "Y16ApRLP3OHI"
      },
      "execution_count": null,
      "outputs": []
    },
    {
      "cell_type": "code",
      "source": [
        "#################################\n",
        "# Replace ?? with a value for t.\n",
        "#################################\n",
        "g(??)  # compute the predicted food supply in 2030"
      ],
      "metadata": {
        "id": "jzfZFzOD3VuB"
      },
      "execution_count": null,
      "outputs": []
    },
    {
      "cell_type": "markdown",
      "source": [
        "### Solution to Question 5b\n",
        "\n",
        "---\n",
        "\n",
        "Based on the output of the previous code cell, what is the predicted food supply in 2030? Indicate your answer by replacing the <mark>??</mark> in the sentence below with a value.\n",
        "\n",
        "<br>  \n",
        "\n",
        "In 2030, the country's food supply is predicted to support feeding <mark>??</mark> people.\n",
        "\n",
        "<br>\n",
        "<br>"
      ],
      "metadata": {
        "id": "Fw0ly3OrPObv"
      }
    },
    {
      "cell_type": "markdown",
      "source": [
        "<a name=\"q5c\"></a>\n",
        "## Question 5c\n",
        "\n",
        "---\n",
        "\n",
        "Is the country predicted to have enough food to support it's population in 2030? Explain why or why not in the text cell below.\n",
        "\n",
        "<br>  \n",
        "\n",
        "*Hint: Compare predictions [Question 3b](#q3b) and [Question 5b](#q5b).*\n"
      ],
      "metadata": {
        "id": "12KlJtl8QpYy"
      }
    },
    {
      "cell_type": "markdown",
      "source": [
        "### Solution to Question 5c\n",
        "\n",
        "---\n",
        "\n",
        "Type your answer in the space below and provide a supporting explanation of why or why not.\n",
        "\n",
        "\n",
        "\n",
        "\n",
        "\n",
        "<br>  \n",
        "<br>  \n",
        "\n"
      ],
      "metadata": {
        "id": "4j6foL1P12C8"
      }
    },
    {
      "cell_type": "markdown",
      "source": [
        "<a name=\"q5d\"></a>\n",
        "## Question 5d\n",
        "---\n",
        "\n",
        "Set up an equation that can be used to determine when the food supply will no longer be able to support the country's population.\n",
        "\n",
        "<br>  \n",
        "\n",
        "**Note: It is not possible to solve the equation using algebra.**\n"
      ],
      "metadata": {
        "id": "WcTGIidRO-Va"
      }
    },
    {
      "cell_type": "markdown",
      "source": [
        "### Solution to Question 5d\n",
        "\n",
        "---\n",
        "\n",
        "Type an equation in the space below.\n",
        "\n",
        "\n",
        "\n",
        "\n",
        "<br>  \n",
        "<br>  \n"
      ],
      "metadata": {
        "id": "sE2YjJp25j1I"
      }
    },
    {
      "cell_type": "markdown",
      "source": [
        "<a name=\"q5e\"></a>\n",
        "## Question 5e\n",
        "---\n",
        "\n",
        "Although we cannot solve the equation in [Question 5d](#q5d) using algebra, we can find an approximate solution by guessing, checking, and adjusting our guess. Try substituting in different values for `t` into `p(t)` and `g(t)` to estimate when the food supply will no longer be able to support the entire population.\n",
        "\n",
        "<br>\n",
        "\n",
        "After experimenting with the code cells below, type your answer in the text cell that follows.\n",
        "\n",
        "<br>  \n",
        "\n",
        "*Hint: Be sure you have already defined Python functions `p(t)` in [Question 3](#q3) and `g(t)` in [Question 5b](#q5b).*\n"
      ],
      "metadata": {
        "id": "hHTZI4KIX8VR"
      }
    },
    {
      "cell_type": "code",
      "source": [
        "##########################\n",
        "# Solution to Question 5e\n",
        "##########################\n",
        "\n",
        "###########################################################\n",
        "# Replace the ?? with the value of an initial guess for t.\n",
        "# Then adjust the guess, rerun the code cell, and repeat\n",
        "# until you have the identified the solution.\n",
        "############################################################\n",
        "guess = ??  # guess the value of t and adjust as needed\n",
        "\n",
        "pop = p(guess)  # predicted population\n",
        "food = g(guess)  # predicted food supply\n",
        "\n",
        "print(\"The predicted population is\", pop, \"million people.\"  # print population prediction\n",
        "      \"\\nThe food supply is predicted to support feeding\", food, \"million people.\")  # print food prediction"
      ],
      "metadata": {
        "id": "_Q-pEacPRDzQ"
      },
      "execution_count": null,
      "outputs": []
    },
    {
      "cell_type": "markdown",
      "source": [
        "### Solution to Question 5e\n",
        "\n",
        "---\n",
        "\n",
        "The food supply will no longer support the population when $t$ is between $t=$ <mark>??</mark> and $t=$ <mark>??</mark> years after 2020.\n",
        "\n",
        "\n",
        "\n",
        "<br>  \n",
        "<br>  \n"
      ],
      "metadata": {
        "id": "i64Taa707J5t"
      }
    },
    {
      "cell_type": "markdown",
      "source": [
        "<a name=\"q5f\"></a>\n",
        "## Question 5f\n",
        "\n",
        "---\n",
        "\n",
        "Complete the code cell below to generate a plot of both the food supply and population on the same set of axes to verify your solution in [Question 5e](#q5e).\n",
        "\n",
        "\n"
      ],
      "metadata": {
        "id": "Wgrs5BXKZx0D"
      }
    },
    {
      "cell_type": "code",
      "source": [
        "##########################\n",
        "# Solution to Question 5f\n",
        "##########################\n",
        "\n",
        "#####################################################################\n",
        "# Replace ?? with a value to set the t values of the plotted points.\n",
        "#####################################################################\n",
        "t = np.linspace(0, ??, 1000)  # t values where outputs p(t) will be computed\n",
        "\n",
        "#########################################\n",
        "# Replace each ?? to plot p(t) and g(t).\n",
        "#########################################\n",
        "plt.plot(??, ??, label = 'population')  # plot p(t)\n",
        "plt.plot(??, ??, label = 'food supply')  # plot g(t)\n",
        "\n",
        "######################################################\n",
        "# Replace each ?? with a value to set viewing window.\n",
        "######################################################\n",
        "plt.xlim((0, ??))  # set limits on x-axis\n",
        "plt.ylim((0, ??))  # set limits on y-axis\n",
        "\n",
        "################################################################\n",
        "# No further edits required in the rest of the code cell below.\n",
        "################################################################\n",
        "\n",
        "############################################################\n",
        "# Plot options\n",
        "# Feel free to experiment with additional plotting options.\n",
        "############################################################\n",
        "plt.xlabel('t (years since 2020)')  # label on the x-axis\n",
        "plt.ylabel('number of people (in millions)')  # label for the y-axis\n",
        "plt.grid(True)  # include a grid in the plot\n",
        "plt.legend()  # add legend with specified labels\n",
        "\n",
        "# Display the plot\n",
        "plt.show()"
      ],
      "metadata": {
        "id": "0NGhrgr2SsaY"
      },
      "execution_count": null,
      "outputs": []
    },
    {
      "cell_type": "markdown",
      "source": [
        "<a name=\"solve-eq\"></a>\n",
        "# Solving Equations with SciPy\n",
        "---\n",
        "\n",
        "The [SciPy](https://docs.scipy.org/doc/scipy/tutorial/index.html#user-guide) library in Python has algorithms for solving equations. In particular, the `fsolve` function in the `optimize` package can be used to find numeric solutions to equations. For example, in order to predict when the food supply will no longer support the country's population, we would like to solve the equation\n",
        "\n",
        "$$1.5e^{0.03t} = 2 + 0.1t.$$\n",
        "\n",
        "Although we cannot find an exact solution using algebraic methods, we can use the `fsolve` function to find a numeric solution. First, we import the function `fsolve` from the `scipy.optimize` library.\n",
        "\n",
        "- *If you have already imported the `fsolve` function in the first code cell of this lab, you do not need to run the first code cell below.*\n",
        "\n"
      ],
      "metadata": {
        "id": "8gsnUS-7JOR_"
      }
    },
    {
      "cell_type": "code",
      "source": [
        "####################################################\n",
        "# Run code cell if you need to import function.\n",
        "# Note: If the function has already been imported\n",
        "# in this session, you do not need to import again.\n",
        "####################################################\n",
        "from scipy.optimize import fsolve  # import fsolve from scipy.optimize"
      ],
      "metadata": {
        "id": "yZG2sA5XJQa1"
      },
      "execution_count": null,
      "outputs": []
    },
    {
      "cell_type": "markdown",
      "source": [
        "<a name=\"define-eq\"></a>\n",
        "\n",
        "The function `fsolve` solves equations that are **set equal to 0**. The function `fsolve` has two required inputs.\n",
        "\n",
        "1. We define the `equation` we would like to solve for when it is equal to 0.\n",
        "  - Thus, we need to first rewrite $p(t) = g(t)$ equivalently as $p(t) - g(t) = 0$.\n",
        "  - We define a Python function `equation(t)` as `p(t) - g(t)`.\n",
        "  - We do not include the `= 0` when entering the equation into the `fsolve` function since it assumes the equation is set equal to 0.\n",
        "  - We enter `equation` into `fsolve`, not `equation(t)`. Do not include the `(t)` notation.\n",
        "2. Provide a value for the `initial_guess`.\n",
        "\n",
        "The command `fsolve(equation, initial_guess)` finds a numeric solution.\n"
      ],
      "metadata": {
        "id": "j1_IHPG0e4E1"
      }
    },
    {
      "cell_type": "code",
      "source": [
        "###########################################################\n",
        "# Be sure you have already defined functions p(t) and g(t)\n",
        "###########################################################\n",
        "def equation(t):\n",
        "    return p(t) - g(t)  # define equation that is equal to 0\n",
        "\n",
        "initial_guess = 10  # provide initial guess\n",
        "\n",
        "fsolve(equation, initial_guess)  # find a possible solution"
      ],
      "metadata": {
        "id": "9Ts-iHQKig7X"
      },
      "execution_count": null,
      "outputs": []
    },
    {
      "cell_type": "markdown",
      "source": [
        "## Identifying Multiple Solutions\n",
        "\n",
        "---\n",
        "\n",
        "The `fsolve` function does not find **all** possible solutions. The algorithm identifies only one possible solution. Thus, when there are multiple solutions to an equation, the value of the `initial_guess` determines which solution `fsolve` identifies. The output of the previous code cell gives the solution at $t=-8.3097$. In this context, a negative solution does not make practical sense.\n",
        "\n",
        "<br>  \n",
        "\n",
        "Run the code cell below to generate a single plot with both graphs `f(t)` (population) and `g(t)` (food supply) that shows multiple solutions to the equation $p(t)=g(t)$.\n",
        "\n",
        "<br>  \n",
        "\n",
        "*Note: You do not need to edit the code cell below. Simply run the code cell below to generate a plot.*\n"
      ],
      "metadata": {
        "id": "N8OR4etEXaEU"
      }
    },
    {
      "cell_type": "code",
      "source": [
        "###########################################################\n",
        "# Run code cell to generate plot of both f(t) (popluation)\n",
        "# and g(t) (food supply).\n",
        "# You do not need to edit any commands in this code cell.\n",
        "###########################################################\n",
        "\n",
        "#######################################\n",
        "# Add graph of both functions to plot.\n",
        "#######################################\n",
        "t = np.linspace(-15, 60, 1000)  # t values where points will be plotted\n",
        "plt.plot(t, p(t), label = 'population')  # plot p(t)\n",
        "plt.plot(t, g(t), label = 'food supply')  # plot g(t)\n",
        "\n",
        "###############\n",
        "# Plot options\n",
        "###############\n",
        "plt.xlim((-15, 60))  # set limits on y-axis\n",
        "plt.ylim((0, 9))  # set limits on y-axis\n",
        "plt.xlabel('t (years since 2020)')  # label on the x-axis\n",
        "plt.ylabel('number of people (in millions)')  # label on the y-axis\n",
        "plt.grid(True)  # include a grid on the plot\n",
        "plt.legend()  # add legend with specified labels\n",
        "\n",
        "# Display the plot\n",
        "plt.show()  # show the plot on the screen"
      ],
      "metadata": {
        "id": "N7WDiKkgY15m",
        "colab": {
          "base_uri": "https://localhost:8080/",
          "height": 455
        },
        "outputId": "f28a8b30-1545-4241-8108-5d99243d48bf"
      },
      "execution_count": null,
      "outputs": [
        {
          "output_type": "display_data",
          "data": {
            "text/plain": [
              "<Figure size 640x480 with 1 Axes>"
            ],
            "image/png": "[encoded data removed]"
          },
          "metadata": {}
        }
      ]
    },
    {
      "cell_type": "markdown",
      "source": [
        "<a name=\"q6\"></a>\n",
        "# Question 6\n",
        "---\n",
        "\n",
        "Adjust the `initial_guess` in the code cell below to identify when the size of the population is predicted to equal the food supply. Then interpret the output of the code cell by typing a solution in the text cell that follows.\n",
        "\n",
        "<br>  \n",
        "\n",
        "*Hint: Be sure you have already [defined the Python function `equation(t)`](#define-eq) in a previous code cell before running the code cell below.*\n",
        "\n",
        "\n"
      ],
      "metadata": {
        "id": "vaeOa38Vni5q"
      }
    },
    {
      "cell_type": "code",
      "source": [
        "#########################\n",
        "# Solution to Question 6\n",
        "#########################\n",
        "initial_guess = ??  # replace ?? with a value to improve the initial guess\n",
        "fsolve(equation, initial_guess)"
      ],
      "metadata": {
        "id": "vOYZyCnhYpsG"
      },
      "execution_count": null,
      "outputs": []
    },
    {
      "cell_type": "markdown",
      "source": [
        "## Solution to Question 6\n",
        "\n",
        "---\n",
        "\n",
        "Indicate your answer by replacing <mark>??</mark> with a value rounded to three decimal places.\n",
        "\n",
        "\n",
        "<br>\n",
        "\n",
        "The population is predicted to the equal the food supply when $t =$ <mark>??</mark>.\n",
        "\n",
        "<br>  \n",
        "<br>  "
      ],
      "metadata": {
        "id": "p7eaC9lqbXPo"
      }
    },
    {
      "cell_type": "markdown",
      "source": [
        "<a name=\"q7\"></a>\n",
        "# Question 7\n",
        "\n",
        "---\n",
        "\n",
        "In 2024, the average monthly rent <sup>1</sup> for a one-bedroom apartment in Portland, Oregon is $\\$1,\\!500$. Suppose rent is increasing by $4\\%$ each year.\n",
        "\n",
        "<br>  \n",
        "\n",
        "*Note: In case you are starting a new Python session, run the code cell below to import the required packages to answer the questions below.*\n",
        "\n",
        "<br>  \n",
        "\n",
        "1. Based on [\"Rental Market Trends\n",
        "in Portland, OR\"](https://www.apartments.com/rent-market-trends/portland-or/), accessed August 2, 2024."
      ],
      "metadata": {
        "id": "9AX6fLS57rRI"
      }
    },
    {
      "cell_type": "code",
      "source": [
        "###################################\n",
        "# Run to import required libraries\n",
        "###################################\n",
        "import numpy as np  # import numpy\n",
        "import matplotlib.pyplot as plt  # import matplotlib.pyplot\n",
        "from scipy.optimize import fsolve  # import fsolve from scipy.optimize"
      ],
      "metadata": {
        "id": "dF1ByKoUBw9n"
      },
      "execution_count": null,
      "outputs": []
    },
    {
      "cell_type": "markdown",
      "source": [
        "<a name=\"q7a\"></a>\n",
        "## Question 7a\n",
        "---\n",
        "\n",
        "Give a formula for $R(t)$, the average monthly rent of a one-bedroom apartment in Portland (in dollars) $t$ years after 2024.\n",
        "\n",
        "<br>  \n",
        "\n",
        "*Hint: The annual growth rate is 4%. Thus, use an exponential model of the form $R(t) = R_0 a^t$, where $a$ denotes the annual growth factor.*\n",
        "\n"
      ],
      "metadata": {
        "id": "nYVvZlIS963R"
      }
    },
    {
      "cell_type": "markdown",
      "source": [
        "### Solution to Question 7a\n",
        "\n",
        "---\n",
        "\n",
        "Replace each ?? in the formula below with an appropriate value.\n",
        "\n",
        "$$R(t) =  ??   ( ?? )^t$$"
      ],
      "metadata": {
        "id": "KvQO980e963c"
      }
    },
    {
      "cell_type": "markdown",
      "source": [
        "<a name=\"q7b\"></a>\n",
        "## Question 7b\n",
        "\n",
        "---\n",
        "\n",
        "\n",
        "Use the first code cell below to define a Python function `R(t)` that gives the average monthly rent of a one-bedroom apartment in Portland $t$ years after 2024.\n",
        "\n",
        "\n",
        "<br>\n",
        "\n",
        "*Hint: When entering the value 1,500 in your function, do not include the comma. Use `1500` for 1,500. Use the syntax `**` to raise to a power (not  `^`).*\n",
        "\n",
        "*Note: After completing and running the code cell below, no output will be displayed to the screen since the code defines `R(t)` but does not perform any computations with `R(t)`.*"
      ],
      "metadata": {
        "id": "DdadH_Kb963e"
      }
    },
    {
      "cell_type": "code",
      "source": [
        "##########################\n",
        "# Solution to Question 7b\n",
        "##########################\n",
        "def R(t):\n",
        "  return ??  # replace ?? with an expression that assigns the output of R(t)"
      ],
      "metadata": {
        "id": "vvOhapoQ963e"
      },
      "execution_count": null,
      "outputs": []
    },
    {
      "cell_type": "markdown",
      "source": [
        "<a name=\"q7c\"></a>\n",
        "## Question 7c\n",
        "\n",
        "---\n",
        "\n",
        "Use the function `R(t)` you defined in [Question 7b](#q7b) to predict the average monthly rent for a one-bedroom apartment in Portland in 2029.\n",
        "\n",
        "<br>  \n",
        "\n",
        "Complete and run the code cell below to answer the question. Then interpret output of the code in the text cell that follows.\n"
      ],
      "metadata": {
        "id": "8YtfQ6tr963c"
      }
    },
    {
      "cell_type": "code",
      "source": [
        "#################################\n",
        "# Solution to Question 7c\n",
        "#################################\n",
        "R(??)  # compute the predicted rent in 2029"
      ],
      "metadata": {
        "id": "GTCrVwJ5963e"
      },
      "execution_count": null,
      "outputs": []
    },
    {
      "cell_type": "markdown",
      "source": [
        "### Solution to Question 7c\n",
        "\n",
        "---\n",
        "\n",
        "Based on the output of the previous code cell, what is the predicted average monthly rent for a one-bedroom apartment in Portland in 2029? *Round your answer to the nearest cent.*\n",
        "\n",
        "<br>  \n",
        "\n",
        "In 2029, the average monthly is is predicted to be <mark>??</mark> dollars.\n",
        "\n",
        "<br>\n",
        "<br>"
      ],
      "metadata": {
        "id": "E5pIlUY9963d"
      }
    },
    {
      "cell_type": "markdown",
      "source": [
        "<a name=\"q7d\"></a>\n",
        "## Question 7d\n",
        "\n",
        "---\n",
        "\n",
        "In what year is the predicted average monthly rent for a one-bedroom apartment in Portland expected to be $\\$2,\\!000$?\n",
        "\n",
        "\n",
        "- First use the `fsolve` function to solve the question.\n",
        "- Then interpert the output of the code cell in the text cell that follows.\n",
        "\n",
        "<br>  \n",
        "\n",
        "*Hint: Recall `fsolve` assumes it is solving an equation equal to 0. Thus, you need to express $R(t) = 2000$ as an equivalent equation with left side equal to 0.*"
      ],
      "metadata": {
        "id": "xpruoFkH963d"
      }
    },
    {
      "cell_type": "code",
      "source": [
        "##########################\n",
        "# Solution to Question 7d\n",
        "##########################\n",
        "def rent_eq(t):\n",
        "    return R(t) - ??  # replace ?? with an appropriate value\n",
        "\n",
        "\n",
        "initial_guess = ??  # replace ?? with a value for the initial guess\n",
        "fsolve(rent_eq, initial_guess)"
      ],
      "metadata": {
        "id": "jy3LcA9aBsXW"
      },
      "execution_count": null,
      "outputs": []
    },
    {
      "cell_type": "markdown",
      "source": [
        "### Solution to Question 7d\n",
        "\n",
        "----\n",
        "\n",
        "Based on the output of the previous code cell, in what year is the average rent for a one-bedroom apartment in Portland predicted to by $\\$2,\\!000$?\n",
        "\n",
        "<br>\n",
        "\n",
        "The rent is predicted to reach $\\$2,\\!000$ in the year <mark>??</mark>.\n",
        "\n",
        "\n",
        "<br>  \n",
        "<br>  "
      ],
      "metadata": {
        "id": "IqIQnHQz963e"
      }
    },
    {
      "cell_type": "markdown",
      "source": [
        "<a name=\"q7e\"></a>\n",
        "## Question 7e\n",
        "\n",
        "---\n",
        "\n",
        "Plot the graph $y=R(t)$ and verify your solutions to [Question 7c](#q7c) and [Question 7d](#q7d).\n",
        "\n",
        "\n",
        "<br>  \n",
        "\n",
        "*Hint: Use the Python function `R(t)` you defined in your solution to [Question 7b](#q7b) to generate the plot.*"
      ],
      "metadata": {
        "id": "HWwLAo2SElHg"
      }
    },
    {
      "cell_type": "code",
      "source": [
        "##########################\n",
        "# Solution to Question 7e\n",
        "##########################\n",
        "\n",
        "t = np.linspace(0, 15, 1000)  # t values where outputs R(t) will be computed\n",
        "\n",
        "###########################################################\n",
        "# This is the only part of code that needs to be completed.\n",
        "# Replace each ?? to plot R(t).\n",
        "############################################################\n",
        "plt.plot(??, ??)  # function that will be plotted\n",
        "\n",
        "# Set viewing window\n",
        "plt.xlim((0, 15))  # set limits on x-axis\n",
        "plt.ylim((0, 3000))  # set limits on y-axis\n",
        "\n",
        "# Plot options\n",
        "# Feel free to experiment with additional plotting options.\n",
        "plt.title('Monthly Rent for One-Bedroom Apartment in Portland')  # main title\n",
        "plt.xlabel('t (years since 2024)')  # label on the x-axis\n",
        "plt.ylabel('Rent (in dollars)')  # label on the y-axis\n",
        "plt.xticks(np.arange(0, 16, step=1))  # set tickmarks on x-axis\n",
        "plt.grid(True)  # include a grid in the plot\n",
        "\n",
        "# Display the plot\n",
        "plt.show()"
      ],
      "metadata": {
        "id": "xQoUBnq0IM0w"
      },
      "execution_count": null,
      "outputs": []
    },
    {
      "cell_type": "markdown",
      "source": [
        "<a name=\"save-before\"></a>\n",
        "# Be Sure You Have Saved Your Work!\n",
        "---\n",
        "\n",
        "This lab is a shared Colab notebook available for anyone to view. However, since everyone is sharing this notebook, you do not have permission to save changes to this shared Colab notebook. In order to save your work:\n",
        "\n",
        "1. You will need to set up a free Google Drive account. If you already have a Google Drive account, you are ready to go!\n",
        "2. Click the `Copy to Drive` button to the right of the `+ Code` and `+ Text` buttons on top of the notebook.\n",
        "3. Select from the menu `File/Save a Copy in Drive`.\n",
        "  - By default, the notebook will be saved in a folder named **Colab Notebooks** in your Drive.\n",
        "  - Feel free to rename and store the notebook wherever you like.\n"
      ],
      "metadata": {
        "id": "iBmMPoh1CkEf"
      }
    },
    {
      "cell_type": "markdown",
      "source": [
        "<a name=\"lab1summary\"></a>\n",
        "# Code Summary\n",
        "\n",
        "---"
      ],
      "metadata": {
        "id": "CFY6cE2vVig7"
      }
    },
    {
      "cell_type": "markdown",
      "source": [
        "## Defining Functions in Python\n",
        "\n",
        "---\n"
      ],
      "metadata": {
        "id": "DnHpWMvfYXHH"
      }
    },
    {
      "cell_type": "code",
      "source": [
        "# Define the function f(x) = x^2 - 3x + 2\n",
        "def f(x):\n",
        "  return x**2 - 3*x + 2\n",
        "\n",
        "# evaluate f at x=4:\n",
        "f(4)"
      ],
      "metadata": {
        "colab": {
          "base_uri": "https://localhost:8080/"
        },
        "id": "BOtxoa09YaS7",
        "outputId": "b027dfc0-e99b-40fe-f90b-8ab06c44c14d"
      },
      "execution_count": null,
      "outputs": [
        {
          "output_type": "execute_result",
          "data": {
            "text/plain": [
              "6"
            ]
          },
          "metadata": {},
          "execution_count": 3
        }
      ]
    },
    {
      "cell_type": "markdown",
      "source": [
        "## Plotting Functions with `mathplotlib`\n",
        "\n",
        "---\n"
      ],
      "metadata": {
        "id": "jMwbtu1qZaGc"
      }
    },
    {
      "cell_type": "code",
      "source": [
        "# create x_values and f_values for this example:\n",
        "import numpy as np\n",
        "def f(x):\n",
        "  return 1 / ( 1 + x**2 )\n",
        "x_values = np.linspace(-5,5,100)  # 100 equally spaced x-values between x=-5 and x=5\n",
        "f_values = f(x_values)            # values of f at these x-values\n",
        "\n",
        "# load matplotlib\n",
        "import matplotlib.pyplot as plt\n",
        "\n",
        "# create the plot\n",
        "plt.plot(x_values, f_values, color ='blue', linestyle=\"solid\" , linewidth=2, label = \"label of plot for legend\" )\n",
        "\n",
        "# axis labels\n",
        "plt.xlabel('x-axis label here')  # label on x-axis\n",
        "plt.ylabel('y-axis label here')  # label for the y-axis\n",
        "\n",
        "# axis limits\n",
        "plt.xlim((-7, 7))  # set limits on x-axis\n",
        "# plt.ylim((-7, 7))  # set limits on y-axis\n",
        "\n",
        "# vertical and horizontal lines\n",
        "plt.hlines(y=f(2), xmin=-2, xmax=2, color='red', linestyle='dashed',  linewidth=2, label = \"label of horizontal line\")\n",
        "plt.vlines(x=2, ymin=0, ymax=f(2), color='green', linestyle='dotted', linewidth=4)\n",
        "\n",
        "# other options\n",
        "plt.grid(True)  # include a grid in the plot\n",
        "plt.legend(loc='upper left')  # add legend with specified labels\n",
        "\n",
        "# show the plot\n",
        "plt.show()  # show the plot on the screen"
      ],
      "metadata": {
        "colab": {
          "base_uri": "https://localhost:8080/",
          "height": 449
        },
        "id": "rHNr1fwrYvOX",
        "outputId": "f3df9ea0-2385-4cf9-a094-b498e328a5a3"
      },
      "execution_count": null,
      "outputs": [
        {
          "output_type": "display_data",
          "data": {
            "text/plain": [
              "<Figure size 640x480 with 1 Axes>"
            ],
            "image/png": "[encoded data removed]"
          },
          "metadata": {}
        }
      ]
    },
    {
      "cell_type": "markdown",
      "source": [
        "## Solving Equations with `scipy`\n",
        "\n",
        "---"
      ],
      "metadata": {
        "id": "bdNy0-Y1bTwf"
      }
    },
    {
      "cell_type": "code",
      "source": [
        "from scipy.optimize import fsolve\n",
        "import numpy as np\n",
        "\n",
        "# To solve an equation of the form f(t) = g(t), we rewrite it as f(t) - g(t) = 0\n",
        "# and use \"fsolve\" to figure out when  f(t) - g(t) is zero\n",
        "\n",
        "# Example:\n",
        "# solve the equation 1.5e^(0.03 t) = 0.2t\n",
        "\n",
        "def f(t): # left-hand-side of equation\n",
        "  return 1.5 * np.exp(0.03 * t)\n",
        "\n",
        "def g(t): # right-hand-side of equation\n",
        "  return 0.2 * t\n",
        "\n",
        "def equation(t):\n",
        "  return f(t) - g(t)\n",
        "\n",
        "initial_guess = 10  # need to provide initial guess\n",
        "\n",
        "solutions = fsolve(equation, initial_guess)  # find solutions\n",
        "\n",
        "print(\"Solution(s) at t =\", solutions)\n",
        "\n",
        "# check\n",
        "print(\"value of f at the solution:\", f(solutions[0]))\n",
        "print(\"value of g at the solution:\", g(solutions[0]))"
      ],
      "metadata": {
        "colab": {
          "base_uri": "https://localhost:8080/"
        },
        "id": "aB6RsooabYTh",
        "outputId": "9dba7e2b-d4db-470a-aaeb-2ff10e172def"
      },
      "execution_count": null,
      "outputs": [
        {
          "output_type": "stream",
          "name": "stdout",
          "text": [
            "Solution(s) at t = [10.17821234]\n",
            "value of f at the solution: 2.035642468434659\n",
            "value of g at the solution: 2.0356424684346592\n"
          ]
        }
      ]
    }
  ]
}
