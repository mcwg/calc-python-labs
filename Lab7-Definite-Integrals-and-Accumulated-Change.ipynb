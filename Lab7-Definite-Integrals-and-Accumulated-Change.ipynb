{
 "cells": [
  {
   "cell_type": "markdown",
   "metadata": {
    "id": "d8538825-184f-4fb8-878d-0c239eea11fa"
   },
   "source": [
    "[![Open In Colab](https://colab.research.google.com/assets/colab-badge.svg)](https://colab.research.google.com/github/mcwg/calc-python-labs/blob/main/Lab7-Definite-Integrals-and-Accumulated-Change.ipynb)\n"
   ]
  },
  {
   "cell_type": "markdown",
   "metadata": {
    "id": "BScDcN5evEo_"
   },
   "source": [
    "<a name=\"title\"></a>\n",
    "\n",
    "# Lab 7: Using Definite Integrals to Approximate Accumulated Change\n",
    "\n",
    "---\n",
    "\n",
    "In this lab, we explore methods for numerically approximating definite integrals using left- and right-hand sums. We apply these approximation methods to a dataset containing rates that water flows into or out of Lake Mead in 2023 and interpret the practical meaning of numerical approximations for definite integrals.\n",
    "\n",
    "\n"
   ]
  },
  {
   "cell_type": "markdown",
   "metadata": {
    "id": "utkKdRbd4yXv"
   },
   "source": [
    "# Learning Objectives\n",
    "\n",
    "---\n",
    "\n",
    "- Numerically approximating definite integrals using left-hand sums and right-hand sums.\n",
    "- Interpreting the practical meaning of definite integrals.\n"
   ]
  },
  {
   "cell_type": "markdown",
   "metadata": {
    "id": "XQYAZYMYHani"
   },
   "source": [
    "## Saving Your Work to a Colab Notebook\n",
    "\n",
    "---\n",
    "\n",
    "This lab is a shared Colab notebook available for anyone to view. However, since everyone is sharing this notebook, you do not have permission to save changes to this shared Colab notebook. In order to save your work:\n",
    "\n",
    "1. You will need to set up a free Google Drive account. If you already have a Google Drive account, you are ready to go!\n",
    "2. Click the `Copy to Drive` button to the right of the `+ Code` and `+ Text` buttons on top of the notebook.\n",
    "3. Select from the menu `File/Save a Copy in Drive`.\n",
    "  - By default, the notebook will be saved in a folder named **Colab Notebooks** in your Drive.\n",
    "  - Feel free to rename and store the notebook wherever you like.\n"
   ]
  },
  {
   "cell_type": "markdown",
   "metadata": {
    "id": "-Dkn8NnY7bAd"
   },
   "source": [
    "# Importing Required Libraries\n",
    "\n",
    "---\n",
    "\n"
   ]
  },
  {
   "cell_type": "code",
   "execution_count": null,
   "metadata": {
    "id": "hfm27EwBEx2-"
   },
   "outputs": [],
   "source": [
    "###################################\n",
    "# Run to import required libraries\n",
    "###################################\n",
    "import numpy as np  # import numpy\n",
    "import pandas as pd  # import pandas\n",
    "import matplotlib.pyplot as plt  # import matplotlib.pyplot"
   ]
  },
  {
   "cell_type": "markdown",
   "metadata": {
    "id": "9auO48bbr92U"
   },
   "source": [
    "## How Often Do We Need to Import Libraries?\n",
    "\n",
    "---\n",
    "\n",
    "After importing a library for the first time, we can now access functions in the library in any code cell we run, regardless of where the code cell is located in the notebook. Thus, we only need to run `import` commands such as `import numpy as np` or `import pandas as pd` once, and then we can continue calling in functions from those libraries (using specified abbreviations) for as long as the session remains active. If you take a break while working in Colab, your session may *time out* and disconnect.\n",
    "\n",
    "- We need to import libraries one time after opening a notebook or reconnecting after timing out.\n",
    "- We do not need to import the library again unless we take a break and the connection times out.\n"
   ]
  },
  {
   "cell_type": "markdown",
   "metadata": {
    "id": "Z5jCFz3I-3hB"
   },
   "source": [
    "<a name=\"q1\"></a>\n",
    "# Question 1\n",
    "\n",
    "---\n",
    "\n",
    "A water pipe bursts and water begins to flow out of the pipe at a rate of $f(t)$ gallons per minute, where $t$ is the number of minutes since water begins to flow out of the pipe.\n",
    "\n",
    "Run the code cell below to define a Pandas dataframe named `df` with values of $t$ and $f(t)$ stored in columns named `t` and `rate`, respectively. Answer the questions based on the table displayed after running the code cell."
   ]
  },
  {
   "cell_type": "code",
   "execution_count": null,
   "metadata": {
    "colab": {
     "base_uri": "https://localhost:8080/",
     "height": 206
    },
    "executionInfo": {
     "elapsed": 214,
     "status": "ok",
     "timestamp": 1722877362854,
     "user": {
      "displayName": "Adam Spiegler",
      "userId": "08916726237218427358"
     },
     "user_tz": 360
    },
    "id": "xDzdG2u4HulR",
    "outputId": "95306272-15e3-40e8-84fd-786755b0ca6c"
   },
   "outputs": [
    {
     "data": {
      "application/vnd.google.colaboratory.intrinsic+json": {
       "summary": "{\n  \"name\": \"df\",\n  \"rows\": 5,\n  \"fields\": [\n    {\n      \"column\": \"t\",\n      \"properties\": {\n        \"dtype\": \"number\",\n        \"std\": 3.1622776601683795,\n        \"min\": 0.0,\n        \"max\": 8.0,\n        \"num_unique_values\": 5,\n        \"samples\": [\n          2.0,\n          8.0,\n          4.0\n        ],\n        \"semantic_type\": \"\",\n        \"description\": \"\"\n      }\n    },\n    {\n      \"column\": \"rate\",\n      \"properties\": {\n        \"dtype\": \"number\",\n        \"std\": 0.8602325267042628,\n        \"min\": 0.0,\n        \"max\": 2.2,\n        \"num_unique_values\": 5,\n        \"samples\": [\n          0.8,\n          2.2,\n          1.2\n        ],\n        \"semantic_type\": \"\",\n        \"description\": \"\"\n      }\n    }\n  ]\n}",
       "type": "dataframe",
       "variable_name": "df"
      },
      "text/html": [
       "\n",
       "  <div id=\"df-29b18e1b-5562-4a37-ae91-092150c5c58b\" class=\"colab-df-container\">\n",
       "    <div>\n",
       "<style scoped>\n",
       "    .dataframe tbody tr th:only-of-type {\n",
       "        vertical-align: middle;\n",
       "    }\n",
       "\n",
       "    .dataframe tbody tr th {\n",
       "        vertical-align: top;\n",
       "    }\n",
       "\n",
       "    .dataframe thead th {\n",
       "        text-align: right;\n",
       "    }\n",
       "</style>\n",
       "<table border=\"1\" class=\"dataframe\">\n",
       "  <thead>\n",
       "    <tr style=\"text-align: right;\">\n",
       "      <th></th>\n",
       "      <th>t</th>\n",
       "      <th>rate</th>\n",
       "    </tr>\n",
       "  </thead>\n",
       "  <tbody>\n",
       "    <tr>\n",
       "      <th>0</th>\n",
       "      <td>0.0</td>\n",
       "      <td>0.0</td>\n",
       "    </tr>\n",
       "    <tr>\n",
       "      <th>1</th>\n",
       "      <td>2.0</td>\n",
       "      <td>0.8</td>\n",
       "    </tr>\n",
       "    <tr>\n",
       "      <th>2</th>\n",
       "      <td>4.0</td>\n",
       "      <td>1.2</td>\n",
       "    </tr>\n",
       "    <tr>\n",
       "      <th>3</th>\n",
       "      <td>6.0</td>\n",
       "      <td>1.8</td>\n",
       "    </tr>\n",
       "    <tr>\n",
       "      <th>4</th>\n",
       "      <td>8.0</td>\n",
       "      <td>2.2</td>\n",
       "    </tr>\n",
       "  </tbody>\n",
       "</table>\n",
       "</div>\n",
       "    <div class=\"colab-df-buttons\">\n",
       "\n",
       "  <div class=\"colab-df-container\">\n",
       "    <button class=\"colab-df-convert\" onclick=\"convertToInteractive('df-29b18e1b-5562-4a37-ae91-092150c5c58b')\"\n",
       "            title=\"Convert this dataframe to an interactive table.\"\n",
       "            style=\"display:none;\">\n",
       "\n",
       "  <svg xmlns=\"http://www.w3.org/2000/svg\" height=\"24px\" viewBox=\"0 -960 960 960\">\n",
       "    <path d=\"M120-120v-720h720v720H120Zm60-500h600v-160H180v160Zm220 220h160v-160H400v160Zm0 220h160v-160H400v160ZM180-400h160v-160H180v160Zm440 0h160v-160H620v160ZM180-180h160v-160H180v160Zm440 0h160v-160H620v160Z\"/>\n",
       "  </svg>\n",
       "    </button>\n",
       "\n",
       "  <style>\n",
       "    .colab-df-container {\n",
       "      display:flex;\n",
       "      gap: 12px;\n",
       "    }\n",
       "\n",
       "    .colab-df-convert {\n",
       "      background-color: #E8F0FE;\n",
       "      border: none;\n",
       "      border-radius: 50%;\n",
       "      cursor: pointer;\n",
       "      display: none;\n",
       "      fill: #1967D2;\n",
       "      height: 32px;\n",
       "      padding: 0 0 0 0;\n",
       "      width: 32px;\n",
       "    }\n",
       "\n",
       "    .colab-df-convert:hover {\n",
       "      background-color: #E2EBFA;\n",
       "      box-shadow: 0px 1px 2px rgba(60, 64, 67, 0.3), 0px 1px 3px 1px rgba(60, 64, 67, 0.15);\n",
       "      fill: #174EA6;\n",
       "    }\n",
       "\n",
       "    .colab-df-buttons div {\n",
       "      margin-bottom: 4px;\n",
       "    }\n",
       "\n",
       "    [theme=dark] .colab-df-convert {\n",
       "      background-color: #3B4455;\n",
       "      fill: #D2E3FC;\n",
       "    }\n",
       "\n",
       "    [theme=dark] .colab-df-convert:hover {\n",
       "      background-color: #434B5C;\n",
       "      box-shadow: 0px 1px 3px 1px rgba(0, 0, 0, 0.15);\n",
       "      filter: drop-shadow(0px 1px 2px rgba(0, 0, 0, 0.3));\n",
       "      fill: #FFFFFF;\n",
       "    }\n",
       "  </style>\n",
       "\n",
       "    <script>\n",
       "      const buttonEl =\n",
       "        document.querySelector('#df-29b18e1b-5562-4a37-ae91-092150c5c58b button.colab-df-convert');\n",
       "      buttonEl.style.display =\n",
       "        google.colab.kernel.accessAllowed ? 'block' : 'none';\n",
       "\n",
       "      async function convertToInteractive(key) {\n",
       "        const element = document.querySelector('#df-29b18e1b-5562-4a37-ae91-092150c5c58b');\n",
       "        const dataTable =\n",
       "          await google.colab.kernel.invokeFunction('convertToInteractive',\n",
       "                                                    [key], {});\n",
       "        if (!dataTable) return;\n",
       "\n",
       "        const docLinkHtml = 'Like what you see? Visit the ' +\n",
       "          '<a target=\"_blank\" href=https://colab.research.google.com/notebooks/data_table.ipynb>data table notebook</a>'\n",
       "          + ' to learn more about interactive tables.';\n",
       "        element.innerHTML = '';\n",
       "        dataTable['output_type'] = 'display_data';\n",
       "        await google.colab.output.renderOutput(dataTable, element);\n",
       "        const docLink = document.createElement('div');\n",
       "        docLink.innerHTML = docLinkHtml;\n",
       "        element.appendChild(docLink);\n",
       "      }\n",
       "    </script>\n",
       "  </div>\n",
       "\n",
       "\n",
       "<div id=\"df-3b606538-0fe1-4be5-85de-38eb54b1b9a2\">\n",
       "  <button class=\"colab-df-quickchart\" onclick=\"quickchart('df-3b606538-0fe1-4be5-85de-38eb54b1b9a2')\"\n",
       "            title=\"Suggest charts\"\n",
       "            style=\"display:none;\">\n",
       "\n",
       "<svg xmlns=\"http://www.w3.org/2000/svg\" height=\"24px\"viewBox=\"0 0 24 24\"\n",
       "     width=\"24px\">\n",
       "    <g>\n",
       "        <path d=\"M19 3H5c-1.1 0-2 .9-2 2v14c0 1.1.9 2 2 2h14c1.1 0 2-.9 2-2V5c0-1.1-.9-2-2-2zM9 17H7v-7h2v7zm4 0h-2V7h2v10zm4 0h-2v-4h2v4z\"/>\n",
       "    </g>\n",
       "</svg>\n",
       "  </button>\n",
       "\n",
       "<style>\n",
       "  .colab-df-quickchart {\n",
       "      --bg-color: #E8F0FE;\n",
       "      --fill-color: #1967D2;\n",
       "      --hover-bg-color: #E2EBFA;\n",
       "      --hover-fill-color: #174EA6;\n",
       "      --disabled-fill-color: #AAA;\n",
       "      --disabled-bg-color: #DDD;\n",
       "  }\n",
       "\n",
       "  [theme=dark] .colab-df-quickchart {\n",
       "      --bg-color: #3B4455;\n",
       "      --fill-color: #D2E3FC;\n",
       "      --hover-bg-color: #434B5C;\n",
       "      --hover-fill-color: #FFFFFF;\n",
       "      --disabled-bg-color: #3B4455;\n",
       "      --disabled-fill-color: #666;\n",
       "  }\n",
       "\n",
       "  .colab-df-quickchart {\n",
       "    background-color: var(--bg-color);\n",
       "    border: none;\n",
       "    border-radius: 50%;\n",
       "    cursor: pointer;\n",
       "    display: none;\n",
       "    fill: var(--fill-color);\n",
       "    height: 32px;\n",
       "    padding: 0;\n",
       "    width: 32px;\n",
       "  }\n",
       "\n",
       "  .colab-df-quickchart:hover {\n",
       "    background-color: var(--hover-bg-color);\n",
       "    box-shadow: 0 1px 2px rgba(60, 64, 67, 0.3), 0 1px 3px 1px rgba(60, 64, 67, 0.15);\n",
       "    fill: var(--button-hover-fill-color);\n",
       "  }\n",
       "\n",
       "  .colab-df-quickchart-complete:disabled,\n",
       "  .colab-df-quickchart-complete:disabled:hover {\n",
       "    background-color: var(--disabled-bg-color);\n",
       "    fill: var(--disabled-fill-color);\n",
       "    box-shadow: none;\n",
       "  }\n",
       "\n",
       "  .colab-df-spinner {\n",
       "    border: 2px solid var(--fill-color);\n",
       "    border-color: transparent;\n",
       "    border-bottom-color: var(--fill-color);\n",
       "    animation:\n",
       "      spin 1s steps(1) infinite;\n",
       "  }\n",
       "\n",
       "  @keyframes spin {\n",
       "    0% {\n",
       "      border-color: transparent;\n",
       "      border-bottom-color: var(--fill-color);\n",
       "      border-left-color: var(--fill-color);\n",
       "    }\n",
       "    20% {\n",
       "      border-color: transparent;\n",
       "      border-left-color: var(--fill-color);\n",
       "      border-top-color: var(--fill-color);\n",
       "    }\n",
       "    30% {\n",
       "      border-color: transparent;\n",
       "      border-left-color: var(--fill-color);\n",
       "      border-top-color: var(--fill-color);\n",
       "      border-right-color: var(--fill-color);\n",
       "    }\n",
       "    40% {\n",
       "      border-color: transparent;\n",
       "      border-right-color: var(--fill-color);\n",
       "      border-top-color: var(--fill-color);\n",
       "    }\n",
       "    60% {\n",
       "      border-color: transparent;\n",
       "      border-right-color: var(--fill-color);\n",
       "    }\n",
       "    80% {\n",
       "      border-color: transparent;\n",
       "      border-right-color: var(--fill-color);\n",
       "      border-bottom-color: var(--fill-color);\n",
       "    }\n",
       "    90% {\n",
       "      border-color: transparent;\n",
       "      border-bottom-color: var(--fill-color);\n",
       "    }\n",
       "  }\n",
       "</style>\n",
       "\n",
       "  <script>\n",
       "    async function quickchart(key) {\n",
       "      const quickchartButtonEl =\n",
       "        document.querySelector('#' + key + ' button');\n",
       "      quickchartButtonEl.disabled = true;  // To prevent multiple clicks.\n",
       "      quickchartButtonEl.classList.add('colab-df-spinner');\n",
       "      try {\n",
       "        const charts = await google.colab.kernel.invokeFunction(\n",
       "            'suggestCharts', [key], {});\n",
       "      } catch (error) {\n",
       "        console.error('Error during call to suggestCharts:', error);\n",
       "      }\n",
       "      quickchartButtonEl.classList.remove('colab-df-spinner');\n",
       "      quickchartButtonEl.classList.add('colab-df-quickchart-complete');\n",
       "    }\n",
       "    (() => {\n",
       "      let quickchartButtonEl =\n",
       "        document.querySelector('#df-3b606538-0fe1-4be5-85de-38eb54b1b9a2 button');\n",
       "      quickchartButtonEl.style.display =\n",
       "        google.colab.kernel.accessAllowed ? 'block' : 'none';\n",
       "    })();\n",
       "  </script>\n",
       "</div>\n",
       "\n",
       "  <div id=\"id_57fe0e1b-6591-4cc8-b528-fcb948126457\">\n",
       "    <style>\n",
       "      .colab-df-generate {\n",
       "        background-color: #E8F0FE;\n",
       "        border: none;\n",
       "        border-radius: 50%;\n",
       "        cursor: pointer;\n",
       "        display: none;\n",
       "        fill: #1967D2;\n",
       "        height: 32px;\n",
       "        padding: 0 0 0 0;\n",
       "        width: 32px;\n",
       "      }\n",
       "\n",
       "      .colab-df-generate:hover {\n",
       "        background-color: #E2EBFA;\n",
       "        box-shadow: 0px 1px 2px rgba(60, 64, 67, 0.3), 0px 1px 3px 1px rgba(60, 64, 67, 0.15);\n",
       "        fill: #174EA6;\n",
       "      }\n",
       "\n",
       "      [theme=dark] .colab-df-generate {\n",
       "        background-color: #3B4455;\n",
       "        fill: #D2E3FC;\n",
       "      }\n",
       "\n",
       "      [theme=dark] .colab-df-generate:hover {\n",
       "        background-color: #434B5C;\n",
       "        box-shadow: 0px 1px 3px 1px rgba(0, 0, 0, 0.15);\n",
       "        filter: drop-shadow(0px 1px 2px rgba(0, 0, 0, 0.3));\n",
       "        fill: #FFFFFF;\n",
       "      }\n",
       "    </style>\n",
       "    <button class=\"colab-df-generate\" onclick=\"generateWithVariable('df')\"\n",
       "            title=\"Generate code using this dataframe.\"\n",
       "            style=\"display:none;\">\n",
       "\n",
       "  <svg xmlns=\"http://www.w3.org/2000/svg\" height=\"24px\"viewBox=\"0 0 24 24\"\n",
       "       width=\"24px\">\n",
       "    <path d=\"M7,19H8.4L18.45,9,17,7.55,7,17.6ZM5,21V16.75L18.45,3.32a2,2,0,0,1,2.83,0l1.4,1.43a1.91,1.91,0,0,1,.58,1.4,1.91,1.91,0,0,1-.58,1.4L9.25,21ZM18.45,9,17,7.55Zm-12,3A5.31,5.31,0,0,0,4.9,8.1,5.31,5.31,0,0,0,1,6.5,5.31,5.31,0,0,0,4.9,4.9,5.31,5.31,0,0,0,6.5,1,5.31,5.31,0,0,0,8.1,4.9,5.31,5.31,0,0,0,12,6.5,5.46,5.46,0,0,0,6.5,12Z\"/>\n",
       "  </svg>\n",
       "    </button>\n",
       "    <script>\n",
       "      (() => {\n",
       "      const buttonEl =\n",
       "        document.querySelector('#id_57fe0e1b-6591-4cc8-b528-fcb948126457 button.colab-df-generate');\n",
       "      buttonEl.style.display =\n",
       "        google.colab.kernel.accessAllowed ? 'block' : 'none';\n",
       "\n",
       "      buttonEl.onclick = () => {\n",
       "        google.colab.notebook.generateWithVariable('df');\n",
       "      }\n",
       "      })();\n",
       "    </script>\n",
       "  </div>\n",
       "\n",
       "    </div>\n",
       "  </div>\n"
      ],
      "text/plain": [
       "     t  rate\n",
       "0  0.0   0.0\n",
       "1  2.0   0.8\n",
       "2  4.0   1.2\n",
       "3  6.0   1.8\n",
       "4  8.0   2.2"
      ]
     },
     "execution_count": 2,
     "metadata": {},
     "output_type": "execute_result"
    }
   ],
   "source": [
    "df = pd.DataFrame({'t':[0.0, 2.0, 4.0, 6.0, 8.0],\n",
    "                   'rate':[0.0, 0.8, 1.2, 1.8, 2.2]})\n",
    "df"
   ]
  },
  {
   "cell_type": "markdown",
   "metadata": {
    "id": "kFWDuJbLetFH"
   },
   "source": [
    "<a name=\"q1a\"></a>\n",
    "## Question 1a\n",
    "\n",
    "---\n",
    "\n",
    "Based on the values for $t$ and $f(t)$ stored in columns `t` and `rate`, respectively, what is the output of the command `df.loc[1, 'rate']`?\n",
    "\n",
    "<br>  \n",
    "\n",
    "*Hint: Recall indexing starts at 0 (not 1) in Python. See Lab 4 for review of [indexing Pandas dataframes with the `loc` function](https://githubtocolab.com/mcwg/calc-python-labs/blob/main/Lab4-Derivatives-with-Water-Level.ipynb).*\n",
    "\n"
   ]
  },
  {
   "cell_type": "markdown",
   "metadata": {
    "id": "7qySVUo4f_IX"
   },
   "source": [
    "### Solution to Question 1a\n",
    "\n",
    "---\n",
    "\n",
    "Before running the command, type the value you expect to see printed to the screen. Then run the code cell to check your answer. **Include units in your answer.**\n",
    "\n",
    "<br>\n",
    "\n",
    "The output of `df.loc[1, 'rate']` is <mark>??</mark>.\n",
    "\n",
    "\n",
    "\n",
    "\n",
    "<br>  \n",
    "<br>  "
   ]
  },
  {
   "cell_type": "code",
   "execution_count": null,
   "metadata": {
    "colab": {
     "base_uri": "https://localhost:8080/"
    },
    "executionInfo": {
     "elapsed": 167,
     "status": "ok",
     "timestamp": 1722877365364,
     "user": {
      "displayName": "Adam Spiegler",
      "userId": "08916726237218427358"
     },
     "user_tz": 360
    },
    "id": "EBYZQLJKkej3",
    "outputId": "0b4908d4-1967-4606-f967-03ad184c8c4d"
   },
   "outputs": [],
   "source": [
    "# Run the code cell to check your answer.\n",
    "df.loc[1, 'rate']"
   ]
  },
  {
   "cell_type": "markdown",
   "metadata": {
    "id": "zIQkpRArk85M"
   },
   "source": [
    "<a name=\"q1b\"></a>\n",
    "## Question 1b\n",
    "\n",
    "---\n",
    "\n",
    "Complete the code cell below to print the value of $f(4)$, the rate water is flowing out of the pipe when $t=4$.\n",
    "\n",
    "<br>  \n",
    "\n",
    "*Hint: Use the table above to identify the index of the row where the value $f(4)$ is located. The value $1.2$ should be displayed on screen after running the code cell.*\n",
    "\n"
   ]
  },
  {
   "cell_type": "code",
   "execution_count": null,
   "metadata": {
    "id": "jjmkqwk-k85V"
   },
   "outputs": [],
   "source": [
    "#################\n",
    "# Solution to 1b\n",
    "#################\n",
    "df.loc[??, 'rate']  # replace ?? with a value for the row index"
   ]
  },
  {
   "cell_type": "markdown",
   "metadata": {
    "id": "ZlWjWy4xbw94"
   },
   "source": [
    "<a name=\"q1c\"></a>\n",
    "## Question 1c\n",
    "\n",
    "---\n",
    "\n",
    "Interpret the practical meaning of the definite integral $\\displaystyle \\int_0^8 f(t) \\, dt$."
   ]
  },
  {
   "cell_type": "markdown",
   "metadata": {
    "id": "DqlCrQAqcJza"
   },
   "source": [
    "### Solution to Question 1c\n",
    "\n",
    "---\n",
    "\n",
    "Type a practical interpretation in the space below.\n",
    "\n",
    "\n",
    "\n",
    "\n",
    "\n",
    "<br>  \n",
    "<br>  "
   ]
  },
  {
   "cell_type": "markdown",
   "metadata": {
    "id": "8B8BSlrVY1Aq"
   },
   "source": [
    "<a name=\"q1d\"></a>\n",
    "## Question 1d\n",
    "\n",
    "---\n",
    "\n",
    "Replace each <mark>??</mark> in the equation below with a value for $t$ to write a formula to estimate the definite integral in [Question 1c](#q1c) using a left-hand sum with $\\Delta t =4$.\n",
    "\n"
   ]
  },
  {
   "cell_type": "markdown",
   "metadata": {
    "id": "d8j6RPFBZJL7"
   },
   "source": [
    "### Solution to Question 1d\n",
    "\n",
    "---\n",
    "\n",
    "If $\\Delta t = 4$, the left-hand sum (LHS) is computed by\n",
    "\n",
    "$$\\text{LHS} = f( ?? ) \\cdot \\Delta t + f( ?? ) \\cdot \\Delta t .$$\n",
    "\n",
    "\n",
    "\n",
    "<br>  \n",
    "<br>  "
   ]
  },
  {
   "cell_type": "markdown",
   "metadata": {
    "id": "hHw-9KvlTIKi"
   },
   "source": [
    "<a name=\"q1e\"></a>\n",
    "## Question 1e\n",
    "\n",
    "---\n",
    "\n",
    "Complete and run the code cell below to estimate the definite integral in [Question 1c](#q1c) using a left-hand sum with $\\Delta t =4$.\n",
    "\n",
    "\n",
    "<br>  \n",
    "\n",
    "*Hint: The values of $f(t)$ are stored in the column `rate` of the dataframe `df` displayed above, and notice the row indices are different from the values of $t$.  The left-hand sum should equal $4.8$.*\n"
   ]
  },
  {
   "cell_type": "code",
   "execution_count": null,
   "metadata": {
    "id": "62HiAGgQc4bq"
   },
   "outputs": [],
   "source": [
    "#################\n",
    "# Solution to 1e\n",
    "#################\n",
    "dt = 4  # given value of dt\n",
    "\n",
    "# Replace each ?? with a row index.\n",
    "lhs_pipe = df.loc[??, 'rate'] * dt + df.loc[??, 'rate'] * dt\n",
    "\n",
    "lhs_pipe  # print the lhs to the screen"
   ]
  },
  {
   "cell_type": "markdown",
   "metadata": {
    "id": "Z1UlDM-0okZ3"
   },
   "source": [
    "<a name=\"q1f\"></a>\n",
    "## Question 1f\n",
    "\n",
    "---\n",
    "\n",
    "Is the left-hand sum you found in [Question 1e](#q1e) an overestimate or underestimate for the amount of water that leaks over the first 8 minutes?\n",
    "\n",
    "<br>  \n",
    "\n",
    "*Note: You can assume the rate water is flowing out of the pipe, $f(t)$, is increasing.*"
   ]
  },
  {
   "cell_type": "markdown",
   "metadata": {
    "id": "WSkqipVfovf8"
   },
   "source": [
    "### Solution to Question 1f\n",
    "\n",
    "---\n",
    "\n",
    "Support your answer with a brief explanation in the space below.\n",
    "\n",
    "\n",
    "\n",
    "\n",
    "\n",
    "<br>  \n",
    "<br>  \n"
   ]
  },
  {
   "cell_type": "markdown",
   "metadata": {
    "id": "YI08SksdaaPj"
   },
   "source": [
    "<a name=\"q1g\"></a>\n",
    "## Question 1g\n",
    "\n",
    "---\n",
    "\n",
    "Replace each <mark>??</mark> in the equation below to write a formula to estimate the definite integral in [Question 1c](#q1c) using a right-hand sum with $n=4$.\n",
    "\n"
   ]
  },
  {
   "cell_type": "markdown",
   "metadata": {
    "id": "PA-2bAClaaPr"
   },
   "source": [
    "### Solution to Question 1g\n",
    "\n",
    "---\n",
    "\n",
    "If $n = 4$, then $\\Delta t = $ <mark>??</mark>, and the right-hand sum (RHS) is computed by\n",
    "\n",
    "$$\\text{RHS} = f( ?? ) \\cdot \\Delta t + f( ?? ) \\cdot \\Delta t + f( ?? ) \\cdot \\Delta t + f( ?? ) \\cdot \\Delta t .$$\n",
    "\n",
    "\n",
    "<br>  \n",
    "<br>  \n"
   ]
  },
  {
   "cell_type": "markdown",
   "metadata": {
    "id": "HZZ8NLtDpWcR"
   },
   "source": [
    "<a name=\"q1h\"></a>\n",
    "## Question 1h\n",
    "\n",
    "---\n",
    "\n",
    "Complete and run the code cell below to estimate the definite integral in [Question 1c](#q1c) using a right-hand sum with $n =4$.\n",
    "\n",
    "\n",
    "<br>  \n",
    "\n",
    "*Hint: The values of $f(t)$ are stored in the column `rate` of dataframe `df` displayed above, and notice the row indices are different from the values of $t$. The right-hand sum should equal $12$.*\n"
   ]
  },
  {
   "cell_type": "code",
   "execution_count": null,
   "metadata": {
    "colab": {
     "base_uri": "https://localhost:8080/"
    },
    "executionInfo": {
     "elapsed": 211,
     "status": "ok",
     "timestamp": 1719945179802,
     "user": {
      "displayName": "Adam Spiegler",
      "userId": "08916726237218427358"
     },
     "user_tz": 360
    },
    "id": "l0RHobQQuN3e",
    "outputId": "6103545c-41c6-40cb-af25-d5877baea2ce"
   },
   "outputs": [],
   "source": [
    "#################\n",
    "# Solution to 1h\n",
    "#################\n",
    "# Replace ?? with the value for dt if n = 4.\n",
    "dt = ??\n",
    "\n",
    "# Replace each ?? with a row index.\n",
    "rhs_pipe = df.loc[??, 'rate'] * dt + df.loc[??, 'rate'] * dt + df.loc[??, 'rate'] * dt + df.loc[??, 'rate'] * dt\n",
    "\n",
    "rhs_pipe  # print the rhs to the screen"
   ]
  },
  {
   "cell_type": "markdown",
   "metadata": {
    "id": "Jjv6PdT6CVS_"
   },
   "source": [
    "# Case Study: Lake Mead Water Level\n",
    "\n",
    "---\n",
    "\n",
    "Data exported from the [Lake Mead Water Database](https://lakemead.water-data.com/) is stored in a comma-separated values (or csv) file named `lake-mead-rate.csv` that is stored online in [GitHub](https://raw.githubusercontent.com/mcwg/calc-python-labs/main/Data/lake-mead-rate.csv).\n",
    "\n",
    "\n",
    "The Pandas command [`pandas.read_csv()`](https://pandas.pydata.org/docs/reference/api/pandas.read_csv.html) can be used to store data from a csv file in a Pandas dataframe. We have already imported the Pandas library with the abbreviation `pd`.\n",
    "\n",
    "- Run the first code cell below to import and store the Lake Mead water-level data to a Pandas dataframe called `mead_rate`.\n",
    "  - *There will not be any output displayed after running the first code cell.*\n",
    "- Then run the second code cell below to view the first 5 rows of the dataframe `lake_mead` on screen."
   ]
  },
  {
   "cell_type": "code",
   "execution_count": null,
   "metadata": {
    "id": "sJ6VLXsCxkA4"
   },
   "outputs": [],
   "source": [
    "###################################\n",
    "# Run to store data to a dataframe\n",
    "###################################\n",
    "mead_rate = pd.read_csv('https://raw.githubusercontent.com/mcwg/calc-python-labs/main/Data/lake-mead-rate.csv')"
   ]
  },
  {
   "cell_type": "code",
   "execution_count": null,
   "metadata": {
    "colab": {
     "base_uri": "https://localhost:8080/",
     "height": 206
    },
    "executionInfo": {
     "elapsed": 243,
     "status": "ok",
     "timestamp": 1722877384633,
     "user": {
      "displayName": "Adam Spiegler",
      "userId": "08916726237218427358"
     },
     "user_tz": 360
    },
    "id": "5GJFLN0eSEUa",
    "outputId": "ceee9cfc-2800-4f4b-beaa-434f66d3345e"
   },
   "outputs": [
    {
     "data": {
      "application/vnd.google.colaboratory.intrinsic+json": {
       "summary": "{\n  \"name\": \"mead_rate\",\n  \"rows\": 365,\n  \"fields\": [\n    {\n      \"column\": \"Date\",\n      \"properties\": {\n        \"dtype\": \"string\",\n        \"num_unique_values\": 365,\n        \"samples\": [\n          \"13-Jul\",\n          \"3-Feb\",\n          \"16-Jan\"\n        ],\n        \"semantic_type\": \"\",\n        \"description\": \"\"\n      }\n    },\n    {\n      \"column\": \"Year\",\n      \"properties\": {\n        \"dtype\": \"number\",\n        \"std\": 0,\n        \"min\": 2023,\n        \"max\": 2023,\n        \"num_unique_values\": 1,\n        \"samples\": [\n          2023\n        ],\n        \"semantic_type\": \"\",\n        \"description\": \"\"\n      }\n    },\n    {\n      \"column\": \"t\",\n      \"properties\": {\n        \"dtype\": \"number\",\n        \"std\": 105,\n        \"min\": 0,\n        \"max\": 364,\n        \"num_unique_values\": 365,\n        \"samples\": [\n          193\n        ],\n        \"semantic_type\": \"\",\n        \"description\": \"\"\n      }\n    },\n    {\n      \"column\": \"Flow_Rate\",\n      \"properties\": {\n        \"dtype\": \"number\",\n        \"std\": 374.5066164130095,\n        \"min\": -538.79,\n        \"max\": 2354.486,\n        \"num_unique_values\": 352,\n        \"samples\": [\n          383.702\n        ],\n        \"semantic_type\": \"\",\n        \"description\": \"\"\n      }\n    }\n  ]\n}",
       "type": "dataframe",
       "variable_name": "mead_rate"
      },
      "text/html": [
       "\n",
       "  <div id=\"df-fe2eb9b1-c670-4301-b959-a6e0ef967978\" class=\"colab-df-container\">\n",
       "    <div>\n",
       "<style scoped>\n",
       "    .dataframe tbody tr th:only-of-type {\n",
       "        vertical-align: middle;\n",
       "    }\n",
       "\n",
       "    .dataframe tbody tr th {\n",
       "        vertical-align: top;\n",
       "    }\n",
       "\n",
       "    .dataframe thead th {\n",
       "        text-align: right;\n",
       "    }\n",
       "</style>\n",
       "<table border=\"1\" class=\"dataframe\">\n",
       "  <thead>\n",
       "    <tr style=\"text-align: right;\">\n",
       "      <th></th>\n",
       "      <th>Date</th>\n",
       "      <th>Year</th>\n",
       "      <th>t</th>\n",
       "      <th>Flow_Rate</th>\n",
       "    </tr>\n",
       "  </thead>\n",
       "  <tbody>\n",
       "    <tr>\n",
       "      <th>0</th>\n",
       "      <td>1-Jan</td>\n",
       "      <td>2023</td>\n",
       "      <td>0</td>\n",
       "      <td>95.904</td>\n",
       "    </tr>\n",
       "    <tr>\n",
       "      <th>1</th>\n",
       "      <td>2-Jan</td>\n",
       "      <td>2023</td>\n",
       "      <td>1</td>\n",
       "      <td>-40.608</td>\n",
       "    </tr>\n",
       "    <tr>\n",
       "      <th>2</th>\n",
       "      <td>3-Jan</td>\n",
       "      <td>2023</td>\n",
       "      <td>2</td>\n",
       "      <td>-39.658</td>\n",
       "    </tr>\n",
       "    <tr>\n",
       "      <th>3</th>\n",
       "      <td>4-Jan</td>\n",
       "      <td>2023</td>\n",
       "      <td>3</td>\n",
       "      <td>-5.616</td>\n",
       "    </tr>\n",
       "    <tr>\n",
       "      <th>4</th>\n",
       "      <td>5-Jan</td>\n",
       "      <td>2023</td>\n",
       "      <td>4</td>\n",
       "      <td>115.171</td>\n",
       "    </tr>\n",
       "  </tbody>\n",
       "</table>\n",
       "</div>\n",
       "    <div class=\"colab-df-buttons\">\n",
       "\n",
       "  <div class=\"colab-df-container\">\n",
       "    <button class=\"colab-df-convert\" onclick=\"convertToInteractive('df-fe2eb9b1-c670-4301-b959-a6e0ef967978')\"\n",
       "            title=\"Convert this dataframe to an interactive table.\"\n",
       "            style=\"display:none;\">\n",
       "\n",
       "  <svg xmlns=\"http://www.w3.org/2000/svg\" height=\"24px\" viewBox=\"0 -960 960 960\">\n",
       "    <path d=\"M120-120v-720h720v720H120Zm60-500h600v-160H180v160Zm220 220h160v-160H400v160Zm0 220h160v-160H400v160ZM180-400h160v-160H180v160Zm440 0h160v-160H620v160ZM180-180h160v-160H180v160Zm440 0h160v-160H620v160Z\"/>\n",
       "  </svg>\n",
       "    </button>\n",
       "\n",
       "  <style>\n",
       "    .colab-df-container {\n",
       "      display:flex;\n",
       "      gap: 12px;\n",
       "    }\n",
       "\n",
       "    .colab-df-convert {\n",
       "      background-color: #E8F0FE;\n",
       "      border: none;\n",
       "      border-radius: 50%;\n",
       "      cursor: pointer;\n",
       "      display: none;\n",
       "      fill: #1967D2;\n",
       "      height: 32px;\n",
       "      padding: 0 0 0 0;\n",
       "      width: 32px;\n",
       "    }\n",
       "\n",
       "    .colab-df-convert:hover {\n",
       "      background-color: #E2EBFA;\n",
       "      box-shadow: 0px 1px 2px rgba(60, 64, 67, 0.3), 0px 1px 3px 1px rgba(60, 64, 67, 0.15);\n",
       "      fill: #174EA6;\n",
       "    }\n",
       "\n",
       "    .colab-df-buttons div {\n",
       "      margin-bottom: 4px;\n",
       "    }\n",
       "\n",
       "    [theme=dark] .colab-df-convert {\n",
       "      background-color: #3B4455;\n",
       "      fill: #D2E3FC;\n",
       "    }\n",
       "\n",
       "    [theme=dark] .colab-df-convert:hover {\n",
       "      background-color: #434B5C;\n",
       "      box-shadow: 0px 1px 3px 1px rgba(0, 0, 0, 0.15);\n",
       "      filter: drop-shadow(0px 1px 2px rgba(0, 0, 0, 0.3));\n",
       "      fill: #FFFFFF;\n",
       "    }\n",
       "  </style>\n",
       "\n",
       "    <script>\n",
       "      const buttonEl =\n",
       "        document.querySelector('#df-fe2eb9b1-c670-4301-b959-a6e0ef967978 button.colab-df-convert');\n",
       "      buttonEl.style.display =\n",
       "        google.colab.kernel.accessAllowed ? 'block' : 'none';\n",
       "\n",
       "      async function convertToInteractive(key) {\n",
       "        const element = document.querySelector('#df-fe2eb9b1-c670-4301-b959-a6e0ef967978');\n",
       "        const dataTable =\n",
       "          await google.colab.kernel.invokeFunction('convertToInteractive',\n",
       "                                                    [key], {});\n",
       "        if (!dataTable) return;\n",
       "\n",
       "        const docLinkHtml = 'Like what you see? Visit the ' +\n",
       "          '<a target=\"_blank\" href=https://colab.research.google.com/notebooks/data_table.ipynb>data table notebook</a>'\n",
       "          + ' to learn more about interactive tables.';\n",
       "        element.innerHTML = '';\n",
       "        dataTable['output_type'] = 'display_data';\n",
       "        await google.colab.output.renderOutput(dataTable, element);\n",
       "        const docLink = document.createElement('div');\n",
       "        docLink.innerHTML = docLinkHtml;\n",
       "        element.appendChild(docLink);\n",
       "      }\n",
       "    </script>\n",
       "  </div>\n",
       "\n",
       "\n",
       "<div id=\"df-1e187a27-d2d5-4ef7-9b63-c387e3c90da5\">\n",
       "  <button class=\"colab-df-quickchart\" onclick=\"quickchart('df-1e187a27-d2d5-4ef7-9b63-c387e3c90da5')\"\n",
       "            title=\"Suggest charts\"\n",
       "            style=\"display:none;\">\n",
       "\n",
       "<svg xmlns=\"http://www.w3.org/2000/svg\" height=\"24px\"viewBox=\"0 0 24 24\"\n",
       "     width=\"24px\">\n",
       "    <g>\n",
       "        <path d=\"M19 3H5c-1.1 0-2 .9-2 2v14c0 1.1.9 2 2 2h14c1.1 0 2-.9 2-2V5c0-1.1-.9-2-2-2zM9 17H7v-7h2v7zm4 0h-2V7h2v10zm4 0h-2v-4h2v4z\"/>\n",
       "    </g>\n",
       "</svg>\n",
       "  </button>\n",
       "\n",
       "<style>\n",
       "  .colab-df-quickchart {\n",
       "      --bg-color: #E8F0FE;\n",
       "      --fill-color: #1967D2;\n",
       "      --hover-bg-color: #E2EBFA;\n",
       "      --hover-fill-color: #174EA6;\n",
       "      --disabled-fill-color: #AAA;\n",
       "      --disabled-bg-color: #DDD;\n",
       "  }\n",
       "\n",
       "  [theme=dark] .colab-df-quickchart {\n",
       "      --bg-color: #3B4455;\n",
       "      --fill-color: #D2E3FC;\n",
       "      --hover-bg-color: #434B5C;\n",
       "      --hover-fill-color: #FFFFFF;\n",
       "      --disabled-bg-color: #3B4455;\n",
       "      --disabled-fill-color: #666;\n",
       "  }\n",
       "\n",
       "  .colab-df-quickchart {\n",
       "    background-color: var(--bg-color);\n",
       "    border: none;\n",
       "    border-radius: 50%;\n",
       "    cursor: pointer;\n",
       "    display: none;\n",
       "    fill: var(--fill-color);\n",
       "    height: 32px;\n",
       "    padding: 0;\n",
       "    width: 32px;\n",
       "  }\n",
       "\n",
       "  .colab-df-quickchart:hover {\n",
       "    background-color: var(--hover-bg-color);\n",
       "    box-shadow: 0 1px 2px rgba(60, 64, 67, 0.3), 0 1px 3px 1px rgba(60, 64, 67, 0.15);\n",
       "    fill: var(--button-hover-fill-color);\n",
       "  }\n",
       "\n",
       "  .colab-df-quickchart-complete:disabled,\n",
       "  .colab-df-quickchart-complete:disabled:hover {\n",
       "    background-color: var(--disabled-bg-color);\n",
       "    fill: var(--disabled-fill-color);\n",
       "    box-shadow: none;\n",
       "  }\n",
       "\n",
       "  .colab-df-spinner {\n",
       "    border: 2px solid var(--fill-color);\n",
       "    border-color: transparent;\n",
       "    border-bottom-color: var(--fill-color);\n",
       "    animation:\n",
       "      spin 1s steps(1) infinite;\n",
       "  }\n",
       "\n",
       "  @keyframes spin {\n",
       "    0% {\n",
       "      border-color: transparent;\n",
       "      border-bottom-color: var(--fill-color);\n",
       "      border-left-color: var(--fill-color);\n",
       "    }\n",
       "    20% {\n",
       "      border-color: transparent;\n",
       "      border-left-color: var(--fill-color);\n",
       "      border-top-color: var(--fill-color);\n",
       "    }\n",
       "    30% {\n",
       "      border-color: transparent;\n",
       "      border-left-color: var(--fill-color);\n",
       "      border-top-color: var(--fill-color);\n",
       "      border-right-color: var(--fill-color);\n",
       "    }\n",
       "    40% {\n",
       "      border-color: transparent;\n",
       "      border-right-color: var(--fill-color);\n",
       "      border-top-color: var(--fill-color);\n",
       "    }\n",
       "    60% {\n",
       "      border-color: transparent;\n",
       "      border-right-color: var(--fill-color);\n",
       "    }\n",
       "    80% {\n",
       "      border-color: transparent;\n",
       "      border-right-color: var(--fill-color);\n",
       "      border-bottom-color: var(--fill-color);\n",
       "    }\n",
       "    90% {\n",
       "      border-color: transparent;\n",
       "      border-bottom-color: var(--fill-color);\n",
       "    }\n",
       "  }\n",
       "</style>\n",
       "\n",
       "  <script>\n",
       "    async function quickchart(key) {\n",
       "      const quickchartButtonEl =\n",
       "        document.querySelector('#' + key + ' button');\n",
       "      quickchartButtonEl.disabled = true;  // To prevent multiple clicks.\n",
       "      quickchartButtonEl.classList.add('colab-df-spinner');\n",
       "      try {\n",
       "        const charts = await google.colab.kernel.invokeFunction(\n",
       "            'suggestCharts', [key], {});\n",
       "      } catch (error) {\n",
       "        console.error('Error during call to suggestCharts:', error);\n",
       "      }\n",
       "      quickchartButtonEl.classList.remove('colab-df-spinner');\n",
       "      quickchartButtonEl.classList.add('colab-df-quickchart-complete');\n",
       "    }\n",
       "    (() => {\n",
       "      let quickchartButtonEl =\n",
       "        document.querySelector('#df-1e187a27-d2d5-4ef7-9b63-c387e3c90da5 button');\n",
       "      quickchartButtonEl.style.display =\n",
       "        google.colab.kernel.accessAllowed ? 'block' : 'none';\n",
       "    })();\n",
       "  </script>\n",
       "</div>\n",
       "\n",
       "    </div>\n",
       "  </div>\n"
      ],
      "text/plain": [
       "    Date  Year  t  Flow_Rate\n",
       "0  1-Jan  2023  0     95.904\n",
       "1  2-Jan  2023  1    -40.608\n",
       "2  3-Jan  2023  2    -39.658\n",
       "3  4-Jan  2023  3     -5.616\n",
       "4  5-Jan  2023  4    115.171"
      ]
     },
     "execution_count": 8,
     "metadata": {},
     "output_type": "execute_result"
    }
   ],
   "source": [
    "######################################\n",
    "# Run to display first 5 rows of data\n",
    "######################################\n",
    "mead_rate.head()  # display first 5 rows of data"
   ]
  },
  {
   "cell_type": "markdown",
   "metadata": {
    "id": "K7JVGcACSEUY"
   },
   "source": [
    "# Exploring the Lake Mead Data</a>\n",
    "---\n",
    "\n",
    "Let `df` denote the name of a generic Pandas dataframe.\n",
    "Before beginning our analysis, we need to know what data is stored in the dataframe `df`. For large datasets, displaying the entire dataset on screen is not particularly helpful or practical. Below are some helpful Pandas functions that can help provide an initial glimpse into the data stored in dataframe `df`.\n",
    "\n",
    "\n",
    "\n",
    "- `df.head()` displays the first 5 rows of `df`.\n",
    "- `df.tail()` displays the last 5 rows of `df`.\n",
    "- `df.shape` returns the number of rows (observations) and columns (variables) in `df`.\n",
    "- `df.columns` lists the names of the variables (or column labels).\n",
    "- `df.info()` summarizes the structure of all variables in `df`."
   ]
  },
  {
   "cell_type": "markdown",
   "metadata": {
    "id": "EuLqoUfKSEUa"
   },
   "source": [
    "<a name=\"q2\"></a>\n",
    "# Question 2\n",
    "\n",
    "---\n",
    "\n",
    "The dataframe `mead_rate` contains measurements for the water level of Lake Mead. Experiment with commands in the code cell below below (turning the comments on or off to run different commands) to learn about the data stored in `mead_rate`. Based on the output generated by one or more of the commmands, answer the following questions:\n",
    "\n",
    "\n",
    "- How many observations are in the `mead_rate` dataframe?\n",
    "- How many variables are in the `mead_rate` dataframe?\n",
    "- What are the names of the variables?\n",
    "- What range of dates is included in the `mead_rate` dataframe?\n",
    "- How frequently are water-level observations recorded in the `mead_rate` dataframe?\n",
    "\n",
    "<br>\n",
    "\n",
    "\n",
    "\n"
   ]
  },
  {
   "cell_type": "code",
   "execution_count": null,
   "metadata": {
    "colab": {
     "base_uri": "https://localhost:8080/",
     "height": 206
    },
    "executionInfo": {
     "elapsed": 218,
     "status": "ok",
     "timestamp": 1722877388045,
     "user": {
      "displayName": "Adam Spiegler",
      "userId": "08916726237218427358"
     },
     "user_tz": 360
    },
    "id": "ZsQwFEooQpK6",
    "outputId": "a76ca6da-e0da-4d93-ba0e-3093fdc89f39"
   },
   "outputs": [
    {
     "data": {
      "application/vnd.google.colaboratory.intrinsic+json": {
       "summary": "{\n  \"name\": \"#mead_rate\",\n  \"rows\": 5,\n  \"fields\": [\n    {\n      \"column\": \"Date\",\n      \"properties\": {\n        \"dtype\": \"string\",\n        \"num_unique_values\": 5,\n        \"samples\": [\n          \"2-Jan\",\n          \"5-Jan\",\n          \"3-Jan\"\n        ],\n        \"semantic_type\": \"\",\n        \"description\": \"\"\n      }\n    },\n    {\n      \"column\": \"Year\",\n      \"properties\": {\n        \"dtype\": \"number\",\n        \"std\": 0,\n        \"min\": 2023,\n        \"max\": 2023,\n        \"num_unique_values\": 1,\n        \"samples\": [\n          2023\n        ],\n        \"semantic_type\": \"\",\n        \"description\": \"\"\n      }\n    },\n    {\n      \"column\": \"t\",\n      \"properties\": {\n        \"dtype\": \"number\",\n        \"std\": 1,\n        \"min\": 0,\n        \"max\": 4,\n        \"num_unique_values\": 5,\n        \"samples\": [\n          1\n        ],\n        \"semantic_type\": \"\",\n        \"description\": \"\"\n      }\n    },\n    {\n      \"column\": \"Flow_Rate\",\n      \"properties\": {\n        \"dtype\": \"number\",\n        \"std\": 75.13418844174734,\n        \"min\": -40.608,\n        \"max\": 115.171,\n        \"num_unique_values\": 5,\n        \"samples\": [\n          -40.608\n        ],\n        \"semantic_type\": \"\",\n        \"description\": \"\"\n      }\n    }\n  ]\n}",
       "type": "dataframe"
      },
      "text/html": [
       "\n",
       "  <div id=\"df-cc93b123-5511-49d2-a74b-99bfe564b9e6\" class=\"colab-df-container\">\n",
       "    <div>\n",
       "<style scoped>\n",
       "    .dataframe tbody tr th:only-of-type {\n",
       "        vertical-align: middle;\n",
       "    }\n",
       "\n",
       "    .dataframe tbody tr th {\n",
       "        vertical-align: top;\n",
       "    }\n",
       "\n",
       "    .dataframe thead th {\n",
       "        text-align: right;\n",
       "    }\n",
       "</style>\n",
       "<table border=\"1\" class=\"dataframe\">\n",
       "  <thead>\n",
       "    <tr style=\"text-align: right;\">\n",
       "      <th></th>\n",
       "      <th>Date</th>\n",
       "      <th>Year</th>\n",
       "      <th>t</th>\n",
       "      <th>Flow_Rate</th>\n",
       "    </tr>\n",
       "  </thead>\n",
       "  <tbody>\n",
       "    <tr>\n",
       "      <th>0</th>\n",
       "      <td>1-Jan</td>\n",
       "      <td>2023</td>\n",
       "      <td>0</td>\n",
       "      <td>95.904</td>\n",
       "    </tr>\n",
       "    <tr>\n",
       "      <th>1</th>\n",
       "      <td>2-Jan</td>\n",
       "      <td>2023</td>\n",
       "      <td>1</td>\n",
       "      <td>-40.608</td>\n",
       "    </tr>\n",
       "    <tr>\n",
       "      <th>2</th>\n",
       "      <td>3-Jan</td>\n",
       "      <td>2023</td>\n",
       "      <td>2</td>\n",
       "      <td>-39.658</td>\n",
       "    </tr>\n",
       "    <tr>\n",
       "      <th>3</th>\n",
       "      <td>4-Jan</td>\n",
       "      <td>2023</td>\n",
       "      <td>3</td>\n",
       "      <td>-5.616</td>\n",
       "    </tr>\n",
       "    <tr>\n",
       "      <th>4</th>\n",
       "      <td>5-Jan</td>\n",
       "      <td>2023</td>\n",
       "      <td>4</td>\n",
       "      <td>115.171</td>\n",
       "    </tr>\n",
       "  </tbody>\n",
       "</table>\n",
       "</div>\n",
       "    <div class=\"colab-df-buttons\">\n",
       "\n",
       "  <div class=\"colab-df-container\">\n",
       "    <button class=\"colab-df-convert\" onclick=\"convertToInteractive('df-cc93b123-5511-49d2-a74b-99bfe564b9e6')\"\n",
       "            title=\"Convert this dataframe to an interactive table.\"\n",
       "            style=\"display:none;\">\n",
       "\n",
       "  <svg xmlns=\"http://www.w3.org/2000/svg\" height=\"24px\" viewBox=\"0 -960 960 960\">\n",
       "    <path d=\"M120-120v-720h720v720H120Zm60-500h600v-160H180v160Zm220 220h160v-160H400v160Zm0 220h160v-160H400v160ZM180-400h160v-160H180v160Zm440 0h160v-160H620v160ZM180-180h160v-160H180v160Zm440 0h160v-160H620v160Z\"/>\n",
       "  </svg>\n",
       "    </button>\n",
       "\n",
       "  <style>\n",
       "    .colab-df-container {\n",
       "      display:flex;\n",
       "      gap: 12px;\n",
       "    }\n",
       "\n",
       "    .colab-df-convert {\n",
       "      background-color: #E8F0FE;\n",
       "      border: none;\n",
       "      border-radius: 50%;\n",
       "      cursor: pointer;\n",
       "      display: none;\n",
       "      fill: #1967D2;\n",
       "      height: 32px;\n",
       "      padding: 0 0 0 0;\n",
       "      width: 32px;\n",
       "    }\n",
       "\n",
       "    .colab-df-convert:hover {\n",
       "      background-color: #E2EBFA;\n",
       "      box-shadow: 0px 1px 2px rgba(60, 64, 67, 0.3), 0px 1px 3px 1px rgba(60, 64, 67, 0.15);\n",
       "      fill: #174EA6;\n",
       "    }\n",
       "\n",
       "    .colab-df-buttons div {\n",
       "      margin-bottom: 4px;\n",
       "    }\n",
       "\n",
       "    [theme=dark] .colab-df-convert {\n",
       "      background-color: #3B4455;\n",
       "      fill: #D2E3FC;\n",
       "    }\n",
       "\n",
       "    [theme=dark] .colab-df-convert:hover {\n",
       "      background-color: #434B5C;\n",
       "      box-shadow: 0px 1px 3px 1px rgba(0, 0, 0, 0.15);\n",
       "      filter: drop-shadow(0px 1px 2px rgba(0, 0, 0, 0.3));\n",
       "      fill: #FFFFFF;\n",
       "    }\n",
       "  </style>\n",
       "\n",
       "    <script>\n",
       "      const buttonEl =\n",
       "        document.querySelector('#df-cc93b123-5511-49d2-a74b-99bfe564b9e6 button.colab-df-convert');\n",
       "      buttonEl.style.display =\n",
       "        google.colab.kernel.accessAllowed ? 'block' : 'none';\n",
       "\n",
       "      async function convertToInteractive(key) {\n",
       "        const element = document.querySelector('#df-cc93b123-5511-49d2-a74b-99bfe564b9e6');\n",
       "        const dataTable =\n",
       "          await google.colab.kernel.invokeFunction('convertToInteractive',\n",
       "                                                    [key], {});\n",
       "        if (!dataTable) return;\n",
       "\n",
       "        const docLinkHtml = 'Like what you see? Visit the ' +\n",
       "          '<a target=\"_blank\" href=https://colab.research.google.com/notebooks/data_table.ipynb>data table notebook</a>'\n",
       "          + ' to learn more about interactive tables.';\n",
       "        element.innerHTML = '';\n",
       "        dataTable['output_type'] = 'display_data';\n",
       "        await google.colab.output.renderOutput(dataTable, element);\n",
       "        const docLink = document.createElement('div');\n",
       "        docLink.innerHTML = docLinkHtml;\n",
       "        element.appendChild(docLink);\n",
       "      }\n",
       "    </script>\n",
       "  </div>\n",
       "\n",
       "\n",
       "<div id=\"df-41c4cafd-a689-457f-82a4-aac757cbf042\">\n",
       "  <button class=\"colab-df-quickchart\" onclick=\"quickchart('df-41c4cafd-a689-457f-82a4-aac757cbf042')\"\n",
       "            title=\"Suggest charts\"\n",
       "            style=\"display:none;\">\n",
       "\n",
       "<svg xmlns=\"http://www.w3.org/2000/svg\" height=\"24px\"viewBox=\"0 0 24 24\"\n",
       "     width=\"24px\">\n",
       "    <g>\n",
       "        <path d=\"M19 3H5c-1.1 0-2 .9-2 2v14c0 1.1.9 2 2 2h14c1.1 0 2-.9 2-2V5c0-1.1-.9-2-2-2zM9 17H7v-7h2v7zm4 0h-2V7h2v10zm4 0h-2v-4h2v4z\"/>\n",
       "    </g>\n",
       "</svg>\n",
       "  </button>\n",
       "\n",
       "<style>\n",
       "  .colab-df-quickchart {\n",
       "      --bg-color: #E8F0FE;\n",
       "      --fill-color: #1967D2;\n",
       "      --hover-bg-color: #E2EBFA;\n",
       "      --hover-fill-color: #174EA6;\n",
       "      --disabled-fill-color: #AAA;\n",
       "      --disabled-bg-color: #DDD;\n",
       "  }\n",
       "\n",
       "  [theme=dark] .colab-df-quickchart {\n",
       "      --bg-color: #3B4455;\n",
       "      --fill-color: #D2E3FC;\n",
       "      --hover-bg-color: #434B5C;\n",
       "      --hover-fill-color: #FFFFFF;\n",
       "      --disabled-bg-color: #3B4455;\n",
       "      --disabled-fill-color: #666;\n",
       "  }\n",
       "\n",
       "  .colab-df-quickchart {\n",
       "    background-color: var(--bg-color);\n",
       "    border: none;\n",
       "    border-radius: 50%;\n",
       "    cursor: pointer;\n",
       "    display: none;\n",
       "    fill: var(--fill-color);\n",
       "    height: 32px;\n",
       "    padding: 0;\n",
       "    width: 32px;\n",
       "  }\n",
       "\n",
       "  .colab-df-quickchart:hover {\n",
       "    background-color: var(--hover-bg-color);\n",
       "    box-shadow: 0 1px 2px rgba(60, 64, 67, 0.3), 0 1px 3px 1px rgba(60, 64, 67, 0.15);\n",
       "    fill: var(--button-hover-fill-color);\n",
       "  }\n",
       "\n",
       "  .colab-df-quickchart-complete:disabled,\n",
       "  .colab-df-quickchart-complete:disabled:hover {\n",
       "    background-color: var(--disabled-bg-color);\n",
       "    fill: var(--disabled-fill-color);\n",
       "    box-shadow: none;\n",
       "  }\n",
       "\n",
       "  .colab-df-spinner {\n",
       "    border: 2px solid var(--fill-color);\n",
       "    border-color: transparent;\n",
       "    border-bottom-color: var(--fill-color);\n",
       "    animation:\n",
       "      spin 1s steps(1) infinite;\n",
       "  }\n",
       "\n",
       "  @keyframes spin {\n",
       "    0% {\n",
       "      border-color: transparent;\n",
       "      border-bottom-color: var(--fill-color);\n",
       "      border-left-color: var(--fill-color);\n",
       "    }\n",
       "    20% {\n",
       "      border-color: transparent;\n",
       "      border-left-color: var(--fill-color);\n",
       "      border-top-color: var(--fill-color);\n",
       "    }\n",
       "    30% {\n",
       "      border-color: transparent;\n",
       "      border-left-color: var(--fill-color);\n",
       "      border-top-color: var(--fill-color);\n",
       "      border-right-color: var(--fill-color);\n",
       "    }\n",
       "    40% {\n",
       "      border-color: transparent;\n",
       "      border-right-color: var(--fill-color);\n",
       "      border-top-color: var(--fill-color);\n",
       "    }\n",
       "    60% {\n",
       "      border-color: transparent;\n",
       "      border-right-color: var(--fill-color);\n",
       "    }\n",
       "    80% {\n",
       "      border-color: transparent;\n",
       "      border-right-color: var(--fill-color);\n",
       "      border-bottom-color: var(--fill-color);\n",
       "    }\n",
       "    90% {\n",
       "      border-color: transparent;\n",
       "      border-bottom-color: var(--fill-color);\n",
       "    }\n",
       "  }\n",
       "</style>\n",
       "\n",
       "  <script>\n",
       "    async function quickchart(key) {\n",
       "      const quickchartButtonEl =\n",
       "        document.querySelector('#' + key + ' button');\n",
       "      quickchartButtonEl.disabled = true;  // To prevent multiple clicks.\n",
       "      quickchartButtonEl.classList.add('colab-df-spinner');\n",
       "      try {\n",
       "        const charts = await google.colab.kernel.invokeFunction(\n",
       "            'suggestCharts', [key], {});\n",
       "      } catch (error) {\n",
       "        console.error('Error during call to suggestCharts:', error);\n",
       "      }\n",
       "      quickchartButtonEl.classList.remove('colab-df-spinner');\n",
       "      quickchartButtonEl.classList.add('colab-df-quickchart-complete');\n",
       "    }\n",
       "    (() => {\n",
       "      let quickchartButtonEl =\n",
       "        document.querySelector('#df-41c4cafd-a689-457f-82a4-aac757cbf042 button');\n",
       "      quickchartButtonEl.style.display =\n",
       "        google.colab.kernel.accessAllowed ? 'block' : 'none';\n",
       "    })();\n",
       "  </script>\n",
       "</div>\n",
       "\n",
       "    </div>\n",
       "  </div>\n"
      ],
      "text/plain": [
       "    Date  Year  t  Flow_Rate\n",
       "0  1-Jan  2023  0     95.904\n",
       "1  2-Jan  2023  1    -40.608\n",
       "2  3-Jan  2023  2    -39.658\n",
       "3  4-Jan  2023  3     -5.616\n",
       "4  5-Jan  2023  4    115.171"
      ]
     },
     "execution_count": 9,
     "metadata": {},
     "output_type": "execute_result"
    }
   ],
   "source": [
    "#####################################\n",
    "# Turn comments on or off and\n",
    "# run different commands to learn\n",
    "# about the data stored in mead_rate\n",
    "#####################################\n",
    "\n",
    "mead_rate.head()  # display first 5 rows of data\n",
    "#mead_rate.tail()  # display last 5 rows of data\n",
    "#mead_rate.shape  # indicate the number of rows (observations) and columns (variables)\n",
    "#mead_rate.columns  # display the column headers\n",
    "#mead_rate.info()  # provides information about the structure of the data"
   ]
  },
  {
   "cell_type": "markdown",
   "metadata": {
    "id": "mIamxGYmLBG9"
   },
   "source": [
    "## Solution to Question 2\n",
    "\n",
    "---\n",
    "\n",
    "- There are a total of <mark>??</mark> observations in `mead_rate`.\n",
    "\n",
    "- There are a total of <mark>??</mark> variables in `mead_rate`.\n",
    "\n",
    "- The names of the variables in `mead_rate` are <mark>??</mark>.\n",
    "\n",
    "- The observations in `mead_rate` begin on the date <mark>??</mark> and end on the date <mark>??</mark>.\n",
    "\n",
    "- Observations in `mead_rate` are recorded every <mark>??</mark>.\n",
    "\n",
    "\n",
    "\n",
    "<br>  \n",
    "<br>"
   ]
  },
  {
   "cell_type": "markdown",
   "metadata": {
    "id": "O7QNFDs0L2Uc"
   },
   "source": [
    "# Data Dictionary for `mead_rate`\n",
    "\n",
    "---\n",
    "\n",
    "\n",
    "- `Date` and `Year` are the calendar date and year, respectively.\n",
    "- `t` is the number of days since Jan. 1, 2023.\n",
    "- `Flow_Rate` is the rate at which water flows into or out of Lake Mead in millions of cubic feet per day.\n",
    "\n",
    "<br>  \n",
    "\n",
    "*Recall the first (unlabeled) column is the index column that gives the row index of each row.*\n"
   ]
  },
  {
   "cell_type": "markdown",
   "metadata": {
    "id": "nldMPLBEhu-c"
   },
   "source": [
    "<a name=\"q3\"></a>\n",
    "# Question 3\n",
    "\n",
    "---\n",
    "\n",
    "Let $R(t)$ denote the rate water flows into Lake Mead (in millions of cubic feet per day) at time $t$ days after Jan 1, 2023. Answer the questions below based on the data stored in the dataframe `mead_rate`.\n"
   ]
  },
  {
   "cell_type": "markdown",
   "metadata": {
    "id": "yOfT1dVViqOg"
   },
   "source": [
    "<a name=\"q3a\"></a>\n",
    "## Question 3a\n",
    "\n",
    "---\n",
    "\n",
    "\n",
    " Run the code cell below to generate a plot of the rate that water flows into or out of Lake Mead at the beginning of 2023. After running the code cell below:\n",
    "\n",
    "- Write a definite integral to represent the shaded area in the plot.\n",
    "- Interpret the practical meaning of the definite integral.\n"
   ]
  },
  {
   "cell_type": "code",
   "execution_count": null,
   "metadata": {
    "colab": {
     "base_uri": "https://localhost:8080/",
     "height": 472
    },
    "executionInfo": {
     "elapsed": 649,
     "status": "ok",
     "timestamp": 1722877394996,
     "user": {
      "displayName": "Adam Spiegler",
      "userId": "08916726237218427358"
     },
     "user_tz": 360
    },
    "id": "mNj9fl2MIqya",
    "outputId": "71dfd3e3-b84f-49d1-e100-f5198ba0c43f"
   },
   "outputs": [
    {
     "data": {
      "image/png": "[encoded data removed]",
      "text/plain": [
       "<Figure size 640x480 with 1 Axes>"
      ]
     },
     "metadata": {},
     "output_type": "display_data"
    }
   ],
   "source": [
    "###############################\n",
    "# Plot flow rate for 2023\n",
    "###############################\n",
    "plt.plot(mead_rate['t'],  # plot t on x-axis\n",
    "         mead_rate['Flow_Rate'],  # plot content on y-axis\n",
    "         color ='blue')  # plot curve in blue\n",
    "\n",
    "###################\n",
    "# Add axes to plot\n",
    "###################\n",
    "plt.axhline(y=0, color='black') # horizontal axis at y=0\n",
    "#plt.axvline(x=0, color='black')  # vertical axis at x=0\n",
    "\n",
    "####################\n",
    "# shade exact area\n",
    "####################\n",
    "t_fill = mead_rate.loc[5:30, \"t\"].to_numpy()\n",
    "rate_fill = mead_rate.loc[5:30, \"Flow_Rate\"].to_numpy()\n",
    "plt.fill_between(t_fill, rate_fill, color='gray')\n",
    "\n",
    "###############\n",
    "# Plot options\n",
    "###############\n",
    "plt.title('Lake Mead Flow Rate')  # main plot label\n",
    "plt.xlabel('t, days since Jan. 1, 2023')  # label on x-axis\n",
    "plt.ylabel('R(t), flow rate in millions of cubic feet per day')  # label for the y-axis\n",
    "plt.xticks(np.arange(0, 51, step=5))  # Set tick marks\n",
    "plt.xlim(0,50)  # set limits on x-axis\n",
    "plt.ylim(-200, 600)  # set limits on y-axis\n",
    "plt.grid(True)  # add grid\n",
    "plt.show()  # display plot"
   ]
  },
  {
   "cell_type": "markdown",
   "metadata": {
    "id": "Tvt2bgFh7SJO"
   },
   "source": [
    "### Solution to Question 3a\n",
    "\n",
    "---\n",
    "\n",
    "Replace each ?? in the formula below to write a definite integral that represents the shaded area.\n",
    "\n",
    "$$\\int_{ ?? }^{ ?? } R(t) \\, dt$$\n",
    "\n",
    "Type a practical interpretation for the definite integral in the space below.\n",
    "\n",
    "\n",
    "\n",
    "\n",
    "\n",
    "<br>  \n",
    "<br>  "
   ]
  },
  {
   "cell_type": "markdown",
   "metadata": {
    "id": "nYLEK22_dRDW"
   },
   "source": [
    "<a name=\"q3b\"></a>\n",
    "## Question 3b\n",
    "\n",
    "---\n",
    "\n",
    "Replace each <mark>??</mark> in the equation below with a value for $t$ to write a formula to estimate the definite integral in [Question 3a](#q3a) using a left-hand sum with $\\Delta t =5$.\n",
    "\n"
   ]
  },
  {
   "cell_type": "markdown",
   "metadata": {
    "id": "3kDRPWQ3dRDf"
   },
   "source": [
    "### Solution to Question 3b\n",
    "\n",
    "---\n",
    "\n",
    "If $\\Delta t = 5$, the left-hand sum (LHS) is computed by\n",
    "\n",
    "$$\\text{LHS} = R( ?? ) \\cdot \\Delta t + R( ?? ) \\cdot \\Delta t + R( ?? ) \\cdot \\Delta t + R( ?? ) \\cdot \\Delta t + R( ?? ) \\cdot \\Delta t .$$\n",
    "\n",
    "\n",
    "<br>  \n",
    "<br>  "
   ]
  },
  {
   "cell_type": "markdown",
   "metadata": {
    "id": "oKSMFaDMikBa"
   },
   "source": [
    "<a name=\"q3c\"></a>\n",
    "## Question 3c\n",
    "\n",
    "---\n",
    "\n",
    "The table below displays data in `mead_rate` for every 5 days over the period from January 6, 2023 ($t=5$) to January 31, 2023 ($t=30$).\n",
    "\n",
    "|index|Date|Year|t|Flow\\_Rate|\n",
    "|---|---|---|---|---|\n",
    "|5|6-Jan|2023|5|166\\.579|\n",
    "|10|11-Jan|2023|10|296\\.006|\n",
    "|15|16-Jan|2023|15|191\\.03|\n",
    "|20|21-Jan|2023|20|265\\.594|\n",
    "|25|26-Jan|2023|25|512\\.525|\n",
    "|30|31-Jan|2023|30|416\\.016|\n",
    "\n",
    "Complete and run the code cell below to estimate the definite integral in [Question 3a](#q3a) using a left-hand sum with $\\Delta t = 5$. Then interpret the meaning of the output in the text cell below the code cell.\n",
    "\n"
   ]
  },
  {
   "cell_type": "code",
   "execution_count": null,
   "metadata": {
    "colab": {
     "base_uri": "https://localhost:8080/",
     "height": 126
    },
    "executionInfo": {
     "elapsed": 267,
     "status": "error",
     "timestamp": 1722537351802,
     "user": {
      "displayName": "Enrique Acosta",
      "userId": "01862593623389693265"
     },
     "user_tz": 300
    },
    "id": "IIiggQ1uz0y5",
    "outputId": "cc69caf0-b1ef-460d-8b8a-eb732b7ac662"
   },
   "outputs": [],
   "source": [
    "#################\n",
    "# Solution to 3c\n",
    "#################\n",
    "dt = 5  # given value of dt\n",
    "\n",
    "# Replace each ?? with a row index.\n",
    "index1 = ??  # row index for flow rate of LHS in the first subinterval 5 <= t <= 10\n",
    "index2 = ??  # row index for flow rate of LHS in the second subinterval 10 <= t <= 15\n",
    "index3 = ??  # row index for flow rate of LHS in the third subinterval 15 <= t <= 20\n",
    "index4 = ??  # row index for flow rate of LHS in the fourth subinterval 20 <= t <= 25\n",
    "index5 = ??  # row index for flow rate of LHS in the fifth subinterval 25 <= t <= 30\n",
    "\n",
    "##########################################################\n",
    "# You do not need to edit the rest of this code cell.\n",
    "# Calculates left sum.\n",
    "# Note: the backslash at end of each line in the formula\n",
    "# denotes a line break and not division.\n",
    "##########################################################\n",
    "lhs_mead = mead_rate.loc[index1, 'Flow_Rate'] * dt +  \\\n",
    "           mead_rate.loc[index2, 'Flow_Rate'] * dt +  \\\n",
    "           mead_rate.loc[index3, 'Flow_Rate'] * dt +  \\\n",
    "           mead_rate.loc[index4, 'Flow_Rate'] * dt +  \\\n",
    "           mead_rate.loc[index5, 'Flow_Rate'] * dt\n",
    "\n",
    "\n",
    "lhs_mead  # print left sum to screen"
   ]
  },
  {
   "cell_type": "markdown",
   "metadata": {
    "id": "ipOuXPQ1ktRs"
   },
   "source": [
    "### Solution to Question 3c\n",
    "\n",
    "---\n",
    "\n",
    "Intepret the practical meaning of the output of the previous code. Include units in your answer.\n",
    "\n",
    "\n",
    "\n",
    "\n",
    "\n",
    "<br>  \n",
    "<br>  "
   ]
  },
  {
   "cell_type": "markdown",
   "metadata": {
    "id": "tOVnnsu7g8nt"
   },
   "source": [
    "<a name=\"q3d\"></a>\n",
    "## Question 3d\n",
    "\n",
    "---\n",
    "\n",
    "Replace each <mark>??</mark> in the equation below with a value for $t$ to write a formula to estimate the definite integral in [Question 3a](#q3a) using a right-hand sum with $\\Delta t =5$.\n",
    "\n"
   ]
  },
  {
   "cell_type": "markdown",
   "metadata": {
    "id": "W6gxxED9g8n3"
   },
   "source": [
    "### Solution to Question 3d\n",
    "\n",
    "---\n",
    "\n",
    "If $\\Delta t = 5$, the right-hand sum (RHS) is computed by\n",
    "\n",
    "$$\\text{RHS} = R( ?? ) \\cdot \\Delta t + R( ?? ) \\cdot \\Delta t + R( ?? ) \\cdot \\Delta t + R( ?? ) \\cdot \\Delta t + R( ?? ) \\cdot \\Delta t .$$\n",
    "\n",
    "\n",
    "<br>  \n",
    "<br>  "
   ]
  },
  {
   "cell_type": "markdown",
   "metadata": {
    "id": "UDVwsyw_hQq1"
   },
   "source": [
    "<a name=\"q3e\"></a>\n",
    "## Question 3e\n",
    "\n",
    "---\n",
    "\n",
    "The table below displays data in `mead_rate` for every 5 days over the period from January 6, 2023 ($t=5$) to January 31, 2023 ($t=30$).\n",
    "\n",
    "|index|Date|Year|t|Flow\\_Rate|\n",
    "|---|---|---|---|---|\n",
    "|5|6-Jan|2023|5|166\\.579|\n",
    "|10|11-Jan|2023|10|296\\.006|\n",
    "|15|16-Jan|2023|15|191\\.03|\n",
    "|20|21-Jan|2023|20|265\\.594|\n",
    "|25|26-Jan|2023|25|512\\.525|\n",
    "|30|31-Jan|2023|30|416\\.016|\n",
    "\n",
    "Complete and run the code cell below to estimate the definite integral in [Question 3a](#q3a) using a right-hand sum with $\\Delta t = 5$. Then interpret the meaning of the output in the text cell below the code cell.\n"
   ]
  },
  {
   "cell_type": "code",
   "execution_count": null,
   "metadata": {
    "id": "6LN2MiqwhQrJ"
   },
   "outputs": [],
   "source": [
    "#################\n",
    "# Solution to 3e\n",
    "#################\n",
    "dt = 5  # given value of dt\n",
    "\n",
    "# Replace each ?? with a row index.\n",
    "index1 = ??  # row index for flow rate of RHS in the first subinterval 5 <= t <= 10\n",
    "index2 = ??  # row index for flow rate of RHS in the second subinterval 10 <= t <= 15\n",
    "index3 = ??  # row index for flow rate of RHS in the third subinterval 15 <= t <= 20\n",
    "index4 = ??  # row index for flow rate of RHS in the fourth subinterval 20 <= t <= 25\n",
    "index5 = ??  # row index for flow rate of RHS in the fifth subinterval 25 <= t <= 30\n",
    "\n",
    "##########################################################\n",
    "# You do not need to edit the rest of this code cell.\n",
    "# Calculates right-hand sum.\n",
    "# Note: the backslash at end of each line in the formula\n",
    "# denotes a line break and not division.\n",
    "##########################################################\n",
    "rhs_mead = mead_rate.loc[index1, 'Flow_Rate'] * dt +  \\\n",
    "           mead_rate.loc[index2, 'Flow_Rate'] * dt +  \\\n",
    "           mead_rate.loc[index3, 'Flow_Rate'] * dt +  \\\n",
    "           mead_rate.loc[index4, 'Flow_Rate'] * dt +  \\\n",
    "           mead_rate.loc[index5, 'Flow_Rate'] * dt\n",
    "\n",
    "\n",
    "rhs_mead  # print left sum to screen"
   ]
  },
  {
   "cell_type": "markdown",
   "metadata": {
    "id": "rGMZmsd9kbd5"
   },
   "source": [
    "### Solution to Question 3e\n",
    "\n",
    "---\n",
    "\n",
    "Intepret the practical meaning of the output of the previous code. Include units in your answer.\n",
    "\n",
    "\n",
    "\n",
    "\n",
    "\n",
    "<br>  \n",
    "<br>  "
   ]
  },
  {
   "cell_type": "markdown",
   "metadata": {
    "id": "X8M_1_HGieeO"
   },
   "source": [
    "<a name=\"q3f\"></a>\n",
    "## Question 3f\n",
    "\n",
    "---\n",
    "\n",
    "Run the code cell below to generate a plot and answer the following questions:\n",
    "\n",
    "- Is the estimate an overestimate or underestimate for the definite integral in [Question 3a](#q3a)?\n",
    "- Does the plot correspond to the left-hand sum you computed in questions [3b](#q3b) and [3c](#q3c) or the right-hand sum you computed in questions [3d](#q3d) and [3e](#q3e)?\n",
    "\n",
    "\n",
    "Support each answer with a brief explanation.\n",
    "\n",
    "<br>  \n",
    "\n",
    "*Note: You do not need to edit the code cell below. Just run it and intepret the output.*"
   ]
  },
  {
   "cell_type": "code",
   "execution_count": null,
   "metadata": {
    "colab": {
     "base_uri": "https://localhost:8080/",
     "height": 472
    },
    "executionInfo": {
     "elapsed": 363,
     "status": "ok",
     "timestamp": 1722877458992,
     "user": {
      "displayName": "Adam Spiegler",
      "userId": "08916726237218427358"
     },
     "user_tz": 360
    },
    "id": "7fhXVDkS_CKR",
    "outputId": "a395656c-bd2c-4edb-c3d7-fb86d8ec2fa0"
   },
   "outputs": [
    {
     "data": {
      "image/png": "[encoded data removed]",
      "text/plain": [
       "<Figure size 640x480 with 1 Axes>"
      ]
     },
     "metadata": {},
     "output_type": "display_data"
    }
   ],
   "source": [
    "##########################################\n",
    "# Plot flow rates at beginning of 2023.\n",
    "##########################################\n",
    "plt.plot(mead_rate['t'],  # plot t on x-axis\n",
    "         mead_rate['Flow_Rate'],  # plot Flow_Rate on y-axis\n",
    "         color ='blue')  # plot curve in blue\n",
    "\n",
    "###################\n",
    "# Add axes to plot\n",
    "###################\n",
    "plt.axhline(y=0, color='black') # add a vertical axis at y=0\n",
    "\n",
    "#####################################\n",
    "# Add rectangles to approximate area\n",
    "#####################################\n",
    "n = 5  # number of subintervals subintervals\n",
    "width = (30 - 5) / n  # width of each subinterval\n",
    "endpts = np.linspace(5, 30, n+1).astype(int)  # store endpoints of subintervals\n",
    "\n",
    "# Create rectangles corresponding to a Riemann sum\n",
    "plt.bar(endpts[:-1],\n",
    "        mead_rate.loc[endpts[1:], 'Flow_Rate'],\n",
    "        width=width,\n",
    "        alpha=0.5,\n",
    "        facecolor='gray',\n",
    "        align='edge',\n",
    "        edgecolor = 'black',\n",
    "        linewidth=1.5)\n",
    "\n",
    "###############\n",
    "# Plot options\n",
    "###############\n",
    "plt.title('Lake Mead Flow Rate')  # main plot label\n",
    "plt.xlabel('t, days since Jan. 1, 2023')  # label on the x-axis\n",
    "plt.ylabel('R(t), flow rate in millions of cubic feet per day')  # label on the y-axis\n",
    "plt.xticks(np.arange(0, 51, step=5))  # Set tick marks\n",
    "plt.xlim(0,50)  # set limits on x-axis\n",
    "plt.ylim(-200, 600)  # set limits on y-axis\n",
    "plt.grid(True)  # add grid\n",
    "plt.show()  # display plot"
   ]
  },
  {
   "cell_type": "markdown",
   "metadata": {
    "id": "tp5_TwQekG2K"
   },
   "source": [
    "### Solution to Question 3f\n",
    "\n",
    "---\n",
    "\n",
    "- Is the estimate plotted above an overestimate or underestimate for the definite integral in [Question 3a](#q3a)? Briefly explain in the space below.\n",
    "\n",
    "\n",
    "\n",
    "\n",
    "\n",
    "<br>  \n",
    "<br>\n",
    "\n",
    "- Does the estimate correspond to a left-hand sum or a right-hand sum for the definite integral in [Question 3a](#q3a)? Briefly explain in the space below.\n",
    "\n",
    "\n",
    "\n",
    "\n",
    "\n",
    "<br>  \n",
    "<br>"
   ]
  },
  {
   "cell_type": "markdown",
   "metadata": {
    "id": "iBmMPoh1CkEf"
   },
   "source": [
    "<a name=\"save-before\"></a>\n",
    "# Be Sure You Have Saved Your Work!\n",
    "\n",
    "---\n",
    "\n",
    "This lab is a shared Colab notebook available for anyone to view. However, since everyone is sharing this notebook, you do not have permission to save changes to this shared Colab notebook. In order to save your work:\n",
    "\n",
    "1. You will need to set up a free Google Drive account. If you already have a Google Drive account, you are ready to go!\n",
    "2. Click the `Copy to Drive` button to the right of the `+ Code` and `+ Text` buttons on top of the notebook.\n",
    "3. Select from the menu `File/Save a Copy in Drive`.\n",
    "  - By default, the notebook will be saved in a folder named **Colab Notebooks** in your Drive.\n",
    "  - Feel free to rename and store the notebook wherever you like.\n"
   ]
  },
  {
   "cell_type": "markdown",
   "metadata": {
    "id": "CFY6cE2vVig7"
   },
   "source": [
    "# Code Summary\n",
    "\n",
    "---\n",
    "\n"
   ]
  },
  {
   "cell_type": "markdown",
   "metadata": {
    "id": "m9A4ikYI6F1k"
   },
   "source": [
    "## Creating a Pandas Dataframe from Arrays\n",
    "\n",
    "---"
   ]
  },
  {
   "cell_type": "code",
   "execution_count": null,
   "metadata": {
    "colab": {
     "base_uri": "https://localhost:8080/",
     "height": 206
    },
    "executionInfo": {
     "elapsed": 576,
     "status": "ok",
     "timestamp": 1722542026231,
     "user": {
      "displayName": "Enrique Acosta",
      "userId": "01862593623389693265"
     },
     "user_tz": 300
    },
    "id": "rSzkWsCL6K1v",
    "outputId": "1774d8ae-22d6-477e-e96f-5519b6ed6e5d"
   },
   "outputs": [],
   "source": [
    "# Create x_values and y_values for this example:\n",
    "x_values = [0.0, 2.0, 4.0, 6.0, 8.0]\n",
    "y_values = [0.0, 0.8, 1.2, 1.8, 2.2]\n",
    "\n",
    "# Create the dataframe\n",
    "import pandas\n",
    "df = pandas.DataFrame() # create an empty dataFrame\n",
    "df['x'] = x_values  # create column labeled \"x\" which contains the array of x_values\n",
    "df['y'] = y_values  #   create column labeled \"y\" which contains the array of y_values\n",
    "\n",
    "# Short way to do define df:\n",
    "# df = pandas.DataFrame({\"x\": x_values, \"y\": y_values})\n",
    "\n",
    "\n",
    "# display the dataframe\n",
    "df"
   ]
  },
  {
   "cell_type": "markdown",
   "metadata": {
    "id": "PZshq-ycO9bT"
   },
   "source": [
    "## Computing a Riemann Sum from a Dataframe\n",
    "\n",
    "---"
   ]
  },
  {
   "cell_type": "code",
   "execution_count": null,
   "metadata": {
    "colab": {
     "base_uri": "https://localhost:8080/"
    },
    "executionInfo": {
     "elapsed": 270,
     "status": "ok",
     "timestamp": 1722542224346,
     "user": {
      "displayName": "Enrique Acosta",
      "userId": "01862593623389693265"
     },
     "user_tz": 300
    },
    "id": "KPA960_dO9NL",
    "outputId": "f82bdf57-7b4e-47f9-d20a-76d33e6f1009"
   },
   "outputs": [],
   "source": [
    "# create dataframe for this example:\n",
    "import pandas\n",
    "x_values = [0.0, 2.0, 4.0, 6.0, 8.0, 10.0, 12.0, 14.0, 16.0]\n",
    "y_values = [0.0, 0.8, 1.2, 1.8, 2.2, 1.5, 0.3, 0.7, 1.7]\n",
    "data = pandas.DataFrame({\"x\": x_values, \"y\": y_values})\n",
    "\n",
    "# print dataframe\n",
    "print(data)\n",
    "\n",
    "#################\n",
    "# Riemann Summ\n",
    "#################\n",
    "dt = 4  # value of dt\n",
    "a = 0  # left endpoint\n",
    "b = 16  # right endpoint\n",
    "\n",
    "# Replace each ?? with a row index.\n",
    "index1 = 0  # row index for y in LHS for the first subinterval a <= t <= a+dt\n",
    "index2 = 2  # row index for y in LHS for the second subinterval a+dt <= t <= a+2dt\n",
    "index3 = 4  # row index for y in LHS for the third subinterval a+2dt <= t <= a+3dt\n",
    "index4 = 6  # row index for y in LHS for the fourth subinterval a+3dt <= t <= a+4dt\n",
    "\n",
    "##########################################################\n",
    "# Calculates left-hand sum.\n",
    "# Note: the backslash at end of each line in the formula\n",
    "# denotes a line break and not division.\n",
    "##########################################################\n",
    "lhs = data.loc[index1, 'y'] * dt +  \\\n",
    "           data.loc[index2, 'y'] * dt +  \\\n",
    "           data.loc[index3, 'y'] * dt +  \\\n",
    "           data.loc[index4, 'y'] * dt\n",
    "\n",
    "# print left sum to screen\n",
    "print(\"The left-hand-sum with delta-t=\",dt,\"is\", lhs)"
   ]
  }
 ],
 "metadata": {
  "colab": {
   "provenance": [
    {
     "file_id": "1-BJ0fSgn1x_Q6uBmuBqQZ6GNHFpd-4Rr",
     "timestamp": 1718465241422
    },
    {
     "file_id": "1jW26k8xTcyeZ-H9Zpk-B6YLMr6MRuH51",
     "timestamp": 1713979048664
    },
    {
     "file_id": "1ut7-jJPy1o3Eo9mPSmJhmyDNI0VLUtna",
     "timestamp": 1710899482688
    }
   ]
  },
  "kernelspec": {
   "display_name": "Python 3 (ipykernel)",
   "language": "python",
   "name": "python3"
  },
  "language_info": {
   "codemirror_mode": {
    "name": "ipython",
    "version": 3
   },
   "file_extension": ".py",
   "mimetype": "text/x-python",
   "name": "python",
   "nbconvert_exporter": "python",
   "pygments_lexer": "ipython3",
   "version": "3.8.17"
  }
 },
 "nbformat": 4,
 "nbformat_minor": 4
}
