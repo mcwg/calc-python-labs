{
 "cells": [
  {
   "cell_type": "markdown",
   "metadata": {
    "id": "d8538825-184f-4fb8-878d-0c239eea11fa"
   },
   "source": [
    "[![Open In Colab](https://colab.research.google.com/assets/colab-badge.svg)](https://colab.research.google.com/github/mcwg/calc-python-labs/blob/main/Lab1-Getting-Started-with-Colab-Python.ipynb)\n"
   ]
  },
  {
   "cell_type": "markdown",
   "metadata": {
    "id": "OCyzDPhzHD66"
   },
   "source": [
    "# <a name=\"intro\"></a>Python Lab 1: Getting Started with Python and Google Colaboratory\n",
    "\n",
    "\n",
    "---\n",
    "\n",
    "If this is your first time coding or using [Google Colaboratory](https://colab.research.google.com/notebooks/intro.ipynb) (Colab), no problem. We assume students working on this lab have no prior programming experience.\n",
    "The goals of this lab are to:\n",
    "\n",
    "- Learn how to navigate, edit, and save a Colab notebook.\n",
    "- Use code cells to edit and run Python code.\n",
    "- Evaluate mathematical expressions using functions in the NumPy library.\n",
    "\n",
    "Thus, after completing this lab, you will have experience programming in Python and working in Colab!\n"
   ]
  },
  {
   "cell_type": "markdown",
   "metadata": {
    "id": "GbFCAv683XcJ"
   },
   "source": [
    "<a name=\"why-python\"></a>\n",
    "# Why Use Python to Help Learn Calculus?\n",
    "\n",
    "---\n",
    "\n",
    "We will use [Python](https://www.python.org/) to explore calculus and experiment with mathematical models. Python is a free and open-source programming language that is well-suited for many purposes such as data science, computational mathematics, machine learning, and software development, just to list a few.\n",
    "\n",
    "- Python is one of the most widely-used programming languages both in academia and industry.\n",
    "- Python has a large and active community of users that share code and help resources.\n",
    "- Python has an extensive collection of libraries with scripts that perform many common tasks.\n",
    "\n",
    "\n",
    "\n"
   ]
  },
  {
   "cell_type": "markdown",
   "metadata": {
    "id": "h_APVLOP-P0W"
   },
   "source": [
    "<a name=\"colab\"></a>\n",
    "# What is Google Colaboratory?\n",
    "\n",
    "---\n",
    "\n",
    "This document is a [Jupyter](https://jupyter.org/) notebook with file extension `.ipynb` that stands for *interactive Python notebook*. Jupyter notebooks can be opened and run using different applications. [Google Colaboratory](https://colab.research.google.com/) (or **Colab** for short) is a free cloud-based version of Jupyter.\n",
    "\n",
    "- You only need a computer or tablet with a web-browser and internet connection to work with Colab notebooks.\n",
    "- You do not need to download Python or any software onto your device.\n",
    "\n",
    "Colab notebooks contain both **text cells** and **code cells** that you can create, modify, and run code in.\n",
    "\n",
    "- Double-click on any text cell (such as this cell) to edit the text in the cell.\n",
    "- Scroll over the top or bottom edge of any cell and click on the `+ Code` or `+ Text` buttons to insert a blank code or text cell.\n",
    "- You can also delete, reorder, and add comments to cells using the buttons in the upper-right corner of an active cell.\n",
    "- See Google's [Welcome to Colab](https://colab.research.google.com/#) notebook for an introduction to working with Colab notebooks.\n",
    "\n"
   ]
  },
  {
   "cell_type": "markdown",
   "metadata": {
    "id": "2SsrmJ8bBtDL"
   },
   "source": [
    "<a name=\"navigate\"></a>\n",
    "## The Two Cell Types\n",
    "\n",
    "---\n",
    "\n",
    "\n",
    "This is an interactive document that contains two types of cells.\n",
    "\n",
    "- **Text cells** are used for typing text (similar to Word).\n",
    "  - For example, this is a text cell!\n",
    "  - Double-click on an existing text cell to edit the text.\n",
    "  - We can format text using the toolbar buttons at the top of the text cell or using [Markdown commands](https://colab.research.google.com/notebooks/markdown_guide.ipynb).\n",
    "- **Code cells** are used to insert, edit, run, and view/store the output of Python code.\n"
   ]
  },
  {
   "cell_type": "markdown",
   "metadata": {
    "id": "hxOZQF0nBtDV"
   },
   "source": [
    "<a name=\"insert\"></a>\n",
    "## Inserting New Text and Code Cells\n",
    "\n",
    "---\n",
    "\n",
    "To add a new text or code cell to a Colab notebook, hover the pointer over the upper or lower border of an existing cell and:\n",
    "\n",
    "- Click the `+ Code` button to add a new code cell.\n",
    "- Click the `+ Text` button to add a new text cell.\n",
    "- You can also delete, reorder, and add comments to cells using the buttons in the upper right corner of an active cell.\n",
    "\n",
    "A Table of Contents can be opened (and closed) along the left side of this window for quickly linking to other parts of this document. We can expand and collapse sections to improve navigation around longer documents.\n",
    "\n"
   ]
  },
  {
   "cell_type": "markdown",
   "metadata": {
    "id": "XQYAZYMYHani"
   },
   "source": [
    "<a name=\"save\"></a>\n",
    "## Saving Your Work to a New Colab Notebook\n",
    "\n",
    "---\n",
    "\n",
    "This lab is a shared Colab notebook available for anyone to view. However, since everyone is sharing this notebook, you do not have permission to save changes to this shared Colab notebook. In order to save your work:\n",
    "\n",
    "1. You will need to set up a free Google Drive account. If you already have a Google Drive account, you are ready to go!\n",
    "2. Click the `Copy to Drive` button to the right of the `+ Code` and `+ Text` buttons on top of the notebook.\n",
    "3. Select from the menu `File/Save a Copy in Drive`.\n",
    "  - By default, the notebook will be saved in a folder named **Colab Notebooks** in your Drive.\n",
    "  - Feel free to rename and store the notebook wherever you like.\n"
   ]
  },
  {
   "cell_type": "markdown",
   "metadata": {
    "id": "8QS_6M8aMbyx"
   },
   "source": [
    "<a name=\"code\"></a>\n",
    "# Python Code Cells\n",
    "\n",
    "---\n",
    "\n",
    "Code cells are used to edit, run, and view output of Python code.\n",
    "\n",
    "- Click on a code cell to edit the code in that cell.\n",
    "- Click the play button in the upper left corner of a code cell to run it.\n",
    "\n",
    "Below is an example of a code cell.\n",
    "\n",
    "- Run the code cell below to compute `3 + 5`.\n",
    "- The output 8 should be displayed.\n",
    "\n"
   ]
  },
  {
   "cell_type": "code",
   "execution_count": null,
   "metadata": {
    "id": "3CTqrtG_MJbF"
   },
   "outputs": [],
   "source": [
    "3 + 5  # calculate 3 + 5"
   ]
  },
  {
   "cell_type": "markdown",
   "metadata": {
    "id": "OzdGZRetMo1Q"
   },
   "source": [
    "<a name=\"comments\"></a>\n",
    "## Adding Comments to Code\n",
    "\n",
    "---\n",
    "\n",
    "The code cell above computed `3 + 5`. The `#` symbol is used to begin a **comment**.\n",
    "\n",
    "- Python ignores  anything that appears after the `#` symbol.\n",
    "- The text after the `#` symbol is called a comment.\n",
    "- Comments are helpful when reading and interpreting code.\n"
   ]
  },
  {
   "cell_type": "markdown",
   "metadata": {
    "id": "brqQErt6NrrJ"
   },
   "source": [
    "<a name=\"math-ops\"></a>\n",
    "# Mathematical Operations in Python\n",
    "\n",
    "---\n",
    "\n",
    "- Use `+`, `-`, `*`, and `/` to add, subtract, multiply, and divide, respectively.\n",
    "- Use a double asterisk `**` for the operation to raise to a power.\n",
    "- Parentheses are useful when applying multiple operations.\n",
    "- Spaces are cosmetic, but can help make the code easier. For example, `3 + 5`, `3+5`, `3+  5` are identical commands.\n"
   ]
  },
  {
   "cell_type": "markdown",
   "metadata": {
    "id": "8yRFpo_sQcbL"
   },
   "source": [
    "<a name=\"q1\"></a>\n",
    "# Question 1\n",
    "---\n",
    "\n",
    "What is the output generated by the command `3**2 - 5`?\n",
    "\n",
    "<br>  \n",
    "\n",
    "Type your answer in the text cell below. Then run the code cell that follows to check your answer.\n",
    "\n",
    "\n",
    "\n"
   ]
  },
  {
   "cell_type": "markdown",
   "metadata": {
    "id": "WEp5gBojwvwA"
   },
   "source": [
    "## Solution to Question 1\n",
    "\n",
    "---\n",
    "\n",
    "Indicate your answer by replacing the <mark>??</mark> in the sentence below with a value.\n",
    "\n",
    "<br>  \n",
    "\n",
    "The value of `3**2 - 5` is <mark>??</mark>.\n",
    "\n",
    "\n",
    "<br>  \n",
    "<br>  "
   ]
  },
  {
   "cell_type": "code",
   "execution_count": null,
   "metadata": {
    "id": "T9sgaeH1S3t9"
   },
   "outputs": [],
   "source": [
    "#################################\n",
    "# Run code to check your answer.\n",
    "#################################\n",
    "3**2 - 5"
   ]
  },
  {
   "cell_type": "markdown",
   "metadata": {
    "id": "Dwze2CdEONy5"
   },
   "source": [
    "<a name=\"q2\"></a>\n",
    "# Question 2\n",
    "---\n",
    "\n",
    "Use the code cell below to evaluate the expression $\\dfrac{7 - \\sqrt{5}}{3}$ and confirm the result is approximately $1.58798$.\n",
    "- *Hint: $\\sqrt{5} = 5^{1/2}$.*\n"
   ]
  },
  {
   "cell_type": "code",
   "execution_count": null,
   "metadata": {
    "id": "_BlPGD-DOCb3"
   },
   "outputs": [],
   "source": [
    "#########################\n",
    "# Solution to Question 2\n",
    "#########################\n"
   ]
  },
  {
   "cell_type": "markdown",
   "metadata": {
    "id": "bOKVwhs3WeRZ"
   },
   "source": [
    "<a name=\"error\"></a>\n",
    "# Debugging Error Messages\n",
    "---\n",
    "\n",
    "When learning any new skill, we often make mistakes. When we attempt to run code that Python is unable to understand or execute, the code cell will *crash*.\n",
    "\n",
    "- A red exclamation point will appear to the left of the play button rather than a green check mark.\n",
    "- An error message will be displayed below the code cell.\n",
    "  - Sometimes an error message is very clear, so we can identify and correct the error quickly.\n",
    "  - At other times the error message may not be very clear.\n",
    "  - If the message is not clear, try doing a Google search since it is possible somebody else has encountered the same issue and figured out how to fix it!\n",
    "\n",
    "*Making an error, identifying what is causing the issue, and correcting the mistake is an excellent learning opportunity!*\n",
    "\n",
    "\n"
   ]
  },
  {
   "cell_type": "markdown",
   "metadata": {
    "id": "ZNO8IsGQY2_C"
   },
   "source": [
    "<a name=\"q3\"></a>\n",
    "# Question 3\n",
    "\n",
    "---\n",
    "\n",
    "Run the code cell below and read the error message that results after the code cell crashes. Then explain what is wrong with the command and how you can fix it."
   ]
  },
  {
   "cell_type": "code",
   "execution_count": null,
   "metadata": {
    "id": "hozoKTywWTxU"
   },
   "outputs": [],
   "source": [
    "sqrt(9)"
   ]
  },
  {
   "cell_type": "markdown",
   "metadata": {
    "id": "rESUvgApUY5j"
   },
   "source": [
    "## Solution to Question 3\n",
    "\n",
    "---\n",
    "\n",
    "Type your answer here.\n",
    "\n",
    "<br>  \n",
    "<br>  \n"
   ]
  },
  {
   "cell_type": "markdown",
   "metadata": {
    "id": "uUEPoanpFnb1"
   },
   "source": [
    "<a name=\"assign\"></a>\n",
    "# Storing Output to Variables\n",
    "\n",
    "---\n",
    "\n",
    "A [Python variable](https://realpython.com/python-variables/) is a container for storing values. This is different from how the term *variable* is used in algebra, which is a symbol that holds the place of an unspecified number.\n",
    "\n",
    "- In Python the assignment operator is the equal sign `=`.\n",
    "- We give variables any name that has not already been defined.\n",
    "- We are not restriced to single character names such as `x` or `y`.\n",
    "- It is very useful to give variables a name that describes what is being stored.\n",
    "\n",
    "In the code cell below we define 4 new variables:\n",
    "\n",
    "1. The value 60 is stored in `minute` telling us there are 60 seconds in one minute.\n",
    "2. Then we define `hour` as `minute * 60` that equals `60 * 60` or `3600`. The variable `hour` is equal to the number seconds in one hour.\n",
    "3. Next, we define `day` as `hour * 24` that equals the number of seconds in a day.\n",
    "4. Finally, `year` is defined as `day * 365` and is equal to the number of seconds in a year.\n",
    "\n",
    "Run the code cell below to create and store each of the calculations to its corresponding variable.\n",
    "\n",
    "- No output will be printed to the screen after running the code cell below.\n",
    "- However, the calculations have been performed and stored.\n"
   ]
  },
  {
   "cell_type": "code",
   "execution_count": null,
   "metadata": {
    "id": "nrlzEN0nHrsn"
   },
   "outputs": [],
   "source": [
    "minute = 60  # number of seconds in a minute\n",
    "hour = minute * 60  # number of seconds in an hour\n",
    "day = hour * 24  # number of seconds in a day\n",
    "year = day * 365  # number of seconds in a year"
   ]
  },
  {
   "cell_type": "markdown",
   "metadata": {
    "id": "_6YmS4t8Ik9J"
   },
   "source": [
    "<a name=\"print\"></a>\n",
    "# Printing Output to the Screen\n",
    "\n",
    "---\n",
    "\n",
    "Although we do not see any output after running the previous code cell, the green check mark to the left of the play button indicates the code has successfully run.\n",
    "\n",
    "- We have stored the calculations in the variables `minute`, `hour`, `day`, and `year`.\n",
    "- If we would like to see the value that is being stored in a variable we need to instruct Python to **print the output to the screen**.\n",
    "  - We can use the `print()` function. For example `print(hour)` will display the value `3600`.\n",
    "  - Or, we can simply type the variable name `hour` in a code cell.\n"
   ]
  },
  {
   "cell_type": "code",
   "execution_count": null,
   "metadata": {
    "id": "YUEHTa72O6Fm"
   },
   "outputs": [],
   "source": [
    "# print number of seconds in one hour to the screen\n",
    "print(hour)"
   ]
  },
  {
   "cell_type": "code",
   "execution_count": null,
   "metadata": {
    "id": "qIZEUlJZPGnV"
   },
   "outputs": [],
   "source": [
    "# print number of seconds in one hour to the screen\n",
    "hour"
   ]
  },
  {
   "cell_type": "markdown",
   "metadata": {
    "id": "vLFF_TJ5PV_J"
   },
   "source": [
    "<a name=\"print-text\"></a>\n",
    "## Printing Text and Output to the Screen\n",
    "\n",
    "---\n",
    "\n",
    "We can also print a combination of text and output to the screen using the `print()` function.\n",
    "\n",
    "- Type any text we want to appear inside a pair of double (or single) quotes.\n",
    "- Type the name of a variable (without quotes) to display the value on screen.\n",
    "- Type a comma `,` between successive variable names and/or string of text.\n",
    "\n"
   ]
  },
  {
   "cell_type": "code",
   "execution_count": null,
   "metadata": {
    "id": "51l1kQdCQ8yM"
   },
   "outputs": [],
   "source": [
    "# print both text and previously stored output\n",
    "print(\"There are\", hour, \"seconds in one hour.\")"
   ]
  },
  {
   "cell_type": "markdown",
   "metadata": {
    "id": "T7Jiz1lJEoMm"
   },
   "source": [
    "<a name=\"q4\"></a>\n",
    "# Question 4\n",
    "---\n",
    "\n",
    "How many seconds are there in a year?\n",
    "\n",
    "- Recall this value has already been computed and stored in `year`.\n",
    "- **Insert a new Python code cell** directly below this text cell.\n",
    "- Then use the code cell to display the value stored in `year` to the screen.\n"
   ]
  },
  {
   "cell_type": "markdown",
   "metadata": {
    "id": "pVZqIs1qVLcX"
   },
   "source": [
    "## Solution to Question 4\n",
    "\n",
    "---\n",
    "\n",
    "Indicate your answer by replacing the <mark>??</mark> in the sentence below with a value.\n",
    "\n",
    "<br>\n",
    "\n",
    "There are <mark>??</mark> seconds in one year.\n",
    "\n",
    "<br>  \n",
    "<br>"
   ]
  },
  {
   "cell_type": "markdown",
   "metadata": {
    "id": "W0bWhbz2UEt8"
   },
   "source": [
    "<a name=\"q5\"></a>\n",
    "# Question 5\n",
    "\n",
    "---\n",
    "\n",
    "Before running the code cell below, determine what value (if any) will be printed to the screen after running the code cell below.\n",
    "\n",
    "<br>  \n",
    "\n",
    "First type your answer in the text cell below. Then run the code cell that follows to check your answer.\n",
    "\n"
   ]
  },
  {
   "cell_type": "markdown",
   "metadata": {
    "id": "1vqkzivfViRz"
   },
   "source": [
    "## Solution to Question 5\n",
    "\n",
    "---\n",
    "\n",
    "Indicate your answer by replacing the <mark>??</mark> in the sentence below with a value.\n",
    "\n",
    "<br>\n",
    "\n",
    "I expect the code cell to print the value <mark>??</mark>.\n",
    "\n",
    "<br>  \n",
    "<br>  \n"
   ]
  },
  {
   "cell_type": "code",
   "execution_count": null,
   "metadata": {
    "id": "ERwiD1LmA-B7"
   },
   "outputs": [],
   "source": [
    "#x = 1**2  # 1 raised to power 2\n",
    "#x = 2**2  # 2 raised to power 2\n",
    "#x = 3**2  # 3 raised to power 2\n",
    "#x = 4**2  # 4 raised to power 2\n",
    "x = 5**2  # 5 raised to power 2\n",
    "#x = 6**2  # 6 raised to power 2\n",
    "#x = 7**2  # 7 raised to power 2\n",
    "\n",
    "x  # print x"
   ]
  },
  {
   "cell_type": "markdown",
   "metadata": {
    "id": "FRWxLTT7NMIf"
   },
   "source": [
    "<a name=\"numpy\"></a>\n",
    "# Importing the NumPy Library\n",
    "\n",
    "---\n",
    "\n",
    "\n",
    "Python **libraries** are collections of modules, functions, data, and/or other code scripts written and openly shared by other users. There are libraries to perform many common tasks in mathematics such as plotting graphs, using the number $\\pi$, taking derivatives, and solving equations.\n",
    "\n",
    "\n",
    "[NumPy](https://www.numpy.org/en/index.html) is one of the most essential Python libraries used in scientific computing. The NumPy library contains functions for calculating most mathematical functions. See [NumPy help documentation](https://numpy.org/doc/stable/reference/routines.math.html) for a full list of functions available in NumPy.\n",
    "\n",
    "Before we can access any files in a library, we must first import the library.\n",
    "\n",
    "\n",
    "In the code cells below:\n",
    "\n",
    "1. The NumPy library is imported using the abbreviation `np`.\n",
    "  - We now use `np` to call in functions and modules stored in NumPy.\n",
    "2. We evaluate $\\cos{0}$ and store the result (which is `1`) to a variable named `x`.\n",
    "3. Finally the value stored in `x` is printed to the screen.\n",
    "\n",
    "<br>  \n",
    "\n"
   ]
  },
  {
   "cell_type": "code",
   "execution_count": null,
   "metadata": {
    "id": "VLec-lAHzicl"
   },
   "outputs": [],
   "source": [
    "# import the NumPy library\n",
    "import numpy as np"
   ]
  },
  {
   "cell_type": "code",
   "execution_count": null,
   "metadata": {
    "id": "kUb4daHoNe0d"
   },
   "outputs": [],
   "source": [
    "# output is stored to x instead of displayed on screen\n",
    "x = np.cos(0)"
   ]
  },
  {
   "cell_type": "code",
   "execution_count": null,
   "metadata": {
    "id": "ZDCwid4GjG-e"
   },
   "outputs": [],
   "source": [
    "# display value stored in x to screen\n",
    "x"
   ]
  },
  {
   "cell_type": "markdown",
   "metadata": {
    "id": "2H0VzX3PaPtV"
   },
   "source": [
    "<a name=\"how-often\"></a>\n",
    "## How Often Do We Need to Import Librarys?\n",
    "\n",
    "---\n",
    "\n",
    "After importing a library for the first time, we can access functions in the library in any code cell we run, regardless of where the code cell is located in the notebook. Thus, we only need to run the command `import numpy as np` once, and then we can continue calling in NumPy functions (with the abbreviation `np`) for as long as the session remains active. If we take a break while working in Colab, our session may *time out* and disconnect.\n",
    "\n",
    "- We need to import libraries one time after opening a notebook or reconnecting after timing out.\n",
    "- We do not need to import the library again unless we take a break and the connection times out.\n"
   ]
  },
  {
   "cell_type": "markdown",
   "metadata": {
    "id": "CKD88vnLjX_o"
   },
   "source": [
    "<a name=\"q6\"></a>\n",
    "# Question 6\n",
    "\n",
    "---\n",
    "\n",
    "What value will be printed to the screen after running the code cell below?\n",
    "\n",
    "<br>  \n",
    "\n",
    "First type your answer in the text cell below. Then run the code cell that follows to check your answer.\n"
   ]
  },
  {
   "cell_type": "markdown",
   "metadata": {
    "id": "CarSlu_VX8wf"
   },
   "source": [
    "## Solution to Question 6\n",
    "\n",
    "---\n",
    "\n",
    "Indicate your answer by replacing the <mark>??</mark> in the sentence below with a value.\n",
    "\n",
    "<br>\n",
    "\n",
    "I expect the code cell to print the value <mark>??</mark>.\n",
    "\n",
    "\n",
    "<br>  \n",
    "<br>"
   ]
  },
  {
   "cell_type": "code",
   "execution_count": null,
   "metadata": {
    "id": "zbXBCiZthS7Q"
   },
   "outputs": [],
   "source": [
    "x = np.sin(np.pi / 2 )  # notice how we enter the number pi in NumPy\n",
    "x = 3 * x\n",
    "x"
   ]
  },
  {
   "cell_type": "markdown",
   "metadata": {
    "id": "fNh7FbeYkLUx"
   },
   "source": [
    "<a name=\"q7\"></a>\n",
    "# Question 7\n",
    "\n",
    "---\n",
    "\n",
    "Evaluate each of the code cells below. Then explain what operations are performed by `np.log()` and `np.log10()`.\n",
    "\n",
    "\n"
   ]
  },
  {
   "cell_type": "code",
   "execution_count": null,
   "metadata": {
    "id": "keDQ6H8ANl_u"
   },
   "outputs": [],
   "source": [
    "y = np.exp(4)  # calculates e^4 in NumPy\n",
    "\n",
    "np.log(y)"
   ]
  },
  {
   "cell_type": "code",
   "execution_count": null,
   "metadata": {
    "id": "t_VOewt9NhNx"
   },
   "outputs": [],
   "source": [
    "np.log10(y)"
   ]
  },
  {
   "cell_type": "markdown",
   "metadata": {
    "id": "gi-MIhtzgoe2"
   },
   "source": [
    "## Solution to Question 7\n",
    "\n",
    "---\n",
    "\n",
    "Indicate your answers by replacing each <mark>??</mark> below with an explanation.\n",
    "\n",
    "<br>\n",
    "\n",
    "- The operation `np.log()` is <mark>??</mark>.\n",
    "\n",
    "- The operation `np.log10()` is <mark>??</mark>.\n",
    "\n",
    "\n",
    "<br>  \n",
    "<br>  "
   ]
  },
  {
   "cell_type": "markdown",
   "metadata": {
    "id": "iBmMPoh1CkEf"
   },
   "source": [
    "<a name=\"save-go\"></a>\n",
    "# Be Sure You Have Saved Your Work!\n",
    "\n",
    "---\n",
    "\n",
    "This lab is a shared Colab notebook available for anyone to view. However, since everyone is sharing this notebook, you do not have permission to save changes to this shared Colab notebook. In order to save your work:\n",
    "\n",
    "1. You will need to set up a free Google Drive account. If you already have a Google Drive account, you are ready to go!\n",
    "2. Click the `Copy to Drive` button to the right of the `+ Code` and `+ Text` buttons on top of the notebook.\n",
    "3. Select from the menu `File/Save a Copy in Drive`.\n",
    "  - By default, the notebook will be saved in a folder named **Colab Notebooks** in your Drive.\n",
    "  - Feel free to rename and store the notebook wherever you like.\n"
   ]
  },
  {
   "cell_type": "markdown",
   "metadata": {
    "id": "cib2g129ukmw"
   },
   "source": [
    "<a name=\"lab1summary\"></a>\n",
    "# Code Summary\n",
    "\n",
    "---"
   ]
  },
  {
   "cell_type": "markdown",
   "metadata": {
    "id": "6arLX9qWh5mS"
   },
   "source": [
    "## Arithmetic\n",
    "\n",
    "---\n",
    "\n",
    "Basic arithmetic works as expected"
   ]
  },
  {
   "cell_type": "code",
   "execution_count": null,
   "metadata": {
    "colab": {
     "base_uri": "https://localhost:8080/"
    },
    "id": "0zl4-2vPTRcL",
    "outputId": "65e9e578-badf-4d02-ccbe-7f3edc02fea6"
   },
   "outputs": [
    {
     "data": {
      "text/plain": [
       "8"
      ]
     },
     "execution_count": 2,
     "metadata": {},
     "output_type": "execute_result"
    }
   ],
   "source": [
    "3 + 5  # sum"
   ]
  },
  {
   "cell_type": "code",
   "execution_count": null,
   "metadata": {
    "colab": {
     "base_uri": "https://localhost:8080/"
    },
    "id": "o9e-K2TUTTHQ",
    "outputId": "808e7c47-617b-4f93-a827-165657fdc5a6"
   },
   "outputs": [
    {
     "data": {
      "text/plain": [
       "6"
      ]
     },
     "execution_count": 3,
     "metadata": {},
     "output_type": "execute_result"
    }
   ],
   "source": [
    "2 * 3  # product"
   ]
  },
  {
   "cell_type": "code",
   "execution_count": null,
   "metadata": {
    "colab": {
     "base_uri": "https://localhost:8080/"
    },
    "id": "fHrRN8RPTUMY",
    "outputId": "3e2e9c4e-24a7-4a69-c4af-e77c7dcdcdd1"
   },
   "outputs": [
    {
     "data": {
      "text/plain": [
       "2"
      ]
     },
     "execution_count": 4,
     "metadata": {},
     "output_type": "execute_result"
    }
   ],
   "source": [
    "5 - 3  # difference"
   ]
  },
  {
   "cell_type": "code",
   "execution_count": null,
   "metadata": {
    "colab": {
     "base_uri": "https://localhost:8080/"
    },
    "id": "Lbzp-1gyTU-j",
    "outputId": "1073f172-a2a5-4413-c983-4ec58a5e74ed"
   },
   "outputs": [
    {
     "data": {
      "text/plain": [
       "2.0"
      ]
     },
     "execution_count": 5,
     "metadata": {},
     "output_type": "execute_result"
    }
   ],
   "source": [
    "6 / 3  # quotient"
   ]
  },
  {
   "cell_type": "markdown",
   "metadata": {
    "id": "ESLYNitBTaap"
   },
   "source": [
    "For powers, use `**`:"
   ]
  },
  {
   "cell_type": "code",
   "execution_count": null,
   "metadata": {
    "colab": {
     "base_uri": "https://localhost:8080/"
    },
    "id": "-gZLXthkb2IT",
    "outputId": "342e1c45-3b57-4b4c-98da-5e802cd1b786"
   },
   "outputs": [
    {
     "data": {
      "text/plain": [
       "8"
      ]
     },
     "execution_count": 17,
     "metadata": {},
     "output_type": "execute_result"
    }
   ],
   "source": [
    "2 ** 3  # 2 raised to the power of 3: 2^3 = 8"
   ]
  },
  {
   "cell_type": "markdown",
   "metadata": {
    "id": "Q0GpMBebThd2"
   },
   "source": [
    "## Defining variables\n",
    "\n",
    "---\n"
   ]
  },
  {
   "cell_type": "code",
   "execution_count": null,
   "metadata": {
    "colab": {
     "base_uri": "https://localhost:8080/"
    },
    "id": "i4GoAMntTn-y",
    "outputId": "f4eb61a1-e569-42d5-980f-a3b88a2d84a6"
   },
   "outputs": [
    {
     "data": {
      "text/plain": [
       "86400"
      ]
     },
     "execution_count": 2,
     "metadata": {},
     "output_type": "execute_result"
    }
   ],
   "source": [
    "minute = 60         # number of seconds in a minute\n",
    "hour = minute * 60  # number of seconds in an hour\n",
    "day = hour * 24     # number of seconds in a day\n",
    "year = day * 365    # number of seconds in a year\n",
    "\n",
    "# To display the value of a variable, leave it as the last command of the code cell\n",
    "# For example, running this code cell will display the value of \"day\"\n",
    "day"
   ]
  },
  {
   "cell_type": "markdown",
   "metadata": {
    "id": "hz6LdFmOT60D"
   },
   "source": [
    "## Displaying the value stored inside a variable\n",
    "\n",
    "---\n",
    "\n",
    "Use the `print()` function to display the value of any variable within a code cell."
   ]
  },
  {
   "cell_type": "code",
   "execution_count": null,
   "metadata": {
    "colab": {
     "base_uri": "https://localhost:8080/"
    },
    "id": "cd7qJkntT3xy",
    "outputId": "a3909a8e-3955-448c-f373-f29c870fb124"
   },
   "outputs": [
    {
     "name": "stdout",
     "output_type": "stream",
     "text": [
      "86400\n",
      "31536000\n",
      "60\n"
     ]
    }
   ],
   "source": [
    "minute = 60  # number of seconds in a minute\n",
    "hour = minute * 60  # number of seconds in an hour\n",
    "day = hour * 24  # number of seconds in a day\n",
    "year = day * 365  # number of seconds in a year\n",
    "\n",
    "# print\n",
    "print(day)\n",
    "print(year)\n",
    "print(minute)"
   ]
  },
  {
   "cell_type": "markdown",
   "metadata": {
    "id": "-YvC-etFUSRT"
   },
   "source": [
    "## Printing both text and values of variables\n",
    "\n",
    "---"
   ]
  },
  {
   "cell_type": "code",
   "execution_count": null,
   "metadata": {
    "colab": {
     "base_uri": "https://localhost:8080/"
    },
    "id": "eaBNALejUhNK",
    "outputId": "4a78d5b7-10e0-4e60-c07c-7a00d9aa1460"
   },
   "outputs": [
    {
     "name": "stdout",
     "output_type": "stream",
     "text": [
      "There are 3600 seconds in one hour.\n",
      "There are 31536000 seconds in one year.\n"
     ]
    }
   ],
   "source": [
    "minute = 60  # number of seconds in a minute\n",
    "hour = minute * 60  # number of seconds in an hour\n",
    "day = hour * 24  # number of seconds in a day\n",
    "year = day * 365  # number of seconds in a year\n",
    "\n",
    "# print sentences with the value of \"hour\" and \"year\"\n",
    "print(\"There are\", hour, \"seconds in one hour.\")\n",
    "print(\"There are\", year, \"seconds in one year.\")"
   ]
  },
  {
   "cell_type": "markdown",
   "metadata": {
    "id": "W4WXdGZtUn5V"
   },
   "source": [
    "## Using the Numpy Library\n",
    "\n",
    "---\n",
    "\n",
    "- $\\pi$ is `numpy.pi`\n",
    "- $\\sqrt{\\phantom{aaaaa}}$ is `numpy.sqrt(___)`\n",
    "- $e^x$ is `numpy.exp(x)`\n",
    "- $\\ln(\\_\\_)$ is `numpy.log(___)` and $\\log_{10}(\\_\\_)$ is `numpy.log10(___)`\n",
    "\n",
    "If you import `numpy` as `np`, then you can use `np.` instead of `numpy.`"
   ]
  },
  {
   "cell_type": "code",
   "execution_count": null,
   "metadata": {
    "colab": {
     "base_uri": "https://localhost:8080/"
    },
    "id": "pUTdkavqU5tG",
    "outputId": "38d46888-be33-40a5-b149-186142216091"
   },
   "outputs": [
    {
     "data": {
      "text/plain": [
       "4.2827126616496605"
      ]
     },
     "execution_count": 12,
     "metadata": {},
     "output_type": "execute_result"
    }
   ],
   "source": [
    "import numpy as np\n",
    "\n",
    "# Find the value of 1+sin(3)+pi\n",
    "1 + np.sin(3) + np.pi"
   ]
  },
  {
   "cell_type": "code",
   "execution_count": null,
   "metadata": {
    "colab": {
     "base_uri": "https://localhost:8080/"
    },
    "id": "24cxR-55U76n",
    "outputId": "704abfa7-95f9-4f17-8bf6-ebb6e93108de"
   },
   "outputs": [
    {
     "data": {
      "text/plain": [
       "3.0"
      ]
     },
     "execution_count": 13,
     "metadata": {},
     "output_type": "execute_result"
    }
   ],
   "source": [
    "import numpy as np\n",
    "\n",
    "# ln(e^3) is equal to 3. Note ln is np.log()\n",
    "np.log( np.exp(3) )"
   ]
  },
  {
   "cell_type": "code",
   "execution_count": null,
   "metadata": {
    "colab": {
     "base_uri": "https://localhost:8080/"
    },
    "id": "-Y8O7AvFVNJ0",
    "outputId": "09fc83f1-950d-49a8-b5a1-afaa0e400fcb"
   },
   "outputs": [
    {
     "data": {
      "text/plain": [
       "1.0"
      ]
     },
     "execution_count": 16,
     "metadata": {},
     "output_type": "execute_result"
    }
   ],
   "source": [
    "import numpy as np\n",
    "\n",
    "# log_10(10)=1\n",
    "np.log10( 10 )"
   ]
  }
 ],
 "metadata": {
  "colab": {
   "provenance": []
  },
  "kernelspec": {
   "display_name": "Python 3 (ipykernel)",
   "language": "python",
   "name": "python3"
  },
  "language_info": {
   "codemirror_mode": {
    "name": "ipython",
    "version": 3
   },
   "file_extension": ".py",
   "mimetype": "text/x-python",
   "name": "python",
   "nbconvert_exporter": "python",
   "pygments_lexer": "ipython3",
   "version": "3.8.17"
  }
 },
 "nbformat": 4,
 "nbformat_minor": 4
}
